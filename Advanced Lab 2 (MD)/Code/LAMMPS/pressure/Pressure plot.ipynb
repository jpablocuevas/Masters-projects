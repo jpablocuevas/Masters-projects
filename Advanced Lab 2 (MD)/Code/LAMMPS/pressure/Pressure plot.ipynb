{
 "cells": [
  {
   "cell_type": "code",
   "execution_count": 1,
   "id": "c92dfa50-f2a1-42ab-9b02-7ea1660df57d",
   "metadata": {},
   "outputs": [],
   "source": [
    "import numpy as np\n",
    "import matplotlib.pyplot as plt\n",
    "import scipy.constants as cts"
   ]
  },
  {
   "cell_type": "code",
   "execution_count": 2,
   "id": "c239803c-62f7-42c5-84c9-6c8af46ff76e",
   "metadata": {},
   "outputs": [
    {
     "data": {
      "text/plain": [
       "1.380649e-23"
      ]
     },
     "execution_count": 2,
     "metadata": {},
     "output_type": "execute_result"
    }
   ],
   "source": [
    "kB = cts.k\n",
    "kB"
   ]
  },
  {
   "cell_type": "code",
   "execution_count": 3,
   "id": "59df00ce-d187-40b4-aaae-92edd94762e5",
   "metadata": {},
   "outputs": [],
   "source": [
    "# Data file reading \n",
    "\n",
    "def collect_data (n, interaction): # n is the number of files\n",
    "\n",
    "    Tdata = [];\n",
    "    Pdata = []\n",
    "    for i in range (0, n, 1):\n",
    "\n",
    "        file = open (\"data\" + str (interaction) + \"-\" + str (i) + \".txt\",\"r\");\n",
    "        raw_data = file.readlines();\n",
    "\n",
    "        T = [];\n",
    "        P = [];\n",
    "        \n",
    "        for line in raw_data:\n",
    "            \n",
    "            dat = line.split();\n",
    "\n",
    "            if (len (dat) == 0):\n",
    "                break;\n",
    "                \n",
    "            T.append (float (dat[0]));\n",
    "            P.append (float (dat[1]));\n",
    "\n",
    "        Tdata.append (T);\n",
    "        Pdata.append (P);\n",
    "        \n",
    "        file.close ();\n",
    "        \n",
    "\n",
    "    return [Tdata, Pdata];"
   ]
  },
  {
   "cell_type": "code",
   "execution_count": 4,
   "id": "0a86a86a-9b5c-4808-a3e8-d394aa7fce09",
   "metadata": {},
   "outputs": [],
   "source": [
    "# Statistics \n",
    "\n",
    "def stats (arr):\n",
    "\n",
    "    # Mean\n",
    "\n",
    "    mu = 0;\n",
    "    \n",
    "    for i in range (29, len (arr), 1):\n",
    "        mu = mu + arr[i];\n",
    "        \n",
    "    mu = mu / (len (arr)-29);\n",
    "\n",
    "    sigma = 0;\n",
    "    \n",
    "    for i in range (29, len (arr), 1):\n",
    "        sigma = sigma + pow (arr[i] - mu, 2);\n",
    "\n",
    "    sigma = np.sqrt(sigma / (len (arr)-29));\n",
    "\n",
    "    return [mu, sigma]"
   ]
  },
  {
   "cell_type": "code",
   "execution_count": 5,
   "id": "48dd4318-b7e1-4df9-bb97-cae9bbd50614",
   "metadata": {},
   "outputs": [],
   "source": [
    "# Density array\n",
    "\n",
    "V = pow (5, 3);\n",
    "\n",
    "rho_arr = [50/V, 150 / V, 250 / V, 500 / V, 750 / V, 1000 / V];"
   ]
  },
  {
   "cell_type": "code",
   "execution_count": 6,
   "id": "35bc3182-3b7e-4318-8206-57974fbca53a",
   "metadata": {},
   "outputs": [],
   "source": [
    "# Data collection\n",
    "\n",
    "n = 6;\n",
    "\n",
    "a = 25; # Interaction term\n",
    "\n",
    "Tdata, Pdata = collect_data (n, a);"
   ]
  },
  {
   "cell_type": "code",
   "execution_count": 7,
   "id": "f838cd66-8bfe-4fa7-9044-f5b254ac3b1e",
   "metadata": {},
   "outputs": [
    {
     "name": "stdout",
     "output_type": "stream",
     "text": [
      "[1.1450448527777786, 1.2305181972222226, 1.1694896083333328, 1.1479080263888894, 1.0715589208333334, 1.0403175774999998]\n"
     ]
    }
   ],
   "source": [
    "# Average temperature array\n",
    "\n",
    "mu_T = [];\n",
    "sigma_T = [];\n",
    "\n",
    "for i in Tdata:\n",
    "    \n",
    "    muTi, sigmaTi = stats (i);\n",
    "\n",
    "    mu_T.append (muTi);\n",
    "    sigma_T.append (sigmaTi);\n",
    "\n",
    "print (mu_T)"
   ]
  },
  {
   "cell_type": "code",
   "execution_count": 8,
   "id": "ae096419-b91b-4ac6-9498-0331b1ad8fbc",
   "metadata": {},
   "outputs": [
    {
     "name": "stdout",
     "output_type": "stream",
     "text": [
      "[0.026116431390218544, 0.0198739664384855, 0.03349415151248113, 0.059404507140105846, 0.05337248598326291, 0.0572291202750314]\n"
     ]
    }
   ],
   "source": [
    "print (sigma_T)"
   ]
  },
  {
   "cell_type": "code",
   "execution_count": 9,
   "id": "cbfcda58-31ef-4f49-a0f2-a1374e83ffd3",
   "metadata": {},
   "outputs": [
    {
     "name": "stdout",
     "output_type": "stream",
     "text": [
      "[0.058125327319444454, 0.20946883972222222, 0.36994311444444444, 0.9164027540277778, 1.6127175875, 2.611741609722222]\n"
     ]
    }
   ],
   "source": [
    "# Average pressure array\n",
    "\n",
    "mu_P = [];\n",
    "sigma_P = [];\n",
    "\n",
    "for i in Pdata:\n",
    "    \n",
    "    muPi, sigmaPi = stats (i);\n",
    "\n",
    "    mu_P.append (muPi);\n",
    "    sigma_P.append (sigmaPi);\n",
    "    \n",
    "print (mu_P)"
   ]
  },
  {
   "cell_type": "code",
   "execution_count": 10,
   "id": "90b01cd1-bd95-42cd-9dc0-005337c43eb6",
   "metadata": {},
   "outputs": [
    {
     "name": "stdout",
     "output_type": "stream",
     "text": [
      "[0.006181823352345802, 0.018872217552416908, 0.035583405426307724, 0.08202725123507812, 0.13956756043405102, 0.18470957593635348]\n"
     ]
    }
   ],
   "source": [
    "print (sigma_P)"
   ]
  },
  {
   "cell_type": "code",
   "execution_count": 11,
   "id": "e679a9b4-4f3d-4052-a0d7-177e3b3be30e",
   "metadata": {},
   "outputs": [
    {
     "data": {
      "image/png": "[encoded data removed]",
      "text/plain": [
       "<Figure size 600x600 with 1 Axes>"
      ]
     },
     "metadata": {},
     "output_type": "display_data"
    }
   ],
   "source": [
    "# Pressure plot \n",
    "\n",
    "plot_arr = [];\n",
    "\n",
    "for i in range (0, len (mu_P), 1):\n",
    "\n",
    "    plot_arr.append ((mu_P[i] - rho_arr[i]*mu_T[i]) / (a* pow (rho_arr[i],2)));\n",
    "\n",
    "    \n",
    "fig, ax = plt.subplots(1,1,figsize=[6,6]);\n",
    "ax.set_xlabel(\"$ Density$\");\n",
    "ax.set_ylabel(\"$ P$\");\n",
    "ax.set_title(\"\");\n",
    "#ax.set_xlim([0, 4]);\n",
    "#ax.set_ylim([-1, 2]);\n",
    "\n",
    "#ax.errorbar (dt_arr25, mu25, xerr = 0, yerr = sigma25, color = \"black\", label = \"a = 25\");\n",
    "#ax.errorbar (dt_arr, mu75, xerr = 0, yerr = sigma75, color = \"darkgreen\", label = \"a = 75\");\n",
    "ax.plot (rho_arr, plot_arr, color = \"black\", label = \"$a = 25$\")\n",
    "    \n",
    "ax.grid();\n",
    "ax.legend(loc = \"upper right\");\n",
    "plt.show(fig);\n"
   ]
  }
 ],
 "metadata": {
  "kernelspec": {
   "display_name": "Python 3 (ipykernel)",
   "language": "python",
   "name": "python3"
  },
  "language_info": {
   "codemirror_mode": {
    "name": "ipython",
    "version": 3
   },
   "file_extension": ".py",
   "mimetype": "text/x-python",
   "name": "python",
   "nbconvert_exporter": "python",
   "pygments_lexer": "ipython3",
   "version": "3.12.4"
  }
 },
 "nbformat": 4,
 "nbformat_minor": 5
}
