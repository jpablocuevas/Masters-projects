{
 "cells": [
  {
   "cell_type": "code",
   "execution_count": 1,
   "id": "dffda173-9d56-48f1-8bb0-6a9123b0eedf",
   "metadata": {},
   "outputs": [],
   "source": [
    "import numpy as np\n",
    "import matplotlib.pyplot as plt"
   ]
  },
  {
   "cell_type": "code",
   "execution_count": 2,
   "id": "efc736c5-e7cd-4c78-b4b6-4a4d80e071d2",
   "metadata": {},
   "outputs": [],
   "source": [
    "# Data file reading \n",
    "\n",
    "def collect_data (n, interaction): # n is the number of files\n",
    "\n",
    "    files = [];\n",
    "    raw_data = [];\n",
    "    data = [];\n",
    "\n",
    "    for i in range (0, n, 1):\n",
    "\n",
    "        files.append (open (\"data\"+ str (i) + \"-\" + interaction + \".txt\",\"r\"));\n",
    "        raw_data.append (files[i].readlines());\n",
    "\n",
    "        arr = [];\n",
    "        \n",
    "        for line in raw_data[i]:\n",
    "\n",
    "            \n",
    "            dat = line.split();\n",
    "\n",
    "            if (len (dat) == 0):\n",
    "                break;\n",
    "                \n",
    "            arr.append (float (dat[0]));\n",
    "\n",
    "        data.append (arr);\n",
    "\n",
    "    return data;"
   ]
  },
  {
   "cell_type": "code",
   "execution_count": 3,
   "id": "5d5141a8-312e-4403-90e0-d9a21e99c0f1",
   "metadata": {},
   "outputs": [],
   "source": [
    "# Statistics \n",
    "\n",
    "def stats (arr):\n",
    "\n",
    "    # Mean\n",
    "\n",
    "    mu = 0;\n",
    "    \n",
    "    for i in range (30, len(arr), 1):\n",
    "        mu = mu + arr[i];\n",
    "        \n",
    "    mu = mu / (len (arr)-30);\n",
    "\n",
    "    sigma = 0;\n",
    "    \n",
    "    for i in range (30, len(arr), 1):\n",
    "        sigma = sigma + pow (arr[i] - mu, 2);\n",
    "\n",
    "    sigma = np.sqrt(sigma / (len (arr)-30));\n",
    "\n",
    "    return [mu, sigma]"
   ]
  },
  {
   "cell_type": "code",
   "execution_count": 4,
   "id": "5467758e-94d6-4e75-8e5a-9a33b6549368",
   "metadata": {},
   "outputs": [],
   "source": [
    "# a = 25 data collection\n",
    "\n",
    "n = 7;\n",
    "\n",
    "data25 = collect_data (n, \"25\");\n",
    "\n",
    "# a = 75 data collection\n",
    "\n",
    "data75 = collect_data (n, \"75\");"
   ]
  },
  {
   "cell_type": "code",
   "execution_count": null,
   "id": "5ab246ef-76c2-4f3c-a6be-76de79083ff8",
   "metadata": {},
   "outputs": [],
   "source": []
  },
  {
   "cell_type": "code",
   "execution_count": 5,
   "id": "12355622-bad1-486e-9254-874bf74d9d02",
   "metadata": {},
   "outputs": [],
   "source": [
    "# Means and standard deviations\n",
    "\n",
    "mu25 = [];\n",
    "sigma25 = [];\n",
    "\n",
    "mu75 = [];\n",
    "sigma75 = [];\n",
    "\n",
    "for i in range (0, n, 1):\n",
    "    \n",
    "    mui25, sigmai25  = stats (data25[i]);\n",
    "    mui75, sigmai75  = stats (data75[i]);\n",
    "\n",
    "    mu25.append (mui25);\n",
    "    sigma25.append (sigmai25);\n",
    "\n",
    "    mu75.append (mui75);\n",
    "    sigma75.append (sigmai75);"
   ]
  },
  {
   "cell_type": "code",
   "execution_count": 6,
   "id": "b6c9902a-47e2-4899-97ff-381b6efa1f53",
   "metadata": {},
   "outputs": [
    {
     "name": "stdout",
     "output_type": "stream",
     "text": [
      "[1.003634608028169, 0.9967739869014083, 1.0075535435211267, 1.0083589704225353, 1.0393238263380282, 1.1140935619718308, 1.2220056704225355]\n"
     ]
    }
   ],
   "source": [
    "print (mu25)"
   ]
  },
  {
   "cell_type": "code",
   "execution_count": 7,
   "id": "1028bf52-cdb6-43a9-8ca8-7f3255df8365",
   "metadata": {},
   "outputs": [
    {
     "name": "stdout",
     "output_type": "stream",
     "text": [
      "[0.03469726305101668, 0.025026162788468677, 0.019790820628753522, 0.022425889520283505, 0.02172007871585472, 0.020639403264079266, 0.029434854962027652]\n"
     ]
    }
   ],
   "source": [
    "print (sigma25)"
   ]
  },
  {
   "cell_type": "code",
   "execution_count": 8,
   "id": "b909ff74-d6b6-4a3a-9e46-4340a7e3f321",
   "metadata": {},
   "outputs": [
    {
     "name": "stdout",
     "output_type": "stream",
     "text": [
      "[1.141702906760564, 1.0102160656338026, 1.0026288873239437, 1.009647909859155, 45.552696464788724, 1.1761142577464787, 1.359540814084507]\n"
     ]
    }
   ],
   "source": [
    "print (mu75)"
   ]
  },
  {
   "cell_type": "code",
   "execution_count": 9,
   "id": "28a5381d-1ff9-4caa-87d3-9de5a0af2634",
   "metadata": {},
   "outputs": [
    {
     "name": "stdout",
     "output_type": "stream",
     "text": [
      "[0.1289996751408184, 0.024493262306942362, 0.018575934652350145, 0.021835364023154214, 1.1711413476674628, 0.025373732848670085, 0.027328600261822877]\n"
     ]
    }
   ],
   "source": [
    "print (sigma75)"
   ]
  },
  {
   "cell_type": "code",
   "execution_count": 10,
   "id": "0ca8fc58-aaf2-4ffd-b4ad-3295cf8135c3",
   "metadata": {},
   "outputs": [],
   "source": [
    "# time step array\n",
    "\n",
    "dt_arr25 = [0.001, 0.005, 0.008, 0.01, 0.05, 0.08, 0.1];\n",
    "dt_arr75 = [0.001, 0.005, 0.008, 0.01, 0.05, 0.06, 0.07];"
   ]
  },
  {
   "cell_type": "code",
   "execution_count": 11,
   "id": "472a557f-7570-42fb-b5f1-09ffc82536ef",
   "metadata": {},
   "outputs": [
    {
     "name": "stderr",
     "output_type": "stream",
     "text": [
      "<>:2: SyntaxWarning: invalid escape sequence '\\D'\n",
      "<>:2: SyntaxWarning: invalid escape sequence '\\D'\n",
      "/var/folders/7z/6sny2vy960992wnrq442m5nm0000gn/T/ipykernel_92464/1586246777.py:2: SyntaxWarning: invalid escape sequence '\\D'\n",
      "  ax.set_xlabel(\"$\\Delta t$\");\n"
     ]
    },
    {
     "data": {
      "image/png": "[encoded data removed]",
      "text/plain": [
       "<Figure size 600x600 with 1 Axes>"
      ]
     },
     "metadata": {},
     "output_type": "display_data"
    }
   ],
   "source": [
    "fig, ax = plt.subplots(1,1,figsize=[6,6]);\n",
    "ax.set_xlabel(\"$\\Delta t$\");\n",
    "ax.set_ylabel(\"$k_{B}T - 1$\");\n",
    "ax.set_title(\"\");\n",
    "#ax.set_xlim([0, 4]);\n",
    "#ax.set_ylim([-1, 2]);\n",
    "\n",
    "ax.errorbar (dt_arr25, mu25, xerr = 0, yerr = sigma25, color = \"black\", label = \"a = 25\");\n",
    "#ax.errorbar (dt_arr75, mu75, xerr = 0, yerr = sigma75, color = \"darkgreen\", label = \"a = 75\");\n",
    "    \n",
    "    \n",
    "ax.grid();\n",
    "ax.legend(loc = \"upper right\");\n",
    "plt.show(fig);"
   ]
  },
  {
   "cell_type": "code",
   "execution_count": 12,
   "id": "1547d25f-1cf7-46c9-adb5-94d5090775af",
   "metadata": {},
   "outputs": [
    {
     "name": "stderr",
     "output_type": "stream",
     "text": [
      "<>:2: SyntaxWarning: invalid escape sequence '\\D'\n",
      "<>:2: SyntaxWarning: invalid escape sequence '\\D'\n",
      "/var/folders/7z/6sny2vy960992wnrq442m5nm0000gn/T/ipykernel_92464/3973342356.py:2: SyntaxWarning: invalid escape sequence '\\D'\n",
      "  ax1.set_xlabel(\"$\\Delta t$\");\n"
     ]
    },
    {
     "data": {
      "image/png": "[encoded data removed]",
      "text/plain": [
       "<Figure size 600x600 with 1 Axes>"
      ]
     },
     "metadata": {},
     "output_type": "display_data"
    }
   ],
   "source": [
    "fig1, ax1 = plt.subplots(1,1,figsize=[6,6]);\n",
    "ax1.set_xlabel(\"$\\Delta t$\");\n",
    "ax1.set_ylabel(\"$k_{B}T - 1$\");\n",
    "ax1.set_title(\"\");\n",
    "#ax.set_xlim([0, 4]);\n",
    "#ax.set_ylim([-1, 2]);\n",
    "\n",
    "ax1.errorbar (dt_arr75, mu75, xerr = 0, yerr = sigma75, color = \"darkgreen\", label = \"a = 75\");\n",
    "    \n",
    "    \n",
    "ax1.grid();\n",
    "ax1.legend(loc = \"upper right\");\n",
    "plt.show(fig1);"
   ]
  },
  {
   "cell_type": "code",
   "execution_count": null,
   "id": "ea01eb41-f51b-4148-9d95-419b7d0b66e5",
   "metadata": {},
   "outputs": [],
   "source": []
  },
  {
   "cell_type": "code",
   "execution_count": null,
   "id": "1badda07-2fae-4e1a-aef8-da959c4fe68e",
   "metadata": {},
   "outputs": [],
   "source": []
  },
  {
   "cell_type": "code",
   "execution_count": null,
   "id": "e0502995-7cf6-4676-8a67-6512446c5599",
   "metadata": {},
   "outputs": [],
   "source": []
  }
 ],
 "metadata": {
  "kernelspec": {
   "display_name": "Python 3 (ipykernel)",
   "language": "python",
   "name": "python3"
  },
  "language_info": {
   "codemirror_mode": {
    "name": "ipython",
    "version": 3
   },
   "file_extension": ".py",
   "mimetype": "text/x-python",
   "name": "python",
   "nbconvert_exporter": "python",
   "pygments_lexer": "ipython3",
   "version": "3.12.4"
  }
 },
 "nbformat": 4,
 "nbformat_minor": 5
}
