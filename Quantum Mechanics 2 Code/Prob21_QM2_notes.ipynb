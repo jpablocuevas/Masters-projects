{
 "cells": [
  {
   "cell_type": "code",
   "execution_count": 2,
   "id": "69b561e8",
   "metadata": {},
   "outputs": [],
   "source": [
    "import sympy as sp"
   ]
  },
  {
   "cell_type": "code",
   "execution_count": 33,
   "id": "e334ab7f",
   "metadata": {},
   "outputs": [
    {
     "data": {
      "text/latex": [
       "$\\displaystyle \\hbar$"
      ],
      "text/plain": [
       "hbar"
      ]
     },
     "execution_count": 33,
     "metadata": {},
     "output_type": "execute_result"
    }
   ],
   "source": [
    "hbar = sp.Symbol('hbar');\n",
    "hbar"
   ]
  },
  {
   "cell_type": "code",
   "execution_count": 34,
   "id": "cf60947f",
   "metadata": {},
   "outputs": [],
   "source": [
    "# Generators \n",
    "J1y = hbar/sp.sqrt(2)*sp.Matrix ([[0, -sp.I, 0],[sp.I, 0, -sp.I],[0, sp.I, 0]]);\n",
    "J1_2y = hbar/2*sp.Matrix([[0, sp.I],[-sp.I, 0]]);\n",
    "J3_2y = hbar*sp.I/2*sp.Matrix([[0,-sp.sqrt(3),0,0],[sp.sqrt(3),0,-2,0],[0,2,0,-sp.sqrt(3)],[0,0,sp.sqrt(3),0]]);"
   ]
  },
  {
   "cell_type": "code",
   "execution_count": 43,
   "id": "564bad89",
   "metadata": {},
   "outputs": [
    {
     "data": {
      "text/latex": [
       "$\\displaystyle \\left[\\begin{matrix}0 & - \\frac{\\sqrt{3} i \\hbar}{2} & 0 & 0\\\\\\frac{\\sqrt{3} i \\hbar}{2} & 0 & - i \\hbar & 0\\\\0 & i \\hbar & 0 & - \\frac{\\sqrt{3} i \\hbar}{2}\\\\0 & 0 & \\frac{\\sqrt{3} i \\hbar}{2} & 0\\end{matrix}\\right]$"
      ],
      "text/plain": [
       "Matrix([\n",
       "[               0, -sqrt(3)*I*hbar/2,                0,                 0],\n",
       "[sqrt(3)*I*hbar/2,                 0,          -I*hbar,                 0],\n",
       "[               0,            I*hbar,                0, -sqrt(3)*I*hbar/2],\n",
       "[               0,                 0, sqrt(3)*I*hbar/2,                 0]])"
      ]
     },
     "execution_count": 43,
     "metadata": {},
     "output_type": "execute_result"
    }
   ],
   "source": [
    "J3_2y"
   ]
  },
  {
   "cell_type": "code",
   "execution_count": 38,
   "id": "38789c0b",
   "metadata": {},
   "outputs": [
    {
     "data": {
      "text/latex": [
       "$\\displaystyle \\left[\\begin{matrix}0 & 1\\\\-1 & 0\\end{matrix}\\right]$"
      ],
      "text/plain": [
       "Matrix([\n",
       "[ 0, 1],\n",
       "[-1, 0]])"
      ]
     },
     "execution_count": 38,
     "metadata": {},
     "output_type": "execute_result"
    }
   ],
   "source": [
    "sp.simplify(sp.exp(-sp.I/hbar*sp.pi*J1_2y))"
   ]
  },
  {
   "cell_type": "code",
   "execution_count": 39,
   "id": "3c42cfd6",
   "metadata": {},
   "outputs": [
    {
     "data": {
      "text/latex": [
       "$\\displaystyle \\left[\\begin{matrix}0 & 0 & 1\\\\0 & -1 & 0\\\\1 & 0 & 0\\end{matrix}\\right]$"
      ],
      "text/plain": [
       "Matrix([\n",
       "[0,  0, 1],\n",
       "[0, -1, 0],\n",
       "[1,  0, 0]])"
      ]
     },
     "execution_count": 39,
     "metadata": {},
     "output_type": "execute_result"
    }
   ],
   "source": [
    "sp.simplify(sp.exp(-sp.I/hbar*sp.pi*J1y))"
   ]
  },
  {
   "cell_type": "code",
   "execution_count": 40,
   "id": "e3be5759",
   "metadata": {},
   "outputs": [
    {
     "data": {
      "text/latex": [
       "$\\displaystyle \\left[\\begin{matrix}0 & 0 & 0 & -1\\\\0 & 0 & 1 & 0\\\\0 & -1 & 0 & 0\\\\1 & 0 & 0 & 0\\end{matrix}\\right]$"
      ],
      "text/plain": [
       "Matrix([\n",
       "[0,  0, 0, -1],\n",
       "[0,  0, 1,  0],\n",
       "[0, -1, 0,  0],\n",
       "[1,  0, 0,  0]])"
      ]
     },
     "execution_count": 40,
     "metadata": {},
     "output_type": "execute_result"
    }
   ],
   "source": [
    "sp.simplify(sp.exp(-sp.I/hbar*sp.pi*J3_2y))"
   ]
  },
  {
   "cell_type": "code",
   "execution_count": null,
   "id": "e79adb77",
   "metadata": {},
   "outputs": [],
   "source": []
  },
  {
   "cell_type": "code",
   "execution_count": null,
   "id": "78131c00",
   "metadata": {},
   "outputs": [],
   "source": []
  },
  {
   "cell_type": "code",
   "execution_count": null,
   "id": "58ebbb8b",
   "metadata": {},
   "outputs": [],
   "source": []
  },
  {
   "cell_type": "code",
   "execution_count": null,
   "id": "056e1d1e",
   "metadata": {},
   "outputs": [],
   "source": []
  },
  {
   "cell_type": "code",
   "execution_count": null,
   "id": "db335d59",
   "metadata": {},
   "outputs": [],
   "source": []
  },
  {
   "cell_type": "code",
   "execution_count": null,
   "id": "bb7ecbd6",
   "metadata": {},
   "outputs": [],
   "source": []
  },
  {
   "cell_type": "code",
   "execution_count": null,
   "id": "4cab3582",
   "metadata": {},
   "outputs": [],
   "source": []
  }
 ],
 "metadata": {
  "kernelspec": {
   "display_name": "Python 3 (ipykernel)",
   "language": "python",
   "name": "python3"
  },
  "language_info": {
   "codemirror_mode": {
    "name": "ipython",
    "version": 3
   },
   "file_extension": ".py",
   "mimetype": "text/x-python",
   "name": "python",
   "nbconvert_exporter": "python",
   "pygments_lexer": "ipython3",
   "version": "3.11.5"
  }
 },
 "nbformat": 4,
 "nbformat_minor": 5
}
