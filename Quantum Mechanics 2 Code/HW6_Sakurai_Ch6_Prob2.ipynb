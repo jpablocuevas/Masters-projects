{
 "cells": [
  {
   "cell_type": "code",
   "execution_count": 1,
   "id": "c73d9037",
   "metadata": {},
   "outputs": [],
   "source": [
    "import sympy as sp"
   ]
  },
  {
   "cell_type": "code",
   "execution_count": 2,
   "id": "918ce798",
   "metadata": {},
   "outputs": [
    {
     "data": {
      "text/latex": [
       "$\\displaystyle \\hbar$"
      ],
      "text/plain": [
       "hbar"
      ]
     },
     "execution_count": 2,
     "metadata": {},
     "output_type": "execute_result"
    }
   ],
   "source": [
    "hbar = sp.Symbol(\"hbar\");\n",
    "hbar"
   ]
  },
  {
   "cell_type": "code",
   "execution_count": 3,
   "id": "75ec5fcb",
   "metadata": {},
   "outputs": [],
   "source": [
    "# Total angular momentum eigenvalues\n",
    "\n",
    "def C (j,m,s):\n",
    "    \n",
    "    global hbar;\n",
    "    \n",
    "    if (s == '+'):\n",
    "        return hbar*sp.sqrt((j-m)*(j+m+1));\n",
    "    elif (s == '-'):\n",
    "        return hbar*sp.sqrt((j+m)*(j-m+1));\n",
    "\n",
    "# Kronecker delta for the matrix element of the angular momentum representation\n",
    "\n",
    "def delta (a,b):\n",
    "    \n",
    "    if (a == b):\n",
    "        return 1;\n",
    "    else:\n",
    "        return 0;   \n",
    "\n",
    "# Function that computes the size of the matrix\n",
    "\n",
    "def sizeofmatrix (j):\n",
    "    return (2*j)+1;"
   ]
  },
  {
   "cell_type": "code",
   "execution_count": 4,
   "id": "06262064",
   "metadata": {},
   "outputs": [],
   "source": [
    "def J_i (i,j):\n",
    "    \n",
    "    size = sizeofmatrix(j);\n",
    "    J = [];\n",
    "    row = [];\n",
    "    \n",
    "    if (i == 1):\n",
    "        \n",
    "        mp = j;\n",
    "        \n",
    "        for a in range (0,size,1):\n",
    "            m = j;\n",
    "            for b in range (0,size,1):\n",
    "                \n",
    "                row.append(sp.Rational(1/2)*(C(j,m,'+')*delta(mp,m+1)+C(j,m,'-')*delta(mp,m-1)));\n",
    "                \n",
    "                m = m-1;\n",
    "            \n",
    "            mp = mp-1;\n",
    "            J.append(row);\n",
    "            row = [];\n",
    "            \n",
    "        return sp.Matrix(J);\n",
    "    \n",
    "    elif (i == 2):\n",
    "        \n",
    "        mp = j;\n",
    "        \n",
    "        for a in range (0,size,1):\n",
    "            m = j;\n",
    "            for b in range (0,size,1):\n",
    "                \n",
    "                row.append(-sp.I/2*(C(j,m,'+')*delta(mp,m+1)-C(j,m,'-')*delta(mp,m-1)));\n",
    "                \n",
    "                m = m-1;\n",
    "            \n",
    "            mp = mp-1;\n",
    "            J.append(row);\n",
    "            row = [];\n",
    "            \n",
    "        return sp.Matrix(J);\n",
    "    \n",
    "    elif (i == 3):\n",
    "        mp = j;\n",
    "        \n",
    "        for a in range (0,size,1):\n",
    "            m = j;\n",
    "            for b in range (0,size,1):\n",
    "                \n",
    "                row.append(hbar*m*delta(mp,m));\n",
    "                \n",
    "                m = m-1;\n",
    "            \n",
    "            mp = mp-1;\n",
    "            J.append(row);\n",
    "            row = [];\n",
    "            \n",
    "        return sp.Matrix(J);\n",
    "        \n",
    "    else:\n",
    "        return 0;"
   ]
  },
  {
   "cell_type": "code",
   "execution_count": 24,
   "id": "a8d22e60",
   "metadata": {},
   "outputs": [
    {
     "data": {
      "text/latex": [
       "$\\displaystyle \\sqrt{2} \\hbar$"
      ],
      "text/plain": [
       "sqrt(2)*hbar"
      ]
     },
     "execution_count": 24,
     "metadata": {},
     "output_type": "execute_result"
    }
   ],
   "source": [
    "C (1,0,'-')"
   ]
  },
  {
   "cell_type": "code",
   "execution_count": null,
   "id": "b02b6f29",
   "metadata": {},
   "outputs": [],
   "source": []
  },
  {
   "cell_type": "code",
   "execution_count": null,
   "id": "4377bfff",
   "metadata": {},
   "outputs": [],
   "source": []
  },
  {
   "cell_type": "code",
   "execution_count": null,
   "id": "c69e118d",
   "metadata": {},
   "outputs": [],
   "source": []
  }
 ],
 "metadata": {
  "kernelspec": {
   "display_name": "Python 3 (ipykernel)",
   "language": "python",
   "name": "python3"
  },
  "language_info": {
   "codemirror_mode": {
    "name": "ipython",
    "version": 3
   },
   "file_extension": ".py",
   "mimetype": "text/x-python",
   "name": "python",
   "nbconvert_exporter": "python",
   "pygments_lexer": "ipython3",
   "version": "3.11.5"
  }
 },
 "nbformat": 4,
 "nbformat_minor": 5
}
