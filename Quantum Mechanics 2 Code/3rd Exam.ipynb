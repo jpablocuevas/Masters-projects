{
 "cells": [
  {
   "cell_type": "code",
   "execution_count": 426,
   "id": "0df8c468",
   "metadata": {},
   "outputs": [],
   "source": [
    "import sympy as sp\n",
    "import numpy as np\n",
    "from scipy import constants as cts\n",
    "import matplotlib.pyplot as plt"
   ]
  },
  {
   "cell_type": "code",
   "execution_count": 427,
   "id": "3ef1de71",
   "metadata": {},
   "outputs": [
    {
     "data": {
      "text/plain": [
       "1.67262192369e-27"
      ]
     },
     "execution_count": 427,
     "metadata": {},
     "output_type": "execute_result"
    }
   ],
   "source": [
    "m_p = cts.m_p\n",
    "m_p"
   ]
  },
  {
   "cell_type": "code",
   "execution_count": 428,
   "id": "ddd825f0",
   "metadata": {},
   "outputs": [
    {
     "data": {
      "text/plain": [
       "299792458.0"
      ]
     },
     "execution_count": 428,
     "metadata": {},
     "output_type": "execute_result"
    }
   ],
   "source": [
    "c = cts.c\n",
    "c"
   ]
  },
  {
   "cell_type": "code",
   "execution_count": 429,
   "id": "ed27af8b",
   "metadata": {},
   "outputs": [
    {
     "data": {
      "text/plain": [
       "1.0545718176461565e-34"
      ]
     },
     "execution_count": 429,
     "metadata": {},
     "output_type": "execute_result"
    }
   ],
   "source": [
    "hbar = cts.hbar\n",
    "hbar"
   ]
  },
  {
   "cell_type": "code",
   "execution_count": 430,
   "id": "300e10ce",
   "metadata": {},
   "outputs": [
    {
     "data": {
      "text/plain": [
       "1.602176634e-19"
      ]
     },
     "execution_count": 430,
     "metadata": {},
     "output_type": "execute_result"
    }
   ],
   "source": [
    "e = cts.e\n",
    "e"
   ]
  },
  {
   "cell_type": "code",
   "execution_count": 431,
   "id": "284564da",
   "metadata": {},
   "outputs": [],
   "source": [
    "alpha = 1/137"
   ]
  },
  {
   "cell_type": "code",
   "execution_count": 432,
   "id": "e8eabdfa",
   "metadata": {},
   "outputs": [],
   "source": [
    "def evtoJ (ev):\n",
    "    return ev*1.6021766*pow(10,-19)"
   ]
  },
  {
   "cell_type": "code",
   "execution_count": 433,
   "id": "6eca9b1b",
   "metadata": {},
   "outputs": [
    {
     "data": {
      "text/plain": [
       "1.6021766e-16"
      ]
     },
     "execution_count": 433,
     "metadata": {},
     "output_type": "execute_result"
    }
   ],
   "source": [
    "evtoJ(1000)"
   ]
  },
  {
   "cell_type": "code",
   "execution_count": 434,
   "id": "b75e84bd",
   "metadata": {},
   "outputs": [
    {
     "data": {
      "text/plain": [
       "4.81932087473382e+25"
      ]
     },
     "execution_count": 434,
     "metadata": {},
     "output_type": "execute_result"
    }
   ],
   "source": [
    "k2  = 2*m_p*evtoJ(1000)/(hbar**2)\n",
    "k2"
   ]
  },
  {
   "cell_type": "code",
   "execution_count": 435,
   "id": "297db1bf",
   "metadata": {},
   "outputs": [],
   "source": [
    "def diff_cross (theta):\n",
    "    \n",
    "    return 1/(a_0**2 + 4*k2*(np.sin(theta/2))**2)**2 * (2*m_p * e**2/hbar**2)**2"
   ]
  },
  {
   "cell_type": "code",
   "execution_count": 436,
   "id": "58b54100",
   "metadata": {},
   "outputs": [],
   "source": [
    "def diff_cross_red (theta):\n",
    "    global k2, alpha;\n",
    "    \n",
    "    return 1/(alpha**2 + 4*(k2*np.sin(theta/2))**2)**2"
   ]
  },
  {
   "cell_type": "code",
   "execution_count": 437,
   "id": "357d8324",
   "metadata": {},
   "outputs": [],
   "source": [
    "theta = np.linspace (0.1, np.pi, 100);"
   ]
  },
  {
   "cell_type": "code",
   "execution_count": 438,
   "id": "2bf95aba",
   "metadata": {},
   "outputs": [],
   "source": [
    "dsigma = [];\n",
    "\n",
    "for i in theta:\n",
    "    dsigma.append (diff_cross(i));"
   ]
  },
  {
   "cell_type": "code",
   "execution_count": 439,
   "id": "d5e9d373",
   "metadata": {},
   "outputs": [],
   "source": [
    "# Unidades donde hbar = 1"
   ]
  },
  {
   "cell_type": "code",
   "execution_count": 440,
   "id": "be50d995",
   "metadata": {},
   "outputs": [
    {
     "data": {
      "image/png": "[encoded data removed]",
      "text/plain": [
       "<Figure size 640x480 with 1 Axes>"
      ]
     },
     "metadata": {},
     "output_type": "display_data"
    }
   ],
   "source": [
    "fig, ax_plot = plt.subplots(1,1);\n",
    "ax_plot.set_xlabel(\"$ theta$\");\n",
    "ax_plot.set_ylabel(\"$d\\sigma/ d\\Omega$\");\n",
    "ax_plot.set_title(\"Distribución angular\");\n",
    "ax_plot.plot(theta,dsigma,color=\"darkblue\",label=\"Plot\");\n",
    "ax_plot.grid();\n",
    "ax_plot.legend(loc=\"lower left\");"
   ]
  },
  {
   "cell_type": "code",
   "execution_count": 441,
   "id": "b0ce8271",
   "metadata": {},
   "outputs": [],
   "source": [
    "def sigma_tot (a):\n",
    "    global m_p, e, hbar\n",
    "    \n",
    "    return (2*m_p*e**2 / hbar**2)**2 * 4*np.pi / (a**2* (a**2+8*m_p*evtoJ(1000)/hbar**2));"
   ]
  },
  {
   "cell_type": "code",
   "execution_count": 442,
   "id": "999e2906",
   "metadata": {},
   "outputs": [
    {
     "data": {
      "text/plain": [
       "5.291e-11"
      ]
     },
     "execution_count": 442,
     "metadata": {},
     "output_type": "execute_result"
    }
   ],
   "source": [
    "# Radio de Bohr\n",
    "a_0 = 5.291*pow(10,-11)\n",
    "a_0"
   ]
  },
  {
   "cell_type": "code",
   "execution_count": 443,
   "id": "5bf926a2",
   "metadata": {},
   "outputs": [
    {
     "data": {
      "text/plain": [
       "1.0880058735570705e-38"
      ]
     },
     "execution_count": 443,
     "metadata": {},
     "output_type": "execute_result"
    }
   ],
   "source": [
    "sigma_tot (1/a_0)"
   ]
  },
  {
   "cell_type": "code",
   "execution_count": 444,
   "id": "e85553e1",
   "metadata": {},
   "outputs": [
    {
     "data": {
      "text/plain": [
       "1388.292567279255"
      ]
     },
     "execution_count": 444,
     "metadata": {},
     "output_type": "execute_result"
    }
   ],
   "source": [
    "4*m_p**2*e**4/hbar**4*4*np.pi/(a_0**2*(a_0**2+4*k2))"
   ]
  },
  {
   "cell_type": "code",
   "execution_count": 445,
   "id": "eaa2adcf",
   "metadata": {},
   "outputs": [
    {
     "data": {
      "text/plain": [
       "8.80742947287269e-19"
      ]
     },
     "execution_count": 445,
     "metadata": {},
     "output_type": "execute_result"
    }
   ],
   "source": [
    "4*np.pi/(137**2)*(hbar*c/evtoJ(1000))**2*1/(0.0000074*(0.0000074+4))"
   ]
  },
  {
   "cell_type": "code",
   "execution_count": 446,
   "id": "ebb6c7fc",
   "metadata": {},
   "outputs": [
    {
     "data": {
      "text/plain": [
       "749207913.3819"
      ]
     },
     "execution_count": 446,
     "metadata": {},
     "output_type": "execute_result"
    }
   ],
   "source": [
    "16*np.pi*m_p**2*e**4/hbar**4"
   ]
  },
  {
   "cell_type": "code",
   "execution_count": 447,
   "id": "9b9f9428",
   "metadata": {},
   "outputs": [
    {
     "data": {
      "text/plain": [
       "1.0880058735570707e-10"
      ]
     },
     "execution_count": 447,
     "metadata": {},
     "output_type": "execute_result"
    }
   ],
   "source": [
    "2*np.pi*e**4*m_p/(hbar**2*1/a_0**2*evtoJ(1000)*(1+hbar**2*1/a_0**2/(8*m_p*evtoJ(1000))))*pow(10,28)"
   ]
  },
  {
   "cell_type": "code",
   "execution_count": null,
   "id": "7e658744",
   "metadata": {},
   "outputs": [],
   "source": []
  }
 ],
 "metadata": {
  "kernelspec": {
   "display_name": "Python 3 (ipykernel)",
   "language": "python",
   "name": "python3"
  },
  "language_info": {
   "codemirror_mode": {
    "name": "ipython",
    "version": 3
   },
   "file_extension": ".py",
   "mimetype": "text/x-python",
   "name": "python",
   "nbconvert_exporter": "python",
   "pygments_lexer": "ipython3",
   "version": "3.11.5"
  }
 },
 "nbformat": 4,
 "nbformat_minor": 5
}
