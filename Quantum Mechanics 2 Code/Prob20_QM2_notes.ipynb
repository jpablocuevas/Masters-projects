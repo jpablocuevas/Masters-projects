{
 "cells": [
  {
   "cell_type": "code",
   "execution_count": 126,
   "id": "69b561e8",
   "metadata": {},
   "outputs": [],
   "source": [
    "import sympy as sp\n",
    "import numpy as np"
   ]
  },
  {
   "cell_type": "code",
   "execution_count": 127,
   "id": "e334ab7f",
   "metadata": {},
   "outputs": [
    {
     "data": {
      "text/latex": [
       "$\\displaystyle \\theta$"
      ],
      "text/plain": [
       "theta"
      ]
     },
     "execution_count": 127,
     "metadata": {},
     "output_type": "execute_result"
    }
   ],
   "source": [
    "hbar = sp.Symbol('hbar');\n",
    "theta = sp.Symbol('theta');\n",
    "theta"
   ]
  },
  {
   "cell_type": "code",
   "execution_count": 128,
   "id": "cf60947f",
   "metadata": {},
   "outputs": [],
   "source": [
    "# Generators for j = 1\n",
    "\n",
    "J1x = hbar/sp.sqrt(2)*sp.Matrix ([[0,1,0],[1,0,1],[0,1,0]]);\n",
    "J1y = hbar/sp.sqrt(2)*sp.Matrix ([[0, -sp.I, 0],[sp.I, 0, -sp.I],[0, sp.I, 0]]);\n",
    "J1z = hbar*sp.Matrix ([[1,0,0],[0,0,0],[0,0,-1]]);\n",
    "\n",
    "J1 = [J1x,J1y,J1z];"
   ]
  },
  {
   "cell_type": "code",
   "execution_count": 129,
   "id": "564bad89",
   "metadata": {},
   "outputs": [],
   "source": [
    "# Generators for j = 3/2\n",
    "\n",
    "J3_2x = hbar/2*sp.Matrix([[0,sp.sqrt(3),0,0],[sp.sqrt(3),0,2,0],[0,2,0,sp.sqrt(3)],[0,0,sp.sqrt(3),0]]);\n",
    "J3_2y = hbar*sp.I/2*sp.Matrix([[0,-sp.sqrt(3),0,0],[sp.sqrt(3),0,-2,0],[0,2,0,-sp.sqrt(3)],[0,0,sp.sqrt(3),0]]);\n",
    "J3_2z = hbar/2*sp.Matrix ([[3,0,0,0],[0,1,0,0],[0,0,-1,0],[0,0,0,-3]]);\n",
    "\n",
    "J3_2 = [J3_2x,J3_2y,J3_2z];"
   ]
  },
  {
   "cell_type": "code",
   "execution_count": 130,
   "id": "bad54805",
   "metadata": {},
   "outputs": [
    {
     "data": {
      "text/latex": [
       "$\\displaystyle \\left[\\begin{matrix}\\frac{3 \\hbar}{2} & 0 & 0 & 0\\\\0 & \\frac{\\hbar}{2} & 0 & 0\\\\0 & 0 & - \\frac{\\hbar}{2} & 0\\\\0 & 0 & 0 & - \\frac{3 \\hbar}{2}\\end{matrix}\\right]$"
      ],
      "text/plain": [
       "Matrix([\n",
       "[3*hbar/2,      0,       0,         0],\n",
       "[       0, hbar/2,       0,         0],\n",
       "[       0,      0, -hbar/2,         0],\n",
       "[       0,      0,       0, -3*hbar/2]])"
      ]
     },
     "execution_count": 130,
     "metadata": {},
     "output_type": "execute_result"
    }
   ],
   "source": [
    "J3_2z"
   ]
  },
  {
   "cell_type": "code",
   "execution_count": 131,
   "id": "38789c0b",
   "metadata": {},
   "outputs": [],
   "source": [
    "# Unit vector definition\n",
    "\n",
    "nx, ny, nz = sp.symbols(\"n_x, n_y, n_z\");\n",
    "n = [nx,ny,nz];"
   ]
  },
  {
   "cell_type": "code",
   "execution_count": 132,
   "id": "4e01b4a2",
   "metadata": {},
   "outputs": [],
   "source": [
    "# Null matrix function\n",
    "\n",
    "def null_matrix (n):\n",
    "    \n",
    "    M = [];\n",
    "    row = [];\n",
    "    \n",
    "    for i in range (0,n,1):\n",
    "        for j in range (0,n,1):\n",
    "            row.append(0);\n",
    "        M.append(row);\n",
    "        row = [];\n",
    "    return sp.Matrix(M);"
   ]
  },
  {
   "cell_type": "code",
   "execution_count": 133,
   "id": "a8f1e4a9",
   "metadata": {},
   "outputs": [],
   "source": [
    "# Inner product function\n",
    "\n",
    "def inn_prod (x,y):\n",
    "    \n",
    "    M = null_matrix (sp.sqrt(len(x[0])));\n",
    "    \n",
    "    for i in range (0,len(x),1):\n",
    "        M = M+x[i]*y[i];\n",
    "        \n",
    "    return M;"
   ]
  },
  {
   "cell_type": "code",
   "execution_count": 134,
   "id": "806047fc",
   "metadata": {},
   "outputs": [],
   "source": [
    "# Factorial function\n",
    "\n",
    "def fac(n):\n",
    "    \n",
    "    p = 1;\n",
    "    i = 0;\n",
    "    \n",
    "    while (i < n):\n",
    "        p = p*(n-i);\n",
    "        i = i+1;\n",
    "    return p;"
   ]
  },
  {
   "cell_type": "code",
   "execution_count": 137,
   "id": "3c42cfd6",
   "metadata": {},
   "outputs": [],
   "source": [
    "# Exponential function definition as an infinite (truncated) sum \n",
    "\n",
    "def mc_exp (k,j):\n",
    "    \n",
    "    global n, J1, J3_2;\n",
    "    \n",
    "    i = 0;\n",
    "    \n",
    "    if (j == \"1\"):\n",
    "        J = J1;\n",
    "    elif (j == \"3_2\"):\n",
    "        J = J3_2;\n",
    "    \n",
    "    while (i <= k):\n",
    "        display((-sp.I/hbar*theta*inn_prod(J,n))**i/fac(i));\n",
    "        i+=1;\n"
   ]
  },
  {
   "cell_type": "code",
   "execution_count": 138,
   "id": "e3be5759",
   "metadata": {},
   "outputs": [
    {
     "data": {
      "text/latex": [
       "$\\displaystyle \\left[\\begin{matrix}1 & 0 & 0 & 0\\\\0 & 1 & 0 & 0\\\\0 & 0 & 1 & 0\\\\0 & 0 & 0 & 1\\end{matrix}\\right]$"
      ],
      "text/plain": [
       "Matrix([\n",
       "[1, 0, 0, 0],\n",
       "[0, 1, 0, 0],\n",
       "[0, 0, 1, 0],\n",
       "[0, 0, 0, 1]])"
      ]
     },
     "metadata": {},
     "output_type": "display_data"
    },
    {
     "data": {
      "text/latex": [
       "$\\displaystyle \\left[\\begin{matrix}- \\frac{3 i n_{z} \\theta}{2} & - \\frac{i \\theta \\left(\\frac{\\sqrt{3} \\hbar n_{x}}{2} - \\frac{\\sqrt{3} i \\hbar n_{y}}{2}\\right)}{\\hbar} & 0 & 0\\\\- \\frac{i \\theta \\left(\\frac{\\sqrt{3} \\hbar n_{x}}{2} + \\frac{\\sqrt{3} i \\hbar n_{y}}{2}\\right)}{\\hbar} & - \\frac{i n_{z} \\theta}{2} & - \\frac{i \\theta \\left(\\hbar n_{x} - i \\hbar n_{y}\\right)}{\\hbar} & 0\\\\0 & - \\frac{i \\theta \\left(\\hbar n_{x} + i \\hbar n_{y}\\right)}{\\hbar} & \\frac{i n_{z} \\theta}{2} & - \\frac{i \\theta \\left(\\frac{\\sqrt{3} \\hbar n_{x}}{2} - \\frac{\\sqrt{3} i \\hbar n_{y}}{2}\\right)}{\\hbar}\\\\0 & 0 & - \\frac{i \\theta \\left(\\frac{\\sqrt{3} \\hbar n_{x}}{2} + \\frac{\\sqrt{3} i \\hbar n_{y}}{2}\\right)}{\\hbar} & \\frac{3 i n_{z} \\theta}{2}\\end{matrix}\\right]$"
      ],
      "text/plain": [
       "Matrix([\n",
       "[                                         -3*I*n_z*theta/2, -I*theta*(sqrt(3)*hbar*n_x/2 - sqrt(3)*I*hbar*n_y/2)/hbar,                                                         0,                                                         0],\n",
       "[-I*theta*(sqrt(3)*hbar*n_x/2 + sqrt(3)*I*hbar*n_y/2)/hbar,                                            -I*n_z*theta/2,                     -I*theta*(hbar*n_x - I*hbar*n_y)/hbar,                                                         0],\n",
       "[                                                        0,                     -I*theta*(hbar*n_x + I*hbar*n_y)/hbar,                                             I*n_z*theta/2, -I*theta*(sqrt(3)*hbar*n_x/2 - sqrt(3)*I*hbar*n_y/2)/hbar],\n",
       "[                                                        0,                                                         0, -I*theta*(sqrt(3)*hbar*n_x/2 + sqrt(3)*I*hbar*n_y/2)/hbar,                                           3*I*n_z*theta/2]])"
      ]
     },
     "metadata": {},
     "output_type": "display_data"
    },
    {
     "data": {
      "text/latex": [
       "$\\displaystyle \\left[\\begin{matrix}- \\frac{3 n_{x}^{2} \\theta^{2}}{8} - \\frac{3 n_{y}^{2} \\theta^{2}}{8} - \\frac{9 n_{z}^{2} \\theta^{2}}{8} & - \\frac{\\sqrt{3} n_{x} n_{z} \\theta^{2}}{2} + \\frac{\\sqrt{3} i n_{y} n_{z} \\theta^{2}}{2} & - \\frac{\\sqrt{3} n_{x}^{2} \\theta^{2}}{4} + \\frac{\\sqrt{3} i n_{x} n_{y} \\theta^{2}}{2} + \\frac{\\sqrt{3} n_{y}^{2} \\theta^{2}}{4} & 0\\\\- \\frac{\\sqrt{3} n_{x} n_{z} \\theta^{2}}{2} - \\frac{\\sqrt{3} i n_{y} n_{z} \\theta^{2}}{2} & - \\frac{7 n_{x}^{2} \\theta^{2}}{8} - \\frac{7 n_{y}^{2} \\theta^{2}}{8} - \\frac{n_{z}^{2} \\theta^{2}}{8} & 0 & - \\frac{\\sqrt{3} n_{x}^{2} \\theta^{2}}{4} + \\frac{\\sqrt{3} i n_{x} n_{y} \\theta^{2}}{2} + \\frac{\\sqrt{3} n_{y}^{2} \\theta^{2}}{4}\\\\- \\frac{\\sqrt{3} n_{x}^{2} \\theta^{2}}{4} - \\frac{\\sqrt{3} i n_{x} n_{y} \\theta^{2}}{2} + \\frac{\\sqrt{3} n_{y}^{2} \\theta^{2}}{4} & 0 & - \\frac{7 n_{x}^{2} \\theta^{2}}{8} - \\frac{7 n_{y}^{2} \\theta^{2}}{8} - \\frac{n_{z}^{2} \\theta^{2}}{8} & \\frac{\\sqrt{3} n_{x} n_{z} \\theta^{2}}{2} - \\frac{\\sqrt{3} i n_{y} n_{z} \\theta^{2}}{2}\\\\0 & - \\frac{\\sqrt{3} n_{x}^{2} \\theta^{2}}{4} - \\frac{\\sqrt{3} i n_{x} n_{y} \\theta^{2}}{2} + \\frac{\\sqrt{3} n_{y}^{2} \\theta^{2}}{4} & \\frac{\\sqrt{3} n_{x} n_{z} \\theta^{2}}{2} + \\frac{\\sqrt{3} i n_{y} n_{z} \\theta^{2}}{2} & - \\frac{3 n_{x}^{2} \\theta^{2}}{8} - \\frac{3 n_{y}^{2} \\theta^{2}}{8} - \\frac{9 n_{z}^{2} \\theta^{2}}{8}\\end{matrix}\\right]$"
      ],
      "text/plain": [
       "Matrix([\n",
       "[                     -3*n_x**2*theta**2/8 - 3*n_y**2*theta**2/8 - 9*n_z**2*theta**2/8,                            -sqrt(3)*n_x*n_z*theta**2/2 + sqrt(3)*I*n_y*n_z*theta**2/2, -sqrt(3)*n_x**2*theta**2/4 + sqrt(3)*I*n_x*n_y*theta**2/2 + sqrt(3)*n_y**2*theta**2/4,                                                                                     0],\n",
       "[                           -sqrt(3)*n_x*n_z*theta**2/2 - sqrt(3)*I*n_y*n_z*theta**2/2,                        -7*n_x**2*theta**2/8 - 7*n_y**2*theta**2/8 - n_z**2*theta**2/8,                                                                                     0, -sqrt(3)*n_x**2*theta**2/4 + sqrt(3)*I*n_x*n_y*theta**2/2 + sqrt(3)*n_y**2*theta**2/4],\n",
       "[-sqrt(3)*n_x**2*theta**2/4 - sqrt(3)*I*n_x*n_y*theta**2/2 + sqrt(3)*n_y**2*theta**2/4,                                                                                     0,                        -7*n_x**2*theta**2/8 - 7*n_y**2*theta**2/8 - n_z**2*theta**2/8,                             sqrt(3)*n_x*n_z*theta**2/2 - sqrt(3)*I*n_y*n_z*theta**2/2],\n",
       "[                                                                                    0, -sqrt(3)*n_x**2*theta**2/4 - sqrt(3)*I*n_x*n_y*theta**2/2 + sqrt(3)*n_y**2*theta**2/4,                             sqrt(3)*n_x*n_z*theta**2/2 + sqrt(3)*I*n_y*n_z*theta**2/2,                      -3*n_x**2*theta**2/8 - 3*n_y**2*theta**2/8 - 9*n_z**2*theta**2/8]])"
      ]
     },
     "metadata": {},
     "output_type": "display_data"
    },
    {
     "data": {
      "text/latex": [
       "$\\displaystyle \\left[\\begin{matrix}\\frac{7 i n_{x}^{2} n_{z} \\theta^{3}}{16} + \\frac{7 i n_{y}^{2} n_{z} \\theta^{3}}{16} + \\frac{9 i n_{z}^{3} \\theta^{3}}{16} & \\frac{7 \\sqrt{3} i n_{x}^{3} \\theta^{3}}{48} + \\frac{7 \\sqrt{3} n_{x}^{2} n_{y} \\theta^{3}}{48} + \\frac{7 \\sqrt{3} i n_{x} n_{y}^{2} \\theta^{3}}{48} + \\frac{13 \\sqrt{3} i n_{x} n_{z}^{2} \\theta^{3}}{48} + \\frac{7 \\sqrt{3} n_{y}^{3} \\theta^{3}}{48} + \\frac{13 \\sqrt{3} n_{y} n_{z}^{2} \\theta^{3}}{48} & \\frac{\\sqrt{3} i n_{x}^{2} n_{z} \\theta^{3}}{8} + \\frac{\\sqrt{3} n_{x} n_{y} n_{z} \\theta^{3}}{4} - \\frac{\\sqrt{3} i n_{y}^{2} n_{z} \\theta^{3}}{8} & - \\frac{i \\theta \\left(\\frac{\\sqrt{3} \\hbar n_{x}}{2} - \\frac{\\sqrt{3} i \\hbar n_{y}}{2}\\right) \\left(- \\frac{\\sqrt{3} n_{x}^{2} \\theta^{2}}{2} + \\sqrt{3} i n_{x} n_{y} \\theta^{2} + \\frac{\\sqrt{3} n_{y}^{2} \\theta^{2}}{2}\\right)}{6 \\hbar}\\\\\\frac{7 \\sqrt{3} i n_{x}^{3} \\theta^{3}}{48} - \\frac{7 \\sqrt{3} n_{x}^{2} n_{y} \\theta^{3}}{48} + \\frac{7 \\sqrt{3} i n_{x} n_{y}^{2} \\theta^{3}}{48} + \\frac{13 \\sqrt{3} i n_{x} n_{z}^{2} \\theta^{3}}{48} - \\frac{7 \\sqrt{3} n_{y}^{3} \\theta^{3}}{48} - \\frac{13 \\sqrt{3} n_{y} n_{z}^{2} \\theta^{3}}{48} & \\frac{19 i n_{x}^{2} n_{z} \\theta^{3}}{48} + \\frac{19 i n_{y}^{2} n_{z} \\theta^{3}}{48} + \\frac{i n_{z}^{3} \\theta^{3}}{48} & - \\frac{i \\theta \\left(\\hbar n_{x} - i \\hbar n_{y}\\right) \\left(- \\frac{7 n_{x}^{2} \\theta^{2}}{4} - \\frac{7 n_{y}^{2} \\theta^{2}}{4} - \\frac{n_{z}^{2} \\theta^{2}}{4}\\right)}{6 \\hbar} - \\frac{i \\theta \\left(\\frac{\\sqrt{3} \\hbar n_{x}}{2} + \\frac{\\sqrt{3} i \\hbar n_{y}}{2}\\right) \\left(- \\frac{\\sqrt{3} n_{x}^{2} \\theta^{2}}{2} + \\sqrt{3} i n_{x} n_{y} \\theta^{2} + \\frac{\\sqrt{3} n_{y}^{2} \\theta^{2}}{2}\\right)}{6 \\hbar} & - \\frac{\\sqrt{3} i n_{x}^{2} n_{z} \\theta^{3}}{8} - \\frac{\\sqrt{3} n_{x} n_{y} n_{z} \\theta^{3}}{4} + \\frac{\\sqrt{3} i n_{y}^{2} n_{z} \\theta^{3}}{8}\\\\\\frac{\\sqrt{3} i n_{x}^{2} n_{z} \\theta^{3}}{8} - \\frac{\\sqrt{3} n_{x} n_{y} n_{z} \\theta^{3}}{4} - \\frac{\\sqrt{3} i n_{y}^{2} n_{z} \\theta^{3}}{8} & - \\frac{i \\theta \\left(\\hbar n_{x} + i \\hbar n_{y}\\right) \\left(- \\frac{7 n_{x}^{2} \\theta^{2}}{4} - \\frac{7 n_{y}^{2} \\theta^{2}}{4} - \\frac{n_{z}^{2} \\theta^{2}}{4}\\right)}{6 \\hbar} - \\frac{i \\theta \\left(\\frac{\\sqrt{3} \\hbar n_{x}}{2} - \\frac{\\sqrt{3} i \\hbar n_{y}}{2}\\right) \\left(- \\frac{\\sqrt{3} n_{x}^{2} \\theta^{2}}{2} - \\sqrt{3} i n_{x} n_{y} \\theta^{2} + \\frac{\\sqrt{3} n_{y}^{2} \\theta^{2}}{2}\\right)}{6 \\hbar} & - \\frac{19 i n_{x}^{2} n_{z} \\theta^{3}}{48} - \\frac{19 i n_{y}^{2} n_{z} \\theta^{3}}{48} - \\frac{i n_{z}^{3} \\theta^{3}}{48} & \\frac{7 \\sqrt{3} i n_{x}^{3} \\theta^{3}}{48} + \\frac{7 \\sqrt{3} n_{x}^{2} n_{y} \\theta^{3}}{48} + \\frac{7 \\sqrt{3} i n_{x} n_{y}^{2} \\theta^{3}}{48} + \\frac{13 \\sqrt{3} i n_{x} n_{z}^{2} \\theta^{3}}{48} + \\frac{7 \\sqrt{3} n_{y}^{3} \\theta^{3}}{48} + \\frac{13 \\sqrt{3} n_{y} n_{z}^{2} \\theta^{3}}{48}\\\\- \\frac{i \\theta \\left(\\frac{\\sqrt{3} \\hbar n_{x}}{2} + \\frac{\\sqrt{3} i \\hbar n_{y}}{2}\\right) \\left(- \\frac{\\sqrt{3} n_{x}^{2} \\theta^{2}}{2} - \\sqrt{3} i n_{x} n_{y} \\theta^{2} + \\frac{\\sqrt{3} n_{y}^{2} \\theta^{2}}{2}\\right)}{6 \\hbar} & - \\frac{\\sqrt{3} i n_{x}^{2} n_{z} \\theta^{3}}{8} + \\frac{\\sqrt{3} n_{x} n_{y} n_{z} \\theta^{3}}{4} + \\frac{\\sqrt{3} i n_{y}^{2} n_{z} \\theta^{3}}{8} & \\frac{7 \\sqrt{3} i n_{x}^{3} \\theta^{3}}{48} - \\frac{7 \\sqrt{3} n_{x}^{2} n_{y} \\theta^{3}}{48} + \\frac{7 \\sqrt{3} i n_{x} n_{y}^{2} \\theta^{3}}{48} + \\frac{13 \\sqrt{3} i n_{x} n_{z}^{2} \\theta^{3}}{48} - \\frac{7 \\sqrt{3} n_{y}^{3} \\theta^{3}}{48} - \\frac{13 \\sqrt{3} n_{y} n_{z}^{2} \\theta^{3}}{48} & - \\frac{7 i n_{x}^{2} n_{z} \\theta^{3}}{16} - \\frac{7 i n_{y}^{2} n_{z} \\theta^{3}}{16} - \\frac{9 i n_{z}^{3} \\theta^{3}}{16}\\end{matrix}\\right]$"
      ],
      "text/plain": [
       "Matrix([\n",
       "[                                                                                                                               7*I*n_x**2*n_z*theta**3/16 + 7*I*n_y**2*n_z*theta**3/16 + 9*I*n_z**3*theta**3/16,                                                 7*sqrt(3)*I*n_x**3*theta**3/48 + 7*sqrt(3)*n_x**2*n_y*theta**3/48 + 7*sqrt(3)*I*n_x*n_y**2*theta**3/48 + 13*sqrt(3)*I*n_x*n_z**2*theta**3/48 + 7*sqrt(3)*n_y**3*theta**3/48 + 13*sqrt(3)*n_y*n_z**2*theta**3/48,                                                                                                                                                              sqrt(3)*I*n_x**2*n_z*theta**3/8 + sqrt(3)*n_x*n_y*n_z*theta**3/4 - sqrt(3)*I*n_y**2*n_z*theta**3/8,                                                             -I*theta*(sqrt(3)*hbar*n_x/2 - sqrt(3)*I*hbar*n_y/2)*(-sqrt(3)*n_x**2*theta**2/2 + sqrt(3)*I*n_x*n_y*theta**2 + sqrt(3)*n_y**2*theta**2/2)/(6*hbar)],\n",
       "[7*sqrt(3)*I*n_x**3*theta**3/48 - 7*sqrt(3)*n_x**2*n_y*theta**3/48 + 7*sqrt(3)*I*n_x*n_y**2*theta**3/48 + 13*sqrt(3)*I*n_x*n_z**2*theta**3/48 - 7*sqrt(3)*n_y**3*theta**3/48 - 13*sqrt(3)*n_y*n_z**2*theta**3/48,                                                                                                                                                                                19*I*n_x**2*n_z*theta**3/48 + 19*I*n_y**2*n_z*theta**3/48 + I*n_z**3*theta**3/48, -I*theta*(hbar*n_x - I*hbar*n_y)*(-7*n_x**2*theta**2/4 - 7*n_y**2*theta**2/4 - n_z**2*theta**2/4)/(6*hbar) - I*theta*(sqrt(3)*hbar*n_x/2 + sqrt(3)*I*hbar*n_y/2)*(-sqrt(3)*n_x**2*theta**2/2 + sqrt(3)*I*n_x*n_y*theta**2 + sqrt(3)*n_y**2*theta**2/2)/(6*hbar),                                                                                                             -sqrt(3)*I*n_x**2*n_z*theta**3/8 - sqrt(3)*n_x*n_y*n_z*theta**3/4 + sqrt(3)*I*n_y**2*n_z*theta**3/8],\n",
       "[                                                                                                             sqrt(3)*I*n_x**2*n_z*theta**3/8 - sqrt(3)*n_x*n_y*n_z*theta**3/4 - sqrt(3)*I*n_y**2*n_z*theta**3/8, -I*theta*(hbar*n_x + I*hbar*n_y)*(-7*n_x**2*theta**2/4 - 7*n_y**2*theta**2/4 - n_z**2*theta**2/4)/(6*hbar) - I*theta*(sqrt(3)*hbar*n_x/2 - sqrt(3)*I*hbar*n_y/2)*(-sqrt(3)*n_x**2*theta**2/2 - sqrt(3)*I*n_x*n_y*theta**2 + sqrt(3)*n_y**2*theta**2/2)/(6*hbar),                                                                                                                                                                               -19*I*n_x**2*n_z*theta**3/48 - 19*I*n_y**2*n_z*theta**3/48 - I*n_z**3*theta**3/48, 7*sqrt(3)*I*n_x**3*theta**3/48 + 7*sqrt(3)*n_x**2*n_y*theta**3/48 + 7*sqrt(3)*I*n_x*n_y**2*theta**3/48 + 13*sqrt(3)*I*n_x*n_z**2*theta**3/48 + 7*sqrt(3)*n_y**3*theta**3/48 + 13*sqrt(3)*n_y*n_z**2*theta**3/48],\n",
       "[                                                            -I*theta*(sqrt(3)*hbar*n_x/2 + sqrt(3)*I*hbar*n_y/2)*(-sqrt(3)*n_x**2*theta**2/2 - sqrt(3)*I*n_x*n_y*theta**2 + sqrt(3)*n_y**2*theta**2/2)/(6*hbar),                                                                                                                                                             -sqrt(3)*I*n_x**2*n_z*theta**3/8 + sqrt(3)*n_x*n_y*n_z*theta**3/4 + sqrt(3)*I*n_y**2*n_z*theta**3/8,                                                 7*sqrt(3)*I*n_x**3*theta**3/48 - 7*sqrt(3)*n_x**2*n_y*theta**3/48 + 7*sqrt(3)*I*n_x*n_y**2*theta**3/48 + 13*sqrt(3)*I*n_x*n_z**2*theta**3/48 - 7*sqrt(3)*n_y**3*theta**3/48 - 13*sqrt(3)*n_y*n_z**2*theta**3/48,                                                                                                                               -7*I*n_x**2*n_z*theta**3/16 - 7*I*n_y**2*n_z*theta**3/16 - 9*I*n_z**3*theta**3/16]])"
      ]
     },
     "metadata": {},
     "output_type": "display_data"
    }
   ],
   "source": [
    " mc_exp(3,'3_2') "
   ]
  },
  {
   "cell_type": "code",
   "execution_count": null,
   "id": "245acc79",
   "metadata": {},
   "outputs": [],
   "source": []
  },
  {
   "cell_type": "code",
   "execution_count": null,
   "id": "ab5c3dfb",
   "metadata": {},
   "outputs": [],
   "source": []
  },
  {
   "cell_type": "code",
   "execution_count": null,
   "id": "8ce203b8",
   "metadata": {},
   "outputs": [],
   "source": []
  },
  {
   "cell_type": "code",
   "execution_count": null,
   "id": "0414c976",
   "metadata": {},
   "outputs": [],
   "source": []
  },
  {
   "cell_type": "code",
   "execution_count": null,
   "id": "75904dd0",
   "metadata": {},
   "outputs": [],
   "source": []
  }
 ],
 "metadata": {
  "kernelspec": {
   "display_name": "Python 3 (ipykernel)",
   "language": "python",
   "name": "python3"
  },
  "language_info": {
   "codemirror_mode": {
    "name": "ipython",
    "version": 3
   },
   "file_extension": ".py",
   "mimetype": "text/x-python",
   "name": "python",
   "nbconvert_exporter": "python",
   "pygments_lexer": "ipython3",
   "version": "3.11.5"
  }
 },
 "nbformat": 4,
 "nbformat_minor": 5
}
