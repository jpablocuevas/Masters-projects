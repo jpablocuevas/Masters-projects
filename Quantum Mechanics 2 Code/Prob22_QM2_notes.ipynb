{
 "cells": [
  {
   "cell_type": "code",
   "execution_count": 1,
   "id": "c73d9037",
   "metadata": {},
   "outputs": [],
   "source": [
    "import sympy as sp"
   ]
  },
  {
   "cell_type": "code",
   "execution_count": 2,
   "id": "918ce798",
   "metadata": {},
   "outputs": [
    {
     "data": {
      "text/latex": [
       "$\\displaystyle \\hbar$"
      ],
      "text/plain": [
       "hbar"
      ]
     },
     "execution_count": 2,
     "metadata": {},
     "output_type": "execute_result"
    }
   ],
   "source": [
    "hbar = sp.Symbol(\"hbar\");\n",
    "hbar"
   ]
  },
  {
   "cell_type": "code",
   "execution_count": 3,
   "id": "75ec5fcb",
   "metadata": {},
   "outputs": [],
   "source": [
    "# Total angular momentum eigenvalues\n",
    "\n",
    "def C (j,m,s):\n",
    "    \n",
    "    global hbar;\n",
    "    \n",
    "    if (s == '+'):\n",
    "        return hbar*sp.sqrt((j-m)*(j+m+1));\n",
    "    elif (s == '-'):\n",
    "        return hbar*sp.sqrt((j+m)*(j-m+1));\n",
    "\n",
    "# Kronecker delta for the matrix element of the angular momentum representation\n",
    "\n",
    "def delta (a,b):\n",
    "    \n",
    "    if (a == b):\n",
    "        return 1;\n",
    "    else:\n",
    "        return 0;   \n",
    "\n",
    "# Function that computes the size of the matrix\n",
    "\n",
    "def sizeofmatrix (j):\n",
    "    return (2*j)+1;"
   ]
  },
  {
   "cell_type": "code",
   "execution_count": 4,
   "id": "06262064",
   "metadata": {},
   "outputs": [],
   "source": [
    "def J_i (i,j):\n",
    "    \n",
    "    size = sizeofmatrix(j);\n",
    "    J = [];\n",
    "    row = [];\n",
    "    \n",
    "    if (i == 1):\n",
    "        \n",
    "        mp = j;\n",
    "        \n",
    "        for a in range (0,size,1):\n",
    "            m = j;\n",
    "            for b in range (0,size,1):\n",
    "                \n",
    "                row.append(sp.Rational(1/2)*(C(j,m,'+')*delta(mp,m+1)+C(j,m,'-')*delta(mp,m-1)));\n",
    "                \n",
    "                m = m-1;\n",
    "            \n",
    "            mp = mp-1;\n",
    "            J.append(row);\n",
    "            row = [];\n",
    "            \n",
    "        return sp.Matrix(J);\n",
    "    \n",
    "    elif (i == 2):\n",
    "        \n",
    "        mp = j;\n",
    "        \n",
    "        for a in range (0,size,1):\n",
    "            m = j;\n",
    "            for b in range (0,size,1):\n",
    "                \n",
    "                row.append(-sp.I/2*(C(j,m,'+')*delta(mp,m+1)-C(j,m,'-')*delta(mp,m-1)));\n",
    "                \n",
    "                m = m-1;\n",
    "            \n",
    "            mp = mp-1;\n",
    "            J.append(row);\n",
    "            row = [];\n",
    "            \n",
    "        return sp.Matrix(J);\n",
    "    \n",
    "    elif (i == 3):\n",
    "        mp = j;\n",
    "        \n",
    "        for a in range (0,size,1):\n",
    "            m = j;\n",
    "            for b in range (0,size,1):\n",
    "                \n",
    "                row.append(hbar*m*delta(mp,m));\n",
    "                \n",
    "                m = m-1;\n",
    "            \n",
    "            mp = mp-1;\n",
    "            J.append(row);\n",
    "            row = [];\n",
    "            \n",
    "        return sp.Matrix(J);\n",
    "        \n",
    "    else:\n",
    "        return 0;"
   ]
  },
  {
   "cell_type": "code",
   "execution_count": 5,
   "id": "d4862e2c",
   "metadata": {},
   "outputs": [
    {
     "data": {
      "text/latex": [
       "$\\displaystyle \\left[\\begin{matrix}0 & - i \\hbar & 0 & 0 & 0\\\\i \\hbar & 0 & - \\frac{\\sqrt{6} i \\hbar}{2} & 0 & 0\\\\0 & \\frac{\\sqrt{6} i \\hbar}{2} & 0 & - \\frac{\\sqrt{6} i \\hbar}{2} & 0\\\\0 & 0 & \\frac{\\sqrt{6} i \\hbar}{2} & 0 & - i \\hbar\\\\0 & 0 & 0 & i \\hbar & 0\\end{matrix}\\right]$"
      ],
      "text/plain": [
       "Matrix([\n",
       "[     0,          -I*hbar,                 0,                 0,       0],\n",
       "[I*hbar,                0, -sqrt(6)*I*hbar/2,                 0,       0],\n",
       "[     0, sqrt(6)*I*hbar/2,                 0, -sqrt(6)*I*hbar/2,       0],\n",
       "[     0,                0,  sqrt(6)*I*hbar/2,                 0, -I*hbar],\n",
       "[     0,                0,                 0,            I*hbar,       0]])"
      ]
     },
     "execution_count": 5,
     "metadata": {},
     "output_type": "execute_result"
    }
   ],
   "source": [
    "# Computing the matrix representation of Jy\n",
    "\n",
    "Jy = J_i(2,2);\n",
    "Jy"
   ]
  },
  {
   "cell_type": "code",
   "execution_count": 6,
   "id": "50e578ec",
   "metadata": {},
   "outputs": [
    {
     "data": {
      "text/latex": [
       "$\\displaystyle \\left[\\begin{matrix}0 & 0 & 0 & 0 & 1\\\\0 & 0 & 0 & -1 & 0\\\\0 & 0 & 1 & 0 & 0\\\\0 & -1 & 0 & 0 & 0\\\\1 & 0 & 0 & 0 & 0\\end{matrix}\\right]$"
      ],
      "text/plain": [
       "Matrix([\n",
       "[0,  0, 0,  0, 1],\n",
       "[0,  0, 0, -1, 0],\n",
       "[0,  0, 1,  0, 0],\n",
       "[0, -1, 0,  0, 0],\n",
       "[1,  0, 0,  0, 0]])"
      ]
     },
     "execution_count": 6,
     "metadata": {},
     "output_type": "execute_result"
    }
   ],
   "source": [
    "# Computing U_2 from Jy\n",
    "\n",
    "U_2 = sp.exp(-sp.I/hbar*sp.pi*Jy);\n",
    "U_2"
   ]
  },
  {
   "cell_type": "code",
   "execution_count": 12,
   "id": "13717442",
   "metadata": {},
   "outputs": [],
   "source": [
    "# Finally, computing U_2 explicitley yields\n",
    "\n",
    "def U_delta(j):\n",
    "    \n",
    "    size = sizeofmatrix(j);\n",
    "    U = [];\n",
    "    row = [];\n",
    "    \n",
    "   \n",
    "    mp = j;\n",
    "\n",
    "    for a in range (0,size,1):\n",
    "        m = j;\n",
    "        for b in range (0,size,1):\n",
    "\n",
    "            row.append(pow((sp.I),2*m)*delta(mp,-m));\n",
    "\n",
    "            m = m-1;\n",
    "\n",
    "        mp = mp-1;\n",
    "        U.append(row);\n",
    "        row = [];\n",
    "\n",
    "    return sp.Matrix(U);\n"
   ]
  },
  {
   "cell_type": "code",
   "execution_count": 15,
   "id": "40763b51",
   "metadata": {},
   "outputs": [],
   "source": [
    "def U_exp (i,j):\n",
    "    \n",
    "    return sp.exp(-sp.I/hbar*sp.pi*J_i(i,j));"
   ]
  },
  {
   "cell_type": "code",
   "execution_count": 22,
   "id": "74515d7e",
   "metadata": {},
   "outputs": [
    {
     "data": {
      "text/latex": [
       "$\\displaystyle \\left[\\begin{matrix}0 & - i\\\\i & 0\\end{matrix}\\right]$"
      ],
      "text/plain": [
       "Matrix([\n",
       "[0, -I],\n",
       "[I,  0]])"
      ]
     },
     "execution_count": 22,
     "metadata": {},
     "output_type": "execute_result"
    }
   ],
   "source": [
    "U_delta(sp.Rational(1/2))"
   ]
  },
  {
   "cell_type": "code",
   "execution_count": 11,
   "id": "1b6b5de8",
   "metadata": {},
   "outputs": [
    {
     "data": {
      "text/latex": [
       "$\\displaystyle \\left[\\begin{matrix}0 & 0 & 0 & -1\\\\0 & 0 & 1 & 0\\\\0 & -1 & 0 & 0\\\\1 & 0 & 0 & 0\\end{matrix}\\right]$"
      ],
      "text/plain": [
       "Matrix([\n",
       "[0,  0, 0, -1],\n",
       "[0,  0, 1,  0],\n",
       "[0, -1, 0,  0],\n",
       "[1,  0, 0,  0]])"
      ]
     },
     "execution_count": 11,
     "metadata": {},
     "output_type": "execute_result"
    }
   ],
   "source": [
    "U3_2 = sp.exp(-sp.I/hbar*sp.pi*J_i(2,sp.Rational(3/2)));\n",
    "U3_2"
   ]
  },
  {
   "cell_type": "code",
   "execution_count": 21,
   "id": "675487d9",
   "metadata": {},
   "outputs": [
    {
     "data": {
      "text/latex": [
       "$\\displaystyle \\left[\\begin{matrix}0 & -1\\\\1 & 0\\end{matrix}\\right]$"
      ],
      "text/plain": [
       "Matrix([\n",
       "[0, -1],\n",
       "[1,  0]])"
      ]
     },
     "execution_count": 21,
     "metadata": {},
     "output_type": "execute_result"
    }
   ],
   "source": [
    "U_exp(2,sp.Rational(1/2))"
   ]
  },
  {
   "cell_type": "code",
   "execution_count": 23,
   "id": "480df0f7",
   "metadata": {},
   "outputs": [
    {
     "data": {
      "text/latex": [
       "$\\displaystyle \\left[\\begin{matrix}0 & - i\\\\i & 0\\end{matrix}\\right]$"
      ],
      "text/plain": [
       "Matrix([\n",
       "[0, -I],\n",
       "[I,  0]])"
      ]
     },
     "execution_count": 23,
     "metadata": {},
     "output_type": "execute_result"
    }
   ],
   "source": [
    "U_delta(sp.Rational(1/2))"
   ]
  },
  {
   "cell_type": "code",
   "execution_count": null,
   "id": "a8d22e60",
   "metadata": {},
   "outputs": [],
   "source": []
  }
 ],
 "metadata": {
  "kernelspec": {
   "display_name": "Python 3 (ipykernel)",
   "language": "python",
   "name": "python3"
  },
  "language_info": {
   "codemirror_mode": {
    "name": "ipython",
    "version": 3
   },
   "file_extension": ".py",
   "mimetype": "text/x-python",
   "name": "python",
   "nbconvert_exporter": "python",
   "pygments_lexer": "ipython3",
   "version": "3.11.5"
  }
 },
 "nbformat": 4,
 "nbformat_minor": 5
}
