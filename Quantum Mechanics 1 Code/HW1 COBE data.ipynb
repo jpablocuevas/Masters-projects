{
 "cells": [
  {
   "cell_type": "code",
   "execution_count": 133,
   "id": "b2f4cc55",
   "metadata": {},
   "outputs": [],
   "source": [
    "import numpy as np\n",
    "import matplotlib.pyplot as plt"
   ]
  },
  {
   "cell_type": "code",
   "execution_count": 183,
   "id": "30f3691a",
   "metadata": {},
   "outputs": [],
   "source": [
    "# Defining some constants\n",
    "c=3*10**8; # m s^-1\n",
    "h=6.62607015*10**(-34); # m^2 kg s^-1\n",
    "pi=np.pi;\n",
    "k=1.380649*10**(-23) # m^2 kg s^-2 K^-1"
   ]
  },
  {
   "cell_type": "code",
   "execution_count": 184,
   "id": "ebb14737",
   "metadata": {},
   "outputs": [],
   "source": [
    "# File opening\n",
    "file=open(\"COBE_temperature_data.txt\",'r');\n",
    "s=file.readlines();\n",
    "\n",
    "# Data arrays\n",
    "\n",
    "freq=[];\n",
    "spect=[];\n",
    "uncer=[];\n",
    "\n",
    "#Filling the data vectors\n",
    "for i in s:\n",
    "    freq.append(float(i.split()[0]));\n",
    "    spect.append(float(i.split()[1]));\n",
    "    uncer.append(float(i.split()[3]));"
   ]
  },
  {
   "cell_type": "code",
   "execution_count": 194,
   "id": "87511dd2",
   "metadata": {},
   "outputs": [],
   "source": [
    "# Unit conversion \n",
    "freqc=[]; #Converted frequency \n",
    "spectc=[];\n",
    "uncerc=[];\n",
    "for i in range (0,len(freq),1):\n",
    "    freqc.append(freq[i]*100); # 1/cm to 1/m\n",
    "    spectc.append(spect[i]*10**(-26)*10**6); # 1 Jansky = 10^-26 Joules s^-1 m^-2, 1 Mega =10^6\n",
    "    uncerc.append(uncer[i]*10**(-26)*10**6); # Same conversion as spect but with KJk"
   ]
  },
  {
   "cell_type": "code",
   "execution_count": 202,
   "id": "20f26932",
   "metadata": {},
   "outputs": [],
   "source": [
    "# Frequency array \n",
    "v=np.linspace(227.0,2133.0,num=len(freqc));\n",
    "\n",
    "#Temperature \n",
    "T=3;\n",
    "\n",
    "# Spectrum array \n",
    "u=[];\n",
    "\n",
    "for i in v:\n",
    "    u.append(8*pi*i**3/(c**3*(np.exp(h*i/(k*T))-1)));"
   ]
  },
  {
   "cell_type": "code",
   "execution_count": 204,
   "id": "6f9ee490",
   "metadata": {},
   "outputs": [
    {
     "data": {
      "image/png": "[encoded data removed]",
      "text/plain": [
       "<Figure size 432x288 with 1 Axes>"
      ]
     },
     "metadata": {
      "needs_background": "light"
     },
     "output_type": "display_data"
    }
   ],
   "source": [
    "Fig1=plt.figure(1);\n",
    "plt.errorbar(freqc,spectc,color=\"darkblue\",label=\"Experimental data\",xerr=None,yerr=uncerc,ecolor=\"darkgreen\");\n",
    "#plt.plot(v,u,color=\"darkred\",label=\"Prediction\");\n",
    "plt.xlabel('Frequency (1/m)');\n",
    "plt.ylabel(\"Spectral energy density\");\n",
    "plt.legend(loc=\"lower left\");\n",
    "plt.title(\"Energy spectrum of CB\");\n",
    "plt.show(Fig1);"
   ]
  },
  {
   "cell_type": "code",
   "execution_count": 188,
   "id": "e3e7437d",
   "metadata": {},
   "outputs": [],
   "source": [
    "file.close()"
   ]
  },
  {
   "cell_type": "code",
   "execution_count": null,
   "id": "317ebc8c",
   "metadata": {},
   "outputs": [],
   "source": []
  },
  {
   "cell_type": "code",
   "execution_count": null,
   "id": "52a8fdbe",
   "metadata": {},
   "outputs": [],
   "source": []
  },
  {
   "cell_type": "code",
   "execution_count": null,
   "id": "ff6d6a99",
   "metadata": {},
   "outputs": [],
   "source": []
  },
  {
   "cell_type": "code",
   "execution_count": null,
   "id": "2e55f72b",
   "metadata": {},
   "outputs": [],
   "source": []
  }
 ],
 "metadata": {
  "kernelspec": {
   "display_name": "Python 3 (ipykernel)",
   "language": "python",
   "name": "python3"
  },
  "language_info": {
   "codemirror_mode": {
    "name": "ipython",
    "version": 3
   },
   "file_extension": ".py",
   "mimetype": "text/x-python",
   "name": "python",
   "nbconvert_exporter": "python",
   "pygments_lexer": "ipython3",
   "version": "3.9.7"
  }
 },
 "nbformat": 4,
 "nbformat_minor": 5
}
