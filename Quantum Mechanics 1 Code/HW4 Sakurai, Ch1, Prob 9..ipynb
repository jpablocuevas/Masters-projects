{
 "cells": [
  {
   "cell_type": "code",
   "execution_count": 119,
   "id": "ed4a9d62",
   "metadata": {},
   "outputs": [],
   "source": [
    "import sympy as sp"
   ]
  },
  {
   "cell_type": "code",
   "execution_count": 120,
   "id": "ee57160e",
   "metadata": {},
   "outputs": [],
   "source": [
    "# Hbar\n",
    "hbar=sp.Symbol(\"hbar\");\n",
    "\n",
    "# Identity matrix\n",
    "def IdMx(n):\n",
    "    M=[];\n",
    "    row=[];\n",
    "    \n",
    "    for i in range(0,n,1):\n",
    "        for j in range(0,n,1):\n",
    "            if (i==j):\n",
    "                row.append(1);\n",
    "            else:\n",
    "                row.append(0);\n",
    "        M.append(row);\n",
    "        row=[];\n",
    "    \n",
    "    return sp.Matrix(M);"
   ]
  },
  {
   "cell_type": "code",
   "execution_count": 121,
   "id": "c57b47be",
   "metadata": {},
   "outputs": [],
   "source": [
    "# Inner product\n",
    "def inprod(x,y):\n",
    "    s=x[0]*0;\n",
    "    \n",
    "    for i in range (0,len(x),1):\n",
    "        s=s+x[i]*y[i];\n",
    "    \n",
    "    return sp.simplify(s);\n",
    "\n",
    "# Norm \n",
    "def norm(x):\n",
    "    return sp.sqrt(inprod(x,x));\n",
    "\n",
    "# Commutator (the arguments area assumed to be multipliable matrices)\n",
    "def comm(A,B):\n",
    "    return A*B-B*A;"
   ]
  },
  {
   "cell_type": "code",
   "execution_count": 122,
   "id": "b7fa58e3",
   "metadata": {},
   "outputs": [],
   "source": [
    "# Spin operators in the {|+>, |->} basis\n",
    "Sx=hbar/2*sp.Matrix([[0,1],[1,0]]);\n",
    "Sy=hbar/2*sp.Matrix([[0,-sp.I],[sp.I,0]]);\n",
    "Sz=hbar/2*sp.Matrix([[1,0],[0,-1]]);"
   ]
  },
  {
   "cell_type": "markdown",
   "id": "2d80be02",
   "metadata": {},
   "source": [
    "# Commutator relationships"
   ]
  },
  {
   "cell_type": "code",
   "execution_count": 123,
   "id": "d1dbb4ec",
   "metadata": {},
   "outputs": [
    {
     "data": {
      "text/latex": [
       "$\\displaystyle \\left[\\begin{matrix}0 & - \\frac{\\hbar^{2}}{2}\\\\\\frac{\\hbar^{2}}{2} & 0\\end{matrix}\\right]$"
      ],
      "text/plain": [
       "Matrix([\n",
       "[        0, -hbar**2/2],\n",
       "[hbar**2/2,          0]])"
      ]
     },
     "execution_count": 123,
     "metadata": {},
     "output_type": "execute_result"
    }
   ],
   "source": [
    "comm(Sx,Sz)"
   ]
  },
  {
   "cell_type": "code",
   "execution_count": 124,
   "id": "3eafd0ff",
   "metadata": {},
   "outputs": [
    {
     "data": {
      "text/plain": [
       "True"
      ]
     },
     "execution_count": 124,
     "metadata": {},
     "output_type": "execute_result"
    }
   ],
   "source": [
    "comm(Sx,Sz)==-sp.I*hbar*Sy"
   ]
  },
  {
   "cell_type": "code",
   "execution_count": 125,
   "id": "2c50408e",
   "metadata": {},
   "outputs": [
    {
     "data": {
      "text/latex": [
       "$\\displaystyle \\left[\\begin{matrix}0 & \\frac{i \\hbar^{2}}{2}\\\\\\frac{i \\hbar^{2}}{2} & 0\\end{matrix}\\right]$"
      ],
      "text/plain": [
       "Matrix([\n",
       "[          0, I*hbar**2/2],\n",
       "[I*hbar**2/2,           0]])"
      ]
     },
     "execution_count": 125,
     "metadata": {},
     "output_type": "execute_result"
    }
   ],
   "source": [
    "comm(Sy,Sz)"
   ]
  },
  {
   "cell_type": "code",
   "execution_count": 126,
   "id": "082525a3",
   "metadata": {},
   "outputs": [
    {
     "data": {
      "text/plain": [
       "True"
      ]
     },
     "execution_count": 126,
     "metadata": {},
     "output_type": "execute_result"
    }
   ],
   "source": [
    "comm(Sy,Sz)==sp.I*hbar*Sx"
   ]
  },
  {
   "cell_type": "markdown",
   "id": "2d0a2ade",
   "metadata": {},
   "source": [
    "# Sakuari, Ch1., Prob 9."
   ]
  },
  {
   "cell_type": "code",
   "execution_count": 127,
   "id": "1249ea16",
   "metadata": {},
   "outputs": [],
   "source": [
    "# Angles\n",
    "alpha, beta=sp.symbols(\"alpha,beta\");\n",
    "\n",
    "# Unit vector\n",
    "n=[sp.sin(beta)*sp.cos(alpha),sp.sin(beta)*sp.sin(alpha),sp.cos(beta)];\n",
    "\n",
    "# Collecting all spin operators in a vector\n",
    "S=[Sx,Sy,Sz];"
   ]
  },
  {
   "cell_type": "code",
   "execution_count": 172,
   "id": "56e38fe4",
   "metadata": {},
   "outputs": [
    {
     "data": {
      "text/latex": [
       "$\\displaystyle \\left[\\begin{matrix}\\cos{\\left(\\beta \\right)} & e^{- i \\alpha} \\sin{\\left(\\beta \\right)}\\\\e^{i \\alpha} \\sin{\\left(\\beta \\right)} & - \\cos{\\left(\\beta \\right)}\\end{matrix}\\right]$"
      ],
      "text/plain": [
       "Matrix([\n",
       "[             cos(beta), exp(-I*alpha)*sin(beta)],\n",
       "[exp(I*alpha)*sin(beta),              -cos(beta)]])"
      ]
     },
     "execution_count": 172,
     "metadata": {},
     "output_type": "execute_result"
    }
   ],
   "source": [
    "# Constructing the operator S*n\n",
    "Sn=2/hbar*inprod(S,n);\n",
    "Sn"
   ]
  },
  {
   "cell_type": "code",
   "execution_count": 177,
   "id": "189cfd82",
   "metadata": {},
   "outputs": [],
   "source": [
    "# Eigenvalue and eigenvector functions\n",
    "def eigenval(M):\n",
    "    Id=IdMx(2);\n",
    "    Lambda=sp.Symbol(\"lambda\");\n",
    "    \n",
    "    plambda=sp.det(M-Lambda*Id);\n",
    "    \n",
    "    return sp.solve(plambda,Lambda);    \n",
    "    "
   ]
  },
  {
   "cell_type": "code",
   "execution_count": 195,
   "id": "0182a25e",
   "metadata": {},
   "outputs": [],
   "source": [
    "Eigenval=eigenval(Sn);"
   ]
  },
  {
   "cell_type": "code",
   "execution_count": 196,
   "id": "8475fe62",
   "metadata": {},
   "outputs": [],
   "source": [
    "# Eigenvectors\n",
    "Snx, Sny = sp. symbols(\"Sn_x,Sn_y\");\n",
    "Snv=sp.Matrix([[Snx],[Sny]]);"
   ]
  },
  {
   "cell_type": "code",
   "execution_count": 198,
   "id": "78768158",
   "metadata": {},
   "outputs": [
    {
     "data": {
      "text/latex": [
       "$\\displaystyle \\left[\\begin{matrix}Sn_{x} \\left(\\cos{\\left(\\beta \\right)} + 1\\right) + Sn_{y} e^{- i \\alpha} \\sin{\\left(\\beta \\right)}\\\\Sn_{x} e^{i \\alpha} \\sin{\\left(\\beta \\right)} + Sn_{y} \\left(1 - \\cos{\\left(\\beta \\right)}\\right)\\end{matrix}\\right]$"
      ],
      "text/plain": [
       "Matrix([\n",
       "[Sn_x*(cos(beta) + 1) + Sn_y*exp(-I*alpha)*sin(beta)],\n",
       "[ Sn_x*exp(I*alpha)*sin(beta) + Sn_y*(1 - cos(beta))]])"
      ]
     },
     "execution_count": 198,
     "metadata": {},
     "output_type": "execute_result"
    }
   ],
   "source": [
    "M1=(Sn-Eigenval[0]*IdMx(2))*Snv;\n",
    "M1"
   ]
  },
  {
   "cell_type": "code",
   "execution_count": 207,
   "id": "c2866b36",
   "metadata": {},
   "outputs": [
    {
     "data": {
      "text/latex": [
       "$\\displaystyle - \\frac{Sn_{y} e^{- i \\alpha} \\sin{\\left(\\beta \\right)}}{\\cos{\\left(\\beta \\right)} + 1}$"
      ],
      "text/plain": [
       "-Sn_y*exp(-I*alpha)*sin(beta)/(cos(beta) + 1)"
      ]
     },
     "execution_count": 207,
     "metadata": {},
     "output_type": "execute_result"
    }
   ],
   "source": [
    "Snx1Sol=sp.solve(M1[0],Snx)[0];\n",
    "Snx1Sol"
   ]
  },
  {
   "cell_type": "code",
   "execution_count": 208,
   "id": "90865998",
   "metadata": {},
   "outputs": [
    {
     "data": {
      "text/plain": [
       "[0]"
      ]
     },
     "execution_count": 208,
     "metadata": {},
     "output_type": "execute_result"
    }
   ],
   "source": [
    "Sny1Sol=sp.solve(M1[1].subs(Snx,Snx1Sol),Sny);\n",
    "Sny1Sol"
   ]
  },
  {
   "cell_type": "code",
   "execution_count": 199,
   "id": "18ef97dd",
   "metadata": {},
   "outputs": [
    {
     "data": {
      "text/latex": [
       "$\\displaystyle \\left[\\begin{matrix}Sn_{x} \\left(\\cos{\\left(\\beta \\right)} - 1\\right) + Sn_{y} e^{- i \\alpha} \\sin{\\left(\\beta \\right)}\\\\Sn_{x} e^{i \\alpha} \\sin{\\left(\\beta \\right)} + Sn_{y} \\left(- \\cos{\\left(\\beta \\right)} - 1\\right)\\end{matrix}\\right]$"
      ],
      "text/plain": [
       "Matrix([\n",
       "[Sn_x*(cos(beta) - 1) + Sn_y*exp(-I*alpha)*sin(beta)],\n",
       "[Sn_x*exp(I*alpha)*sin(beta) + Sn_y*(-cos(beta) - 1)]])"
      ]
     },
     "execution_count": 199,
     "metadata": {},
     "output_type": "execute_result"
    }
   ],
   "source": [
    "M2=(Sn-Eigenval[1]*Id(2))*Snv;\n",
    "M2"
   ]
  },
  {
   "cell_type": "code",
   "execution_count": 209,
   "id": "ef72ce63",
   "metadata": {},
   "outputs": [
    {
     "data": {
      "text/latex": [
       "$\\displaystyle - \\frac{Sn_{y} e^{- i \\alpha} \\sin{\\left(\\beta \\right)}}{\\cos{\\left(\\beta \\right)} - 1}$"
      ],
      "text/plain": [
       "-Sn_y*exp(-I*alpha)*sin(beta)/(cos(beta) - 1)"
      ]
     },
     "execution_count": 209,
     "metadata": {},
     "output_type": "execute_result"
    }
   ],
   "source": [
    "Snx2Sol=sp.solve(M2[0],Snx)[0];\n",
    "Snx2Sol"
   ]
  },
  {
   "cell_type": "code",
   "execution_count": 214,
   "id": "0340f5d9",
   "metadata": {},
   "outputs": [
    {
     "data": {
      "text/latex": [
       "$\\displaystyle Sn_{y} \\left(- \\cos{\\left(\\beta \\right)} - 1\\right) - \\frac{Sn_{y} \\sin^{2}{\\left(\\beta \\right)}}{\\cos{\\left(\\beta \\right)} - 1}$"
      ],
      "text/plain": [
       "Sn_y*(-cos(beta) - 1) - Sn_y*sin(beta)**2/(cos(beta) - 1)"
      ]
     },
     "execution_count": 214,
     "metadata": {},
     "output_type": "execute_result"
    }
   ],
   "source": [
    "M2[1].subs(Snx,Snx2Sol)"
   ]
  },
  {
   "cell_type": "code",
   "execution_count": null,
   "id": "0a08f12c",
   "metadata": {},
   "outputs": [],
   "source": [
    "M2"
   ]
  }
 ],
 "metadata": {
  "kernelspec": {
   "display_name": "Python 3 (ipykernel)",
   "language": "python",
   "name": "python3"
  },
  "language_info": {
   "codemirror_mode": {
    "name": "ipython",
    "version": 3
   },
   "file_extension": ".py",
   "mimetype": "text/x-python",
   "name": "python",
   "nbconvert_exporter": "python",
   "pygments_lexer": "ipython3",
   "version": "3.9.7"
  }
 },
 "nbformat": 4,
 "nbformat_minor": 5
}
