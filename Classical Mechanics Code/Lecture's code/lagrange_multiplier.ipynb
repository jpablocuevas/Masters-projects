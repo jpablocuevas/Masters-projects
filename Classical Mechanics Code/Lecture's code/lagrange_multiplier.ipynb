{
 "cells": [
  {
   "cell_type": "markdown",
   "metadata": {
    "id": "a7zwu6H--DN-"
   },
   "source": [
    "A particle can roll freely on the surface of a circumference find the angle with respect to the vertical in which it ceases to be in contact"
   ]
  },
  {
   "cell_type": "code",
   "execution_count": 17,
   "metadata": {
    "executionInfo": {
     "elapsed": 8,
     "status": "ok",
     "timestamp": 1692022726328,
     "user": {
      "displayName": "Carlos Alberto Vaquera Araujo",
      "userId": "08698010318067463324"
     },
     "user_tz": 360
    },
    "id": "P-RIqtWu9rjf"
   },
   "outputs": [],
   "source": [
    "import sympy as sp"
   ]
  },
  {
   "cell_type": "code",
   "execution_count": 18,
   "metadata": {
    "executionInfo": {
     "elapsed": 6,
     "status": "ok",
     "timestamp": 1692022726329,
     "user": {
      "displayName": "Carlos Alberto Vaquera Araujo",
      "userId": "08698010318067463324"
     },
     "user_tz": 360
    },
    "id": "LRh7Qrbn95kJ"
   },
   "outputs": [],
   "source": [
    "t, g, R, m=sp.symbols('t, g, R, m')"
   ]
  },
  {
   "cell_type": "markdown",
   "metadata": {
    "id": "OE48GFtQ-1p0"
   },
   "source": [
    "Generalized coordinates and lagrange multiplier"
   ]
  },
  {
   "cell_type": "code",
   "execution_count": 19,
   "metadata": {
    "executionInfo": {
     "elapsed": 7,
     "status": "ok",
     "timestamp": 1692022726330,
     "user": {
      "displayName": "Carlos Alberto Vaquera Araujo",
      "userId": "08698010318067463324"
     },
     "user_tz": 360
    },
    "id": "GGKDcmDi-CWd"
   },
   "outputs": [],
   "source": [
    "theta=sp.Function('theta')(t)\n",
    "r=sp.Function('r')(t)\n",
    "lamda=sp.Function('lamda')(theta)"
   ]
  },
  {
   "cell_type": "markdown",
   "metadata": {
    "id": "4nQ8b7V5-8RL"
   },
   "source": [
    "Cartesian coordinates"
   ]
  },
  {
   "cell_type": "code",
   "execution_count": 20,
   "metadata": {
    "executionInfo": {
     "elapsed": 6,
     "status": "ok",
     "timestamp": 1692022726330,
     "user": {
      "displayName": "Carlos Alberto Vaquera Araujo",
      "userId": "08698010318067463324"
     },
     "user_tz": 360
    },
    "id": "3pEvHDWE-57h"
   },
   "outputs": [],
   "source": [
    "x=r*sp.sin(theta)\n",
    "z=r*sp.cos(theta)"
   ]
  },
  {
   "cell_type": "markdown",
   "metadata": {
    "id": "YAT9jZ8F_PHe"
   },
   "source": [
    "Holonomic constriction"
   ]
  },
  {
   "cell_type": "code",
   "execution_count": 21,
   "metadata": {
    "executionInfo": {
     "elapsed": 7,
     "status": "ok",
     "timestamp": 1692022726331,
     "user": {
      "displayName": "Carlos Alberto Vaquera Araujo",
      "userId": "08698010318067463324"
     },
     "user_tz": 360
    },
    "id": "AtQ1BbM-_MaM"
   },
   "outputs": [],
   "source": [
    "f=R-r"
   ]
  },
  {
   "cell_type": "markdown",
   "metadata": {
    "id": "ufABghr7_YKG"
   },
   "source": [
    "Kinetic Energy"
   ]
  },
  {
   "cell_type": "code",
   "execution_count": 22,
   "metadata": {
    "colab": {
     "base_uri": "https://localhost:8080/",
     "height": 66
    },
    "executionInfo": {
     "elapsed": 488,
     "status": "ok",
     "timestamp": 1692022726813,
     "user": {
      "displayName": "Carlos Alberto Vaquera Araujo",
      "userId": "08698010318067463324"
     },
     "user_tz": 360
    },
    "id": "JKI8Cgda_WN8",
    "outputId": "dfda0052-2b91-49e8-9ada-296fc86021ea"
   },
   "outputs": [
    {
     "data": {
      "text/latex": [
       "$\\displaystyle \\frac{m \\left(r^{2}{\\left(t \\right)} \\left(\\frac{d}{d t} \\theta{\\left(t \\right)}\\right)^{2} + \\left(\\frac{d}{d t} r{\\left(t \\right)}\\right)^{2}\\right)}{2}$"
      ],
      "text/plain": [
       "m*(r(t)**2*Derivative(theta(t), t)**2 + Derivative(r(t), t)**2)/2"
      ]
     },
     "execution_count": 22,
     "metadata": {},
     "output_type": "execute_result"
    }
   ],
   "source": [
    "T=sp.Rational(1,2)*m*(x.diff(t)**2+z.diff(t)**2)\n",
    "T.simplify()"
   ]
  },
  {
   "cell_type": "markdown",
   "metadata": {
    "id": "NbXy-SB8_qkg"
   },
   "source": [
    "Potential Energy"
   ]
  },
  {
   "cell_type": "code",
   "execution_count": 23,
   "metadata": {
    "colab": {
     "base_uri": "https://localhost:8080/",
     "height": 39
    },
    "executionInfo": {
     "elapsed": 43,
     "status": "ok",
     "timestamp": 1692022726817,
     "user": {
      "displayName": "Carlos Alberto Vaquera Araujo",
      "userId": "08698010318067463324"
     },
     "user_tz": 360
    },
    "id": "4gQU0u_H_kxZ",
    "outputId": "8d8b3cd2-6da9-4ed3-8b78-30cd98474836"
   },
   "outputs": [
    {
     "data": {
      "text/latex": [
       "$\\displaystyle g m r{\\left(t \\right)} \\cos{\\left(\\theta{\\left(t \\right)} \\right)}$"
      ],
      "text/plain": [
       "g*m*r(t)*cos(theta(t))"
      ]
     },
     "execution_count": 23,
     "metadata": {},
     "output_type": "execute_result"
    }
   ],
   "source": [
    "U=m*g*z\n",
    "U.simplify()"
   ]
  },
  {
   "cell_type": "markdown",
   "metadata": {
    "id": "ernViTME_zOf"
   },
   "source": [
    "Lagrangian"
   ]
  },
  {
   "cell_type": "code",
   "execution_count": 24,
   "metadata": {
    "colab": {
     "base_uri": "https://localhost:8080/",
     "height": 66
    },
    "executionInfo": {
     "elapsed": 956,
     "status": "ok",
     "timestamp": 1692022727732,
     "user": {
      "displayName": "Carlos Alberto Vaquera Araujo",
      "userId": "08698010318067463324"
     },
     "user_tz": 360
    },
    "id": "VAR-IFwn_xS0",
    "outputId": "9997bffa-7b77-4ef4-f4e6-6f2b3a7f2c09"
   },
   "outputs": [
    {
     "data": {
      "text/latex": [
       "$\\displaystyle \\frac{m \\left(- 2 g r{\\left(t \\right)} \\cos{\\left(\\theta{\\left(t \\right)} \\right)} + r^{2}{\\left(t \\right)} \\left(\\frac{d}{d t} \\theta{\\left(t \\right)}\\right)^{2} + \\left(\\frac{d}{d t} r{\\left(t \\right)}\\right)^{2}\\right)}{2}$"
      ],
      "text/plain": [
       "m*(-2*g*r(t)*cos(theta(t)) + r(t)**2*Derivative(theta(t), t)**2 + Derivative(r(t), t)**2)/2"
      ]
     },
     "execution_count": 24,
     "metadata": {},
     "output_type": "execute_result"
    }
   ],
   "source": [
    "Lag=T-U\n",
    "Lag.simplify()"
   ]
  },
  {
   "cell_type": "markdown",
   "metadata": {
    "id": "BUKbvrAKAI1a"
   },
   "source": [
    "Equations of motion modified by the lagrange multiplier"
   ]
  },
  {
   "cell_type": "code",
   "execution_count": 25,
   "metadata": {
    "executionInfo": {
     "elapsed": 3,
     "status": "ok",
     "timestamp": 1692022727733,
     "user": {
      "displayName": "Carlos Alberto Vaquera Araujo",
      "userId": "08698010318067463324"
     },
     "user_tz": 360
    },
    "id": "-dMV7CZU_3ZW"
   },
   "outputs": [],
   "source": [
    "def EOM_mult(L,q,constraint, multiplier):\n",
    "  # This function finds the Euler Lagrange equations of L w.r.t q in the presence of one holonomic constraint\n",
    "  u=sp.diff(L,q)\n",
    "  v=sp.diff(L,sp.diff(q,t))\n",
    "  w=sp.diff(v,t)\n",
    "  h=sp.diff(constraint,q)\n",
    "  return sp.simplify(w-u+multiplier*h)"
   ]
  },
  {
   "cell_type": "code",
   "execution_count": 26,
   "metadata": {
    "colab": {
     "base_uri": "https://localhost:8080/",
     "height": 58
    },
    "executionInfo": {
     "elapsed": 689,
     "status": "ok",
     "timestamp": 1692022728419,
     "user": {
      "displayName": "Carlos Alberto Vaquera Araujo",
      "userId": "08698010318067463324"
     },
     "user_tz": 360
    },
    "id": "9hLxPWUTA1Gv",
    "outputId": "b0c94c25-4d30-4f66-b3c7-0e0318eff02f"
   },
   "outputs": [
    {
     "data": {
      "text/latex": [
       "$\\displaystyle m \\left(- g \\sin{\\left(\\theta{\\left(t \\right)} \\right)} + r{\\left(t \\right)} \\frac{d^{2}}{d t^{2}} \\theta{\\left(t \\right)} + 2 \\frac{d}{d t} r{\\left(t \\right)} \\frac{d}{d t} \\theta{\\left(t \\right)}\\right) r{\\left(t \\right)}$"
      ],
      "text/plain": [
       "m*(-g*sin(theta(t)) + r(t)*Derivative(theta(t), (t, 2)) + 2*Derivative(r(t), t)*Derivative(theta(t), t))*r(t)"
      ]
     },
     "execution_count": 26,
     "metadata": {},
     "output_type": "execute_result"
    }
   ],
   "source": [
    "EOM1=EOM_mult(Lag,theta,f, lamda)\n",
    "EOM1"
   ]
  },
  {
   "cell_type": "code",
   "execution_count": 27,
   "metadata": {
    "colab": {
     "base_uri": "https://localhost:8080/",
     "height": 61
    },
    "executionInfo": {
     "elapsed": 772,
     "status": "ok",
     "timestamp": 1692022729189,
     "user": {
      "displayName": "Carlos Alberto Vaquera Araujo",
      "userId": "08698010318067463324"
     },
     "user_tz": 360
    },
    "id": "rPM-HJffA7nH",
    "outputId": "015e3603-e62b-4204-b02b-b3bb60a49a7b"
   },
   "outputs": [
    {
     "data": {
      "text/latex": [
       "$\\displaystyle g m \\cos{\\left(\\theta{\\left(t \\right)} \\right)} - m r{\\left(t \\right)} \\left(\\frac{d}{d t} \\theta{\\left(t \\right)}\\right)^{2} + m \\frac{d^{2}}{d t^{2}} r{\\left(t \\right)} - \\lambda{\\left(\\theta{\\left(t \\right)} \\right)}$"
      ],
      "text/plain": [
       "g*m*cos(theta(t)) - m*r(t)*Derivative(theta(t), t)**2 + m*Derivative(r(t), (t, 2)) - lamda(theta(t))"
      ]
     },
     "execution_count": 27,
     "metadata": {},
     "output_type": "execute_result"
    }
   ],
   "source": [
    "EOM2=EOM_mult(Lag,r,f, lamda)\n",
    "EOM2"
   ]
  },
  {
   "cell_type": "markdown",
   "metadata": {
    "id": "DEB1-Zx4Z6IH"
   },
   "source": [
    "Solving the Constraint"
   ]
  },
  {
   "cell_type": "code",
   "execution_count": 29,
   "metadata": {
    "colab": {
     "base_uri": "https://localhost:8080/",
     "height": 39
    },
    "executionInfo": {
     "elapsed": 3705,
     "status": "ok",
     "timestamp": 1692022770213,
     "user": {
      "displayName": "Carlos Alberto Vaquera Araujo",
      "userId": "08698010318067463324"
     },
     "user_tz": 360
    },
    "id": "1T4AlLWNBRMt",
    "outputId": "d64125b1-32f7-437e-ae93-dd39cf1da85b"
   },
   "outputs": [
    {
     "data": {
      "text/latex": [
       "$\\displaystyle R$"
      ],
      "text/plain": [
       "R"
      ]
     },
     "execution_count": 29,
     "metadata": {},
     "output_type": "execute_result"
    }
   ],
   "source": [
    "sp.solve(sp.Eq(f,0),r)[0]"
   ]
  },
  {
   "cell_type": "code",
   "execution_count": 30,
   "metadata": {
    "executionInfo": {
     "elapsed": 6048,
     "status": "ok",
     "timestamp": 1692022783837,
     "user": {
      "displayName": "Carlos Alberto Vaquera Araujo",
      "userId": "08698010318067463324"
     },
     "user_tz": 360
    },
    "id": "MZjxwys5aKWf"
   },
   "outputs": [],
   "source": [
    "sol=[(r,R)]"
   ]
  },
  {
   "cell_type": "markdown",
   "metadata": {
    "id": "MN_OrEqeazol"
   },
   "source": [
    "Substituting the Constrain solution into the Equations of motion"
   ]
  },
  {
   "cell_type": "code",
   "execution_count": 35,
   "metadata": {
    "colab": {
     "base_uri": "https://localhost:8080/",
     "height": 58
    },
    "executionInfo": {
     "elapsed": 362,
     "status": "ok",
     "timestamp": 1692022902783,
     "user": {
      "displayName": "Carlos Alberto Vaquera Araujo",
      "userId": "08698010318067463324"
     },
     "user_tz": 360
    },
    "id": "vx0nI7oDap6K",
    "outputId": "9201e273-af54-4ef3-dbd0-87c252b05e21"
   },
   "outputs": [
    {
     "data": {
      "text/latex": [
       "$\\displaystyle R m \\left(R \\frac{d^{2}}{d t^{2}} \\theta{\\left(t \\right)} - g \\sin{\\left(\\theta{\\left(t \\right)} \\right)}\\right)$"
      ],
      "text/plain": [
       "R*m*(R*Derivative(theta(t), (t, 2)) - g*sin(theta(t)))"
      ]
     },
     "execution_count": 35,
     "metadata": {},
     "output_type": "execute_result"
    }
   ],
   "source": [
    "EOM1s=(EOM1.subs(sol)).simplify()\n",
    "EOM1s"
   ]
  },
  {
   "cell_type": "code",
   "execution_count": 37,
   "metadata": {
    "colab": {
     "base_uri": "https://localhost:8080/",
     "height": 61
    },
    "executionInfo": {
     "elapsed": 570,
     "status": "ok",
     "timestamp": 1692022931608,
     "user": {
      "displayName": "Carlos Alberto Vaquera Araujo",
      "userId": "08698010318067463324"
     },
     "user_tz": 360
    },
    "id": "PsjfIHzoavSj",
    "outputId": "10a154ec-84ac-4adb-cf5b-9def92a5b4c5"
   },
   "outputs": [
    {
     "data": {
      "text/latex": [
       "$\\displaystyle - R m \\left(\\frac{d}{d t} \\theta{\\left(t \\right)}\\right)^{2} + g m \\cos{\\left(\\theta{\\left(t \\right)} \\right)} - \\lambda{\\left(\\theta{\\left(t \\right)} \\right)}$"
      ],
      "text/plain": [
       "-R*m*Derivative(theta(t), t)**2 + g*m*cos(theta(t)) - lamda(theta(t))"
      ]
     },
     "execution_count": 37,
     "metadata": {},
     "output_type": "execute_result"
    }
   ],
   "source": [
    "EOM2s=(EOM2.subs(sol)).simplify()\n",
    "EOM2s"
   ]
  },
  {
   "cell_type": "markdown",
   "metadata": {
    "id": "QHvrs2lvcLW4"
   },
   "source": [
    "From the first equation, we eliminate $\\ddot{\\theta}$"
   ]
  },
  {
   "cell_type": "code",
   "execution_count": 40,
   "metadata": {
    "colab": {
     "base_uri": "https://localhost:8080/",
     "height": 53
    },
    "executionInfo": {
     "elapsed": 980,
     "status": "ok",
     "timestamp": 1692023237291,
     "user": {
      "displayName": "Carlos Alberto Vaquera Araujo",
      "userId": "08698010318067463324"
     },
     "user_tz": 360
    },
    "id": "gIz_pcy4a8ZZ",
    "outputId": "b35f8a42-543a-4414-a7ff-0b668084b1fd"
   },
   "outputs": [
    {
     "data": {
      "text/latex": [
       "$\\displaystyle \\frac{g \\sin{\\left(\\theta{\\left(t \\right)} \\right)}}{R}$"
      ],
      "text/plain": [
       "g*sin(theta(t))/R"
      ]
     },
     "execution_count": 40,
     "metadata": {},
     "output_type": "execute_result"
    }
   ],
   "source": [
    "ddot_theta=sp.solve(sp.Eq(EOM1s,0),theta.diff(t,2))[0]\n",
    "ddot_theta"
   ]
  },
  {
   "cell_type": "markdown",
   "metadata": {
    "id": "opNQYM3kcfBV"
   },
   "source": [
    "Substituting $\\ddot{\\theta}$ into the time derivative of the second equation of motion"
   ]
  },
  {
   "cell_type": "code",
   "execution_count": 43,
   "metadata": {
    "colab": {
     "base_uri": "https://localhost:8080/",
     "height": 58
    },
    "executionInfo": {
     "elapsed": 925,
     "status": "ok",
     "timestamp": 1692023379968,
     "user": {
      "displayName": "Carlos Alberto Vaquera Araujo",
      "userId": "08698010318067463324"
     },
     "user_tz": 360
    },
    "id": "G7-ZjWewbgpN",
    "outputId": "c940ebf7-f772-4d3f-8392-05f875f2476f"
   },
   "outputs": [
    {
     "data": {
      "text/latex": [
       "$\\displaystyle - \\left(3 g m \\sin{\\left(\\theta{\\left(t \\right)} \\right)} + \\frac{d}{d \\theta{\\left(t \\right)}} \\lambda{\\left(\\theta{\\left(t \\right)} \\right)}\\right) \\frac{d}{d t} \\theta{\\left(t \\right)}$"
      ],
      "text/plain": [
       "-(3*g*m*sin(theta(t)) + Derivative(lamda(theta(t)), theta(t)))*Derivative(theta(t), t)"
      ]
     },
     "execution_count": 43,
     "metadata": {},
     "output_type": "execute_result"
    }
   ],
   "source": [
    "((EOM2s.diff(t)).subs(theta.diff(t,2),ddot_theta)).simplify()"
   ]
  },
  {
   "cell_type": "markdown",
   "metadata": {
    "id": "ntlcIREMdAQw"
   },
   "source": [
    "Solving the resulting differential equation"
   ]
  },
  {
   "cell_type": "code",
   "execution_count": 44,
   "metadata": {
    "executionInfo": {
     "elapsed": 1163,
     "status": "ok",
     "timestamp": 1692023442231,
     "user": {
      "displayName": "Carlos Alberto Vaquera Araujo",
      "userId": "08698010318067463324"
     },
     "user_tz": 360
    },
    "id": "QdRuUCxGdGKj"
   },
   "outputs": [],
   "source": [
    "x=sp.symbols('x')"
   ]
  },
  {
   "cell_type": "code",
   "execution_count": 45,
   "metadata": {
    "colab": {
     "base_uri": "https://localhost:8080/",
     "height": 39
    },
    "executionInfo": {
     "elapsed": 900,
     "status": "ok",
     "timestamp": 1692023533562,
     "user": {
      "displayName": "Carlos Alberto Vaquera Araujo",
      "userId": "08698010318067463324"
     },
     "user_tz": 360
    },
    "id": "r0rSzPtgdHX8",
    "outputId": "c6f64f13-4f62-417e-eeb4-302a735f5263"
   },
   "outputs": [
    {
     "data": {
      "text/latex": [
       "$\\displaystyle 3 g m \\cos{\\left(x \\right)}$"
      ],
      "text/plain": [
       "3*g*m*cos(x)"
      ]
     },
     "execution_count": 45,
     "metadata": {},
     "output_type": "execute_result"
    }
   ],
   "source": [
    "sp.integrate(-3*m*g*sp.sin(x),x)"
   ]
  },
  {
   "cell_type": "code",
   "execution_count": 47,
   "metadata": {
    "executionInfo": {
     "elapsed": 1290,
     "status": "ok",
     "timestamp": 1692023587939,
     "user": {
      "displayName": "Carlos Alberto Vaquera Araujo",
      "userId": "08698010318067463324"
     },
     "user_tz": 360
    },
    "id": "pHaCxgh-dib3"
   },
   "outputs": [],
   "source": [
    "C=sp.symbols('C')\n",
    "sol_lambda=3*g*m*sp.cos(theta)+C"
   ]
  },
  {
   "cell_type": "markdown",
   "metadata": {
    "id": "tZkGHl-2d2LS"
   },
   "source": [
    "Solving the Equations of motion with initial conditions $\\theta(0)=0$ and $\\dot{\\theta}(0)=0$"
   ]
  },
  {
   "cell_type": "code",
   "execution_count": 51,
   "metadata": {
    "colab": {
     "base_uri": "https://localhost:8080/",
     "height": 39
    },
    "executionInfo": {
     "elapsed": 7,
     "status": "ok",
     "timestamp": 1692023975296,
     "user": {
      "displayName": "Carlos Alberto Vaquera Araujo",
      "userId": "08698010318067463324"
     },
     "user_tz": 360
    },
    "id": "inFaCYa9d_oL",
    "outputId": "7004bfbe-2f89-47e0-951f-bea8c182e9a3"
   },
   "outputs": [
    {
     "data": {
      "text/latex": [
       "$\\displaystyle - C - 2 g m$"
      ],
      "text/plain": [
       "-C - 2*g*m"
      ]
     },
     "execution_count": 51,
     "metadata": {},
     "output_type": "execute_result"
    }
   ],
   "source": [
    "EOM2s.subs([(lamda,sol_lambda)]).subs([(theta.diff(t),0),(theta,0)])"
   ]
  },
  {
   "cell_type": "code",
   "execution_count": 53,
   "metadata": {
    "colab": {
     "base_uri": "https://localhost:8080/",
     "height": 39
    },
    "executionInfo": {
     "elapsed": 1024,
     "status": "ok",
     "timestamp": 1692024071648,
     "user": {
      "displayName": "Carlos Alberto Vaquera Araujo",
      "userId": "08698010318067463324"
     },
     "user_tz": 360
    },
    "id": "u1vhil6HeN0U",
    "outputId": "9114696d-3a72-49b1-b474-006d711d96b5"
   },
   "outputs": [
    {
     "data": {
      "text/latex": [
       "$\\displaystyle 3 g m \\cos{\\left(\\theta{\\left(t \\right)} \\right)} - 2 g m$"
      ],
      "text/plain": [
       "3*g*m*cos(theta(t)) - 2*g*m"
      ]
     },
     "execution_count": 53,
     "metadata": {},
     "output_type": "execute_result"
    }
   ],
   "source": [
    "sol_lambda_C=sol_lambda.subs([(C,-2*g*m)])\n",
    "sol_lambda_C"
   ]
  }
 ],
 "metadata": {
  "colab": {
   "authorship_tag": "ABX9TyPOgLUGIwF0CeTbEbGW8Mu1",
   "provenance": []
  },
  "kernelspec": {
   "display_name": "Python 3 (ipykernel)",
   "language": "python",
   "name": "python3"
  },
  "language_info": {
   "codemirror_mode": {
    "name": "ipython",
    "version": 3
   },
   "file_extension": ".py",
   "mimetype": "text/x-python",
   "name": "python",
   "nbconvert_exporter": "python",
   "pygments_lexer": "ipython3",
   "version": "3.9.7"
  }
 },
 "nbformat": 4,
 "nbformat_minor": 1
}
