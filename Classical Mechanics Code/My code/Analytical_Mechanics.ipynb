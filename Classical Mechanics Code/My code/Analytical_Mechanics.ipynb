{
 "cells": [
  {
   "cell_type": "markdown",
   "id": "a44e0246",
   "metadata": {},
   "source": [
    "# Analytical mechanics\n",
    "\n",
    "This is a small library dedicated to generate some general functions wich will aid in the resolution of classical mechanical problems at a graduate level, employing the Lagrangian formalism to do so. \n"
   ]
  },
  {
   "cell_type": "code",
   "execution_count": 9,
   "id": "362fc5ad",
   "metadata": {},
   "outputs": [],
   "source": [
    "import sympy as sp\n",
    "import sympy.physics.mechanics as mech\n",
    "mech.init_vprinting()\n",
    "from IPython.display import display,Math,Latex"
   ]
  },
  {
   "cell_type": "markdown",
   "id": "425613ca",
   "metadata": {},
   "source": [
    "# General parameters "
   ]
  },
  {
   "cell_type": "code",
   "execution_count": 10,
   "id": "69cbfb04",
   "metadata": {},
   "outputs": [],
   "source": [
    "# Some general parameters definitions\n",
    "\n",
    "# Time parameter definition\n",
    "def time ():\n",
    "\n",
    "    return sp.Symbol('t', positive=True);\n",
    "\n",
    "# Point mass of a particle with a label\n",
    "def mass (i):\n",
    "    \n",
    "    if (i==None):\n",
    "        return sp.Symbol(\"m\", positive=True);\n",
    "    \n",
    "    else:\n",
    "        return sp.Symbol(\"m_\"+str(i), positive=True);\n",
    "\n",
    "# Gravitational acceleration constant\n",
    "def grav():\n",
    "\n",
    "    return sp.Symbol('g',positive=True); # g is always positive because it represents the mangitude of the gravitational acceleration"
   ]
  },
  {
   "cell_type": "code",
   "execution_count": 11,
   "id": "7fb4323c",
   "metadata": {},
   "outputs": [],
   "source": [
    "# Inner product function between two vectors. It will be useful in the computation of the potential energy. \n",
    "\n",
    "def inner_prod (a,b):\n",
    "    \n",
    "    if (len(a)!=len(b)):\n",
    "        print(\"Vector dimensions do not match. Inner product not possible!\");\n",
    "        return None;\n",
    "    \n",
    "    s=0;\n",
    "    \n",
    "    for i in range (0,len(a)):\n",
    "        s=s+a[i]*b[i];\n",
    "        \n",
    "    return s;"
   ]
  },
  {
   "cell_type": "markdown",
   "id": "d3d60e52",
   "metadata": {},
   "source": [
    "# Coordinate systems\n",
    "The following functions returns two arguments, an array containing the coordinates of the system and an array emulating the position vector written in a cartesian basis. $\\textbf{IMPORTANT}$: these functions only transform the $x,y,z$ components of the position vector, $not$ the cartesian basis vectors, so the returned position vector is still written in a cartesian basis."
   ]
  },
  {
   "cell_type": "code",
   "execution_count": 12,
   "id": "c92fbf71",
   "metadata": {},
   "outputs": [],
   "source": [
    "def cartesian():\n",
    "    x=sp.Function(\"x\")(time());\n",
    "    y=sp.Function(\"y\")(time());\n",
    "    z=sp.Function(\"z\")(time());\n",
    "    \n",
    "    coord=[x,y,z];\n",
    "    p=[x,y,z];\n",
    "    \n",
    "    return coord,p;"
   ]
  },
  {
   "cell_type": "code",
   "execution_count": 13,
   "id": "4ec2b405",
   "metadata": {},
   "outputs": [],
   "source": [
    "def polar():\n",
    "    r=sp.Function(\"r\")(time());\n",
    "    theta=sp.Function(\"theta\")(time());\n",
    "    \n",
    "    coord=[r,theta];\n",
    "    p=[r*sp.cos(theta),r*sp.sin(theta)];\n",
    "    \n",
    "    return coord,p;"
   ]
  },
  {
   "cell_type": "code",
   "execution_count": 14,
   "id": "67b8977d",
   "metadata": {},
   "outputs": [],
   "source": [
    "def cylindrical(angle):\n",
    "    r=sp.Function(\"r\")(time());\n",
    "    angle=sp.Function(angle)(time());\n",
    "    z=sp.Function(\"z\")(time());\n",
    "    \n",
    "    coord=[r,angle,z];\n",
    "    p=[r*sp.cos(angle),r*sp.sin(angle),z];\n",
    "    \n",
    "    return coord,p;"
   ]
  },
  {
   "cell_type": "code",
   "execution_count": 15,
   "id": "c749d5fe",
   "metadata": {},
   "outputs": [],
   "source": [
    "# theta is the polar angle, defined to be the figure measured from the z axis to the x-y plane.\n",
    "# phi is the azimuthal angle, defined to be the figure measured from de x axis to the y axis in the x-y plane\n",
    "def spherical():\n",
    "    r=sp.Function(\"r\")(time());\n",
    "    theta=sp.Function(\"theta\")(time());\n",
    "    phi=sp.Function(\"phi\")(time());\n",
    "    \n",
    "    coord=[r,theta,phi];\n",
    "    p=[r*sp.sin(theta)*sp.cos(phi),r*sp.sin(theta)*sp.sin(phi),r*sp.cos(theta)];\n",
    "    \n",
    "    return coord,p;"
   ]
  },
  {
   "cell_type": "markdown",
   "id": "68a348f6",
   "metadata": {},
   "source": [
    "# Vector analysis functions & theorems\n",
    "This section provides some vector analysis operations. $\\textbf{CAUTION}$: all the functions assume and underlying cartesian basis for the vectors involved. The argument $coord$ is placed so that in future implementations the vector operators can be applied in curvilinear coordinates."
   ]
  },
  {
   "cell_type": "code",
   "execution_count": 16,
   "id": "b08ddef4",
   "metadata": {},
   "outputs": [],
   "source": [
    "# Divergence function\n",
    "def div(x,coord):\n",
    "    D=0;\n",
    "    for i in range (0,len(x),1):\n",
    "        D=D+sp.diff(x[i],coord[i]);\n",
    "    return D.simplify();"
   ]
  },
  {
   "cell_type": "code",
   "execution_count": 17,
   "id": "3ad6ce02",
   "metadata": {},
   "outputs": [],
   "source": [
    "# Levi-Civita pseudo tensor function\n",
    "def Levi_Civita(i,j,k):\n",
    "    if (i==j or i==k or j==k):\n",
    "        return 0;\n",
    "    elif (i==0 and j==1 and k==2):\n",
    "        return 1;\n",
    "    \n",
    "    elif (i==0 and j==2 and k==1):\n",
    "        return -1;\n",
    "    \n",
    "    elif (i==1 and j==0 and k==2):\n",
    "        return -1;\n",
    "    \n",
    "    elif (i==1 and j==2 and k==0):\n",
    "        return 1;\n",
    "    \n",
    "    elif (i==2 and j==1 and k==0):\n",
    "        return -1;\n",
    "    \n",
    "    elif (i==2 and j==0 and k==1):\n",
    "        return 1;\n",
    "    else:\n",
    "        return 0;"
   ]
  },
  {
   "cell_type": "code",
   "execution_count": 18,
   "id": "b4fbfdf9",
   "metadata": {},
   "outputs": [],
   "source": [
    "# Cross product function\n",
    "def cross (a,b):\n",
    "    c=[];\n",
    "    S=0;\n",
    "    \n",
    "    for i in range(0,len(a),1):\n",
    "        for j in range(0,len(a),1):\n",
    "            for k in range(0,len(a),1):\n",
    "                S=S+Levi_Civita(i,j,k)*a[j]*b[k];\n",
    "        if (type(S)!=int or type(S)!=float):\n",
    "            S.simplify();\n",
    "        c.append(S);\n",
    "        S=0;\n",
    "    \n",
    "    return c;"
   ]
  },
  {
   "cell_type": "code",
   "execution_count": 19,
   "id": "f9cec95a",
   "metadata": {},
   "outputs": [],
   "source": [
    "# Rotational function\n",
    "def rot(x,coord):\n",
    "    Rot=[];\n",
    "    S=0;\n",
    "    \n",
    "    for i in range(0,len(x),1):\n",
    "        for j in range(0,len(x),1):\n",
    "            for k in range(0,len(x),1):\n",
    "                S=S+Levi_Civita(i,j,k)*sp.diff(x[k],coord[j]);\n",
    "        S.simplify();\n",
    "        Rot.append(S);\n",
    "        S=0;\n",
    "    \n",
    "    return Rot;"
   ]
  },
  {
   "cell_type": "code",
   "execution_count": 20,
   "id": "5180010d",
   "metadata": {},
   "outputs": [],
   "source": [
    "# Gradient function\n",
    "def grad(f,coord):\n",
    "    g=[];\n",
    "    \n",
    "    for i in coord:\n",
    "        g.append(sp.diff(f,i));\n",
    "    \n",
    "    return g;"
   ]
  },
  {
   "cell_type": "code",
   "execution_count": 21,
   "id": "52560fd4",
   "metadata": {},
   "outputs": [],
   "source": [
    "# Euler's homogeneous function theorem for the kinetick energy (the variables are the generalized velocities)\n",
    "def Hom_func_thrm (f,q,k):\n",
    "    s=0;\n",
    "    t=time();\n",
    "    \n",
    "    for i in q:\n",
    "        s=s+sp.diff(i,t)*sp.diff(f,sp.diff(i,t));\n",
    "    \n",
    "    if (k*f==s):\n",
    "        print(\"f is homogeneous of degree\",k);\n",
    "        return True;\n",
    "    \n",
    "    else:\n",
    "        print(\"f is not homogeneous of degree\",k);\n",
    "        return s;"
   ]
  },
  {
   "cell_type": "code",
   "execution_count": null,
   "id": "73f88b88",
   "metadata": {},
   "outputs": [],
   "source": []
  },
  {
   "cell_type": "code",
   "execution_count": null,
   "id": "3eaaf33e",
   "metadata": {},
   "outputs": [],
   "source": []
  },
  {
   "cell_type": "markdown",
   "id": "93ca0b60",
   "metadata": {},
   "source": [
    "# Kinetic energy, potential  energy & energy function of a system\n",
    "\n",
    "In this section kinetic and potential energies are defined, under the assumption that they are applied to the center of mass of a rigid body (or a single particle in the simplest case), denoted by $M$. The kinetic energy is then defined as the sum of its $\\textit{translational}$ kinetic energy and its $\\textit{rotational}$ kinetic energy.\n",
    "\n",
    "$T := \\frac{1}{2} M|\\dot{\\overrightarrow{x}}| +\\frac{1}{2}I\\omega^2$, $T=T(\\overrightarrow{x},\\dot{\\overrightarrow{x}},\\overrightarrow{\\omega},t)$\n",
    "\n",
    "whereas the potential energy is defined as \n",
    "\n",
    "$U:=-\\overrightarrow{F}\\cdot\\overrightarrow{x}$, $U=U(\\overrightarrow{x},t)$\n",
    "\n",
    "where $\\overrightarrow{F}$ is the force on the particle due to an external $\\textit{uniform}$ field."
   ]
  },
  {
   "cell_type": "code",
   "execution_count": 22,
   "id": "45f4280c",
   "metadata": {},
   "outputs": [],
   "source": [
    "# Kinetic energy function. The i argument is the label attached to a point mass\n",
    "\n",
    "def T (x, I, ang, i):\n",
    "    #This function assumes x is the position vector in cartesian coordinates.\n",
    "    \n",
    "    t=time();\n",
    "    m=mass(i);\n",
    "    \n",
    "    v=0;\n",
    "    \n",
    "    for i in x:\n",
    "        v=v+sp.simplify(sp.diff(i,t)**2);\n",
    "        \n",
    "    return sp.simplify(m/2*v+I/2*sp.diff(ang,t)**2);"
   ]
  },
  {
   "cell_type": "code",
   "execution_count": 23,
   "id": "78443680",
   "metadata": {},
   "outputs": [],
   "source": [
    "# Potential energy function. \n",
    "def U (x,F,Uext): \n",
    "                        \n",
    "    t=time();\n",
    "\n",
    "    return -inner_prod(F,x)+Uext;"
   ]
  },
  {
   "cell_type": "code",
   "execution_count": 24,
   "id": "d00f85d8",
   "metadata": {},
   "outputs": [],
   "source": [
    "# Energy function\n",
    "def Energy(L,q):\n",
    "    e=0;\n",
    "    t=time();\n",
    "    \n",
    "    for i in q:\n",
    "        e=sp.simplify(e+sp.diff(i,t)*sp.diff(L,sp.diff(i,t)));\n",
    "\n",
    "    return e-L"
   ]
  },
  {
   "cell_type": "markdown",
   "id": "d4e527a1",
   "metadata": {},
   "source": [
    "# Lagrangian, generalized coordinates and equations of motion (EOM)"
   ]
  },
  {
   "cell_type": "code",
   "execution_count": 25,
   "id": "3c1f8a9d",
   "metadata": {},
   "outputs": [],
   "source": [
    "#Lagrangian function definition.\n",
    "\n",
    "def L (system):\n",
    "    t=time();\n",
    "    #m=mass();\n",
    "    \n",
    "    x=system[0];\n",
    "    i=system[1]\n",
    "    F=system[2];\n",
    "    Uext=system[3];\n",
    "    I=system[4];\n",
    "    ang=system[5];\n",
    "        \n",
    "    return T(x, I, ang, i)-U(x,F,Uext);"
   ]
  },
  {
   "cell_type": "code",
   "execution_count": 26,
   "id": "8f4eeac1",
   "metadata": {},
   "outputs": [],
   "source": [
    "# Function that calculates the equations of motion. Lambda and f are vectors whose components are the Lagrangian multipliers\n",
    "# and their respective holonomic restrictions. \n",
    "\n",
    "def EOM (L,q, Lambda, f):\n",
    "    \n",
    "    t=time();\n",
    "    \n",
    "    LagEq=[];\n",
    "    const=0;\n",
    "    \n",
    "    for i in range (0,len(q),1):\n",
    "        for j in range (0,len(Lambda),1):\n",
    "            const=const+Lambda[j]*sp.diff(f[j],q[i]);\n",
    "            \n",
    "        Eq=sp.diff(sp.diff(L,sp.diff(q[i],t)),t)-sp.diff(L,q[i])-const;\n",
    "        sp.simplify(Eq);\n",
    "        LagEq.append(Eq);\n",
    "        const=0;\n",
    "    return LagEq; "
   ]
  },
  {
   "cell_type": "markdown",
   "id": "e3faf59b",
   "metadata": {},
   "source": [
    "# Generalized momenta and generalized forces"
   ]
  },
  {
   "cell_type": "code",
   "execution_count": 27,
   "id": "72a333b3",
   "metadata": {},
   "outputs": [],
   "source": [
    "# Function that computes the generalized momenta w.r.t to a generalized coordinate\n",
    "def gen_p (L,q):\n",
    "    P=[];\n",
    "    t=time();\n",
    "    \n",
    "    for i in q:\n",
    "        P.append(sp.diff(L,sp.diff(i,t)));\n",
    "    \n",
    "    return P;"
   ]
  },
  {
   "cell_type": "code",
   "execution_count": 28,
   "id": "da65bfdf",
   "metadata": {},
   "outputs": [],
   "source": [
    "# Generalized force function\n",
    "def gen_Q(P):\n",
    "    f=[];\n",
    "    t=time()\n",
    "    \n",
    "    for i in P:\n",
    "        f.append(sp.simplify(sp.diff(i,t)));\n",
    "    \n",
    "    return f;"
   ]
  },
  {
   "cell_type": "markdown",
   "id": "b38b64e6",
   "metadata": {},
   "source": [
    "# Hamiltonian mechanics"
   ]
  },
  {
   "cell_type": "code",
   "execution_count": 29,
   "id": "3b679d40",
   "metadata": {},
   "outputs": [],
   "source": [
    "# Poisson brackets function\n",
    "def poisson_bracket (f,g,q,p):\n",
    "    s=0;\n",
    "    \n",
    "    for i in range (0,len(q),1):\n",
    "        s=s+sp.diff(f,q[i])*sp.diff(g,p[i])-sp.diff(f,p[i])*sp.diff(g,q[i]);\n",
    "    \n",
    "    return s;"
   ]
  },
  {
   "cell_type": "code",
   "execution_count": 30,
   "id": "b07581c7",
   "metadata": {},
   "outputs": [],
   "source": [
    "# Hamiltonian function. It returns the Hamiltonian as a Legendre transform of the set of generalized velocities as well as\n",
    "# an array of the generalized momenta from which each generalized velocity must be solved as a funcition of the generalized\n",
    "# coordinates, momenta and time.\n",
    "\n",
    "def H(q,t,L):\n",
    "    \n",
    "    t=time();\n",
    "    s=0;\n",
    "    \n",
    "    P=[];\n",
    "    \n",
    "    for i in q:\n",
    "        q_i_dot=sp.diff(i,t); # Generalized velocity\n",
    "        p_i=sp.diff(L,q_i_dot); # Generalized momenta\n",
    "        P.append(p_i) # Array of generalized momenta\n",
    "        \n",
    "        s=s+q_i_dot*p_i;\n",
    "        \n",
    "    return [s-L,P];"
   ]
  },
  {
   "cell_type": "code",
   "execution_count": 31,
   "id": "20b2d593",
   "metadata": {},
   "outputs": [],
   "source": [
    "# Function to compute the canonical equations for the Hamiltonian as a function of generalized coordinates, generalized momenta\n",
    "# and time.\n",
    "def can_eqs (H,q,p):\n",
    "    \n",
    "    t=time();\n",
    "    \n",
    "    q_dot=[];\n",
    "    p_dot=[];\n",
    "    \n",
    "    for i in range (0,len(q),1):\n",
    "        q_dot.append(sp.diff(H,p[i]));\n",
    "        p_dot.append(-sp.diff(H,q[i]));\n",
    "        \n",
    "    return [q_dot,p_dot,-sp.diff(H,t)]; "
   ]
  },
  {
   "cell_type": "code",
   "execution_count": null,
   "id": "3b17886a",
   "metadata": {},
   "outputs": [],
   "source": []
  },
  {
   "cell_type": "code",
   "execution_count": null,
   "id": "438630d2",
   "metadata": {},
   "outputs": [],
   "source": []
  },
  {
   "cell_type": "code",
   "execution_count": null,
   "id": "8fc76d5c",
   "metadata": {},
   "outputs": [],
   "source": []
  },
  {
   "cell_type": "code",
   "execution_count": null,
   "id": "d4f1f089",
   "metadata": {},
   "outputs": [],
   "source": []
  },
  {
   "cell_type": "code",
   "execution_count": null,
   "id": "3c2b6cc8",
   "metadata": {},
   "outputs": [],
   "source": []
  }
 ],
 "metadata": {
  "kernelspec": {
   "display_name": "Python 3 (ipykernel)",
   "language": "python",
   "name": "python3"
  },
  "language_info": {
   "codemirror_mode": {
    "name": "ipython",
    "version": 3
   },
   "file_extension": ".py",
   "mimetype": "text/x-python",
   "name": "python",
   "nbconvert_exporter": "python",
   "pygments_lexer": "ipython3",
   "version": "3.9.7"
  }
 },
 "nbformat": 4,
 "nbformat_minor": 5
}
