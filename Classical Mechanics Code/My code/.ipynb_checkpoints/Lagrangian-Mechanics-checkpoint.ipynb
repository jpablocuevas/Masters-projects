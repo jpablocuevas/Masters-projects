{
 "cells": [
  {
   "cell_type": "markdown",
   "id": "d24a956d",
   "metadata": {},
   "source": [
    "# Lagrangian mechanics\n",
    "\n",
    "This is a small library dedicated to generate some general functions wich will aid in the resolution of classical mechanical problems at a graduate level, employing the Lagrangian formalism to do so. "
   ]
  },
  {
   "cell_type": "code",
   "execution_count": 1,
   "id": "665e3844",
   "metadata": {},
   "outputs": [],
   "source": [
    "from sympy import *\n",
    "import sympy.physics.mechanics as mech\n",
    "mech.init_vprinting()\n",
    "from IPython.display import display,Math,Latex"
   ]
  },
  {
   "cell_type": "markdown",
   "id": "5147c9ed",
   "metadata": {},
   "source": [
    "# Coordinate transformations"
   ]
  },
  {
   "cell_type": "markdown",
   "id": "f149da5d",
   "metadata": {},
   "source": [
    "This function takes as an input a cartesian position vector and transforms its components into other coordinate systems. This function does NOT transform the cartesian basis vectors into other basis, because in the Lagrangian formalism only the NORM of the velociti vector is relevant to compute de Lagrangian. "
   ]
  },
  {
   "cell_type": "code",
   "execution_count": 3,
   "id": "72c7c264",
   "metadata": {},
   "outputs": [],
   "source": [
    "# Time parameter definition\n",
    "\n",
    "t=Symbol('t', positive=True);"
   ]
  },
  {
   "cell_type": "code",
   "execution_count": 8,
   "id": "80ab3832",
   "metadata": {},
   "outputs": [],
   "source": [
    "def coord (system):\n",
    "    \n",
    "    global t;\n",
    "    r=Function('r',positive=True)(t);\n",
    "    phi=Function('phi')(t);\n",
    "\n",
    "    if (system==\"polar\"):\n",
    "        theta=Function('theta')(t);\n",
    "\n",
    "        coord=[r,theta];\n",
    "        x=[r*cos(theta),r*sin(theta)];\n",
    "\n",
    "        return coord, x;\n",
    "    \n",
    "    elif(system==\"cylindrical\"):\n",
    "        r=Function('r',positive=True)(t);\n",
    "        z=Function('z')(t);\n",
    "\n",
    "        coord=[r,phi,z];\n",
    "        x=[r*cos(phi),r*sin(phi),z];\n",
    "\n",
    "        return coord,x;\n",
    "    \n",
    "    elif (system==\"spherical\"):\n",
    "        theta=Function('theta',positive=True)(t);\n",
    "        \n",
    "        coord=[r,theta,phi];\n",
    "        x=[r*sin(theta)*cos(phi),r*sin(theta)*sin(phi),r*cos(theta)];\n",
    "        \n",
    "        return coord,x; "
   ]
  },
  {
   "cell_type": "code",
   "execution_count": 11,
   "id": "c8427b57",
   "metadata": {},
   "outputs": [
    {
     "data": {
      "image/png": "[encoded data removed]",
      "text/latex": [
       "$\\displaystyle \\left[ r{\\left(t \\right)}, \\  \\theta{\\left(t \\right)}, \\  \\phi{\\left(t \\right)}\\right]$"
      ],
      "text/plain": [
       "[r(t), θ(t), φ(t)]"
      ]
     },
     "execution_count": 11,
     "metadata": {},
     "output_type": "execute_result"
    }
   ],
   "source": [
    "coord(\"spherical\")[0]"
   ]
  },
  {
   "cell_type": "code",
   "execution_count": null,
   "id": "20bdb112",
   "metadata": {},
   "outputs": [],
   "source": []
  },
  {
   "cell_type": "code",
   "execution_count": null,
   "id": "45f4280c",
   "metadata": {},
   "outputs": [],
   "source": []
  },
  {
   "cell_type": "code",
   "execution_count": null,
   "id": "78443680",
   "metadata": {},
   "outputs": [],
   "source": []
  },
  {
   "cell_type": "code",
   "execution_count": null,
   "id": "ebd14368",
   "metadata": {},
   "outputs": [],
   "source": []
  },
  {
   "cell_type": "code",
   "execution_count": null,
   "id": "f7ec71f3",
   "metadata": {},
   "outputs": [],
   "source": []
  },
  {
   "cell_type": "code",
   "execution_count": null,
   "id": "67e354ca",
   "metadata": {},
   "outputs": [],
   "source": []
  },
  {
   "cell_type": "code",
   "execution_count": null,
   "id": "89e5ecf1",
   "metadata": {},
   "outputs": [],
   "source": []
  }
 ],
 "metadata": {
  "kernelspec": {
   "display_name": "Python 3 (ipykernel)",
   "language": "python",
   "name": "python3"
  },
  "language_info": {
   "codemirror_mode": {
    "name": "ipython",
    "version": 3
   },
   "file_extension": ".py",
   "mimetype": "text/x-python",
   "name": "python",
   "nbconvert_exporter": "python",
   "pygments_lexer": "ipython3",
   "version": "3.9.7"
  }
 },
 "nbformat": 4,
 "nbformat_minor": 5
}
