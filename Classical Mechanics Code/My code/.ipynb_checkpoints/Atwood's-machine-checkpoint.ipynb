{
 "cells": [
  {
   "cell_type": "markdown",
   "id": "dc3e5792",
   "metadata": {},
   "source": [
    "# Atwood's machine"
   ]
  },
  {
   "cell_type": "code",
   "execution_count": 8,
   "id": "aaa6e8c1",
   "metadata": {},
   "outputs": [
    {
     "ename": "SyntaxError",
     "evalue": "invalid syntax (Temp/ipykernel_6268/826394626.py, line 2)",
     "output_type": "error",
     "traceback": [
      "\u001b[1;36m  File \u001b[1;32m\"C:\\Users\\Pablo\\AppData\\Local\\Temp/ipykernel_6268/826394626.py\"\u001b[1;36m, line \u001b[1;32m2\u001b[0m\n\u001b[1;33m    import Lagrangian-Mechanics\u001b[0m\n\u001b[1;37m                     ^\u001b[0m\n\u001b[1;31mSyntaxError\u001b[0m\u001b[1;31m:\u001b[0m invalid syntax\n"
     ]
    }
   ],
   "source": [
    "from sympy import *\n",
    "import Lagrangian-Mechanics"
   ]
  },
  {
   "cell_type": "code",
   "execution_count": null,
   "id": "1902d711",
   "metadata": {},
   "outputs": [],
   "source": []
  },
  {
   "cell_type": "code",
   "execution_count": null,
   "id": "8394ee98",
   "metadata": {},
   "outputs": [],
   "source": []
  },
  {
   "cell_type": "code",
   "execution_count": null,
   "id": "c597f0a8",
   "metadata": {},
   "outputs": [],
   "source": []
  },
  {
   "cell_type": "code",
   "execution_count": null,
   "id": "595a3b8b",
   "metadata": {},
   "outputs": [],
   "source": []
  }
 ],
 "metadata": {
  "kernelspec": {
   "display_name": "Python 3 (ipykernel)",
   "language": "python",
   "name": "python3"
  },
  "language_info": {
   "codemirror_mode": {
    "name": "ipython",
    "version": 3
   },
   "file_extension": ".py",
   "mimetype": "text/x-python",
   "name": "python",
   "nbconvert_exporter": "python",
   "pygments_lexer": "ipython3",
   "version": "3.9.7"
  }
 },
 "nbformat": 4,
 "nbformat_minor": 5
}
