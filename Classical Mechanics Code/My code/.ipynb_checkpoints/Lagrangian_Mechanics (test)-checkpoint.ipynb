{
 "cells": [
  {
   "cell_type": "markdown",
   "id": "d24a956d",
   "metadata": {},
   "source": [
    "# Lagrangian mechanics\n",
    "\n",
    "This is a small library dedicated to generate some general functions wich will aid in the resolution of classical mechanical problems at a graduate level, employing the Lagrangian formalism to do so. "
   ]
  },
  {
   "cell_type": "code",
   "execution_count": 7,
   "id": "665e3844",
   "metadata": {},
   "outputs": [],
   "source": [
    "import sympy as sp\n",
    "import sympy.physics.mechanics as mech\n",
    "mech.init_vprinting()\n",
    "from IPython.display import display,Math,Latex"
   ]
  },
  {
   "cell_type": "markdown",
   "id": "5147c9ed",
   "metadata": {},
   "source": [
    "# Coordinate transformations"
   ]
  },
  {
   "cell_type": "code",
   "execution_count": 41,
   "id": "5ca93b6c",
   "metadata": {},
   "outputs": [],
   "source": [
    "# Norm of a vector \n",
    "\n",
    "def norm (x):\n",
    "    s=0;\n",
    "    for i in x:\n",
    "        s=s+simplify(i,positive=True)**2;\n",
    "    \n",
    "    return simplify(sqrt(s),positive=True);"
   ]
  },
  {
   "cell_type": "code",
   "execution_count": 42,
   "id": "72c7c264",
   "metadata": {},
   "outputs": [],
   "source": [
    "# Time parameter definition\n",
    "\n",
    "def time ():\n",
    "\n",
    "    return Symbol('t', positive=True);"
   ]
  },
  {
   "cell_type": "code",
   "execution_count": 57,
   "id": "ca2a12df",
   "metadata": {},
   "outputs": [],
   "source": [
    "t=time();"
   ]
  },
  {
   "cell_type": "code",
   "execution_count": 72,
   "id": "80ab3832",
   "metadata": {},
   "outputs": [],
   "source": [
    "# In this function, cartesian coordinates are (x1, x2, x3) = (x, y, z)\n",
    "def coordinates (system):\n",
    "    \n",
    "    t=time();\n",
    "    r=Function('r',positive=True)(t);\n",
    "    phi=Function('phi')(t);\n",
    "    x3=Function('x3')(t);\n",
    "\n",
    "    if (system==\"polar\"):\n",
    "        theta=Function('theta')(t);\n",
    "\n",
    "        coord=[r,theta];\n",
    "        x=[r*cos(theta),r*sin(theta)];\n",
    "\n",
    "        return coord, x;\n",
    "    \n",
    "    elif(system==\"cylindrical\"):\n",
    "        r=Function('r',positive=True)(t);\n",
    "\n",
    "        coord=[r,phi,x3];\n",
    "        x=[r*cos(phi),r*sin(phi),x3];\n",
    "\n",
    "        return coord,x;\n",
    "    \n",
    "    elif (system==\"spherical\"):\n",
    "        theta=Function('theta',positive=True)(t);\n",
    "        \n",
    "        coord=[r,theta,phi];\n",
    "        x=[r*sin(theta)*cos(phi),r*sin(theta)*sin(phi),r*cos(theta)];\n",
    "    else:\n",
    "        x1=Function(\"x1\")(t);\n",
    "        x2=Function(\"x2\")(t);\n",
    "        \n",
    "        coord=[x1,x2,x3];\n",
    "        x=coord;\n",
    "        \n",
    "    return coord,x; "
   ]
  },
  {
   "cell_type": "code",
   "execution_count": 73,
   "id": "78e3ab60",
   "metadata": {},
   "outputs": [
    {
     "data": {
      "image/png": "[encoded data removed]",
      "text/latex": [
       "$\\displaystyle \\left( \\left[ r{\\left(t \\right)}, \\  \\theta{\\left(t \\right)}, \\  \\phi{\\left(t \\right)}\\right], \\  \\left[ r{\\left(t \\right)} \\sin{\\left(\\theta{\\left(t \\right)} \\right)} \\cos{\\left(\\phi{\\left(t \\right)} \\right)}, \\  r{\\left(t \\right)} \\sin{\\left(\\phi{\\left(t \\right)} \\right)} \\sin{\\left(\\theta{\\left(t \\right)} \\right)}, \\  r{\\left(t \\right)} \\cos{\\left(\\theta{\\left(t \\right)} \\right)}\\right]\\right)$"
      ],
      "text/plain": [
       "([r(t), θ(t), φ(t)], [r(t)⋅sin(θ(t))⋅cos(φ(t)), r(t)⋅sin(φ(t))⋅sin(θ(t)), r(t)\n",
       "⋅cos(θ(t))])"
      ]
     },
     "execution_count": 73,
     "metadata": {},
     "output_type": "execute_result"
    }
   ],
   "source": [
    "coordinates(\"spherical\")"
   ]
  },
  {
   "cell_type": "markdown",
   "id": "9c18fc63",
   "metadata": {},
   "source": [
    "# Contravariant basis vectors"
   ]
  },
  {
   "cell_type": "markdown",
   "id": "db0c807a",
   "metadata": {},
   "source": [
    "Given a point $P$ in a smooth manifold, a contravariant basis vector is defined as \n",
    "\n",
    "$\\hat{e}_{i}:=\\frac{1}{h_i}\\frac{\\partial \\overrightarrow{x}}{\\partial q^i}$ (no sum over $i$)\n",
    "\n",
    "where $\\overrightarrow{x}$ is the position vector of the point relative to a Cartesian origin $\\mathcal{O}$, and $h_i$ is the Lamé coefficient (scale factor) of the $q_i$ curvilinear coordinate, defined as $h_i:= \\left|\\frac{\\partial \\overrightarrow{x}}{\\partial q^i}\\right|$"
   ]
  },
  {
   "cell_type": "code",
   "execution_count": 71,
   "id": "ff2b759d",
   "metadata": {},
   "outputs": [],
   "source": [
    "# This function returns a curvilinear basis system where each term is written as a linear combination of the standard cartesian\n",
    "# basis in R^3\n",
    "def curvbasis (system):\n",
    "    \n",
    "    coord=coordinates(system)[0];\n",
    "    x=coordinates(system)[1]; \n",
    "    \n",
    "    curvbas=[];\n",
    "    lame=[];\n",
    "    for i in range (0,len(coord),1):\n",
    "        vect=[];\n",
    "        h=0;\n",
    "        \n",
    "        for j in range (0,len(x),1):\n",
    "            vect.append(diff(x[j],coord[i]));\n",
    "            \n",
    "            \n",
    "        h=norm(vect)\n",
    "        h=h.replace(Abs,Id);\n",
    "        \n",
    "        for j in range(0,len(vect),1):\n",
    "            vect[j]=vect[j]/h;\n",
    "\n",
    "        curvbas.append(vect);\n",
    "    \n",
    "    return curvbas;"
   ]
  },
  {
   "cell_type": "code",
   "execution_count": 208,
   "id": "d2f83c3d",
   "metadata": {},
   "outputs": [],
   "source": [
    "# Function that returns the position vector in different coordinate systems\n",
    "\n",
    "def position (system):\n",
    "    \n",
    "    coord=coordinates(system)[0];\n",
    "    x=coordinates(system)[1];\n",
    "    \n",
    "    if (system==\"polar\"):\n",
    "        e_r = Function (\"e_r\")(coord[0], coord[1],t);\n",
    "        e_theta = Function (\"e_theta\")(coord[0], coord[1],t);\n",
    "        \n",
    "        curv=Matrix([[e_r],[e_theta]]);\n",
    "        \n",
    "    elif (system==\"cartesian\"):\n",
    "        e_x1, e_x2, e_x3 = symbols (\"e_x1, e_x2, e_x3\");\n",
    "        \n",
    "        curv=Matrix([[e_x1],[e_x2],[e_x3]]);\n",
    "        \n",
    "    else:\n",
    "        e_r = Function (\"e_r\")(coord[0], coord[1], coord[2], t);\n",
    "        e_theta = Function (\"e_theta\")(coord[0], coord[1], coord[2], t); \n",
    "        e_phi = Function (\"e_phi\")(coord[0], coord[1], coord[2], t);\n",
    "        \n",
    "        curv=Matrix([[e_r],[e_theta],[e_phi]]);\n",
    "\n",
    "    \n",
    "    # Bulding a matrix whose rows are the curvilinear basis vector components in terms \n",
    "    # of the standard cartesian basis\n",
    "    \n",
    "    matrixbasis=Matrix(curvbasis(system));\n",
    "    \n",
    "    # Then the inverse of said matrix is found, i.e., the cartesian basis vectors \n",
    "    # are now written in terms of the curvilinear basis\n",
    "    \n",
    "    matrixbasis=simplify(matrixbasis.inv());\n",
    "    \n",
    "    # Forming the matrix product between the change of basis matrix and the curvlinear basis vectors packed in \n",
    "    # a 3x1 matrix.\n",
    "    \n",
    "    matrixbasis=matrixbasis*curv\n",
    "    \n",
    "    # Computing the position vector\n",
    "    posvec=0;\n",
    "    \n",
    "    for i in range (0,len(coord)):\n",
    "        posvec=simplify(posvec+x[i]*matrixbasis[i]);\n",
    "    \n",
    "    return posvec;"
   ]
  },
  {
   "cell_type": "code",
   "execution_count": 210,
   "id": "52e31158",
   "metadata": {},
   "outputs": [
    {
     "data": {
      "image/png": "[encoded data removed]",
      "text/latex": [
       "$\\displaystyle \\operatorname{e_{r}}{\\left(r{\\left(t \\right)},\\theta{\\left(t \\right)},\\phi{\\left(t \\right)},t \\right)} r{\\left(t \\right)}$"
      ],
      "text/plain": [
       "eᵣ(r(t), θ(t), φ(t), t)⋅r(t)"
      ]
     },
     "execution_count": 210,
     "metadata": {},
     "output_type": "execute_result"
    }
   ],
   "source": [
    "position(\"spherical\")"
   ]
  },
  {
   "cell_type": "code",
   "execution_count": 212,
   "id": "c3761e02",
   "metadata": {},
   "outputs": [],
   "source": [
    "def velocity (x):\n",
    "    return diff(x,t);"
   ]
  },
  {
   "cell_type": "code",
   "execution_count": 213,
   "id": "d3cf0b90",
   "metadata": {},
   "outputs": [
    {
     "data": {
      "text/latex": [
       "$\\displaystyle \\left(\\frac{d}{d \\phi{\\left(t \\right)}} \\operatorname{e_{r}}{\\left(r{\\left(t \\right)},\\theta{\\left(t \\right)},\\phi{\\left(t \\right)},t \\right)} \\frac{d}{d t} \\phi{\\left(t \\right)} + \\frac{d}{d r{\\left(t \\right)}} \\operatorname{e_{r}}{\\left(r{\\left(t \\right)},\\theta{\\left(t \\right)},\\phi{\\left(t \\right)},t \\right)} \\frac{d}{d t} r{\\left(t \\right)} + \\frac{d}{d \\theta{\\left(t \\right)}} \\operatorname{e_{r}}{\\left(r{\\left(t \\right)},\\theta{\\left(t \\right)},\\phi{\\left(t \\right)},t \\right)} \\frac{d}{d t} \\theta{\\left(t \\right)} + \\left. \\frac{\\partial}{\\partial \\xi_{4}} \\operatorname{e_{r}}{\\left(r{\\left(t \\right)},\\theta{\\left(t \\right)},\\phi{\\left(t \\right)},\\xi_{4} \\right)} \\right|_{\\substack{ \\xi_{4}=t }}\\right) r{\\left(t \\right)} + \\operatorname{e_{r}}{\\left(r{\\left(t \\right)},\\theta{\\left(t \\right)},\\phi{\\left(t \\right)},t \\right)} \\frac{d}{d t} r{\\left(t \\right)}$"
      ],
      "text/plain": [
       "⎛  d                            d            d                            d   \n",
       "⎜─────(eᵣ(r(t), θ(t), φ(t), t))⋅──(φ(t)) + ─────(eᵣ(r(t), θ(t), φ(t), t))⋅──(r\n",
       "⎝dφ(t)                          dt         dr(t)                          dt  \n",
       "\n",
       "         d                            d          ⎛ ∂                          \n",
       "(t)) + ─────(eᵣ(r(t), θ(t), φ(t), t))⋅──(θ(t)) + ⎜───(eᵣ(r(t), θ(t), φ(t), ξ₄)\n",
       "       dθ(t)                          dt         ⎝∂ξ₄                         \n",
       "\n",
       " ⎞│    ⎞                                d       \n",
       ")⎟│    ⎟⋅r(t) + eᵣ(r(t), θ(t), φ(t), t)⋅──(r(t))\n",
       " ⎠│ξ₄=t⎠                                dt      "
      ]
     },
     "execution_count": 213,
     "metadata": {},
     "output_type": "execute_result"
    }
   ],
   "source": [
    "velocity(position(\"spherical\"))"
   ]
  },
  {
   "cell_type": "code",
   "execution_count": null,
   "id": "18afaf7f",
   "metadata": {},
   "outputs": [],
   "source": []
  },
  {
   "cell_type": "code",
   "execution_count": null,
   "id": "00e840d5",
   "metadata": {},
   "outputs": [],
   "source": []
  },
  {
   "cell_type": "code",
   "execution_count": null,
   "id": "d57aa29c",
   "metadata": {},
   "outputs": [],
   "source": []
  },
  {
   "cell_type": "markdown",
   "id": "94747b23",
   "metadata": {},
   "source": [
    "# Kinetic and potential energies"
   ]
  },
  {
   "cell_type": "markdown",
   "id": "53485f02",
   "metadata": {},
   "source": [
    "In this section kinetic and potential energies are defined, under the assumption that they are applied to the center of mass of a rigid body, denoted by $M$. The kinetic energy is then defined as the sum of its $\\textit{translational}$ kinetic energy and its $\\textit{rotational}$ kinetic energy.\n",
    "\n",
    "$T := \\frac{1}{2} M|\\dot{\\overrightarrow{x}}| +\\frac{1}{2}I\\omega^2$, $T=T(\\overrightarrow{x},\\dot{\\overrightarrow{x}},\\overrightarrow{\\omega},t)$\n",
    "\n",
    "whereas the potential energy is defined as \n",
    "\n",
    "$U:=-\\overrightarrow{F}\\cdot\\overrightarrow{x}$, $U=U(\\overrightarrow{x},t)$\n",
    "\n",
    "where $\\overrightarrow{F}$ is the force on the particle due to an external $\\textit{uniform}$ field.\n",
    "\n"
   ]
  },
  {
   "cell_type": "code",
   "execution_count": 16,
   "id": "45f4280c",
   "metadata": {},
   "outputs": [],
   "source": [
    "# Kinetic energy \n",
    "\n",
    "def T (x, M, I=None, theta=None,t):\n",
    "    #This function assumes x is the position vector in cartesian coordinates\n",
    "    \n",
    "    t=time();\n",
    "\n",
    "    if (I==None):\n",
    "        I=0;\n",
    "    if (theta==None):\n",
    "        theta=0\n",
    "    \n",
    "    v=0;\n",
    "    \n",
    "    for i in x:\n",
    "        v=v+(diff(i,t))**2;\n",
    "   \n",
    "    omega=0;\n",
    "    \n",
    "    for i in theta:\n",
    "        omega=omega+diff(i,t)i**2;\n",
    "        \n",
    "    return M/2*v+I/2*omega;"
   ]
  },
  {
   "cell_type": "code",
   "execution_count": 19,
   "id": "78443680",
   "metadata": {},
   "outputs": [
    {
     "name": "stdout",
     "output_type": "stream",
     "text": [
      "12\n"
     ]
    }
   ],
   "source": [
    "# Potential energy \n",
    "\n",
    "def U (x,t,F):\n",
    "    t=time();"
   ]
  },
  {
   "cell_type": "code",
   "execution_count": null,
   "id": "ebd14368",
   "metadata": {},
   "outputs": [],
   "source": []
  },
  {
   "cell_type": "code",
   "execution_count": null,
   "id": "f7ec71f3",
   "metadata": {},
   "outputs": [],
   "source": []
  },
  {
   "cell_type": "code",
   "execution_count": null,
   "id": "67e354ca",
   "metadata": {},
   "outputs": [],
   "source": []
  },
  {
   "cell_type": "code",
   "execution_count": null,
   "id": "89e5ecf1",
   "metadata": {},
   "outputs": [],
   "source": []
  }
 ],
 "metadata": {
  "kernelspec": {
   "display_name": "Python 3 (ipykernel)",
   "language": "python",
   "name": "python3"
  },
  "language_info": {
   "codemirror_mode": {
    "name": "ipython",
    "version": 3
   },
   "file_extension": ".py",
   "mimetype": "text/x-python",
   "name": "python",
   "nbconvert_exporter": "python",
   "pygments_lexer": "ipython3",
   "version": "3.9.7"
  }
 },
 "nbformat": 4,
 "nbformat_minor": 5
}
