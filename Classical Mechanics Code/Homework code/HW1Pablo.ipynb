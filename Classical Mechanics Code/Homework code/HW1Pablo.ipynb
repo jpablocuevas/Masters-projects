{
 "cells": [
  {
   "cell_type": "markdown",
   "id": "a44e0246",
   "metadata": {},
   "source": [
    "# Homework 1\n",
    "\n",
    "# Classical Mechanics\n",
    "\n",
    "# José Pablo Cuevas Cázares\n"
   ]
  },
  {
   "cell_type": "code",
   "execution_count": 66,
   "id": "362fc5ad",
   "metadata": {},
   "outputs": [],
   "source": [
    "import sympy as sp\n",
    "import sympy.physics.mechanics as mech\n",
    "mech.init_vprinting()\n",
    "from IPython.display import display,Math,Latex"
   ]
  },
  {
   "cell_type": "code",
   "execution_count": 67,
   "id": "c26fdaea",
   "metadata": {},
   "outputs": [],
   "source": [
    "# time parameter definition.\n",
    "t=sp.Symbol(\"t\",positive=True);\n",
    "\n",
    "# Mass of the analyzed particle \n",
    "m=sp.Symbol(\"m\", positive=True);\n",
    "\n",
    "#Gravitational acceleration vector symbol\n",
    "g=sp.Symbol(\"g\");"
   ]
  },
  {
   "cell_type": "code",
   "execution_count": 68,
   "id": "7fb4323c",
   "metadata": {},
   "outputs": [],
   "source": [
    "# Inner product function between two vectors. It will be useful in the computation of the potential energy. \n",
    "\n",
    "def inner_prod (a,b):\n",
    "    \n",
    "    if (len(a)!=len(b)):\n",
    "        print(\"Vector dimensions do not match. Inner product not possible!\");\n",
    "        return None;\n",
    "    \n",
    "    s=0;\n",
    "    \n",
    "    for i in range (0,len(a)):\n",
    "        s=s+a[i]*b[i];\n",
    "        \n",
    "    return s;"
   ]
  },
  {
   "cell_type": "markdown",
   "id": "93ca0b60",
   "metadata": {},
   "source": [
    "# Kinetic and potential energy \n",
    "\n",
    "In this section kinetic and potential energies are defined, under the assumption that they are applied to the center of mass of a rigid body (or a single particle in the simplest case), denoted by $M$. The kinetic energy is then defined as the sum of its $\\textit{translational}$ kinetic energy and its $\\textit{rotational}$ kinetic energy.\n",
    "\n",
    "$T := \\frac{1}{2} M|\\dot{\\overrightarrow{x}}| +\\frac{1}{2}I\\omega^2$, $T=T(\\overrightarrow{x},\\dot{\\overrightarrow{x}},\\overrightarrow{\\omega},t)$\n",
    "\n",
    "whereas the potential energy is defined as \n",
    "\n",
    "$U:=-\\overrightarrow{F}\\cdot\\overrightarrow{x}$, $U=U(\\overrightarrow{x},t)$\n",
    "\n",
    "where $\\overrightarrow{F}$ is the force on the particle due to an external $\\textit{uniform}$ field."
   ]
  },
  {
   "cell_type": "code",
   "execution_count": 69,
   "id": "45f4280c",
   "metadata": {},
   "outputs": [],
   "source": [
    "# Kinetic energy function.\n",
    "\n",
    "def T (x, I, ang):\n",
    "    #This function assumes x is the position vector in cartesian coordinates.\n",
    "    \n",
    "    global t, m;\n",
    "    \n",
    "    v=0;\n",
    "    \n",
    "    for i in x:\n",
    "        v=v+sp.simplify(sp.diff(i,t)**2);\n",
    "        \n",
    "    return sp.simplify(m/2*v+I/2*sp.diff(ang,t)**2);"
   ]
  },
  {
   "cell_type": "code",
   "execution_count": 70,
   "id": "78443680",
   "metadata": {},
   "outputs": [],
   "source": [
    "# Potential energy function. \n",
    "def U (x,F,Uext): \n",
    "                        \n",
    "    global t;\n",
    "\n",
    "    return -inner_prod(F,x)+Uext;"
   ]
  },
  {
   "cell_type": "markdown",
   "id": "d4e527a1",
   "metadata": {},
   "source": [
    "# Lagrangian, generalized coordinates and equations of motion (EOM)"
   ]
  },
  {
   "cell_type": "code",
   "execution_count": 71,
   "id": "3c1f8a9d",
   "metadata": {},
   "outputs": [],
   "source": [
    "#Lagrangian function definition.\n",
    "\n",
    "def L (system):\n",
    "    global t,m;\n",
    "    \n",
    "    x=system[0];\n",
    "    F=system[1];\n",
    "    Uext=system[2];\n",
    "    I=system[3];\n",
    "    ang=system[4];\n",
    "        \n",
    "    return T(x, I, ang)-U(x,F,Uext);"
   ]
  },
  {
   "cell_type": "code",
   "execution_count": 72,
   "id": "8f4eeac1",
   "metadata": {},
   "outputs": [],
   "source": [
    "# Function that calculates the equations of motion. Lambda and f are vectors whose components are the Lagrangian multipliers\n",
    "# and their respective holonomic restrictions.\n",
    "\n",
    "def EOM (L,q, Lambda, f):\n",
    "    \n",
    "    global t;\n",
    "    \n",
    "    LagEq=[];\n",
    "    const=0;\n",
    "    \n",
    "    for i in range (0,len(q),1):\n",
    "        for j in range (0,len(Lambda),1):\n",
    "            const=const+Lambda[j]*sp.diff(f[j],q[i]);\n",
    "            \n",
    "        Eq=sp.diff(sp.diff(L,sp.diff(q[i],t)),t)-sp.diff(L,q[i])-const;\n",
    "        sp.simplify(Eq);\n",
    "        LagEq.append(Eq);\n",
    "        const=0;\n",
    "    return LagEq; "
   ]
  },
  {
   "cell_type": "markdown",
   "id": "2d1c2cd3",
   "metadata": {},
   "source": [
    "# Problem 1"
   ]
  },
  {
   "cell_type": "code",
   "execution_count": 73,
   "id": "b58abf87",
   "metadata": {},
   "outputs": [],
   "source": [
    "# Parameters for Problem 1\n",
    "l=sp.Symbol(\"l\");\n",
    "\n",
    "# Force field\n",
    "F1=[0,0,-m*g]; \n",
    "\n",
    "# Generalized coordinates\n",
    "theta=sp.Function(\"theta\")(t);\n",
    "phi=sp.Function(\"phi\")(t);\n",
    "\n",
    "q1=[theta,phi];\n",
    "\n",
    "#Position vector \n",
    "x1=[l*sp.sin(theta)*sp.cos(phi),l*sp.sin(theta)*sp.sin(phi),-l*sp.cos(theta)];\n",
    "\n",
    "system1=[x1,F1,0,0,0];"
   ]
  },
  {
   "cell_type": "code",
   "execution_count": 74,
   "id": "d0937e31",
   "metadata": {},
   "outputs": [
    {
     "data": {
      "image/png": "[encoded data removed]",
      "text/latex": [
       "$\\displaystyle g l m \\cos{\\left(\\theta{\\left(t \\right)} \\right)} + \\frac{l^{2} m \\left(\\sin^{2}{\\left(\\theta{\\left(t \\right)} \\right)} \\left(\\frac{d}{d t} \\phi{\\left(t \\right)}\\right)^{2} + \\left(\\frac{d}{d t} \\theta{\\left(t \\right)}\\right)^{2}\\right)}{2}$"
      ],
      "text/plain": [
       "                       ⎛                     2             2⎞\n",
       "                   2   ⎜   2       ⎛d       ⎞    ⎛d       ⎞ ⎟\n",
       "                  l ⋅m⋅⎜sin (θ(t))⋅⎜──(φ(t))⎟  + ⎜──(θ(t))⎟ ⎟\n",
       "                       ⎝           ⎝dt      ⎠    ⎝dt      ⎠ ⎠\n",
       "g⋅l⋅m⋅cos(θ(t)) + ───────────────────────────────────────────\n",
       "                                       2                     "
      ]
     },
     "execution_count": 74,
     "metadata": {},
     "output_type": "execute_result"
    }
   ],
   "source": [
    "Lag1=L(system1);\n",
    "Lag1"
   ]
  },
  {
   "cell_type": "code",
   "execution_count": 75,
   "id": "773b9daf",
   "metadata": {},
   "outputs": [
    {
     "data": {
      "text/plain": [
       "'g l m \\\\cos{\\\\left(\\\\theta{\\\\left(t \\\\right)} \\\\right)} + \\\\frac{l^{2} m \\\\left(\\\\sin^{2}{\\\\left(\\\\theta{\\\\left(t \\\\right)} \\\\right)} \\\\left(\\\\frac{d}{d t} \\\\phi{\\\\left(t \\\\right)}\\\\right)^{2} + \\\\left(\\\\frac{d}{d t} \\\\theta{\\\\left(t \\\\right)}\\\\right)^{2}\\\\right)}{2}'"
      ]
     },
     "execution_count": 75,
     "metadata": {},
     "output_type": "execute_result"
    }
   ],
   "source": [
    "sp.latex(Lag1)"
   ]
  },
  {
   "cell_type": "code",
   "execution_count": 76,
   "id": "7a6bf6eb",
   "metadata": {},
   "outputs": [],
   "source": [
    "EOM1=EOM(Lag1,q1,[],[]);"
   ]
  },
  {
   "cell_type": "code",
   "execution_count": 77,
   "id": "cde19d18",
   "metadata": {},
   "outputs": [
    {
     "data": {
      "image/png": "[encoded data removed]",
      "text/latex": [
       "$\\displaystyle l m \\left(g \\sin{\\left(\\theta{\\left(t \\right)} \\right)} - \\frac{l \\sin{\\left(2 \\theta{\\left(t \\right)} \\right)} \\left(\\frac{d}{d t} \\phi{\\left(t \\right)}\\right)^{2}}{2} + l \\frac{d^{2}}{d t^{2}} \\theta{\\left(t \\right)}\\right) = 0$"
      ],
      "text/plain": [
       "    ⎛                                      2              ⎞    \n",
       "    ⎜                            ⎛d       ⎞               ⎟    \n",
       "    ⎜              l⋅sin(2⋅θ(t))⋅⎜──(φ(t))⎟        2      ⎟    \n",
       "    ⎜                            ⎝dt      ⎠       d       ⎟    \n",
       "l⋅m⋅⎜g⋅sin(θ(t)) - ───────────────────────── + l⋅───(θ(t))⎟ = 0\n",
       "    ⎜                          2                   2      ⎟    \n",
       "    ⎝                                            dt       ⎠    "
      ]
     },
     "execution_count": 77,
     "metadata": {},
     "output_type": "execute_result"
    }
   ],
   "source": [
    "EOM1theta=EOM1[0]\n",
    "sp.simplify(sp.Eq(EOM1theta,0))"
   ]
  },
  {
   "cell_type": "code",
   "execution_count": 78,
   "id": "c600038d",
   "metadata": {},
   "outputs": [
    {
     "name": "stdout",
     "output_type": "stream",
     "text": [
      "g l m \\sin{\\left(\\theta{\\left(t \\right)} \\right)} - l^{2} m \\sin{\\left(\\theta{\\left(t \\right)} \\right)} \\cos{\\left(\\theta{\\left(t \\right)} \\right)} \\left(\\frac{d}{d t} \\phi{\\left(t \\right)}\\right)^{2} + l^{2} m \\frac{d^{2}}{d t^{2}} \\theta{\\left(t \\right)}\n"
     ]
    }
   ],
   "source": [
    "print(sp.latex(EOM1theta))"
   ]
  },
  {
   "cell_type": "code",
   "execution_count": 79,
   "id": "64f6e853",
   "metadata": {},
   "outputs": [
    {
     "data": {
      "image/png": "[encoded data removed]",
      "text/latex": [
       "$\\displaystyle l^{2} m \\sin^{2}{\\left(\\theta{\\left(t \\right)} \\right)} \\frac{d^{2}}{d t^{2}} \\phi{\\left(t \\right)} + 2 l^{2} m \\sin{\\left(\\theta{\\left(t \\right)} \\right)} \\cos{\\left(\\theta{\\left(t \\right)} \\right)} \\frac{d}{d t} \\phi{\\left(t \\right)} \\frac{d}{d t} \\theta{\\left(t \\right)}$"
      ],
      "text/plain": [
       "                  2                                                     \n",
       " 2      2        d             2                       d        d       \n",
       "l ⋅m⋅sin (θ(t))⋅───(φ(t)) + 2⋅l ⋅m⋅sin(θ(t))⋅cos(θ(t))⋅──(φ(t))⋅──(θ(t))\n",
       "                  2                                    dt       dt      \n",
       "                dt                                                      "
      ]
     },
     "execution_count": 79,
     "metadata": {},
     "output_type": "execute_result"
    }
   ],
   "source": [
    "EOM1phi=EOM1[1];\n",
    "#EOM1phi=sp.simplify(sp.Eq(EOM1phi,0));\n",
    "EOM1phi"
   ]
  },
  {
   "cell_type": "code",
   "execution_count": 80,
   "id": "7b27cbf3",
   "metadata": {},
   "outputs": [
    {
     "data": {
      "text/plain": [
       "'l^{2} m \\\\sin^{2}{\\\\left(\\\\theta{\\\\left(t \\\\right)} \\\\right)} \\\\frac{d^{2}}{d t^{2}} \\\\phi{\\\\left(t \\\\right)} + 2 l^{2} m \\\\sin{\\\\left(\\\\theta{\\\\left(t \\\\right)} \\\\right)} \\\\cos{\\\\left(\\\\theta{\\\\left(t \\\\right)} \\\\right)} \\\\frac{d}{d t} \\\\phi{\\\\left(t \\\\right)} \\\\frac{d}{d t} \\\\theta{\\\\left(t \\\\right)}'"
      ]
     },
     "execution_count": 80,
     "metadata": {},
     "output_type": "execute_result"
    }
   ],
   "source": [
    "sp.latex(EOM1phi)"
   ]
  },
  {
   "cell_type": "markdown",
   "id": "70900cff",
   "metadata": {},
   "source": [
    "# Problem 2"
   ]
  },
  {
   "cell_type": "code",
   "execution_count": 81,
   "id": "691c4e74",
   "metadata": {},
   "outputs": [],
   "source": [
    "# Parameters for Problem 2\n",
    "a, M, R, omega =sp.symbols(\"a, M, R, omega\");\n",
    "\n",
    "# Force field \n",
    "F2=[0,0,-m*g];\n",
    "\n",
    "#Generalized coordinates \n",
    "theta=sp.Function(\"theta\")(t);\n",
    "\n",
    "q2=[theta];\n",
    "\n",
    "# Position vector\n",
    "phi=sp.Function(\"phi\")(t);\n",
    "x2=[a*sp.sin(theta)*sp.sin(phi),a*sp.sin(theta)*sp.cos(phi),-a*sp.cos(theta)];\n",
    "\n",
    "# Moment of inertia of the hoop \n",
    "Ihoop=M*R**2/2;\n",
    "\n",
    "# Hoop's angle of rotation\n",
    "anghoop=sp.Function(\"psi\")(t);\n",
    "\n",
    "# System 2 vector\n",
    "system2=[x2,F2,0,Ihoop,anghoop];"
   ]
  },
  {
   "cell_type": "code",
   "execution_count": 82,
   "id": "4ce8920d",
   "metadata": {},
   "outputs": [
    {
     "data": {
      "image/png": "[encoded data removed]",
      "text/latex": [
       "$\\displaystyle \\frac{M R^{2} \\left(\\frac{d}{d t} \\psi{\\left(t \\right)}\\right)^{2}}{4} + \\frac{a^{2} m \\left(\\sin^{2}{\\left(\\theta{\\left(t \\right)} \\right)} \\left(\\frac{d}{d t} \\phi{\\left(t \\right)}\\right)^{2} + \\left(\\frac{d}{d t} \\theta{\\left(t \\right)}\\right)^{2}\\right)}{2} + a g m \\cos{\\left(\\theta{\\left(t \\right)} \\right)}$"
      ],
      "text/plain": [
       "               2        ⎛                     2             2⎞                \n",
       "   2 ⎛d       ⎞     2   ⎜   2       ⎛d       ⎞    ⎛d       ⎞ ⎟                \n",
       "M⋅R ⋅⎜──(ψ(t))⎟    a ⋅m⋅⎜sin (θ(t))⋅⎜──(φ(t))⎟  + ⎜──(θ(t))⎟ ⎟                \n",
       "     ⎝dt      ⎠         ⎝           ⎝dt      ⎠    ⎝dt      ⎠ ⎠                \n",
       "──────────────── + ─────────────────────────────────────────── + a⋅g⋅m⋅cos(θ(t\n",
       "       4                                2                                     \n",
       "\n",
       "  \n",
       "  \n",
       "  \n",
       "  \n",
       "))\n",
       "  "
      ]
     },
     "execution_count": 82,
     "metadata": {},
     "output_type": "execute_result"
    }
   ],
   "source": [
    "Lag2=L(system2);\n",
    "Lag2"
   ]
  },
  {
   "cell_type": "code",
   "execution_count": 83,
   "id": "1b47c082",
   "metadata": {},
   "outputs": [
    {
     "name": "stdout",
     "output_type": "stream",
     "text": [
      "\\frac{M R^{2} \\left(\\frac{d}{d t} \\psi{\\left(t \\right)}\\right)^{2}}{4} + \\frac{a^{2} m \\left(\\sin^{2}{\\left(\\theta{\\left(t \\right)} \\right)} \\left(\\frac{d}{d t} \\phi{\\left(t \\right)}\\right)^{2} + \\left(\\frac{d}{d t} \\theta{\\left(t \\right)}\\right)^{2}\\right)}{2} + a g m \\cos{\\left(\\theta{\\left(t \\right)} \\right)}\n"
     ]
    }
   ],
   "source": [
    "print(sp.latex(Lag2))"
   ]
  },
  {
   "cell_type": "code",
   "execution_count": 84,
   "id": "00a565b6",
   "metadata": {},
   "outputs": [
    {
     "data": {
      "image/png": "[encoded data removed]",
      "text/latex": [
       "$\\displaystyle \\frac{M R^{2} \\omega^{2}}{4} + \\frac{R^{2} m \\left(\\omega^{2} \\sin^{2}{\\left(\\theta{\\left(t \\right)} \\right)} + \\left(\\frac{d}{d t} \\theta{\\left(t \\right)}\\right)^{2}\\right)}{2} + R g m \\cos{\\left(\\theta{\\left(t \\right)} \\right)}$"
      ],
      "text/plain": [
       "               ⎛                          2⎞                  \n",
       "           2   ⎜ 2    2         ⎛d       ⎞ ⎟                  \n",
       "   2  2   R ⋅m⋅⎜ω ⋅sin (θ(t)) + ⎜──(θ(t))⎟ ⎟                  \n",
       "M⋅R ⋅ω         ⎝                ⎝dt      ⎠ ⎠                  \n",
       "─────── + ────────────────────────────────── + R⋅g⋅m⋅cos(θ(t))\n",
       "   4                      2                                   "
      ]
     },
     "execution_count": 84,
     "metadata": {},
     "output_type": "execute_result"
    }
   ],
   "source": [
    "# The constrains of the problem are that a=R and dphi_hoop/dt=dphi/dt=omega, so substituting them in the Lagrangian yields\n",
    "\n",
    "# Hoop's angular velocity variable\n",
    "omega=sp.Symbol(\"omega\");\n",
    "\n",
    "Lag2=Lag2.subs([(a,R),(sp.diff(phi,t),omega),(sp.diff(anghoop,t),omega)]);\n",
    "Lag2"
   ]
  },
  {
   "cell_type": "code",
   "execution_count": 85,
   "id": "8dd16fca",
   "metadata": {},
   "outputs": [
    {
     "name": "stdout",
     "output_type": "stream",
     "text": [
      "\\frac{M R^{2} \\omega^{2}}{4} + \\frac{R^{2} m \\left(\\omega^{2} \\sin^{2}{\\left(\\theta{\\left(t \\right)} \\right)} + \\left(\\frac{d}{d t} \\theta{\\left(t \\right)}\\right)^{2}\\right)}{2} + R g m \\cos{\\left(\\theta{\\left(t \\right)} \\right)}\n"
     ]
    }
   ],
   "source": [
    "print(sp.latex(Lag2))"
   ]
  },
  {
   "cell_type": "code",
   "execution_count": 86,
   "id": "76cb793c",
   "metadata": {},
   "outputs": [],
   "source": [
    "EOM2=EOM(Lag2,q2,[],[]);"
   ]
  },
  {
   "cell_type": "code",
   "execution_count": 87,
   "id": "d3cdc22b",
   "metadata": {},
   "outputs": [
    {
     "data": {
      "image/png": "[encoded data removed]",
      "text/latex": [
       "$\\displaystyle - R^{2} m \\omega^{2} \\sin{\\left(\\theta{\\left(t \\right)} \\right)} \\cos{\\left(\\theta{\\left(t \\right)} \\right)} + R^{2} m \\frac{d^{2}}{d t^{2}} \\theta{\\left(t \\right)} + R g m \\sin{\\left(\\theta{\\left(t \\right)} \\right)} = 0$"
      ],
      "text/plain": [
       "                                       2                            \n",
       "   2    2                        2    d                             \n",
       "- R ⋅m⋅ω ⋅sin(θ(t))⋅cos(θ(t)) + R ⋅m⋅───(θ(t)) + R⋅g⋅m⋅sin(θ(t)) = 0\n",
       "                                       2                            \n",
       "                                     dt                             "
      ]
     },
     "execution_count": 87,
     "metadata": {},
     "output_type": "execute_result"
    }
   ],
   "source": [
    "EOM2theta=EOM2[0];\n",
    "EOM2theta=sp.Eq(EOM2theta,0);\n",
    "EOM2theta"
   ]
  },
  {
   "cell_type": "code",
   "execution_count": 88,
   "id": "3e5629e7",
   "metadata": {},
   "outputs": [
    {
     "name": "stdout",
     "output_type": "stream",
     "text": [
      "- R^{2} m \\omega^{2} \\sin{\\left(\\theta{\\left(t \\right)} \\right)} \\cos{\\left(\\theta{\\left(t \\right)} \\right)} + R^{2} m \\frac{d^{2}}{d t^{2}} \\theta{\\left(t \\right)} + R g m \\sin{\\left(\\theta{\\left(t \\right)} \\right)} = 0\n"
     ]
    }
   ],
   "source": [
    "print(sp.latex(EOM2theta))"
   ]
  },
  {
   "cell_type": "markdown",
   "id": "ed9dee66",
   "metadata": {},
   "source": [
    "# Problem 3"
   ]
  },
  {
   "cell_type": "code",
   "execution_count": 89,
   "id": "9f3279a2",
   "metadata": {},
   "outputs": [],
   "source": [
    "# Parameters for Problem 3\n",
    "l_0, k = sp.symbols(\"l_0, k\");\n",
    "\n",
    "# External field\n",
    "F3=[0,-m*g];\n",
    "\n",
    "# Generalized coordinates \n",
    "theta=sp.Function(\"theta\")(t);\n",
    "r=sp.Function(\"r\")(t);\n",
    "\n",
    "q3=[r,theta];\n",
    "\n",
    "# Position vector\n",
    "x3=[r*sp.sin(theta),-r*sp.cos(theta)];\n",
    "\n",
    "# For a general spring, the potential is of the form U(x) = (1/2)kx^2, where x is understood to be the distance between\n",
    "# the equilibrium position and an arbitrary elongated point x. The \"external\" potential of the system is then \n",
    "\n",
    "Uext=sp.Rational(1/2)*k*(r-l_0)**2;\n",
    "\n",
    "# System 3 vector\n",
    "system3=[x3,F3,Uext,0,0];"
   ]
  },
  {
   "cell_type": "code",
   "execution_count": 90,
   "id": "e7dc303a",
   "metadata": {},
   "outputs": [
    {
     "data": {
      "image/png": "[encoded data removed]",
      "text/latex": [
       "$\\displaystyle g m r{\\left(t \\right)} \\cos{\\left(\\theta{\\left(t \\right)} \\right)} - \\frac{k \\left(- l_{0} + r{\\left(t \\right)}\\right)^{2}}{2} + \\frac{m \\left(r^{2}{\\left(t \\right)} \\left(\\frac{d}{d t} \\theta{\\left(t \\right)}\\right)^{2} + \\left(\\frac{d}{d t} r{\\left(t \\right)}\\right)^{2}\\right)}{2}$"
      ],
      "text/plain": [
       "                                         ⎛                2             2⎞\n",
       "                                         ⎜ 2    ⎛d       ⎞    ⎛d       ⎞ ⎟\n",
       "                                   2   m⋅⎜r (t)⋅⎜──(θ(t))⎟  + ⎜──(r(t))⎟ ⎟\n",
       "                     k⋅(-l₀ + r(t))      ⎝      ⎝dt      ⎠    ⎝dt      ⎠ ⎠\n",
       "g⋅m⋅r(t)⋅cos(θ(t)) - ─────────────── + ───────────────────────────────────\n",
       "                            2                           2                 "
      ]
     },
     "execution_count": 90,
     "metadata": {},
     "output_type": "execute_result"
    }
   ],
   "source": [
    "Lag3=L(system3);\n",
    "Lag3"
   ]
  },
  {
   "cell_type": "code",
   "execution_count": 91,
   "id": "3f8404d9",
   "metadata": {},
   "outputs": [
    {
     "data": {
      "text/plain": [
       "'g m r{\\\\left(t \\\\right)} \\\\cos{\\\\left(\\\\theta{\\\\left(t \\\\right)} \\\\right)} - \\\\frac{k \\\\left(- l_{0} + r{\\\\left(t \\\\right)}\\\\right)^{2}}{2} + \\\\frac{m \\\\left(r^{2}{\\\\left(t \\\\right)} \\\\left(\\\\frac{d}{d t} \\\\theta{\\\\left(t \\\\right)}\\\\right)^{2} + \\\\left(\\\\frac{d}{d t} r{\\\\left(t \\\\right)}\\\\right)^{2}\\\\right)}{2}'"
      ]
     },
     "execution_count": 91,
     "metadata": {},
     "output_type": "execute_result"
    }
   ],
   "source": [
    "sp.latex(Lag3)"
   ]
  },
  {
   "cell_type": "code",
   "execution_count": 92,
   "id": "1eeabff0",
   "metadata": {},
   "outputs": [],
   "source": [
    "EOM3=EOM(Lag3,q3,[],[]);"
   ]
  },
  {
   "cell_type": "code",
   "execution_count": 93,
   "id": "7e9ff9a5",
   "metadata": {},
   "outputs": [
    {
     "data": {
      "image/png": "[encoded data removed]",
      "text/latex": [
       "$\\displaystyle g m \\cos{\\left(\\theta{\\left(t \\right)} \\right)} + k \\left(l_{0} - r{\\left(t \\right)}\\right) + m r{\\left(t \\right)} \\left(\\frac{d}{d t} \\theta{\\left(t \\right)}\\right)^{2} - m \\frac{d^{2}}{d t^{2}} r{\\left(t \\right)} = 0$"
      ],
      "text/plain": [
       "                                                 2       2          \n",
       "                                       ⎛d       ⎞       d           \n",
       "g⋅m⋅cos(θ(t)) + k⋅(l₀ - r(t)) + m⋅r(t)⋅⎜──(θ(t))⎟  - m⋅───(r(t)) = 0\n",
       "                                       ⎝dt      ⎠        2          \n",
       "                                                       dt           "
      ]
     },
     "execution_count": 93,
     "metadata": {},
     "output_type": "execute_result"
    }
   ],
   "source": [
    "EOM3r=EOM3[0];\n",
    "EOM3r=sp.simplify(sp.Eq(EOM3r,0));\n",
    "EOM3r"
   ]
  },
  {
   "cell_type": "code",
   "execution_count": 94,
   "id": "a6c04132",
   "metadata": {},
   "outputs": [
    {
     "data": {
      "text/plain": [
       "'g m \\\\cos{\\\\left(\\\\theta{\\\\left(t \\\\right)} \\\\right)} + k \\\\left(l_{0} - r{\\\\left(t \\\\right)}\\\\right) + m r{\\\\left(t \\\\right)} \\\\left(\\\\frac{d}{d t} \\\\theta{\\\\left(t \\\\right)}\\\\right)^{2} - m \\\\frac{d^{2}}{d t^{2}} r{\\\\left(t \\\\right)} = 0'"
      ]
     },
     "execution_count": 94,
     "metadata": {},
     "output_type": "execute_result"
    }
   ],
   "source": [
    "sp.latex(EOM3r)"
   ]
  },
  {
   "cell_type": "code",
   "execution_count": 95,
   "id": "a588e386",
   "metadata": {},
   "outputs": [
    {
     "data": {
      "image/png": "[encoded data removed]",
      "text/latex": [
       "$\\displaystyle m \\left(g \\sin{\\left(\\theta{\\left(t \\right)} \\right)} + r{\\left(t \\right)} \\frac{d^{2}}{d t^{2}} \\theta{\\left(t \\right)} + 2 \\frac{d}{d t} r{\\left(t \\right)} \\frac{d}{d t} \\theta{\\left(t \\right)}\\right) r{\\left(t \\right)} = 0$"
      ],
      "text/plain": [
       "  ⎛                     2                            ⎞         \n",
       "  ⎜                    d            d        d       ⎟         \n",
       "m⋅⎜g⋅sin(θ(t)) + r(t)⋅───(θ(t)) + 2⋅──(r(t))⋅──(θ(t))⎟⋅r(t) = 0\n",
       "  ⎜                     2           dt       dt      ⎟         \n",
       "  ⎝                   dt                             ⎠         "
      ]
     },
     "execution_count": 95,
     "metadata": {},
     "output_type": "execute_result"
    }
   ],
   "source": [
    "EOM3theta=EOM3[1];\n",
    "EOM3theta=sp.simplify(sp.Eq(EOM3theta,0));\n",
    "EOM3theta"
   ]
  },
  {
   "cell_type": "code",
   "execution_count": 96,
   "id": "f4db2654",
   "metadata": {},
   "outputs": [
    {
     "data": {
      "text/plain": [
       "'m \\\\left(g \\\\sin{\\\\left(\\\\theta{\\\\left(t \\\\right)} \\\\right)} + r{\\\\left(t \\\\right)} \\\\frac{d^{2}}{d t^{2}} \\\\theta{\\\\left(t \\\\right)} + 2 \\\\frac{d}{d t} r{\\\\left(t \\\\right)} \\\\frac{d}{d t} \\\\theta{\\\\left(t \\\\right)}\\\\right) r{\\\\left(t \\\\right)} = 0'"
      ]
     },
     "execution_count": 96,
     "metadata": {},
     "output_type": "execute_result"
    }
   ],
   "source": [
    "sp.latex(EOM3theta)"
   ]
  },
  {
   "cell_type": "markdown",
   "id": "1b8d572e",
   "metadata": {},
   "source": [
    "# Problem 4"
   ]
  },
  {
   "cell_type": "code",
   "execution_count": 97,
   "id": "d887f29d",
   "metadata": {},
   "outputs": [],
   "source": [
    "# Problem 4 parameters\n",
    "s=sp.Function(\"s\")(t);\n",
    "\n",
    "# Force field \n",
    "F4=[0,-m*g];\n",
    "\n",
    "# Generalized coordinates \n",
    "theta=sp.Function(\"theta\")(t);\n",
    "\n",
    "q4=[theta];\n",
    "\n",
    "#Position vector \n",
    "x4=[s*sp.sin(theta), -s*sp.cos(theta)];\n",
    "\n",
    "# System 4 vector\n",
    "system4=[x4,F4,0,0,0];"
   ]
  },
  {
   "cell_type": "code",
   "execution_count": 98,
   "id": "0558c111",
   "metadata": {},
   "outputs": [
    {
     "data": {
      "image/png": "[encoded data removed]",
      "text/latex": [
       "$\\displaystyle g m s{\\left(t \\right)} \\cos{\\left(\\theta{\\left(t \\right)} \\right)} + \\frac{m \\left(s^{2}{\\left(t \\right)} \\left(\\frac{d}{d t} \\theta{\\left(t \\right)}\\right)^{2} + \\left(\\frac{d}{d t} s{\\left(t \\right)}\\right)^{2}\\right)}{2}$"
      ],
      "text/plain": [
       "                       ⎛                2             2⎞\n",
       "                       ⎜ 2    ⎛d       ⎞    ⎛d       ⎞ ⎟\n",
       "                     m⋅⎜s (t)⋅⎜──(θ(t))⎟  + ⎜──(s(t))⎟ ⎟\n",
       "                       ⎝      ⎝dt      ⎠    ⎝dt      ⎠ ⎠\n",
       "g⋅m⋅s(t)⋅cos(θ(t)) + ───────────────────────────────────\n",
       "                                      2                 "
      ]
     },
     "execution_count": 98,
     "metadata": {},
     "output_type": "execute_result"
    }
   ],
   "source": [
    "Lag4=L(system4);\n",
    "Lag4"
   ]
  },
  {
   "cell_type": "code",
   "execution_count": 99,
   "id": "9b583498",
   "metadata": {},
   "outputs": [
    {
     "data": {
      "text/plain": [
       "'g m s{\\\\left(t \\\\right)} \\\\cos{\\\\left(\\\\theta{\\\\left(t \\\\right)} \\\\right)} + \\\\frac{m \\\\left(s^{2}{\\\\left(t \\\\right)} \\\\left(\\\\frac{d}{d t} \\\\theta{\\\\left(t \\\\right)}\\\\right)^{2} + \\\\left(\\\\frac{d}{d t} s{\\\\left(t \\\\right)}\\\\right)^{2}\\\\right)}{2}'"
      ]
     },
     "execution_count": 99,
     "metadata": {},
     "output_type": "execute_result"
    }
   ],
   "source": [
    "sp.latex(Lag4)"
   ]
  },
  {
   "cell_type": "code",
   "execution_count": 100,
   "id": "82bcfa38",
   "metadata": {},
   "outputs": [],
   "source": [
    "EOM4=EOM(Lag4,q4,[],[]);"
   ]
  },
  {
   "cell_type": "code",
   "execution_count": 101,
   "id": "d5f2bd42",
   "metadata": {},
   "outputs": [
    {
     "data": {
      "image/png": "[encoded data removed]",
      "text/latex": [
       "$\\displaystyle m \\left(g \\sin{\\left(\\theta{\\left(t \\right)} \\right)} + s{\\left(t \\right)} \\frac{d^{2}}{d t^{2}} \\theta{\\left(t \\right)} + 2 \\frac{d}{d t} s{\\left(t \\right)} \\frac{d}{d t} \\theta{\\left(t \\right)}\\right) s{\\left(t \\right)} = 0$"
      ],
      "text/plain": [
       "  ⎛                     2                            ⎞         \n",
       "  ⎜                    d            d        d       ⎟         \n",
       "m⋅⎜g⋅sin(θ(t)) + s(t)⋅───(θ(t)) + 2⋅──(s(t))⋅──(θ(t))⎟⋅s(t) = 0\n",
       "  ⎜                     2           dt       dt      ⎟         \n",
       "  ⎝                   dt                             ⎠         "
      ]
     },
     "execution_count": 101,
     "metadata": {},
     "output_type": "execute_result"
    }
   ],
   "source": [
    "EOM4theta=EOM4[0];\n",
    "EOM4theta=sp.simplify(sp.Eq(EOM4theta,0));\n",
    "EOM4theta"
   ]
  },
  {
   "cell_type": "code",
   "execution_count": 102,
   "id": "68c965d9",
   "metadata": {},
   "outputs": [
    {
     "data": {
      "text/plain": [
       "'m \\\\left(g \\\\sin{\\\\left(\\\\theta{\\\\left(t \\\\right)} \\\\right)} + s{\\\\left(t \\\\right)} \\\\frac{d^{2}}{d t^{2}} \\\\theta{\\\\left(t \\\\right)} + 2 \\\\frac{d}{d t} s{\\\\left(t \\\\right)} \\\\frac{d}{d t} \\\\theta{\\\\left(t \\\\right)}\\\\right) s{\\\\left(t \\\\right)} = 0'"
      ]
     },
     "execution_count": 102,
     "metadata": {},
     "output_type": "execute_result"
    }
   ],
   "source": [
    "sp.latex(EOM4theta)"
   ]
  },
  {
   "cell_type": "markdown",
   "id": "44c08a92",
   "metadata": {},
   "source": [
    "# Problem 5"
   ]
  },
  {
   "cell_type": "code",
   "execution_count": 103,
   "id": "490a2022",
   "metadata": {},
   "outputs": [],
   "source": [
    "# Problem 5 parameters\n",
    "R, r = sp.symbols(\"R, r\");\n",
    "\n",
    "# The hoop's center of mass is located at its center, so setting up a coordinate system whose origin lies at the center of the \n",
    "# cylinder the hoop's center of mass will be (in magnitude) at R+r.\n",
    "\n",
    "# Generalized coordinates \n",
    "\n",
    "l=sp.Function(\"l\")(t);\n",
    "theta=sp.Function(\"theta\")(t);\n",
    "anghoop=sp.Function(\"psi\")(t); # Angle of rotation of the hoop with respecto the x axis\n",
    "\n",
    "q5=[l,theta,anghoop];\n",
    "\n",
    "#Position vector \n",
    "x5=[0,l*sp.sin(theta),l*sp.cos(theta)];\n",
    "\n",
    "# Moment of inertia of the hoop \n",
    "Ihoop=m*r**2;\n",
    "\n",
    "# Force field \n",
    "F5=[0,0,-m*g];\n",
    "\n",
    "# System 5 vector\n",
    "system5=[x5,F5,0,Ihoop,anghoop];"
   ]
  },
  {
   "cell_type": "code",
   "execution_count": 104,
   "id": "9c39e3de",
   "metadata": {},
   "outputs": [
    {
     "data": {
      "image/png": "[encoded data removed]",
      "text/latex": [
       "$\\displaystyle - g m l{\\left(t \\right)} \\cos{\\left(\\theta{\\left(t \\right)} \\right)} + \\frac{m \\left(r^{2} \\left(\\frac{d}{d t} \\psi{\\left(t \\right)}\\right)^{2} + l^{2}{\\left(t \\right)} \\left(\\frac{d}{d t} \\theta{\\left(t \\right)}\\right)^{2} + \\left(\\frac{d}{d t} l{\\left(t \\right)}\\right)^{2}\\right)}{2}$"
      ],
      "text/plain": [
       "                        ⎛             2                   2             2⎞\n",
       "                        ⎜ 2 ⎛d       ⎞     2    ⎛d       ⎞    ⎛d       ⎞ ⎟\n",
       "                      m⋅⎜r ⋅⎜──(ψ(t))⎟  + l (t)⋅⎜──(θ(t))⎟  + ⎜──(l(t))⎟ ⎟\n",
       "                        ⎝   ⎝dt      ⎠          ⎝dt      ⎠    ⎝dt      ⎠ ⎠\n",
       "-g⋅m⋅l(t)⋅cos(θ(t)) + ────────────────────────────────────────────────────\n",
       "                                               2                          "
      ]
     },
     "execution_count": 104,
     "metadata": {},
     "output_type": "execute_result"
    }
   ],
   "source": [
    "Lag5=L(system5);\n",
    "Lag5"
   ]
  },
  {
   "cell_type": "code",
   "execution_count": 105,
   "id": "bcfa4e4f",
   "metadata": {},
   "outputs": [
    {
     "name": "stdout",
     "output_type": "stream",
     "text": [
      "- g m l{\\left(t \\right)} \\cos{\\left(\\theta{\\left(t \\right)} \\right)} + \\frac{m \\left(r^{2} \\left(\\frac{d}{d t} \\psi{\\left(t \\right)}\\right)^{2} + l^{2}{\\left(t \\right)} \\left(\\frac{d}{d t} \\theta{\\left(t \\right)}\\right)^{2} + \\left(\\frac{d}{d t} l{\\left(t \\right)}\\right)^{2}\\right)}{2}\n"
     ]
    }
   ],
   "source": [
    "print(sp.latex(Lag5))"
   ]
  },
  {
   "cell_type": "code",
   "execution_count": 106,
   "id": "867134ab",
   "metadata": {},
   "outputs": [],
   "source": [
    "# There are two constraints on the system\n",
    "f_1=sp.Function(\"f_1\")(l);\n",
    "f_2=sp.Function(\"f_2\")(theta,anghoop);\n",
    "\n",
    "f5=[f_1,f_2];\n",
    "\n",
    "# Hence there are two undetermined Lagrangian multipliers\n",
    "Lambda_1=sp.Symbol(\"lambda_1\");\n",
    "Lambda_2=sp.Symbol(\"lambda_2\");\n",
    "\n",
    "Lambda5=[Lambda_1, Lambda_2];"
   ]
  },
  {
   "cell_type": "code",
   "execution_count": 107,
   "id": "19f31acc",
   "metadata": {},
   "outputs": [],
   "source": [
    "# The corresponding EOM (with restrictions are)\n",
    "EOM5=EOM(Lag5,q5,Lambda5,f5);"
   ]
  },
  {
   "cell_type": "code",
   "execution_count": 108,
   "id": "5d461e01",
   "metadata": {},
   "outputs": [
    {
     "data": {
      "image/png": "[encoded data removed]",
      "text/latex": [
       "$\\displaystyle g m \\cos{\\left(\\theta{\\left(t \\right)} \\right)} - \\lambda_{1} \\frac{d}{d l{\\left(t \\right)}} \\operatorname{f_{1}}{\\left(l{\\left(t \\right)} \\right)} - m l{\\left(t \\right)} \\left(\\frac{d}{d t} \\theta{\\left(t \\right)}\\right)^{2} + m \\frac{d^{2}}{d t^{2}} l{\\left(t \\right)} = 0$"
      ],
      "text/plain": [
       "                                                      2       2          \n",
       "                     d                      ⎛d       ⎞       d           \n",
       "g⋅m⋅cos(θ(t)) - λ₁⋅─────(f₁(l(t))) - m⋅l(t)⋅⎜──(θ(t))⎟  + m⋅───(l(t)) = 0\n",
       "                   dl(t)                    ⎝dt      ⎠        2          \n",
       "                                                            dt           "
      ]
     },
     "execution_count": 108,
     "metadata": {},
     "output_type": "execute_result"
    }
   ],
   "source": [
    "EOM5l=EOM5[0];\n",
    "EOM5l=sp.simplify(sp.Eq(EOM5l,0));\n",
    "EOM5l"
   ]
  },
  {
   "cell_type": "code",
   "execution_count": 109,
   "id": "b4272290",
   "metadata": {},
   "outputs": [
    {
     "name": "stdout",
     "output_type": "stream",
     "text": [
      "g m \\cos{\\left(\\theta{\\left(t \\right)} \\right)} - \\lambda_{1} \\frac{d}{d l{\\left(t \\right)}} \\operatorname{f_{1}}{\\left(l{\\left(t \\right)} \\right)} - m l{\\left(t \\right)} \\left(\\frac{d}{d t} \\theta{\\left(t \\right)}\\right)^{2} + m \\frac{d^{2}}{d t^{2}} l{\\left(t \\right)} = 0\n"
     ]
    }
   ],
   "source": [
    "print(sp.latex(EOM5l))"
   ]
  },
  {
   "cell_type": "code",
   "execution_count": 110,
   "id": "09bdaa4e",
   "metadata": {},
   "outputs": [
    {
     "data": {
      "image/png": "[encoded data removed]",
      "text/latex": [
       "$\\displaystyle g m l{\\left(t \\right)} \\sin{\\left(\\theta{\\left(t \\right)} \\right)} + \\lambda_{2} \\frac{d}{d \\theta{\\left(t \\right)}} \\operatorname{f_{2}}{\\left(\\theta{\\left(t \\right)},\\psi{\\left(t \\right)} \\right)} - m l^{2}{\\left(t \\right)} \\frac{d^{2}}{d t^{2}} \\theta{\\left(t \\right)} - 2 m l{\\left(t \\right)} \\frac{d}{d t} l{\\left(t \\right)} \\frac{d}{d t} \\theta{\\left(t \\right)} = 0$"
      ],
      "text/plain": [
       "                                                          2                   \n",
       "                          d                        2     d                   d\n",
       "g⋅m⋅l(t)⋅sin(θ(t)) + λ₂⋅─────(f₂(θ(t), ψ(t))) - m⋅l (t)⋅───(θ(t)) - 2⋅m⋅l(t)⋅─\n",
       "                        dθ(t)                             2                  d\n",
       "                                                        dt                    \n",
       "\n",
       "                    \n",
       "        d           \n",
       "─(l(t))⋅──(θ(t)) = 0\n",
       "t       dt          \n",
       "                    "
      ]
     },
     "execution_count": 110,
     "metadata": {},
     "output_type": "execute_result"
    }
   ],
   "source": [
    "EOM5theta=EOM5[1];\n",
    "EOM5theta=sp.simplify(sp.Eq(EOM5theta,0));\n",
    "EOM5theta"
   ]
  },
  {
   "cell_type": "code",
   "execution_count": 111,
   "id": "bcbdaa4f",
   "metadata": {},
   "outputs": [
    {
     "name": "stdout",
     "output_type": "stream",
     "text": [
      "g m l{\\left(t \\right)} \\sin{\\left(\\theta{\\left(t \\right)} \\right)} + \\lambda_{2} \\frac{d}{d \\theta{\\left(t \\right)}} \\operatorname{f_{2}}{\\left(\\theta{\\left(t \\right)},\\psi{\\left(t \\right)} \\right)} - m l^{2}{\\left(t \\right)} \\frac{d^{2}}{d t^{2}} \\theta{\\left(t \\right)} - 2 m l{\\left(t \\right)} \\frac{d}{d t} l{\\left(t \\right)} \\frac{d}{d t} \\theta{\\left(t \\right)} = 0\n"
     ]
    }
   ],
   "source": [
    "print(sp.latex(EOM5theta))"
   ]
  },
  {
   "cell_type": "code",
   "execution_count": 112,
   "id": "1dd2c448",
   "metadata": {},
   "outputs": [
    {
     "data": {
      "image/png": "[encoded data removed]",
      "text/latex": [
       "$\\displaystyle \\lambda_{2} \\frac{d}{d \\psi{\\left(t \\right)}} \\operatorname{f_{2}}{\\left(\\theta{\\left(t \\right)},\\psi{\\left(t \\right)} \\right)} - m r^{2} \\frac{d^{2}}{d t^{2}} \\psi{\\left(t \\right)} = 0$"
      ],
      "text/plain": [
       "                                  2          \n",
       "     d                        2  d           \n",
       "λ₂⋅─────(f₂(θ(t), ψ(t))) - m⋅r ⋅───(ψ(t)) = 0\n",
       "   dψ(t)                          2          \n",
       "                                dt           "
      ]
     },
     "execution_count": 112,
     "metadata": {},
     "output_type": "execute_result"
    }
   ],
   "source": [
    "EOM5psi=EOM5[2];\n",
    "EOM5psi=sp.simplify(sp.Eq(EOM5psi,0));\n",
    "EOM5psi"
   ]
  },
  {
   "cell_type": "code",
   "execution_count": 113,
   "id": "cf86046c",
   "metadata": {},
   "outputs": [
    {
     "name": "stdout",
     "output_type": "stream",
     "text": [
      "\\lambda_{2} \\frac{d}{d \\psi{\\left(t \\right)}} \\operatorname{f_{2}}{\\left(\\theta{\\left(t \\right)},\\psi{\\left(t \\right)} \\right)} - m r^{2} \\frac{d^{2}}{d t^{2}} \\psi{\\left(t \\right)} = 0\n"
     ]
    }
   ],
   "source": [
    "print(sp.latex(EOM5psi))"
   ]
  },
  {
   "cell_type": "code",
   "execution_count": 114,
   "id": "d2eb6164",
   "metadata": {},
   "outputs": [],
   "source": [
    "# The first constraint reads f_1(l)=l-R-r=0 so dl/dt=d^2/dl^2=0\n",
    "f1=l-R-r;\n",
    "\n",
    "# The second constraint reads f_2(theta,psi)=(r+R)*theta=r*psi\n",
    "f2=(r+R)*theta-r*anghoop;"
   ]
  },
  {
   "cell_type": "code",
   "execution_count": 115,
   "id": "76933a96",
   "metadata": {},
   "outputs": [
    {
     "data": {
      "image/png": "[encoded data removed]",
      "text/latex": [
       "$\\displaystyle - g m \\cos{\\left(\\theta{\\left(t \\right)} \\right)} + \\lambda_{1} + m \\left(R + r\\right) \\left(\\frac{d}{d t} \\theta{\\left(t \\right)}\\right)^{2} = 0$"
      ],
      "text/plain": [
       "                                          2    \n",
       "                                ⎛d       ⎞     \n",
       "-g⋅m⋅cos(θ(t)) + λ₁ + m⋅(R + r)⋅⎜──(θ(t))⎟  = 0\n",
       "                                ⎝dt      ⎠     "
      ]
     },
     "execution_count": 115,
     "metadata": {},
     "output_type": "execute_result"
    }
   ],
   "source": [
    "# The resulting EOM are\n",
    "Eq1=sp.simplify(EOM5l.subs([(f_1,f1),(sp.diff(l,t),0),(sp.diff(sp.diff(l,t),t),0),(l,R+r)]));\n",
    "Eq1"
   ]
  },
  {
   "cell_type": "code",
   "execution_count": 116,
   "id": "fb2ac252",
   "metadata": {},
   "outputs": [
    {
     "name": "stdout",
     "output_type": "stream",
     "text": [
      "- g m \\cos{\\left(\\theta{\\left(t \\right)} \\right)} + \\lambda_{1} + m \\left(R + r\\right) \\left(\\frac{d}{d t} \\theta{\\left(t \\right)}\\right)^{2} = 0\n"
     ]
    }
   ],
   "source": [
    "print(sp.latex(Eq1))"
   ]
  },
  {
   "cell_type": "code",
   "execution_count": 117,
   "id": "4923d587",
   "metadata": {},
   "outputs": [
    {
     "data": {
      "image/png": "[encoded data removed]",
      "text/latex": [
       "$\\displaystyle g m \\left(R + r\\right) \\sin{\\left(\\theta{\\left(t \\right)} \\right)} + \\lambda_{2} \\left(R + r\\right) - m \\left(R + r\\right)^{2} \\frac{d^{2}}{d t^{2}} \\theta{\\left(t \\right)} = 0$"
      ],
      "text/plain": [
       "                                                  2          \n",
       "                                              2  d           \n",
       "g⋅m⋅(R + r)⋅sin(θ(t)) + λ₂⋅(R + r) - m⋅(R + r) ⋅───(θ(t)) = 0\n",
       "                                                  2          \n",
       "                                                dt           "
      ]
     },
     "execution_count": 117,
     "metadata": {},
     "output_type": "execute_result"
    }
   ],
   "source": [
    "Eq2=sp.simplify(EOM5theta.subs([(f_2,f2),(sp.diff(l,t),0),(l,R+r)]));\n",
    "Eq2"
   ]
  },
  {
   "cell_type": "code",
   "execution_count": 118,
   "id": "f9699b72",
   "metadata": {},
   "outputs": [
    {
     "name": "stdout",
     "output_type": "stream",
     "text": [
      "g m \\left(R + r\\right) \\sin{\\left(\\theta{\\left(t \\right)} \\right)} + \\lambda_{2} \\left(R + r\\right) - m \\left(R + r\\right)^{2} \\frac{d^{2}}{d t^{2}} \\theta{\\left(t \\right)} = 0\n"
     ]
    }
   ],
   "source": [
    "print(sp.latex(Eq2))"
   ]
  },
  {
   "cell_type": "code",
   "execution_count": 119,
   "id": "1920ae21",
   "metadata": {},
   "outputs": [
    {
     "data": {
      "image/png": "[encoded data removed]",
      "text/latex": [
       "$\\displaystyle \\lambda_{2} r + m r \\left(R + r\\right) \\frac{d^{2}}{d t^{2}} \\theta{\\left(t \\right)} = 0$"
      ],
      "text/plain": [
       "                     2          \n",
       "                    d           \n",
       "λ₂⋅r + m⋅r⋅(R + r)⋅───(θ(t)) = 0\n",
       "                     2          \n",
       "                   dt           "
      ]
     },
     "execution_count": 119,
     "metadata": {},
     "output_type": "execute_result"
    }
   ],
   "source": [
    "Eq3=sp.simplify(EOM5psi.subs([(f_2,f2),(anghoop,(r+R)/r*theta)]));\n",
    "Eq3"
   ]
  },
  {
   "cell_type": "code",
   "execution_count": 120,
   "id": "3b8f3c5d",
   "metadata": {},
   "outputs": [
    {
     "name": "stdout",
     "output_type": "stream",
     "text": [
      "\\lambda_{2} r + m r \\left(R + r\\right) \\frac{d^{2}}{d t^{2}} \\theta{\\left(t \\right)} = 0\n"
     ]
    }
   ],
   "source": [
    "print(sp.latex(Eq3))"
   ]
  },
  {
   "cell_type": "code",
   "execution_count": 121,
   "id": "d4535941",
   "metadata": {},
   "outputs": [
    {
     "data": {
      "image/png": "[encoded data removed]",
      "text/latex": [
       "$\\displaystyle m \\left(- R \\left(\\frac{d}{d t} \\theta{\\left(t \\right)}\\right)^{2} + g \\cos{\\left(\\theta{\\left(t \\right)} \\right)} - r \\left(\\frac{d}{d t} \\theta{\\left(t \\right)}\\right)^{2}\\right)$"
      ],
      "text/plain": [
       "  ⎛              2                             2⎞\n",
       "  ⎜    ⎛d       ⎞                    ⎛d       ⎞ ⎟\n",
       "m⋅⎜- R⋅⎜──(θ(t))⎟  + g⋅cos(θ(t)) - r⋅⎜──(θ(t))⎟ ⎟\n",
       "  ⎝    ⎝dt      ⎠                    ⎝dt      ⎠ ⎠"
      ]
     },
     "execution_count": 121,
     "metadata": {},
     "output_type": "execute_result"
    }
   ],
   "source": [
    "# Using Eq1 to solve for the first mulitplier\n",
    "EqLambda1=sp.simplify(sp.solve(Eq1,Lambda_1)[0]);\n",
    "EqLambda1"
   ]
  },
  {
   "cell_type": "code",
   "execution_count": 122,
   "id": "5d411a20",
   "metadata": {},
   "outputs": [
    {
     "name": "stdout",
     "output_type": "stream",
     "text": [
      "m \\left(- R \\left(\\frac{d}{d t} \\theta{\\left(t \\right)}\\right)^{2} + g \\cos{\\left(\\theta{\\left(t \\right)} \\right)} - r \\left(\\frac{d}{d t} \\theta{\\left(t \\right)}\\right)^{2}\\right)\n"
     ]
    }
   ],
   "source": [
    "print(sp.latex(EqLambda1))"
   ]
  },
  {
   "cell_type": "code",
   "execution_count": 123,
   "id": "9f644e6d",
   "metadata": {},
   "outputs": [
    {
     "data": {
      "image/png": "[encoded data removed]",
      "text/latex": [
       "$\\displaystyle m \\left(R \\frac{d^{2}}{d t^{2}} \\theta{\\left(t \\right)} - g \\sin{\\left(\\theta{\\left(t \\right)} \\right)} + r \\frac{d^{2}}{d t^{2}} \\theta{\\left(t \\right)}\\right)$"
      ],
      "text/plain": [
       "  ⎛    2                           2      ⎞\n",
       "  ⎜   d                           d       ⎟\n",
       "m⋅⎜R⋅───(θ(t)) - g⋅sin(θ(t)) + r⋅───(θ(t))⎟\n",
       "  ⎜    2                           2      ⎟\n",
       "  ⎝  dt                          dt       ⎠"
      ]
     },
     "execution_count": 123,
     "metadata": {},
     "output_type": "execute_result"
    }
   ],
   "source": [
    "# Using Eq2 and Eq3 to solve for the second multiplier\n",
    "Eq1Lambda2=sp.simplify(sp.solve(Eq2,Lambda_2)[0]);\n",
    "Eq1Lambda2"
   ]
  },
  {
   "cell_type": "code",
   "execution_count": 124,
   "id": "168bc1dd",
   "metadata": {},
   "outputs": [
    {
     "data": {
      "image/png": "[encoded data removed]",
      "text/latex": [
       "$\\displaystyle - m \\left(R + r\\right) \\frac{d^{2}}{d t^{2}} \\theta{\\left(t \\right)}$"
      ],
      "text/plain": [
       "             2      \n",
       "            d       \n",
       "-m⋅(R + r)⋅───(θ(t))\n",
       "             2      \n",
       "           dt       "
      ]
     },
     "execution_count": 124,
     "metadata": {},
     "output_type": "execute_result"
    }
   ],
   "source": [
    "Eq2Lambda2=sp.simplify(sp.solve(Eq3,Lambda_2)[0]);\n",
    "Eq2Lambda2"
   ]
  },
  {
   "cell_type": "code",
   "execution_count": 125,
   "id": "30c46965",
   "metadata": {},
   "outputs": [
    {
     "data": {
      "image/png": "[encoded data removed]",
      "text/latex": [
       "$\\displaystyle \\frac{g \\sin{\\left(\\theta{\\left(t \\right)} \\right)}}{2 \\left(R + r\\right)}$"
      ],
      "text/plain": [
       "g⋅sin(θ(t))\n",
       "───────────\n",
       " 2⋅(R + r) "
      ]
     },
     "execution_count": 125,
     "metadata": {},
     "output_type": "execute_result"
    }
   ],
   "source": [
    "# Solving for (d^2theta/dtheta^2)^2 using Eq1Lambda2 and Eq2Lambda2\n",
    "d2theta2=sp.simplify(sp.solve(Eq1Lambda2-Eq2Lambda2,sp.diff(sp.diff(theta,t),t))[0]);\n",
    "d2theta2"
   ]
  },
  {
   "cell_type": "code",
   "execution_count": 126,
   "id": "9b3336a0",
   "metadata": {},
   "outputs": [
    {
     "data": {
      "image/png": "[encoded data removed]",
      "text/latex": [
       "$\\displaystyle K - \\frac{g \\cos{\\left(\\theta{\\left(t \\right)} \\right)}}{R + r}$"
      ],
      "text/plain": [
       "    g⋅cos(θ(t))\n",
       "K - ───────────\n",
       "       R + r   "
      ]
     },
     "execution_count": 126,
     "metadata": {},
     "output_type": "execute_result"
    }
   ],
   "source": [
    "# Multiplying both sides of the previous expression by dtheta/dt and integrating yields\n",
    "K=sp.Symbol(\"K\");\n",
    "\n",
    "d2theta2=-g*sp.cos(theta)/(R+r)+K;\n",
    "d2theta2"
   ]
  },
  {
   "cell_type": "code",
   "execution_count": 127,
   "id": "180b0387",
   "metadata": {},
   "outputs": [
    {
     "data": {
      "image/png": "[encoded data removed]",
      "text/latex": [
       "$\\displaystyle \\frac{g \\left(1 - \\cos{\\left(\\theta{\\left(t \\right)} \\right)}\\right)}{R + r}$"
      ],
      "text/plain": [
       "g⋅(1 - cos(θ(t)))\n",
       "─────────────────\n",
       "      R + r      "
      ]
     },
     "execution_count": 127,
     "metadata": {},
     "output_type": "execute_result"
    }
   ],
   "source": [
    "# Noting that dtheta/dt=0 at theta(0)=0 yields\n",
    "Kn=g/(R+r);\n",
    "\n",
    "d2theta2=sp.simplify(d2theta2.subs(K,Kn));\n",
    "d2theta2"
   ]
  },
  {
   "cell_type": "code",
   "execution_count": 128,
   "id": "f51937be",
   "metadata": {},
   "outputs": [
    {
     "data": {
      "image/png": "[encoded data removed]",
      "text/latex": [
       "$\\displaystyle g m \\left(2 \\cos{\\left(\\theta{\\left(t \\right)} \\right)} - 1\\right)$"
      ],
      "text/plain": [
       "g⋅m⋅(2⋅cos(θ(t)) - 1)"
      ]
     },
     "execution_count": 128,
     "metadata": {},
     "output_type": "execute_result"
    }
   ],
   "source": [
    "# Substituting this result in the equation for lamba1 yields\n",
    "Eq2Lambda1=sp.simplify(EqLambda1.subs(sp.diff(theta,t)**2,d2theta2));\n",
    "Eq2Lambda1"
   ]
  },
  {
   "cell_type": "code",
   "execution_count": 129,
   "id": "a8865d38",
   "metadata": {},
   "outputs": [
    {
     "data": {
      "image/png": "[encoded data removed]",
      "text/latex": [
       "$\\displaystyle \\left[ \\frac{\\pi}{3}, \\  \\frac{5 \\pi}{3}\\right]$"
      ],
      "text/plain": [
       "⎡π  5⋅π⎤\n",
       "⎢─, ───⎥\n",
       "⎣3   3 ⎦"
      ]
     },
     "execution_count": 129,
     "metadata": {},
     "output_type": "execute_result"
    }
   ],
   "source": [
    "# When the magnitude of the normal force is zero (lambda1=0), the angle will be \n",
    "\n",
    "theta_n=sp.solve(Eq2Lambda1,theta);\n",
    "theta_n"
   ]
  },
  {
   "cell_type": "code",
   "execution_count": null,
   "id": "1b268020",
   "metadata": {},
   "outputs": [],
   "source": []
  },
  {
   "cell_type": "code",
   "execution_count": null,
   "id": "90f627fe",
   "metadata": {},
   "outputs": [],
   "source": []
  },
  {
   "cell_type": "code",
   "execution_count": null,
   "id": "da65bfdf",
   "metadata": {},
   "outputs": [],
   "source": []
  },
  {
   "cell_type": "code",
   "execution_count": null,
   "id": "d4c9bbb3",
   "metadata": {},
   "outputs": [],
   "source": []
  },
  {
   "cell_type": "code",
   "execution_count": null,
   "id": "f607e0c0",
   "metadata": {},
   "outputs": [],
   "source": []
  }
 ],
 "metadata": {
  "kernelspec": {
   "display_name": "Python 3 (ipykernel)",
   "language": "python",
   "name": "python3"
  },
  "language_info": {
   "codemirror_mode": {
    "name": "ipython",
    "version": 3
   },
   "file_extension": ".py",
   "mimetype": "text/x-python",
   "name": "python",
   "nbconvert_exporter": "python",
   "pygments_lexer": "ipython3",
   "version": "3.9.7"
  }
 },
 "nbformat": 4,
 "nbformat_minor": 5
}
