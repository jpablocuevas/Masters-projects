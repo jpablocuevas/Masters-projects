{
 "cells": [
  {
   "cell_type": "markdown",
   "id": "5dbe7b0e",
   "metadata": {},
   "source": [
    "# Homework 5\n",
    "\n",
    "# Classical Mechanics\n",
    "\n",
    "# José Pablo Cuevas Cázares"
   ]
  },
  {
   "cell_type": "code",
   "execution_count": 1,
   "id": "14a90ed6",
   "metadata": {},
   "outputs": [],
   "source": [
    "import sympy as sp"
   ]
  },
  {
   "cell_type": "code",
   "execution_count": 2,
   "id": "37d14b53",
   "metadata": {},
   "outputs": [],
   "source": [
    "t=sp.Symbol(\"t\", positive = True);"
   ]
  },
  {
   "cell_type": "code",
   "execution_count": 136,
   "id": "d73d32d5",
   "metadata": {},
   "outputs": [],
   "source": [
    "# Function that returns 2n symbolic canonical coordinates as a list\n",
    "def can_coord (n):\n",
    "        \n",
    "    global t;\n",
    "    \n",
    "    eta=[];\n",
    "    \n",
    "    if (n==0):\n",
    "        return [sp.Function(\"q\")(t),sp.Function(\"p\")(t)];\n",
    "\n",
    "    j=0;\n",
    "    \n",
    "    for i in range (0,n,1):\n",
    "        while (j<n):\n",
    "            eta.append(sp.Function(\"q_\"+str(j+1))(t));\n",
    "            j=j+1;\n",
    "        eta.append(sp.Function(\"p_\"+str(i+1))(t));\n",
    "    \n",
    "    return eta;"
   ]
  },
  {
   "cell_type": "code",
   "execution_count": 4,
   "id": "79f76e67",
   "metadata": {},
   "outputs": [],
   "source": [
    "# Jacobian matrix\n",
    "def Jacobian_matrix (x,f):\n",
    "    \n",
    "    row=[];\n",
    "    J=[];\n",
    "    \n",
    "    for i in f:\n",
    "        for j in x:\n",
    "            didj=sp.diff(i,j);\n",
    "            \n",
    "            if (type(didj)!=float or type(didj)!=int):\n",
    "                didj=sp.simplify(didj);\n",
    "            row.append(didj);\n",
    "            \n",
    "        J.append(row);\n",
    "        row=[];\n",
    "        \n",
    "    return sp.Matrix(J);"
   ]
  },
  {
   "cell_type": "code",
   "execution_count": 5,
   "id": "f85502f6",
   "metadata": {},
   "outputs": [],
   "source": [
    "# Symplectic matrix\n",
    "def symplectic_matrix (n):\n",
    "    \n",
    "    row=[];\n",
    "    M=[];    \n",
    "    for i in range (0,2*n,1):\n",
    "        \n",
    "        if (i<n):\n",
    "            for j in range (0,2*n,1):\n",
    "                \n",
    "                if (j<n):\n",
    "                    row.append(0);\n",
    "                else:\n",
    "                    if (j==i+n):\n",
    "                        row.append(1);\n",
    "                    else:\n",
    "                        row.append(0);\n",
    "        else:\n",
    "            for j in range (0,2*n,1):\n",
    "                \n",
    "                if (j<n):\n",
    "                    if (j+n==i):\n",
    "                        row.append(-1)\n",
    "                    else:\n",
    "                        row.append(0)\n",
    "                else:\n",
    "                    row.append(0)\n",
    "                    \n",
    "        M.append(row);\n",
    "        row=[];\n",
    "    \n",
    "    return sp.Matrix(M);"
   ]
  },
  {
   "cell_type": "code",
   "execution_count": 6,
   "id": "767947c7",
   "metadata": {},
   "outputs": [],
   "source": [
    "# Poisson bracket function\n",
    "def Poisson_bracket(f,g,eta):\n",
    "    \n",
    "    O=symplectic_matrix(int(len(eta)/2));\n",
    "    \n",
    "    df=[];\n",
    "    dg=[];\n",
    "    \n",
    "    for i in eta:\n",
    "        df.append(sp.diff(f,i));\n",
    "        dg.append(sp.diff(g,i));\n",
    "    return ((sp.Matrix(df)).T*O*sp.Matrix(dg))[0];"
   ]
  },
  {
   "cell_type": "code",
   "execution_count": 125,
   "id": "c41c0301",
   "metadata": {},
   "outputs": [],
   "source": [
    "# Exterior derivative of 0-forms (differential)\n",
    "def ext_diff(f,x):\n",
    "    s=0;\n",
    "    \n",
    "    for i in x:\n",
    "        s=s+sp.diff(f,i)*sp.Symbol(\"d\"+str(i));\n",
    "    return s;"
   ]
  },
  {
   "cell_type": "markdown",
   "id": "cde09417",
   "metadata": {},
   "source": [
    "# Problem 1"
   ]
  },
  {
   "cell_type": "code",
   "execution_count": 7,
   "id": "0e6ea79d",
   "metadata": {},
   "outputs": [],
   "source": [
    "# Canonical coordinates for the problem\n",
    "eta1 = can_coord(2);\n",
    "\n",
    "# Parameters\n",
    "alpha, beta = sp.symbols(\"alpha, beta\");"
   ]
  },
  {
   "cell_type": "code",
   "execution_count": 8,
   "id": "70734cc4",
   "metadata": {},
   "outputs": [
    {
     "data": {
      "text/plain": [
       "[q_1(t), q_2(t), p_1(t), p_2(t)]"
      ]
     },
     "execution_count": 8,
     "metadata": {},
     "output_type": "execute_result"
    }
   ],
   "source": [
    "eta1"
   ]
  },
  {
   "cell_type": "code",
   "execution_count": 9,
   "id": "194faa1e",
   "metadata": {},
   "outputs": [],
   "source": [
    "# Transformation\n",
    "Q1=[beta*eta1[0]*sp.cos(alpha)+eta1[3]*sp.sin(alpha),beta*eta1[1]*sp.cos(alpha)+eta1[2]*sp.sin(alpha)];\n",
    "P1=[-eta1[1]*sp.sin(alpha)+(eta1[2]/beta)*sp.cos(alpha),-eta1[0]*sp.sin(alpha)+(eta1[3]/beta)*sp.cos(alpha)];"
   ]
  },
  {
   "cell_type": "code",
   "execution_count": 10,
   "id": "ac282ff3",
   "metadata": {},
   "outputs": [],
   "source": [
    "# Constructing a vector that holds Q and P\n",
    "zeta1=[];\n",
    "\n",
    "for i in Q1:\n",
    "    zeta1.append(i);\n",
    "    \n",
    "for i in P1:\n",
    "    zeta1.append(i);"
   ]
  },
  {
   "cell_type": "code",
   "execution_count": 11,
   "id": "5f48cb29",
   "metadata": {},
   "outputs": [
    {
     "data": {
      "text/latex": [
       "$\\displaystyle \\left[\\begin{matrix}\\beta \\cos{\\left(\\alpha \\right)} & 0 & 0 & \\sin{\\left(\\alpha \\right)}\\\\0 & \\beta \\cos{\\left(\\alpha \\right)} & \\sin{\\left(\\alpha \\right)} & 0\\\\0 & - \\sin{\\left(\\alpha \\right)} & \\frac{\\cos{\\left(\\alpha \\right)}}{\\beta} & 0\\\\- \\sin{\\left(\\alpha \\right)} & 0 & 0 & \\frac{\\cos{\\left(\\alpha \\right)}}{\\beta}\\end{matrix}\\right]$"
      ],
      "text/plain": [
       "Matrix([\n",
       "[beta*cos(alpha),               0,               0,      sin(alpha)],\n",
       "[              0, beta*cos(alpha),      sin(alpha),               0],\n",
       "[              0,     -sin(alpha), cos(alpha)/beta,               0],\n",
       "[    -sin(alpha),               0,               0, cos(alpha)/beta]])"
      ]
     },
     "execution_count": 11,
     "metadata": {},
     "output_type": "execute_result"
    }
   ],
   "source": [
    "# Computing the Jacobian matrix for the transformation \n",
    "J1=Jacobian_matrix(eta1,zeta1);\n",
    "J1"
   ]
  },
  {
   "cell_type": "markdown",
   "id": "99fe972d",
   "metadata": {},
   "source": [
    "The symplectic condition for a transformation to be canonical reads\n",
    "\n",
    "$\\mathcal{J}\\Omega\\mathcal{J}^{-1}=\\mathcal{J}\\Omega\\mathcal{J}^{T}=\\Omega$"
   ]
  },
  {
   "cell_type": "code",
   "execution_count": 13,
   "id": "550cc71c",
   "metadata": {},
   "outputs": [
    {
     "data": {
      "text/latex": [
       "$\\displaystyle \\left[\\begin{matrix}0 & 0 & 1 & 0\\\\0 & 0 & 0 & 1\\\\-1 & 0 & 0 & 0\\\\0 & -1 & 0 & 0\\end{matrix}\\right]$"
      ],
      "text/plain": [
       "Matrix([\n",
       "[ 0,  0, 1, 0],\n",
       "[ 0,  0, 0, 1],\n",
       "[-1,  0, 0, 0],\n",
       "[ 0, -1, 0, 0]])"
      ]
     },
     "execution_count": 13,
     "metadata": {},
     "output_type": "execute_result"
    }
   ],
   "source": [
    "# Constructing the symplectic matrix\n",
    "O1=symplectic_matrix(2);\n",
    "O1"
   ]
  },
  {
   "cell_type": "code",
   "execution_count": 15,
   "id": "93bc6486",
   "metadata": {},
   "outputs": [
    {
     "data": {
      "text/latex": [
       "$\\displaystyle \\left[\\begin{matrix}\\beta \\cos{\\left(\\alpha \\right)} & 0 & 0 & - \\sin{\\left(\\alpha \\right)}\\\\0 & \\beta \\cos{\\left(\\alpha \\right)} & - \\sin{\\left(\\alpha \\right)} & 0\\\\0 & \\sin{\\left(\\alpha \\right)} & \\frac{\\cos{\\left(\\alpha \\right)}}{\\beta} & 0\\\\\\sin{\\left(\\alpha \\right)} & 0 & 0 & \\frac{\\cos{\\left(\\alpha \\right)}}{\\beta}\\end{matrix}\\right]$"
      ],
      "text/plain": [
       "Matrix([\n",
       "[beta*cos(alpha),               0,               0,     -sin(alpha)],\n",
       "[              0, beta*cos(alpha),     -sin(alpha),               0],\n",
       "[              0,      sin(alpha), cos(alpha)/beta,               0],\n",
       "[     sin(alpha),               0,               0, cos(alpha)/beta]])"
      ]
     },
     "execution_count": 15,
     "metadata": {},
     "output_type": "execute_result"
    }
   ],
   "source": [
    "J1.T"
   ]
  },
  {
   "cell_type": "code",
   "execution_count": 17,
   "id": "c63e4394",
   "metadata": {},
   "outputs": [
    {
     "data": {
      "text/latex": [
       "$\\displaystyle \\left[\\begin{matrix}0 & 0 & 1 & 0\\\\0 & 0 & 0 & 1\\\\-1 & 0 & 0 & 0\\\\0 & -1 & 0 & 0\\end{matrix}\\right]$"
      ],
      "text/plain": [
       "Matrix([\n",
       "[ 0,  0, 1, 0],\n",
       "[ 0,  0, 0, 1],\n",
       "[-1,  0, 0, 0],\n",
       "[ 0, -1, 0, 0]])"
      ]
     },
     "execution_count": 17,
     "metadata": {},
     "output_type": "execute_result"
    }
   ],
   "source": [
    "# Verifying the symplectic condition\n",
    "T=sp.simplify(J1*O1*J1.T);\n",
    "T"
   ]
  },
  {
   "cell_type": "markdown",
   "id": "6869f3ea",
   "metadata": {},
   "source": [
    "# Problem 2"
   ]
  },
  {
   "cell_type": "code",
   "execution_count": 19,
   "id": "07ca55b5",
   "metadata": {},
   "outputs": [],
   "source": [
    "# Some parameters for the problem\n",
    "m, omega = sp.symbols(\"m, omega\");"
   ]
  },
  {
   "cell_type": "code",
   "execution_count": 20,
   "id": "8370be74",
   "metadata": {},
   "outputs": [],
   "source": [
    "# Canonical coordinates\n",
    "eta2=can_coord(0);\n",
    "\n",
    "# Canonical transformation coordinates\n",
    "Q2=sp.Function(\"Q\")(t);\n",
    "P2=sp.Function(\"P\")(t);\n",
    "\n",
    "zeta2=[Q2,P2];"
   ]
  },
  {
   "cell_type": "code",
   "execution_count": 21,
   "id": "70792977",
   "metadata": {},
   "outputs": [
    {
     "data": {
      "text/latex": [
       "$\\displaystyle \\frac{m \\omega q^{2}{\\left(t \\right)} \\cot{\\left(Q{\\left(t \\right)} \\right)}}{2}$"
      ],
      "text/plain": [
       "m*omega*q(t)**2*cot(Q(t))/2"
      ]
     },
     "execution_count": 21,
     "metadata": {},
     "output_type": "execute_result"
    }
   ],
   "source": [
    "# Generating function\n",
    "F2=m*omega/2*pow(eta2[0],2)*sp.cot(zeta2[0]);\n",
    "F2"
   ]
  },
  {
   "cell_type": "code",
   "execution_count": 22,
   "id": "b4b2f987",
   "metadata": {},
   "outputs": [
    {
     "data": {
      "text/latex": [
       "$\\displaystyle \\frac{m \\omega^{2} q^{2}{\\left(t \\right)}}{2} + \\frac{p^{2}{\\left(t \\right)}}{2 m}$"
      ],
      "text/plain": [
       "m*omega**2*q(t)**2/2 + p(t)**2/(2*m)"
      ]
     },
     "execution_count": 22,
     "metadata": {},
     "output_type": "execute_result"
    }
   ],
   "source": [
    "# Hamiltonian\n",
    "H2=pow(eta2[1],2)/(2*m)+(m*omega**2/2)*pow(eta2[0],2);\n",
    "H2"
   ]
  },
  {
   "cell_type": "code",
   "execution_count": 23,
   "id": "6a0a237c",
   "metadata": {},
   "outputs": [
    {
     "data": {
      "text/latex": [
       "$\\displaystyle m \\omega q{\\left(t \\right)} \\cot{\\left(Q{\\left(t \\right)} \\right)}$"
      ],
      "text/plain": [
       "m*omega*q(t)*cot(Q(t))"
      ]
     },
     "execution_count": 23,
     "metadata": {},
     "output_type": "execute_result"
    }
   ],
   "source": [
    "# Computing the partial derivatives to determine the dynamic of the system\n",
    "sp.diff(F2, eta2[0])"
   ]
  },
  {
   "cell_type": "code",
   "execution_count": 24,
   "id": "b26d2a59",
   "metadata": {},
   "outputs": [
    {
     "data": {
      "text/latex": [
       "$\\displaystyle - \\frac{m \\omega q^{2}{\\left(t \\right)}}{2 \\sin^{2}{\\left(Q{\\left(t \\right)} \\right)}}$"
      ],
      "text/plain": [
       "-m*omega*q(t)**2/(2*sin(Q(t))**2)"
      ]
     },
     "execution_count": 24,
     "metadata": {},
     "output_type": "execute_result"
    }
   ],
   "source": [
    "sp.simplify(sp.diff(F2, zeta2[0]))"
   ]
  },
  {
   "cell_type": "code",
   "execution_count": 25,
   "id": "ae50301a",
   "metadata": {},
   "outputs": [
    {
     "data": {
      "text/plain": [
       "[{q(t): -sqrt(2)*sqrt(m*omega*P(t))*sin(Q(t))/(m*omega),\n",
       "  p(t): -sqrt(2)*sqrt(m*omega*P(t))*cos(Q(t))},\n",
       " {q(t): sqrt(2)*sqrt(m*omega*P(t))*sin(Q(t))/(m*omega),\n",
       "  p(t): sqrt(2)*sqrt(m*omega*P(t))*cos(Q(t))}]"
      ]
     },
     "execution_count": 25,
     "metadata": {},
     "output_type": "execute_result"
    }
   ],
   "source": [
    "# Solving the canonical coordinates q,p in terms of Q,P\n",
    "sol2=sp.solve([eta2[1]-sp.diff(F2, eta2[0]), zeta2[1]+sp.simplify(sp.diff(F2, zeta2[0]))], [eta2[0], eta2[1]], dict=True);\n",
    "sol2"
   ]
  },
  {
   "cell_type": "code",
   "execution_count": 26,
   "id": "c2b552d0",
   "metadata": {},
   "outputs": [],
   "source": [
    "#There are two possible solutions corresponding to whether one takes the positive or the negative roots of the results"
   ]
  },
  {
   "cell_type": "code",
   "execution_count": 27,
   "id": "729011bd",
   "metadata": {},
   "outputs": [
    {
     "data": {
      "text/latex": [
       "$\\displaystyle - \\frac{\\sqrt{2} \\sqrt{m \\omega P{\\left(t \\right)}} \\sin{\\left(Q{\\left(t \\right)} \\right)}}{m \\omega}$"
      ],
      "text/plain": [
       "-sqrt(2)*sqrt(m*omega*P(t))*sin(Q(t))/(m*omega)"
      ]
     },
     "execution_count": 27,
     "metadata": {},
     "output_type": "execute_result"
    }
   ],
   "source": [
    "# Getting the solutions for the coordinates using the dictionary's keys\n",
    "\n",
    "# Negative solution\n",
    "q2_nsol=sp.simplify(sol2[0].get(eta2[0]));\n",
    "q2_nsol"
   ]
  },
  {
   "cell_type": "code",
   "execution_count": 28,
   "id": "404b8991",
   "metadata": {},
   "outputs": [
    {
     "data": {
      "text/latex": [
       "$\\displaystyle - \\sqrt{2} \\sqrt{m \\omega P{\\left(t \\right)}} \\cos{\\left(Q{\\left(t \\right)} \\right)}$"
      ],
      "text/plain": [
       "-sqrt(2)*sqrt(m*omega*P(t))*cos(Q(t))"
      ]
     },
     "execution_count": 28,
     "metadata": {},
     "output_type": "execute_result"
    }
   ],
   "source": [
    "# Negative solution\n",
    "p2_nsol=sp.simplify(sol2[0].get(eta2[1]));\n",
    "p2_nsol"
   ]
  },
  {
   "cell_type": "code",
   "execution_count": 29,
   "id": "6eca7086",
   "metadata": {},
   "outputs": [
    {
     "data": {
      "text/latex": [
       "$\\displaystyle \\frac{\\sqrt{2} \\sqrt{m \\omega P{\\left(t \\right)}} \\sin{\\left(Q{\\left(t \\right)} \\right)}}{m \\omega}$"
      ],
      "text/plain": [
       "sqrt(2)*sqrt(m*omega*P(t))*sin(Q(t))/(m*omega)"
      ]
     },
     "execution_count": 29,
     "metadata": {},
     "output_type": "execute_result"
    }
   ],
   "source": [
    "# Positive solution\n",
    "q2_psol=sp.simplify(sol2[1].get(eta2[0]));\n",
    "q2_psol"
   ]
  },
  {
   "cell_type": "code",
   "execution_count": 30,
   "id": "f67a49d0",
   "metadata": {},
   "outputs": [
    {
     "data": {
      "text/latex": [
       "$\\displaystyle \\sqrt{2} \\sqrt{m \\omega P{\\left(t \\right)}} \\cos{\\left(Q{\\left(t \\right)} \\right)}$"
      ],
      "text/plain": [
       "sqrt(2)*sqrt(m*omega*P(t))*cos(Q(t))"
      ]
     },
     "execution_count": 30,
     "metadata": {},
     "output_type": "execute_result"
    }
   ],
   "source": [
    "# Positive solution\n",
    "p2_psol=sp.simplify(sol2[1].get(eta2[1]));\n",
    "p2_psol"
   ]
  },
  {
   "cell_type": "code",
   "execution_count": 31,
   "id": "1b84920f",
   "metadata": {},
   "outputs": [
    {
     "data": {
      "text/latex": [
       "$\\displaystyle \\omega P{\\left(t \\right)}$"
      ],
      "text/plain": [
       "omega*P(t)"
      ]
     },
     "execution_count": 31,
     "metadata": {},
     "output_type": "execute_result"
    }
   ],
   "source": [
    "# Hamiltonian in the transformed variables  is then\n",
    "K2=sp.simplify(H2.subs([(eta2[0],q2_psol),(eta2[1],p2_psol)]));\n",
    "K2"
   ]
  },
  {
   "cell_type": "code",
   "execution_count": 135,
   "id": "165bd459",
   "metadata": {},
   "outputs": [
    {
     "data": {
      "text/latex": [
       "$\\displaystyle \\omega$"
      ],
      "text/plain": [
       "omega"
      ]
     },
     "execution_count": 135,
     "metadata": {},
     "output_type": "execute_result"
    }
   ],
   "source": [
    "# Hamilton's equations of motion, in the Hamiltonian K are \n",
    "Q2_dot=sp.diff(K2,zeta2[1]);\n",
    "Q2_dot"
   ]
  },
  {
   "cell_type": "markdown",
   "id": "1eb94896",
   "metadata": {},
   "source": [
    "# Problem 3"
   ]
  },
  {
   "cell_type": "code",
   "execution_count": 89,
   "id": "4e2fdc87",
   "metadata": {},
   "outputs": [],
   "source": [
    "# Canonical coordinates\n",
    "eta3=can_coord(0);"
   ]
  },
  {
   "cell_type": "markdown",
   "id": "8650c74a",
   "metadata": {},
   "source": [
    "# a)"
   ]
  },
  {
   "cell_type": "code",
   "execution_count": 90,
   "id": "36b9d80c",
   "metadata": {},
   "outputs": [],
   "source": [
    "# Coordinate transformation\n",
    "Q3=[eta3[1]/sp.tan(eta3[0])];\n",
    "P3=[sp.ln(sp.sin(eta3[0])/eta3[1])];"
   ]
  },
  {
   "cell_type": "code",
   "execution_count": 91,
   "id": "0b671d03",
   "metadata": {},
   "outputs": [
    {
     "data": {
      "text/latex": [
       "$\\displaystyle \\frac{p{\\left(t \\right)}}{\\tan{\\left(q{\\left(t \\right)} \\right)}}$"
      ],
      "text/plain": [
       "p(t)/tan(q(t))"
      ]
     },
     "metadata": {},
     "output_type": "display_data"
    }
   ],
   "source": [
    "display(Q3[0])"
   ]
  },
  {
   "cell_type": "code",
   "execution_count": 92,
   "id": "b5b0cc2e",
   "metadata": {},
   "outputs": [],
   "source": [
    "# Constructing a vector that holds Q and P\n",
    "zeta3=[];\n",
    "\n",
    "for i in Q3:\n",
    "    zeta3.append(i);\n",
    "    \n",
    "for i in P3:\n",
    "    zeta3.append(i);"
   ]
  },
  {
   "cell_type": "code",
   "execution_count": 93,
   "id": "6c5c9600",
   "metadata": {},
   "outputs": [
    {
     "data": {
      "text/latex": [
       "$\\displaystyle \\left[\\begin{matrix}- \\frac{p{\\left(t \\right)}}{\\sin^{2}{\\left(q{\\left(t \\right)} \\right)}} & \\frac{1}{\\tan{\\left(q{\\left(t \\right)} \\right)}}\\\\\\frac{1}{\\tan{\\left(q{\\left(t \\right)} \\right)}} & - \\frac{1}{p{\\left(t \\right)}}\\end{matrix}\\right]$"
      ],
      "text/plain": [
       "Matrix([\n",
       "[-p(t)/sin(q(t))**2, 1/tan(q(t))],\n",
       "[       1/tan(q(t)),     -1/p(t)]])"
      ]
     },
     "execution_count": 93,
     "metadata": {},
     "output_type": "execute_result"
    }
   ],
   "source": [
    "# Jacobian matrix\n",
    "J3=Jacobian_matrix(eta3,zeta3);\n",
    "J3"
   ]
  },
  {
   "cell_type": "code",
   "execution_count": 95,
   "id": "b2667aad",
   "metadata": {},
   "outputs": [
    {
     "data": {
      "text/latex": [
       "$\\displaystyle \\left[\\begin{matrix}0 & 1\\\\-1 & 0\\end{matrix}\\right]$"
      ],
      "text/plain": [
       "Matrix([\n",
       "[ 0, 1],\n",
       "[-1, 0]])"
      ]
     },
     "execution_count": 95,
     "metadata": {},
     "output_type": "execute_result"
    }
   ],
   "source": [
    "# Symplectic matrix\n",
    "O3=symplectic_matrix(1);\n",
    "O3"
   ]
  },
  {
   "cell_type": "code",
   "execution_count": 97,
   "id": "ff2d9e9e",
   "metadata": {},
   "outputs": [
    {
     "data": {
      "text/latex": [
       "$\\displaystyle \\left[\\begin{matrix}- \\frac{p{\\left(t \\right)}}{\\sin^{2}{\\left(q{\\left(t \\right)} \\right)}} & \\frac{1}{\\tan{\\left(q{\\left(t \\right)} \\right)}}\\\\\\frac{1}{\\tan{\\left(q{\\left(t \\right)} \\right)}} & - \\frac{1}{p{\\left(t \\right)}}\\end{matrix}\\right]$"
      ],
      "text/plain": [
       "Matrix([\n",
       "[-p(t)/sin(q(t))**2, 1/tan(q(t))],\n",
       "[       1/tan(q(t)),     -1/p(t)]])"
      ]
     },
     "execution_count": 97,
     "metadata": {},
     "output_type": "execute_result"
    }
   ],
   "source": [
    "J3.T"
   ]
  },
  {
   "cell_type": "code",
   "execution_count": 99,
   "id": "d6ccd938",
   "metadata": {},
   "outputs": [
    {
     "data": {
      "text/latex": [
       "$\\displaystyle \\left[\\begin{matrix}0 & 1\\\\-1 & 0\\end{matrix}\\right]$"
      ],
      "text/plain": [
       "Matrix([\n",
       "[ 0, 1],\n",
       "[-1, 0]])"
      ]
     },
     "execution_count": 99,
     "metadata": {},
     "output_type": "execute_result"
    }
   ],
   "source": [
    "# Verifing the symplectic condition \n",
    "sp.simplify(J3*O3*J3.T)"
   ]
  },
  {
   "cell_type": "markdown",
   "id": "734788f7",
   "metadata": {},
   "source": [
    "# Problem 4"
   ]
  },
  {
   "cell_type": "code",
   "execution_count": 44,
   "id": "33aabe9b",
   "metadata": {},
   "outputs": [],
   "source": [
    "# Canonical coordinates\n",
    "eta4=can_coord (2);"
   ]
  },
  {
   "cell_type": "code",
   "execution_count": 45,
   "id": "9e8ca16e",
   "metadata": {},
   "outputs": [
    {
     "data": {
      "text/latex": [
       "$\\displaystyle \\alpha \\operatorname{p_{2}}^{2}{\\left(t \\right)} + \\beta \\operatorname{p_{1}}^{2}{\\left(t \\right)} + \\operatorname{p_{1}}{\\left(t \\right)} \\operatorname{q_{1}}{\\left(t \\right)} - \\operatorname{p_{2}}{\\left(t \\right)} \\operatorname{q_{2}}{\\left(t \\right)}$"
      ],
      "text/plain": [
       "alpha*p_2(t)**2 + beta*p_1(t)**2 + p_1(t)*q_1(t) - p_2(t)*q_2(t)"
      ]
     },
     "execution_count": 45,
     "metadata": {},
     "output_type": "execute_result"
    }
   ],
   "source": [
    "# Hamiltonian for this problem\n",
    "H4=alpha*pow(eta4[3],2)+beta*pow(eta4[2],2)+eta4[2]*eta4[0]-eta4[3]*eta4[1];\n",
    "H4"
   ]
  },
  {
   "cell_type": "code",
   "execution_count": 69,
   "id": "d3224715",
   "metadata": {},
   "outputs": [],
   "source": [
    "# Functions for the problem\n",
    "f1=(beta*eta4[2]+eta4[0])/eta4[3];\n",
    "f2=eta4[2]*eta4[3];\n",
    "f3=eta4[3]*sp.exp(-t);"
   ]
  },
  {
   "cell_type": "code",
   "execution_count": 70,
   "id": "e4b0281e",
   "metadata": {},
   "outputs": [],
   "source": [
    "# Computing the Poisson bracket between the functions and the hamiltonian\n",
    "PB1=sp.simplify(Poisson_bracket(H4,f1,eta4));\n",
    "PB2=sp.simplify(Poisson_bracket(H4,f2,eta4));\n",
    "PB3=sp.simplify(Poisson_bracket(H4,f3,eta4));"
   ]
  },
  {
   "cell_type": "code",
   "execution_count": 71,
   "id": "0104c76c",
   "metadata": {},
   "outputs": [
    {
     "data": {
      "text/latex": [
       "$\\displaystyle - \\operatorname{p_{2}}{\\left(t \\right)} e^{- t}$"
      ],
      "text/plain": [
       "-p_2(t)*exp(-t)"
      ]
     },
     "execution_count": 71,
     "metadata": {},
     "output_type": "execute_result"
    }
   ],
   "source": [
    "PB3"
   ]
  },
  {
   "cell_type": "code",
   "execution_count": 127,
   "id": "05d1dc13",
   "metadata": {},
   "outputs": [],
   "source": [
    "# Calculating the exterior derivatives\n",
    "df1=ext_diff(f1,eta4);\n",
    "df2=ext_diff(f2,eta4);\n",
    "df3=ext_diff(f3,eta4);"
   ]
  },
  {
   "cell_type": "code",
   "execution_count": 133,
   "id": "2a6f2a2e",
   "metadata": {},
   "outputs": [
    {
     "data": {
      "text/latex": [
       "$\\displaystyle dp_{2(t)} e^{- t}$"
      ],
      "text/plain": [
       "dp_2(t)*exp(-t)"
      ]
     },
     "execution_count": 133,
     "metadata": {},
     "output_type": "execute_result"
    }
   ],
   "source": [
    "df3"
   ]
  },
  {
   "cell_type": "code",
   "execution_count": 109,
   "id": "a5770ca7",
   "metadata": {},
   "outputs": [],
   "source": [
    "# Constructing new independent constants of motion\n",
    "c1=sp.simplify(Poisson_bracket(f1,f2,eta4));\n",
    "c2=sp.simplify(Poisson_bracket(f1,f3,eta4));\n",
    "c3=sp.simplify(Poisson_bracket(f2,f3,eta4));"
   ]
  },
  {
   "cell_type": "code",
   "execution_count": 134,
   "id": "ee536e3f",
   "metadata": {},
   "outputs": [
    {
     "data": {
      "text/latex": [
       "$\\displaystyle 1$"
      ],
      "text/plain": [
       "1"
      ]
     },
     "execution_count": 134,
     "metadata": {},
     "output_type": "execute_result"
    }
   ],
   "source": [
    "c1"
   ]
  },
  {
   "cell_type": "markdown",
   "id": "4c2f58d0",
   "metadata": {},
   "source": [
    "# Problem 6"
   ]
  },
  {
   "cell_type": "code",
   "execution_count": 49,
   "id": "a496777a",
   "metadata": {},
   "outputs": [],
   "source": [
    "# Canonical coordinates for the problem \n",
    "eta6=can_coord(2);\n",
    "\n",
    "# Problem's Hamiltonian\n",
    "H6=pow(eta6[2],2)/(2*m)+pow(eta6[3],2)/(2*m)+m*pow(omega,2)/2*pow(eta6[0],2)+m*pow(omega,2)/2*pow(eta6[1],2);"
   ]
  },
  {
   "cell_type": "code",
   "execution_count": 50,
   "id": "d520c372",
   "metadata": {},
   "outputs": [],
   "source": [
    "# Defining the relevant functions for this problem\n",
    "S1=eta6[2]*eta6[3]/(2*m*omega)+m*omega*eta6[0]*eta6[1]/2;\n",
    "S2=(pow(eta6[3],2)-pow(eta6[2],2)+pow(m*omega,2)*(pow(eta6[1],2)-pow(eta6[0],2)))/(4*m*omega);"
   ]
  },
  {
   "cell_type": "code",
   "execution_count": 51,
   "id": "18ae9eed",
   "metadata": {},
   "outputs": [
    {
     "data": {
      "text/latex": [
       "$\\displaystyle \\frac{m \\omega \\operatorname{q_{1}}{\\left(t \\right)} \\operatorname{q_{2}}{\\left(t \\right)}}{2} + \\frac{\\operatorname{p_{1}}{\\left(t \\right)} \\operatorname{p_{2}}{\\left(t \\right)}}{2 m \\omega}$"
      ],
      "text/plain": [
       "m*omega*q_1(t)*q_2(t)/2 + p_1(t)*p_2(t)/(2*m*omega)"
      ]
     },
     "execution_count": 51,
     "metadata": {},
     "output_type": "execute_result"
    }
   ],
   "source": [
    "S1"
   ]
  },
  {
   "cell_type": "markdown",
   "id": "81f314a3",
   "metadata": {},
   "source": [
    "# a)"
   ]
  },
  {
   "cell_type": "code",
   "execution_count": 105,
   "id": "3d1488bc",
   "metadata": {},
   "outputs": [],
   "source": [
    "# Computing the Poisson brackets of these functions with the Hamiltonian\n",
    "PBS1=Poisson_bracket(H6,S1,eta6);\n",
    "PBS2=Poisson_bracket(H6,S2,eta6);"
   ]
  },
  {
   "cell_type": "code",
   "execution_count": 53,
   "id": "22ed99f6",
   "metadata": {},
   "outputs": [
    {
     "data": {
      "text/latex": [
       "$\\displaystyle 0$"
      ],
      "text/plain": [
       "0"
      ]
     },
     "execution_count": 53,
     "metadata": {},
     "output_type": "execute_result"
    }
   ],
   "source": [
    "PBS1"
   ]
  },
  {
   "cell_type": "code",
   "execution_count": 54,
   "id": "3ff1df6e",
   "metadata": {},
   "outputs": [
    {
     "data": {
      "text/latex": [
       "$\\displaystyle 0$"
      ],
      "text/plain": [
       "0"
      ]
     },
     "execution_count": 54,
     "metadata": {},
     "output_type": "execute_result"
    }
   ],
   "source": [
    "PBS2"
   ]
  },
  {
   "cell_type": "markdown",
   "id": "7f238d82",
   "metadata": {},
   "source": [
    "# b)"
   ]
  },
  {
   "cell_type": "code",
   "execution_count": 55,
   "id": "28c86819",
   "metadata": {},
   "outputs": [
    {
     "data": {
      "text/latex": [
       "$\\displaystyle - \\frac{\\operatorname{p_{1}}{\\left(t \\right)} \\operatorname{q_{2}}{\\left(t \\right)}}{2} + \\frac{\\operatorname{p_{2}}{\\left(t \\right)} \\operatorname{q_{1}}{\\left(t \\right)}}{2}$"
      ],
      "text/plain": [
       "-p_1(t)*q_2(t)/2 + p_2(t)*q_1(t)/2"
      ]
     },
     "execution_count": 55,
     "metadata": {},
     "output_type": "execute_result"
    }
   ],
   "source": [
    "# Finding another constant of motion\n",
    "S3=Poisson_bracket(S1,S2,eta6);\n",
    "S3"
   ]
  },
  {
   "cell_type": "markdown",
   "id": "5415abc8",
   "metadata": {},
   "source": [
    "# c)"
   ]
  },
  {
   "cell_type": "code",
   "execution_count": 56,
   "id": "2bb7af73",
   "metadata": {},
   "outputs": [],
   "source": [
    "# Determinig the Poisson bracket algebra\n",
    "\n",
    "def Poisson_algebra (S, eta):\n",
    "    \n",
    "    algebra=[];\n",
    "    \n",
    "    for i in S:\n",
    "        for j in S:\n",
    "            algebra.append(Poisson_bracket(i,j,eta));\n",
    "    \n",
    "    return algebra; "
   ]
  },
  {
   "cell_type": "code",
   "execution_count": 57,
   "id": "988e282b",
   "metadata": {},
   "outputs": [
    {
     "data": {
      "text/latex": [
       "$\\displaystyle 0$"
      ],
      "text/plain": [
       "0"
      ]
     },
     "metadata": {},
     "output_type": "display_data"
    },
    {
     "data": {
      "text/latex": [
       "$\\displaystyle - \\frac{\\operatorname{p_{1}}{\\left(t \\right)} \\operatorname{q_{2}}{\\left(t \\right)}}{2} + \\frac{\\operatorname{p_{2}}{\\left(t \\right)} \\operatorname{q_{1}}{\\left(t \\right)}}{2}$"
      ],
      "text/plain": [
       "-p_1(t)*q_2(t)/2 + p_2(t)*q_1(t)/2"
      ]
     },
     "metadata": {},
     "output_type": "display_data"
    },
    {
     "data": {
      "text/latex": [
       "$\\displaystyle \\frac{m \\omega \\operatorname{q_{1}}^{2}{\\left(t \\right)}}{4} - \\frac{m \\omega \\operatorname{q_{2}}^{2}{\\left(t \\right)}}{4} + \\frac{\\operatorname{p_{1}}^{2}{\\left(t \\right)}}{4 m \\omega} - \\frac{\\operatorname{p_{2}}^{2}{\\left(t \\right)}}{4 m \\omega}$"
      ],
      "text/plain": [
       "m*omega*q_1(t)**2/4 - m*omega*q_2(t)**2/4 + p_1(t)**2/(4*m*omega) - p_2(t)**2/(4*m*omega)"
      ]
     },
     "metadata": {},
     "output_type": "display_data"
    },
    {
     "data": {
      "text/latex": [
       "$\\displaystyle \\frac{\\operatorname{p_{1}}{\\left(t \\right)} \\operatorname{q_{2}}{\\left(t \\right)}}{2} - \\frac{\\operatorname{p_{2}}{\\left(t \\right)} \\operatorname{q_{1}}{\\left(t \\right)}}{2}$"
      ],
      "text/plain": [
       "p_1(t)*q_2(t)/2 - p_2(t)*q_1(t)/2"
      ]
     },
     "metadata": {},
     "output_type": "display_data"
    },
    {
     "data": {
      "text/latex": [
       "$\\displaystyle 0$"
      ],
      "text/plain": [
       "0"
      ]
     },
     "metadata": {},
     "output_type": "display_data"
    },
    {
     "data": {
      "text/latex": [
       "$\\displaystyle \\frac{m \\omega \\operatorname{q_{1}}{\\left(t \\right)} \\operatorname{q_{2}}{\\left(t \\right)}}{2} + \\frac{\\operatorname{p_{1}}{\\left(t \\right)} \\operatorname{p_{2}}{\\left(t \\right)}}{2 m \\omega}$"
      ],
      "text/plain": [
       "m*omega*q_1(t)*q_2(t)/2 + p_1(t)*p_2(t)/(2*m*omega)"
      ]
     },
     "metadata": {},
     "output_type": "display_data"
    },
    {
     "data": {
      "text/latex": [
       "$\\displaystyle - \\frac{m \\omega \\operatorname{q_{1}}^{2}{\\left(t \\right)}}{4} + \\frac{m \\omega \\operatorname{q_{2}}^{2}{\\left(t \\right)}}{4} - \\frac{\\operatorname{p_{1}}^{2}{\\left(t \\right)}}{4 m \\omega} + \\frac{\\operatorname{p_{2}}^{2}{\\left(t \\right)}}{4 m \\omega}$"
      ],
      "text/plain": [
       "-m*omega*q_1(t)**2/4 + m*omega*q_2(t)**2/4 - p_1(t)**2/(4*m*omega) + p_2(t)**2/(4*m*omega)"
      ]
     },
     "metadata": {},
     "output_type": "display_data"
    },
    {
     "data": {
      "text/latex": [
       "$\\displaystyle - \\frac{m \\omega \\operatorname{q_{1}}{\\left(t \\right)} \\operatorname{q_{2}}{\\left(t \\right)}}{2} - \\frac{\\operatorname{p_{1}}{\\left(t \\right)} \\operatorname{p_{2}}{\\left(t \\right)}}{2 m \\omega}$"
      ],
      "text/plain": [
       "-m*omega*q_1(t)*q_2(t)/2 - p_1(t)*p_2(t)/(2*m*omega)"
      ]
     },
     "metadata": {},
     "output_type": "display_data"
    },
    {
     "data": {
      "text/latex": [
       "$\\displaystyle 0$"
      ],
      "text/plain": [
       "0"
      ]
     },
     "metadata": {},
     "output_type": "display_data"
    }
   ],
   "source": [
    "# Defining an array to compute de Poisson bracket algebra\n",
    "Sarray=[S1,S2,S3];\n",
    "\n",
    "algebra=Poisson_algebra (Sarray, eta6);\n",
    "\n",
    "for i in algebra:\n",
    "    display(i)"
   ]
  },
  {
   "cell_type": "markdown",
   "id": "11e0ee1e",
   "metadata": {},
   "source": [
    "# d)"
   ]
  },
  {
   "cell_type": "code",
   "execution_count": 58,
   "id": "b5a21efc",
   "metadata": {},
   "outputs": [
    {
     "data": {
      "text/latex": [
       "$\\displaystyle \\frac{4 m^{2} \\omega^{2} \\left(\\operatorname{p_{1}}{\\left(t \\right)} \\operatorname{q_{2}}{\\left(t \\right)} - \\operatorname{p_{2}}{\\left(t \\right)} \\operatorname{q_{1}}{\\left(t \\right)}\\right)^{2} + 4 \\left(m^{2} \\omega^{2} \\operatorname{q_{1}}{\\left(t \\right)} \\operatorname{q_{2}}{\\left(t \\right)} + \\operatorname{p_{1}}{\\left(t \\right)} \\operatorname{p_{2}}{\\left(t \\right)}\\right)^{2} + \\left(m^{2} \\omega^{2} \\left(\\operatorname{q_{1}}^{2}{\\left(t \\right)} - \\operatorname{q_{2}}^{2}{\\left(t \\right)}\\right) + \\operatorname{p_{1}}^{2}{\\left(t \\right)} - \\operatorname{p_{2}}^{2}{\\left(t \\right)}\\right)^{2}}{16 m^{2} \\omega^{2}}$"
      ],
      "text/plain": [
       "(4*m**2*omega**2*(p_1(t)*q_2(t) - p_2(t)*q_1(t))**2 + 4*(m**2*omega**2*q_1(t)*q_2(t) + p_1(t)*p_2(t))**2 + (m**2*omega**2*(q_1(t)**2 - q_2(t)**2) + p_1(t)**2 - p_2(t)**2)**2)/(16*m**2*omega**2)"
      ]
     },
     "execution_count": 58,
     "metadata": {},
     "output_type": "execute_result"
    }
   ],
   "source": [
    "# Summing the squares of the three functions\n",
    "ST=sp.simplify(pow(S1,2)+pow(S2,2)+pow(S3,2));\n",
    "ST"
   ]
  },
  {
   "cell_type": "code",
   "execution_count": 60,
   "id": "ddf22d21",
   "metadata": {},
   "outputs": [
    {
     "data": {
      "text/latex": [
       "$\\displaystyle \\frac{\\left(m^{2} \\omega^{2} \\left(\\operatorname{q_{1}}^{2}{\\left(t \\right)} + \\operatorname{q_{2}}^{2}{\\left(t \\right)}\\right) + \\operatorname{p_{1}}^{2}{\\left(t \\right)} + \\operatorname{p_{2}}^{2}{\\left(t \\right)}\\right)^{2}}{4 m^{2}}$"
      ],
      "text/plain": [
       "(m**2*omega**2*(q_1(t)**2 + q_2(t)**2) + p_1(t)**2 + p_2(t)**2)**2/(4*m**2)"
      ]
     },
     "execution_count": 60,
     "metadata": {},
     "output_type": "execute_result"
    }
   ],
   "source": [
    "sp.simplify(H6**2)"
   ]
  }
 ],
 "metadata": {
  "kernelspec": {
   "display_name": "Python 3 (ipykernel)",
   "language": "python",
   "name": "python3"
  },
  "language_info": {
   "codemirror_mode": {
    "name": "ipython",
    "version": 3
   },
   "file_extension": ".py",
   "mimetype": "text/x-python",
   "name": "python",
   "nbconvert_exporter": "python",
   "pygments_lexer": "ipython3",
   "version": "3.9.7"
  }
 },
 "nbformat": 4,
 "nbformat_minor": 5
}
