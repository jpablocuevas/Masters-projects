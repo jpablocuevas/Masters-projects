{
 "cells": [
  {
   "cell_type": "markdown",
   "id": "a44e0246",
   "metadata": {},
   "source": [
    "# Homework 4\n",
    "\n",
    "# Classical Mechanics\n",
    "\n",
    "# José Pablo Cuevas Cázares\n"
   ]
  },
  {
   "cell_type": "code",
   "execution_count": 119,
   "id": "362fc5ad",
   "metadata": {},
   "outputs": [],
   "source": [
    "import Analytical_Mechanics as AM\n",
    "import sympy as sp\n",
    "from IPython.display import display,Math,Latex"
   ]
  },
  {
   "cell_type": "markdown",
   "id": "f1d56d53",
   "metadata": {},
   "source": [
    "# Problem 1"
   ]
  },
  {
   "cell_type": "code",
   "execution_count": 120,
   "id": "9f7e124a",
   "metadata": {},
   "outputs": [],
   "source": [
    "# Time parameter\n",
    "t=AM.time();\n",
    "\n",
    "# Gravitational acceleration\n",
    "g=AM.grav();\n",
    "\n",
    "# Additional parameters\n",
    "l, a =sp. symbols(\"l, a\");"
   ]
  },
  {
   "cell_type": "markdown",
   "id": "6a575636",
   "metadata": {},
   "source": [
    "# a)"
   ]
  },
  {
   "cell_type": "code",
   "execution_count": 121,
   "id": "aac82992",
   "metadata": {},
   "outputs": [],
   "source": [
    "# Parameters for the first Lagrangian \n",
    "m=AM.mass(None);\n",
    "gamma=sp.Symbol(\"gamma\");\n",
    "\n",
    "# Generalized coordinates\n",
    "phi=sp.Function(\"phi\")(t);\n",
    "\n",
    "q1_a=[phi];"
   ]
  },
  {
   "cell_type": "code",
   "execution_count": 122,
   "id": "c89dcc30",
   "metadata": {},
   "outputs": [
    {
     "data": {
      "image/png": "[encoded data removed]",
      "text/latex": [
       "$\\displaystyle - a \\gamma^{2} l m \\sin{\\left(\\gamma t - \\phi{\\left(t \\right)} \\right)} + g l m \\cos{\\left(\\phi{\\left(t \\right)} \\right)} + \\frac{l^{2} m \\left(\\frac{d}{d t} \\phi{\\left(t \\right)}\\right)^{2}}{2}$"
      ],
      "text/plain": [
       "                                                              2\n",
       "                                                2   ⎛d       ⎞ \n",
       "                                               l ⋅m⋅⎜──(φ(t))⎟ \n",
       "     2                                              ⎝dt      ⎠ \n",
       "- a⋅γ ⋅l⋅m⋅sin(γ⋅t - φ(t)) + g⋅l⋅m⋅cos(φ(t)) + ────────────────\n",
       "                                                      2        "
      ]
     },
     "execution_count": 122,
     "metadata": {},
     "output_type": "execute_result"
    }
   ],
   "source": [
    "# Lagrangian for the first case\n",
    "L1_a=sp.Rational(1,2)*m*pow(l,2)*pow(sp.diff(phi,t),2)+m*l*a*pow(gamma,2)*sp.sin(phi-gamma*t)+m*g*l*sp.cos(phi);\n",
    "L1_a"
   ]
  },
  {
   "cell_type": "code",
   "execution_count": 123,
   "id": "d320027d",
   "metadata": {
    "scrolled": true
   },
   "outputs": [
    {
     "data": {
      "image/png": "[encoded data removed]",
      "text/latex": [
       "$\\displaystyle a \\gamma^{2} l m \\sin{\\left(\\gamma t - \\phi{\\left(t \\right)} \\right)} - g l m \\cos{\\left(\\phi{\\left(t \\right)} \\right)} + \\frac{l^{2} m \\left(\\frac{d}{d t} \\phi{\\left(t \\right)}\\right)^{2}}{2}$"
      ],
      "text/plain": [
       "                                                            2\n",
       "                                              2   ⎛d       ⎞ \n",
       "                                             l ⋅m⋅⎜──(φ(t))⎟ \n",
       "   2                                              ⎝dt      ⎠ \n",
       "a⋅γ ⋅l⋅m⋅sin(γ⋅t - φ(t)) - g⋅l⋅m⋅cos(φ(t)) + ────────────────\n",
       "                                                    2        "
      ]
     },
     "execution_count": 123,
     "metadata": {},
     "output_type": "execute_result"
    }
   ],
   "source": [
    "# Computation of the Hamiltonian\n",
    "H1_a=AM.H(q1_a,t,L1_a)[0];\n",
    "H1_a"
   ]
  },
  {
   "cell_type": "code",
   "execution_count": 124,
   "id": "59897162",
   "metadata": {},
   "outputs": [
    {
     "name": "stdout",
     "output_type": "stream",
     "text": [
      "a \\gamma^{2} l m \\sin{\\left(\\gamma t - \\phi{\\left(t \\right)} \\right)} - g l m \\cos{\\left(\\phi{\\left(t \\right)} \\right)} + \\frac{l^{2} m \\left(\\frac{d}{d t} \\phi{\\left(t \\right)}\\right)^{2}}{2}\n"
     ]
    }
   ],
   "source": [
    "print(sp.latex(H1_a))"
   ]
  },
  {
   "cell_type": "code",
   "execution_count": 125,
   "id": "8f1d7b10",
   "metadata": {},
   "outputs": [
    {
     "data": {
      "image/png": "[encoded data removed]",
      "text/latex": [
       "$\\displaystyle \\left[ l^{2} m \\frac{d}{d t} \\phi{\\left(t \\right)}\\right]$"
      ],
      "text/plain": [
       "⎡ 2   d       ⎤\n",
       "⎢l ⋅m⋅──(φ(t))⎥\n",
       "⎣     dt      ⎦"
      ]
     },
     "execution_count": 125,
     "metadata": {},
     "output_type": "execute_result"
    }
   ],
   "source": [
    "# Generalized momenta array to invert the equations of motion \n",
    "P1_a=AM.H(q1_a,t,L1_a)[1];\n",
    "P1_a"
   ]
  },
  {
   "cell_type": "code",
   "execution_count": 126,
   "id": "5ea98565",
   "metadata": {},
   "outputs": [
    {
     "name": "stdout",
     "output_type": "stream",
     "text": [
      "l^{2} m \\frac{d}{d t} \\phi{\\left(t \\right)}\n"
     ]
    }
   ],
   "source": [
    "print(sp.latex(P1_a[0]))"
   ]
  },
  {
   "cell_type": "code",
   "execution_count": 127,
   "id": "133ef945",
   "metadata": {},
   "outputs": [],
   "source": [
    "# Defining a symbol for the generalized momentum\n",
    "p_phi=sp.Function(\"p_phi\")(t);\n",
    "\n",
    "# Array of SYMBOLIC generalized momentum\n",
    "p1_a=[p_phi];"
   ]
  },
  {
   "cell_type": "code",
   "execution_count": 128,
   "id": "fc39858c",
   "metadata": {},
   "outputs": [
    {
     "data": {
      "image/png": "[encoded data removed]",
      "text/latex": [
       "$\\displaystyle \\frac{\\operatorname{p_{\\phi}}{\\left(t \\right)}}{l^{2} m}$"
      ],
      "text/plain": [
       "pᵩ(t)\n",
       "─────\n",
       "  2  \n",
       " l ⋅m"
      ]
     },
     "execution_count": 128,
     "metadata": {},
     "output_type": "execute_result"
    }
   ],
   "source": [
    "# Solving for the generalized momentum\n",
    "phidot_sol_a=sp.solve(sp.Eq(P1_a[0],p_phi),sp.diff(phi,t))[0];\n",
    "phidot_sol_a"
   ]
  },
  {
   "cell_type": "code",
   "execution_count": 129,
   "id": "61e2a0b6",
   "metadata": {},
   "outputs": [
    {
     "data": {
      "image/png": "[encoded data removed]",
      "text/latex": [
       "$\\displaystyle a \\gamma^{2} l m \\sin{\\left(\\gamma t - \\phi{\\left(t \\right)} \\right)} - g l m \\cos{\\left(\\phi{\\left(t \\right)} \\right)} + \\frac{\\operatorname{p_{\\phi}}^{2}{\\left(t \\right)}}{2 l^{2} m}$"
      ],
      "text/plain": [
       "                                               2   \n",
       "   2                                         pᵩ (t)\n",
       "a⋅γ ⋅l⋅m⋅sin(γ⋅t - φ(t)) - g⋅l⋅m⋅cos(φ(t)) + ──────\n",
       "                                                2  \n",
       "                                             2⋅l ⋅m"
      ]
     },
     "execution_count": 129,
     "metadata": {},
     "output_type": "execute_result"
    }
   ],
   "source": [
    "# Subsituting this result in the Hamiltonian\n",
    "H1_a=H1_a.subs(sp.diff(phi,t),phidot_sol_a);\n",
    "H1_a"
   ]
  },
  {
   "cell_type": "code",
   "execution_count": 130,
   "id": "1b43dd4b",
   "metadata": {},
   "outputs": [
    {
     "name": "stdout",
     "output_type": "stream",
     "text": [
      "a \\gamma^{2} l m \\sin{\\left(\\gamma t - \\phi{\\left(t \\right)} \\right)} - g l m \\cos{\\left(\\phi{\\left(t \\right)} \\right)} + \\frac{\\operatorname{p_{\\phi}}^{2}{\\left(t \\right)}}{2 l^{2} m}\n"
     ]
    }
   ],
   "source": [
    "print(sp.latex(H1_a))"
   ]
  },
  {
   "cell_type": "code",
   "execution_count": 131,
   "id": "bed095b7",
   "metadata": {},
   "outputs": [
    {
     "data": {
      "image/png": "[encoded data removed]",
      "text/latex": [
       "$\\displaystyle \\left[ \\left[ \\frac{\\operatorname{p_{\\phi}}{\\left(t \\right)}}{l^{2} m}\\right], \\  \\left[ a \\gamma^{2} l m \\cos{\\left(\\gamma t - \\phi{\\left(t \\right)} \\right)} - g l m \\sin{\\left(\\phi{\\left(t \\right)} \\right)}\\right], \\  - a \\gamma^{2} l m \\left(\\gamma - \\frac{d}{d t} \\phi{\\left(t \\right)}\\right) \\cos{\\left(\\gamma t - \\phi{\\left(t \\right)} \\right)} - g l m \\sin{\\left(\\phi{\\left(t \\right)} \\right)} \\frac{d}{d t} \\phi{\\left(t \\right)} - \\frac{\\operatorname{p_{\\phi}}{\\left(t \\right)} \\frac{d}{d t} \\operatorname{p_{\\phi}}{\\left(t \\right)}}{l^{2} m}\\right]$"
      ],
      "text/plain": [
       "⎡                                                                             \n",
       "⎢                                                                             \n",
       "⎢⎡pᵩ(t)⎤  ⎡   2                                      ⎤       2     ⎛    d     \n",
       "⎢⎢─────⎥, ⎣a⋅γ ⋅l⋅m⋅cos(γ⋅t - φ(t)) - g⋅l⋅m⋅sin(φ(t))⎦, - a⋅γ ⋅l⋅m⋅⎜γ - ──(φ(t\n",
       "⎢⎢  2  ⎥                                                           ⎝    dt    \n",
       "⎣⎣ l ⋅m⎦                                                                      \n",
       "\n",
       "                                                       d        ⎤\n",
       "                                                 pᵩ(t)⋅──(pᵩ(t))⎥\n",
       "  ⎞                                   d                dt       ⎥\n",
       "))⎟⋅cos(γ⋅t - φ(t)) - g⋅l⋅m⋅sin(φ(t))⋅──(φ(t)) - ───────────────⎥\n",
       "  ⎠                                   dt                2       ⎥\n",
       "                                                       l ⋅m     ⎦"
      ]
     },
     "execution_count": 131,
     "metadata": {},
     "output_type": "execute_result"
    }
   ],
   "source": [
    "# Computing the canonical equations\n",
    "can_eqs1_a=AM.can_eqs(H1_a,q1_a,p1_a);\n",
    "can_eqs1_a"
   ]
  },
  {
   "cell_type": "code",
   "execution_count": 132,
   "id": "c27ad8e6",
   "metadata": {},
   "outputs": [
    {
     "data": {
      "image/png": "[encoded data removed]",
      "text/latex": [
       "$\\displaystyle \\frac{\\operatorname{p_{\\phi}}{\\left(t \\right)}}{l^{2} m}$"
      ],
      "text/plain": [
       "pᵩ(t)\n",
       "─────\n",
       "  2  \n",
       " l ⋅m"
      ]
     },
     "execution_count": 132,
     "metadata": {},
     "output_type": "execute_result"
    }
   ],
   "source": [
    "# For dphi/dt\n",
    "phi_dot_eq_a=can_eqs1_a[0][0];\n",
    "phi_dot_eq_a"
   ]
  },
  {
   "cell_type": "code",
   "execution_count": 133,
   "id": "618eb67a",
   "metadata": {},
   "outputs": [
    {
     "name": "stdout",
     "output_type": "stream",
     "text": [
      "\\frac{\\operatorname{p_{\\phi}}{\\left(t \\right)}}{l^{2} m}\n"
     ]
    }
   ],
   "source": [
    "print(sp.latex(phi_dot_eq_a))"
   ]
  },
  {
   "cell_type": "code",
   "execution_count": 134,
   "id": "be286c82",
   "metadata": {},
   "outputs": [
    {
     "data": {
      "image/png": "[encoded data removed]",
      "text/latex": [
       "$\\displaystyle a \\gamma^{2} l m \\cos{\\left(\\gamma t - \\phi{\\left(t \\right)} \\right)} - g l m \\sin{\\left(\\phi{\\left(t \\right)} \\right)}$"
      ],
      "text/plain": [
       "   2                                      \n",
       "a⋅γ ⋅l⋅m⋅cos(γ⋅t - φ(t)) - g⋅l⋅m⋅sin(φ(t))"
      ]
     },
     "execution_count": 134,
     "metadata": {},
     "output_type": "execute_result"
    }
   ],
   "source": [
    "# For dp_phi/dt\n",
    "p_phi_dot_eq_a=can_eqs1_a[1][0];\n",
    "p_phi_dot_eq_a"
   ]
  },
  {
   "cell_type": "code",
   "execution_count": 135,
   "id": "b57eab6e",
   "metadata": {},
   "outputs": [
    {
     "name": "stdout",
     "output_type": "stream",
     "text": [
      "a \\gamma^{2} l m \\cos{\\left(\\gamma t - \\phi{\\left(t \\right)} \\right)} - g l m \\sin{\\left(\\phi{\\left(t \\right)} \\right)}\n"
     ]
    }
   ],
   "source": [
    "print(sp.latex(p_phi_dot_eq_a))"
   ]
  },
  {
   "cell_type": "code",
   "execution_count": 136,
   "id": "985806c5",
   "metadata": {},
   "outputs": [
    {
     "data": {
      "image/png": "[encoded data removed]",
      "text/latex": [
       "$\\displaystyle - a \\gamma^{2} l m \\left(\\gamma - \\frac{d}{d t} \\phi{\\left(t \\right)}\\right) \\cos{\\left(\\gamma t - \\phi{\\left(t \\right)} \\right)} - g l m \\sin{\\left(\\phi{\\left(t \\right)} \\right)} \\frac{d}{d t} \\phi{\\left(t \\right)} - \\frac{\\operatorname{p_{\\phi}}{\\left(t \\right)} \\frac{d}{d t} \\operatorname{p_{\\phi}}{\\left(t \\right)}}{l^{2} m}$"
      ],
      "text/plain": [
       "                                                                             d\n",
       "                                                                       pᵩ(t)⋅─\n",
       "     2     ⎛    d       ⎞                                   d                d\n",
       "- a⋅γ ⋅l⋅m⋅⎜γ - ──(φ(t))⎟⋅cos(γ⋅t - φ(t)) - g⋅l⋅m⋅sin(φ(t))⋅──(φ(t)) - ───────\n",
       "           ⎝    dt      ⎠                                   dt                \n",
       "                                                                             l\n",
       "\n",
       "        \n",
       "─(pᵩ(t))\n",
       "t       \n",
       "────────\n",
       "2       \n",
       " ⋅m     "
      ]
     },
     "execution_count": 136,
     "metadata": {},
     "output_type": "execute_result"
    }
   ],
   "source": [
    "# For dL/dt\n",
    "L1_a_dot_eq=can_eqs1_a[2];\n",
    "L1_a_dot_eq"
   ]
  },
  {
   "cell_type": "code",
   "execution_count": 137,
   "id": "8e4697ac",
   "metadata": {},
   "outputs": [
    {
     "data": {
      "image/png": "[encoded data removed]",
      "text/latex": [
       "$\\displaystyle - \\frac{l m \\left(a \\gamma^{2} \\left(\\gamma l^{2} m - \\operatorname{p_{\\phi}}{\\left(t \\right)}\\right) \\cos{\\left(\\gamma t - \\phi{\\left(t \\right)} \\right)} + g \\operatorname{p_{\\phi}}{\\left(t \\right)} \\sin{\\left(\\phi{\\left(t \\right)} \\right)}\\right) + \\operatorname{p_{\\phi}}{\\left(t \\right)} \\frac{d}{d t} \\operatorname{p_{\\phi}}{\\left(t \\right)}}{l^{2} m}$"
      ],
      "text/plain": [
       " ⎛    ⎛   2 ⎛   2          ⎞                                    ⎞         d   \n",
       "-⎜l⋅m⋅⎝a⋅γ ⋅⎝γ⋅l ⋅m - pᵩ(t)⎠⋅cos(γ⋅t - φ(t)) + g⋅pᵩ(t)⋅sin(φ(t))⎠ + pᵩ(t)⋅──(p\n",
       " ⎝                                                                        dt  \n",
       "──────────────────────────────────────────────────────────────────────────────\n",
       "                                          2                                   \n",
       "                                         l ⋅m                                 \n",
       "\n",
       "     ⎞ \n",
       "ᵩ(t))⎟ \n",
       "     ⎠ \n",
       "───────\n",
       "       \n",
       "       "
      ]
     },
     "execution_count": 137,
     "metadata": {},
     "output_type": "execute_result"
    }
   ],
   "source": [
    "L1_a_dot_eq=sp.simplify(L1_a_dot_eq.subs(sp.diff(phi,t),phidot_sol_a));\n",
    "L1_a_dot_eq"
   ]
  },
  {
   "cell_type": "code",
   "execution_count": 138,
   "id": "3e771906",
   "metadata": {},
   "outputs": [
    {
     "name": "stdout",
     "output_type": "stream",
     "text": [
      "- \\frac{l m \\left(a \\gamma^{2} \\left(\\gamma l^{2} m - \\operatorname{p_{\\phi}}{\\left(t \\right)}\\right) \\cos{\\left(\\gamma t - \\phi{\\left(t \\right)} \\right)} + g \\operatorname{p_{\\phi}}{\\left(t \\right)} \\sin{\\left(\\phi{\\left(t \\right)} \\right)}\\right) + \\operatorname{p_{\\phi}}{\\left(t \\right)} \\frac{d}{d t} \\operatorname{p_{\\phi}}{\\left(t \\right)}}{l^{2} m}\n"
     ]
    }
   ],
   "source": [
    "print(sp.latex(L1_a_dot_eq))"
   ]
  },
  {
   "cell_type": "markdown",
   "id": "d9f9448b",
   "metadata": {},
   "source": [
    "# b)"
   ]
  },
  {
   "cell_type": "code",
   "execution_count": 139,
   "id": "b1829baf",
   "metadata": {},
   "outputs": [],
   "source": [
    "# Parameters for the second Lagrangrian\n",
    "m_1=AM.mass(1);\n",
    "m_2=AM.mass(2);\n",
    "Omega=sp.symbols(\"Omega\");\n",
    "\n",
    "# Generalized coordinates\n",
    "theta=sp.Function(\"theta\")(t);\n",
    "\n",
    "q1_b=[theta];"
   ]
  },
  {
   "cell_type": "code",
   "execution_count": 140,
   "id": "51753adb",
   "metadata": {},
   "outputs": [
    {
     "data": {
      "image/png": "[encoded data removed]",
      "text/latex": [
       "$\\displaystyle a^{2} m_{1} \\left(\\Omega^{2} \\sin^{2}{\\left(\\theta{\\left(t \\right)} \\right)} + \\left(\\frac{d}{d t} \\theta{\\left(t \\right)}\\right)^{2}\\right) + 2 a^{2} m_{2} \\sin^{2}{\\left(\\theta{\\left(t \\right)} \\right)} \\left(\\frac{d}{d t} \\theta{\\left(t \\right)}\\right)^{2} + a g \\left(2 m_{1} + 2 m_{2}\\right) \\cos{\\left(\\theta{\\left(t \\right)} \\right)}$"
      ],
      "text/plain": [
       "      ⎛                          2⎞                                2          \n",
       " 2    ⎜ 2    2         ⎛d       ⎞ ⎟      2       2       ⎛d       ⎞           \n",
       "a ⋅m₁⋅⎜Ω ⋅sin (θ(t)) + ⎜──(θ(t))⎟ ⎟ + 2⋅a ⋅m₂⋅sin (θ(t))⋅⎜──(θ(t))⎟  + a⋅g⋅(2⋅\n",
       "      ⎝                ⎝dt      ⎠ ⎠                      ⎝dt      ⎠           \n",
       "\n",
       "                    \n",
       "                    \n",
       "m₁ + 2⋅m₂)⋅cos(θ(t))\n",
       "                    "
      ]
     },
     "execution_count": 140,
     "metadata": {},
     "output_type": "execute_result"
    }
   ],
   "source": [
    "# Lagrangian for the second Lagrangian\n",
    "L1_b=m_1*pow(a,2)*(pow(sp.diff(theta,t),2)+pow(Omega,2)*pow(sp.sin(theta),2))+2*m_2*pow(a,2)*pow(sp.diff(theta),2)*pow(sp.sin(theta),2)+2*(m_1+m_2)*g*a*sp.cos(theta);\n",
    "L1_b"
   ]
  },
  {
   "cell_type": "code",
   "execution_count": 141,
   "id": "330e14a7",
   "metadata": {
    "scrolled": true
   },
   "outputs": [
    {
     "data": {
      "image/png": "[encoded data removed]",
      "text/latex": [
       "$\\displaystyle a \\left(- \\Omega^{2} a m_{1} \\sin^{2}{\\left(\\theta{\\left(t \\right)} \\right)} + a m_{1} \\left(\\frac{d}{d t} \\theta{\\left(t \\right)}\\right)^{2} + 2 a m_{2} \\sin^{2}{\\left(\\theta{\\left(t \\right)} \\right)} \\left(\\frac{d}{d t} \\theta{\\left(t \\right)}\\right)^{2} - 2 g m_{1} \\cos{\\left(\\theta{\\left(t \\right)} \\right)} - 2 g m_{2} \\cos{\\left(\\theta{\\left(t \\right)} \\right)}\\right)$"
      ],
      "text/plain": [
       "  ⎛                                      2                               2    \n",
       "  ⎜   2         2              ⎛d       ⎞              2       ⎛d       ⎞     \n",
       "a⋅⎜- Ω ⋅a⋅m₁⋅sin (θ(t)) + a⋅m₁⋅⎜──(θ(t))⎟  + 2⋅a⋅m₂⋅sin (θ(t))⋅⎜──(θ(t))⎟  - 2\n",
       "  ⎝                            ⎝dt      ⎠                      ⎝dt      ⎠     \n",
       "\n",
       "                                  ⎞\n",
       "                                  ⎟\n",
       "⋅g⋅m₁⋅cos(θ(t)) - 2⋅g⋅m₂⋅cos(θ(t))⎟\n",
       "                                  ⎠"
      ]
     },
     "execution_count": 141,
     "metadata": {},
     "output_type": "execute_result"
    }
   ],
   "source": [
    "# Computation of the Hamiltonian\n",
    "H1_b=sp.simplify(AM.H(q1_b,t,L1_b)[0]);\n",
    "H1_b"
   ]
  },
  {
   "cell_type": "code",
   "execution_count": 142,
   "id": "f0ffef57",
   "metadata": {},
   "outputs": [
    {
     "name": "stdout",
     "output_type": "stream",
     "text": [
      "a \\left(- \\Omega^{2} a m_{1} \\sin^{2}{\\left(\\theta{\\left(t \\right)} \\right)} + a m_{1} \\left(\\frac{d}{d t} \\theta{\\left(t \\right)}\\right)^{2} + 2 a m_{2} \\sin^{2}{\\left(\\theta{\\left(t \\right)} \\right)} \\left(\\frac{d}{d t} \\theta{\\left(t \\right)}\\right)^{2} - 2 g m_{1} \\cos{\\left(\\theta{\\left(t \\right)} \\right)} - 2 g m_{2} \\cos{\\left(\\theta{\\left(t \\right)} \\right)}\\right)\n"
     ]
    }
   ],
   "source": [
    "print(sp.latex(H1_b))"
   ]
  },
  {
   "cell_type": "code",
   "execution_count": 143,
   "id": "bf453cfb",
   "metadata": {},
   "outputs": [
    {
     "data": {
      "image/png": "[encoded data removed]",
      "text/latex": [
       "$\\displaystyle \\left[ 2 a^{2} m_{1} \\frac{d}{d t} \\theta{\\left(t \\right)} + 4 a^{2} m_{2} \\sin^{2}{\\left(\\theta{\\left(t \\right)} \\right)} \\frac{d}{d t} \\theta{\\left(t \\right)}\\right]$"
      ],
      "text/plain": [
       "⎡   2    d             2       2       d       ⎤\n",
       "⎢2⋅a ⋅m₁⋅──(θ(t)) + 4⋅a ⋅m₂⋅sin (θ(t))⋅──(θ(t))⎥\n",
       "⎣        dt                            dt      ⎦"
      ]
     },
     "execution_count": 143,
     "metadata": {},
     "output_type": "execute_result"
    }
   ],
   "source": [
    "# Generalized momenta array to solve the equations of motion for the generalized velocities\n",
    "P1_b=AM.H(q1_b,t,L1_b)[1];\n",
    "P1_b"
   ]
  },
  {
   "cell_type": "code",
   "execution_count": 144,
   "id": "23c84ac6",
   "metadata": {},
   "outputs": [
    {
     "name": "stdout",
     "output_type": "stream",
     "text": [
      "2 a^{2} \\left(m_{1} + 2 m_{2} \\sin^{2}{\\left(\\theta{\\left(t \\right)} \\right)}\\right) \\frac{d}{d t} \\theta{\\left(t \\right)}\n"
     ]
    }
   ],
   "source": [
    "print(sp.latex(sp.simplify(P1_b[0])))"
   ]
  },
  {
   "cell_type": "code",
   "execution_count": 145,
   "id": "11e15bda",
   "metadata": {},
   "outputs": [],
   "source": [
    "# Symbolic momentum\n",
    "p_theta=sp.Function(\"p_theta\")(t);\n",
    "\n",
    "# Array of SYMBOLIC generalized momentum\n",
    "p1_b=[p_theta];"
   ]
  },
  {
   "cell_type": "code",
   "execution_count": 146,
   "id": "c1c13f6b",
   "metadata": {},
   "outputs": [
    {
     "data": {
      "image/png": "[encoded data removed]",
      "text/latex": [
       "$\\displaystyle \\frac{\\operatorname{p_{\\theta}}{\\left(t \\right)}}{2 a^{2} \\left(m_{1} + 2 m_{2} \\sin^{2}{\\left(\\theta{\\left(t \\right)} \\right)}\\right)}$"
      ],
      "text/plain": [
       "         pₜₕₑₜₐ(t)         \n",
       "───────────────────────────\n",
       "   2 ⎛             2      ⎞\n",
       "2⋅a ⋅⎝m₁ + 2⋅m₂⋅sin (θ(t))⎠"
      ]
     },
     "execution_count": 146,
     "metadata": {},
     "output_type": "execute_result"
    }
   ],
   "source": [
    "# Finding a solution for the generalized momentum as a function of the generalized velocity \n",
    "thetadot_sol=sp.solve(sp.Eq(P1_b[0],p_theta),sp.diff(theta,t))[0];\n",
    "thetadot_sol"
   ]
  },
  {
   "cell_type": "code",
   "execution_count": 147,
   "id": "21d3b3f7",
   "metadata": {},
   "outputs": [
    {
     "data": {
      "image/png": "[encoded data removed]",
      "text/latex": [
       "$\\displaystyle \\frac{- 4 a^{3} \\left(m_{1} + 2 m_{2} \\sin^{2}{\\left(\\theta{\\left(t \\right)} \\right)}\\right)^{2} \\left(\\Omega^{2} a m_{1} \\sin^{2}{\\left(\\theta{\\left(t \\right)} \\right)} + 2 g m_{1} \\cos{\\left(\\theta{\\left(t \\right)} \\right)} + 2 g m_{2} \\cos{\\left(\\theta{\\left(t \\right)} \\right)}\\right) + m_{1} \\operatorname{p_{\\theta}}^{2}{\\left(t \\right)} + 2 m_{2} \\operatorname{p_{\\theta}}^{2}{\\left(t \\right)} \\sin^{2}{\\left(\\theta{\\left(t \\right)} \\right)}}{4 a^{2} \\left(m_{1} + 2 m_{2} \\sin^{2}{\\left(\\theta{\\left(t \\right)} \\right)}\\right)^{2}}$"
      ],
      "text/plain": [
       "                             2                                                \n",
       "     3 ⎛             2      ⎞  ⎛ 2         2                                  \n",
       "- 4⋅a ⋅⎝m₁ + 2⋅m₂⋅sin (θ(t))⎠ ⋅⎝Ω ⋅a⋅m₁⋅sin (θ(t)) + 2⋅g⋅m₁⋅cos(θ(t)) + 2⋅g⋅m₂\n",
       "──────────────────────────────────────────────────────────────────────────────\n",
       "                                                                              \n",
       "                                                        2 ⎛             2     \n",
       "                                                     4⋅a ⋅⎝m₁ + 2⋅m₂⋅sin (θ(t)\n",
       "\n",
       "                                                        \n",
       "          ⎞            2                 2       2      \n",
       "⋅cos(θ(t))⎠ + m₁⋅pₜₕₑₜₐ (t) + 2⋅m₂⋅pₜₕₑₜₐ (t)⋅sin (θ(t))\n",
       "────────────────────────────────────────────────────────\n",
       "  2                                                     \n",
       " ⎞                                                      \n",
       ")⎠                                                      "
      ]
     },
     "execution_count": 147,
     "metadata": {},
     "output_type": "execute_result"
    }
   ],
   "source": [
    "# Substituing this result back into the Hamiltonian\n",
    "H1_b=sp.simplify(H1_b.subs(sp.diff(theta,t),thetadot_sol));\n",
    "H1_b"
   ]
  },
  {
   "cell_type": "code",
   "execution_count": 148,
   "id": "3e97a2c9",
   "metadata": {},
   "outputs": [
    {
     "name": "stdout",
     "output_type": "stream",
     "text": [
      "\\frac{- 4 a^{3} \\left(m_{1} + 2 m_{2} \\sin^{2}{\\left(\\theta{\\left(t \\right)} \\right)}\\right)^{2} \\left(\\Omega^{2} a m_{1} \\sin^{2}{\\left(\\theta{\\left(t \\right)} \\right)} + 2 g m_{1} \\cos{\\left(\\theta{\\left(t \\right)} \\right)} + 2 g m_{2} \\cos{\\left(\\theta{\\left(t \\right)} \\right)}\\right) + m_{1} \\operatorname{p_{\\theta}}^{2}{\\left(t \\right)} + 2 m_{2} \\operatorname{p_{\\theta}}^{2}{\\left(t \\right)} \\sin^{2}{\\left(\\theta{\\left(t \\right)} \\right)}}{4 a^{2} \\left(m_{1} + 2 m_{2} \\sin^{2}{\\left(\\theta{\\left(t \\right)} \\right)}\\right)^{2}}\n"
     ]
    }
   ],
   "source": [
    "print(sp.latex(H1_b))"
   ]
  },
  {
   "cell_type": "code",
   "execution_count": 149,
   "id": "71c9880f",
   "metadata": {
    "scrolled": true
   },
   "outputs": [
    {
     "data": {
      "image/png": "[encoded data removed]",
      "text/latex": [
       "$\\displaystyle \\left[ \\left[ \\frac{2 m_{1} \\operatorname{p_{\\theta}}{\\left(t \\right)} + 4 m_{2} \\operatorname{p_{\\theta}}{\\left(t \\right)} \\sin^{2}{\\left(\\theta{\\left(t \\right)} \\right)}}{4 a^{2} \\left(m_{1} + 2 m_{2} \\sin^{2}{\\left(\\theta{\\left(t \\right)} \\right)}\\right)^{2}}\\right], \\  \\left[ \\frac{2 m_{2} \\left(- 4 a^{3} \\left(m_{1} + 2 m_{2} \\sin^{2}{\\left(\\theta{\\left(t \\right)} \\right)}\\right)^{2} \\left(\\Omega^{2} a m_{1} \\sin^{2}{\\left(\\theta{\\left(t \\right)} \\right)} + 2 g m_{1} \\cos{\\left(\\theta{\\left(t \\right)} \\right)} + 2 g m_{2} \\cos{\\left(\\theta{\\left(t \\right)} \\right)}\\right) + m_{1} \\operatorname{p_{\\theta}}^{2}{\\left(t \\right)} + 2 m_{2} \\operatorname{p_{\\theta}}^{2}{\\left(t \\right)} \\sin^{2}{\\left(\\theta{\\left(t \\right)} \\right)}\\right) \\sin{\\left(\\theta{\\left(t \\right)} \\right)} \\cos{\\left(\\theta{\\left(t \\right)} \\right)}}{a^{2} \\left(m_{1} + 2 m_{2} \\sin^{2}{\\left(\\theta{\\left(t \\right)} \\right)}\\right)^{3}} - \\frac{- 32 a^{3} m_{2} \\left(m_{1} + 2 m_{2} \\sin^{2}{\\left(\\theta{\\left(t \\right)} \\right)}\\right) \\left(\\Omega^{2} a m_{1} \\sin^{2}{\\left(\\theta{\\left(t \\right)} \\right)} + 2 g m_{1} \\cos{\\left(\\theta{\\left(t \\right)} \\right)} + 2 g m_{2} \\cos{\\left(\\theta{\\left(t \\right)} \\right)}\\right) \\sin{\\left(\\theta{\\left(t \\right)} \\right)} \\cos{\\left(\\theta{\\left(t \\right)} \\right)} - 4 a^{3} \\left(m_{1} + 2 m_{2} \\sin^{2}{\\left(\\theta{\\left(t \\right)} \\right)}\\right)^{2} \\left(2 \\Omega^{2} a m_{1} \\sin{\\left(\\theta{\\left(t \\right)} \\right)} \\cos{\\left(\\theta{\\left(t \\right)} \\right)} - 2 g m_{1} \\sin{\\left(\\theta{\\left(t \\right)} \\right)} - 2 g m_{2} \\sin{\\left(\\theta{\\left(t \\right)} \\right)}\\right) + 4 m_{2} \\operatorname{p_{\\theta}}^{2}{\\left(t \\right)} \\sin{\\left(\\theta{\\left(t \\right)} \\right)} \\cos{\\left(\\theta{\\left(t \\right)} \\right)}}{4 a^{2} \\left(m_{1} + 2 m_{2} \\sin^{2}{\\left(\\theta{\\left(t \\right)} \\right)}\\right)^{2}}\\right], \\  \\frac{2 m_{2} \\left(- 4 a^{3} \\left(m_{1} + 2 m_{2} \\sin^{2}{\\left(\\theta{\\left(t \\right)} \\right)}\\right)^{2} \\left(\\Omega^{2} a m_{1} \\sin^{2}{\\left(\\theta{\\left(t \\right)} \\right)} + 2 g m_{1} \\cos{\\left(\\theta{\\left(t \\right)} \\right)} + 2 g m_{2} \\cos{\\left(\\theta{\\left(t \\right)} \\right)}\\right) + m_{1} \\operatorname{p_{\\theta}}^{2}{\\left(t \\right)} + 2 m_{2} \\operatorname{p_{\\theta}}^{2}{\\left(t \\right)} \\sin^{2}{\\left(\\theta{\\left(t \\right)} \\right)}\\right) \\sin{\\left(\\theta{\\left(t \\right)} \\right)} \\cos{\\left(\\theta{\\left(t \\right)} \\right)} \\frac{d}{d t} \\theta{\\left(t \\right)}}{a^{2} \\left(m_{1} + 2 m_{2} \\sin^{2}{\\left(\\theta{\\left(t \\right)} \\right)}\\right)^{3}} - \\frac{- 32 a^{3} m_{2} \\left(m_{1} + 2 m_{2} \\sin^{2}{\\left(\\theta{\\left(t \\right)} \\right)}\\right) \\left(\\Omega^{2} a m_{1} \\sin^{2}{\\left(\\theta{\\left(t \\right)} \\right)} + 2 g m_{1} \\cos{\\left(\\theta{\\left(t \\right)} \\right)} + 2 g m_{2} \\cos{\\left(\\theta{\\left(t \\right)} \\right)}\\right) \\sin{\\left(\\theta{\\left(t \\right)} \\right)} \\cos{\\left(\\theta{\\left(t \\right)} \\right)} \\frac{d}{d t} \\theta{\\left(t \\right)} - 4 a^{3} \\left(m_{1} + 2 m_{2} \\sin^{2}{\\left(\\theta{\\left(t \\right)} \\right)}\\right)^{2} \\left(2 \\Omega^{2} a m_{1} \\sin{\\left(\\theta{\\left(t \\right)} \\right)} \\cos{\\left(\\theta{\\left(t \\right)} \\right)} \\frac{d}{d t} \\theta{\\left(t \\right)} - 2 g m_{1} \\sin{\\left(\\theta{\\left(t \\right)} \\right)} \\frac{d}{d t} \\theta{\\left(t \\right)} - 2 g m_{2} \\sin{\\left(\\theta{\\left(t \\right)} \\right)} \\frac{d}{d t} \\theta{\\left(t \\right)}\\right) + 2 m_{1} \\operatorname{p_{\\theta}}{\\left(t \\right)} \\frac{d}{d t} \\operatorname{p_{\\theta}}{\\left(t \\right)} + 4 m_{2} \\operatorname{p_{\\theta}}^{2}{\\left(t \\right)} \\sin{\\left(\\theta{\\left(t \\right)} \\right)} \\cos{\\left(\\theta{\\left(t \\right)} \\right)} \\frac{d}{d t} \\theta{\\left(t \\right)} + 4 m_{2} \\operatorname{p_{\\theta}}{\\left(t \\right)} \\sin^{2}{\\left(\\theta{\\left(t \\right)} \\right)} \\frac{d}{d t} \\operatorname{p_{\\theta}}{\\left(t \\right)}}{4 a^{2} \\left(m_{1} + 2 m_{2} \\sin^{2}{\\left(\\theta{\\left(t \\right)} \\right)}\\right)^{2}}\\right]$"
      ],
      "text/plain": [
       "⎡                                                                             \n",
       "⎢                                              ⎡     ⎛                        \n",
       "⎢⎡                                   2      ⎤  ⎢     ⎜     3 ⎛             2  \n",
       "⎢⎢2⋅m₁⋅pₜₕₑₜₐ(t) + 4⋅m₂⋅pₜₕₑₜₐ(t)⋅sin (θ(t))⎥  ⎢2⋅m₂⋅⎝- 4⋅a ⋅⎝m₁ + 2⋅m₂⋅sin (θ\n",
       "⎢⎢──────────────────────────────────────────⎥, ⎢──────────────────────────────\n",
       "⎢⎢                                  2       ⎥  ⎢                              \n",
       "⎢⎢          2 ⎛             2      ⎞        ⎥  ⎢                              \n",
       "⎣⎣       4⋅a ⋅⎝m₁ + 2⋅m₂⋅sin (θ(t))⎠        ⎦  ⎣                              \n",
       "\n",
       "                                                                              \n",
       "     2                                                                        \n",
       "    ⎞  ⎛ 2         2                                            ⎞            2\n",
       "(t))⎠ ⋅⎝Ω ⋅a⋅m₁⋅sin (θ(t)) + 2⋅g⋅m₁⋅cos(θ(t)) + 2⋅g⋅m₂⋅cos(θ(t))⎠ + m₁⋅pₜₕₑₜₐ \n",
       "──────────────────────────────────────────────────────────────────────────────\n",
       "                                                               3              \n",
       "                                       2 ⎛             2      ⎞               \n",
       "                                      a ⋅⎝m₁ + 2⋅m₂⋅sin (θ(t))⎠               \n",
       "\n",
       "                                                                              \n",
       "                                ⎞                                             \n",
       "                 2       2      ⎟                             3    ⎛          \n",
       "(t) + 2⋅m₂⋅pₜₕₑₜₐ (t)⋅sin (θ(t))⎠⋅sin(θ(t))⋅cos(θ(t))   - 32⋅a ⋅m₂⋅⎝m₁ + 2⋅m₂⋅\n",
       "───────────────────────────────────────────────────── - ──────────────────────\n",
       "                                                                              \n",
       "                                                                              \n",
       "                                                                              \n",
       "\n",
       "                                                                              \n",
       "                                                                              \n",
       "   2      ⎞ ⎛ 2         2                                            ⎞        \n",
       "sin (θ(t))⎠⋅⎝Ω ⋅a⋅m₁⋅sin (θ(t)) + 2⋅g⋅m₁⋅cos(θ(t)) + 2⋅g⋅m₂⋅cos(θ(t))⎠⋅sin(θ(t\n",
       "──────────────────────────────────────────────────────────────────────────────\n",
       "                                                                              \n",
       "                                                                              \n",
       "                                                                              \n",
       "\n",
       "                                                                              \n",
       "                                          2                                   \n",
       "                  3 ⎛             2      ⎞  ⎛   2                             \n",
       "))⋅cos(θ(t)) - 4⋅a ⋅⎝m₁ + 2⋅m₂⋅sin (θ(t))⎠ ⋅⎝2⋅Ω ⋅a⋅m₁⋅sin(θ(t))⋅cos(θ(t)) - 2\n",
       "──────────────────────────────────────────────────────────────────────────────\n",
       "                                       2                                      \n",
       "               2 ⎛             2      ⎞                                       \n",
       "            4⋅a ⋅⎝m₁ + 2⋅m₂⋅sin (θ(t))⎠                                       \n",
       "\n",
       "                                                                              \n",
       "                                                                         ⎤    \n",
       "                                  ⎞              2                       ⎥  2⋅\n",
       "⋅g⋅m₁⋅sin(θ(t)) - 2⋅g⋅m₂⋅sin(θ(t))⎠ + 4⋅m₂⋅pₜₕₑₜₐ (t)⋅sin(θ(t))⋅cos(θ(t))⎥    \n",
       "─────────────────────────────────────────────────────────────────────────⎥, ──\n",
       "                                                                         ⎥    \n",
       "                                                                         ⎥    \n",
       "                                                                         ⎦    \n",
       "\n",
       "   ⎛                             2                                            \n",
       "   ⎜     3 ⎛             2      ⎞  ⎛ 2         2                              \n",
       "m₂⋅⎝- 4⋅a ⋅⎝m₁ + 2⋅m₂⋅sin (θ(t))⎠ ⋅⎝Ω ⋅a⋅m₁⋅sin (θ(t)) + 2⋅g⋅m₁⋅cos(θ(t)) + 2⋅\n",
       "                                                                              \n",
       "──────────────────────────────────────────────────────────────────────────────\n",
       "                                                                              \n",
       "                                                                       2 ⎛    \n",
       "                                                                      a ⋅⎝m₁ +\n",
       "\n",
       "                                                            ⎞                 \n",
       "              ⎞            2                 2       2      ⎟                 \n",
       "g⋅m₂⋅cos(θ(t))⎠ + m₁⋅pₜₕₑₜₐ (t) + 2⋅m₂⋅pₜₕₑₜₐ (t)⋅sin (θ(t))⎠⋅sin(θ(t))⋅cos(θ(\n",
       "                                                                              \n",
       "──────────────────────────────────────────────────────────────────────────────\n",
       "                 3                                                            \n",
       "         2      ⎞                                                             \n",
       " 2⋅m₂⋅sin (θ(t))⎠                                                             \n",
       "\n",
       "                                                                              \n",
       "    d                3    ⎛             2      ⎞ ⎛ 2         2                \n",
       "t))⋅──(θ(t))   - 32⋅a ⋅m₂⋅⎝m₁ + 2⋅m₂⋅sin (θ(t))⎠⋅⎝Ω ⋅a⋅m₁⋅sin (θ(t)) + 2⋅g⋅m₁⋅\n",
       "    dt                                                                        \n",
       "──────────── - ───────────────────────────────────────────────────────────────\n",
       "                                                                              \n",
       "                                                                              \n",
       "                                                                              \n",
       "\n",
       "                                                                              \n",
       "                            ⎞                     d             3 ⎛           \n",
       "cos(θ(t)) + 2⋅g⋅m₂⋅cos(θ(t))⎠⋅sin(θ(t))⋅cos(θ(t))⋅──(θ(t)) - 4⋅a ⋅⎝m₁ + 2⋅m₂⋅s\n",
       "                                                  dt                          \n",
       "──────────────────────────────────────────────────────────────────────────────\n",
       "                                                                              \n",
       "                                                                              \n",
       "                                                                              \n",
       "\n",
       "          2                                                                   \n",
       "  2      ⎞  ⎛   2                          d                           d      \n",
       "in (θ(t))⎠ ⋅⎜2⋅Ω ⋅a⋅m₁⋅sin(θ(t))⋅cos(θ(t))⋅──(θ(t)) - 2⋅g⋅m₁⋅sin(θ(t))⋅──(θ(t)\n",
       "            ⎝                              dt                          dt     \n",
       "──────────────────────────────────────────────────────────────────────────────\n",
       "                                                         2                    \n",
       "                                 2 ⎛             2      ⎞                     \n",
       "                              4⋅a ⋅⎝m₁ + 2⋅m₂⋅sin (θ(t))⎠                     \n",
       "\n",
       "                                                                              \n",
       "                     d       ⎞                  d                          2  \n",
       ") - 2⋅g⋅m₂⋅sin(θ(t))⋅──(θ(t))⎟ + 2⋅m₁⋅pₜₕₑₜₐ(t)⋅──(pₜₕₑₜₐ(t)) + 4⋅m₂⋅pₜₕₑₜₐ (t\n",
       "                     dt      ⎠                  dt                            \n",
       "──────────────────────────────────────────────────────────────────────────────\n",
       "                                                                              \n",
       "                                                                              \n",
       "                                                                              \n",
       "\n",
       "                                                                        ⎤\n",
       "                      d                            2       d            ⎥\n",
       ")⋅sin(θ(t))⋅cos(θ(t))⋅──(θ(t)) + 4⋅m₂⋅pₜₕₑₜₐ(t)⋅sin (θ(t))⋅──(pₜₕₑₜₐ(t))⎥\n",
       "                      dt                                   dt           ⎥\n",
       "────────────────────────────────────────────────────────────────────────⎥\n",
       "                                                                        ⎥\n",
       "                                                                        ⎥\n",
       "                                                                        ⎦"
      ]
     },
     "execution_count": 149,
     "metadata": {},
     "output_type": "execute_result"
    }
   ],
   "source": [
    "# Computing the canonical equations\n",
    "can_eqs1_b=AM.can_eqs(H1_b,q1_b,p1_b);\n",
    "can_eqs1_b"
   ]
  },
  {
   "cell_type": "code",
   "execution_count": 150,
   "id": "90cf1a70",
   "metadata": {},
   "outputs": [
    {
     "data": {
      "image/png": "[encoded data removed]",
      "text/latex": [
       "$\\displaystyle \\frac{\\operatorname{p_{\\theta}}{\\left(t \\right)}}{2 a^{2} \\left(m_{1} + 2 m_{2} \\sin^{2}{\\left(\\theta{\\left(t \\right)} \\right)}\\right)}$"
      ],
      "text/plain": [
       "         pₜₕₑₜₐ(t)         \n",
       "───────────────────────────\n",
       "   2 ⎛             2      ⎞\n",
       "2⋅a ⋅⎝m₁ + 2⋅m₂⋅sin (θ(t))⎠"
      ]
     },
     "execution_count": 150,
     "metadata": {},
     "output_type": "execute_result"
    }
   ],
   "source": [
    "# For dtheta/dt\n",
    "theta_dot_eq=sp.simplify(can_eqs1_b[0][0]);\n",
    "theta_dot_eq"
   ]
  },
  {
   "cell_type": "code",
   "execution_count": 151,
   "id": "6d2f71ed",
   "metadata": {},
   "outputs": [
    {
     "name": "stdout",
     "output_type": "stream",
     "text": [
      "\\frac{\\operatorname{p_{\\theta}}{\\left(t \\right)}}{2 a^{2} \\left(m_{1} + 2 m_{2} \\sin^{2}{\\left(\\theta{\\left(t \\right)} \\right)}\\right)}\n"
     ]
    }
   ],
   "source": [
    "print(sp.latex(theta_dot_eq))"
   ]
  },
  {
   "cell_type": "code",
   "execution_count": 152,
   "id": "87ff72e7",
   "metadata": {},
   "outputs": [
    {
     "data": {
      "image/png": "[encoded data removed]",
      "text/latex": [
       "$\\displaystyle \\frac{\\left(2 \\Omega^{2} a^{4} m_{1}^{3} \\cos{\\left(\\theta{\\left(t \\right)} \\right)} + 8 \\Omega^{2} a^{4} m_{1}^{2} m_{2} \\sin^{2}{\\left(\\theta{\\left(t \\right)} \\right)} \\cos{\\left(\\theta{\\left(t \\right)} \\right)} + 8 \\Omega^{2} a^{4} m_{1} m_{2}^{2} \\sin^{4}{\\left(\\theta{\\left(t \\right)} \\right)} \\cos{\\left(\\theta{\\left(t \\right)} \\right)} - 2 a^{3} g m_{1}^{3} - 8 a^{3} g m_{1}^{2} m_{2} \\sin^{2}{\\left(\\theta{\\left(t \\right)} \\right)} - 2 a^{3} g m_{1}^{2} m_{2} - 8 a^{3} g m_{1} m_{2}^{2} \\sin^{4}{\\left(\\theta{\\left(t \\right)} \\right)} - 8 a^{3} g m_{1} m_{2}^{2} \\sin^{2}{\\left(\\theta{\\left(t \\right)} \\right)} - 8 a^{3} g m_{2}^{3} \\sin^{4}{\\left(\\theta{\\left(t \\right)} \\right)} + m_{2} \\operatorname{p_{\\theta}}^{2}{\\left(t \\right)} \\cos{\\left(\\theta{\\left(t \\right)} \\right)}\\right) \\sin{\\left(\\theta{\\left(t \\right)} \\right)}}{a^{2} \\left(m_{1} + 2 m_{2} \\sin^{2}{\\left(\\theta{\\left(t \\right)} \\right)}\\right)^{2}}$"
      ],
      "text/plain": [
       "⎛   2  4   3                2  4   2       2                      2  4      2 \n",
       "⎝2⋅Ω ⋅a ⋅m₁ ⋅cos(θ(t)) + 8⋅Ω ⋅a ⋅m₁ ⋅m₂⋅sin (θ(t))⋅cos(θ(t)) + 8⋅Ω ⋅a ⋅m₁⋅m₂ ⋅\n",
       "──────────────────────────────────────────────────────────────────────────────\n",
       "                                                                              \n",
       "                                                                              \n",
       "                                                                              \n",
       "\n",
       "   4                      3     3      3     2       2            3     2     \n",
       "sin (θ(t))⋅cos(θ(t)) - 2⋅a ⋅g⋅m₁  - 8⋅a ⋅g⋅m₁ ⋅m₂⋅sin (θ(t)) - 2⋅a ⋅g⋅m₁ ⋅m₂ -\n",
       "──────────────────────────────────────────────────────────────────────────────\n",
       "                                                                     2        \n",
       "                                             2 ⎛             2      ⎞         \n",
       "                                            a ⋅⎝m₁ + 2⋅m₂⋅sin (θ(t))⎠         \n",
       "\n",
       "    3        2    4            3        2    2            3     3    4        \n",
       " 8⋅a ⋅g⋅m₁⋅m₂ ⋅sin (θ(t)) - 8⋅a ⋅g⋅m₁⋅m₂ ⋅sin (θ(t)) - 8⋅a ⋅g⋅m₂ ⋅sin (θ(t)) +\n",
       "──────────────────────────────────────────────────────────────────────────────\n",
       "                                                                              \n",
       "                                                                              \n",
       "                                                                              \n",
       "\n",
       "          2             ⎞          \n",
       " m₂⋅pₜₕₑₜₐ (t)⋅cos(θ(t))⎠⋅sin(θ(t))\n",
       "───────────────────────────────────\n",
       "                                   \n",
       "                                   \n",
       "                                   "
      ]
     },
     "execution_count": 152,
     "metadata": {},
     "output_type": "execute_result"
    }
   ],
   "source": [
    "# For dp_theta/dt\n",
    "p_theta_dot_eq=sp.simplify(can_eqs1_b[1][0]);\n",
    "p_theta_dot_eq"
   ]
  },
  {
   "cell_type": "code",
   "execution_count": 153,
   "id": "9bccbc58",
   "metadata": {},
   "outputs": [
    {
     "name": "stdout",
     "output_type": "stream",
     "text": [
      "\\frac{\\left(2 \\Omega^{2} a^{4} m_{1}^{3} \\cos{\\left(\\theta{\\left(t \\right)} \\right)} + 8 \\Omega^{2} a^{4} m_{1}^{2} m_{2} \\sin^{2}{\\left(\\theta{\\left(t \\right)} \\right)} \\cos{\\left(\\theta{\\left(t \\right)} \\right)} + 8 \\Omega^{2} a^{4} m_{1} m_{2}^{2} \\sin^{4}{\\left(\\theta{\\left(t \\right)} \\right)} \\cos{\\left(\\theta{\\left(t \\right)} \\right)} - 2 a^{3} g m_{1}^{3} - 8 a^{3} g m_{1}^{2} m_{2} \\sin^{2}{\\left(\\theta{\\left(t \\right)} \\right)} - 2 a^{3} g m_{1}^{2} m_{2} - 8 a^{3} g m_{1} m_{2}^{2} \\sin^{4}{\\left(\\theta{\\left(t \\right)} \\right)} - 8 a^{3} g m_{1} m_{2}^{2} \\sin^{2}{\\left(\\theta{\\left(t \\right)} \\right)} - 8 a^{3} g m_{2}^{3} \\sin^{4}{\\left(\\theta{\\left(t \\right)} \\right)} + m_{2} \\operatorname{p_{\\theta}}^{2}{\\left(t \\right)} \\cos{\\left(\\theta{\\left(t \\right)} \\right)}\\right) \\sin{\\left(\\theta{\\left(t \\right)} \\right)}}{a^{2} \\left(m_{1} + 2 m_{2} \\sin^{2}{\\left(\\theta{\\left(t \\right)} \\right)}\\right)^{2}}\n"
     ]
    }
   ],
   "source": [
    "print(sp.latex(p_theta_dot_eq))"
   ]
  },
  {
   "cell_type": "code",
   "execution_count": 154,
   "id": "7d052551",
   "metadata": {
    "scrolled": true
   },
   "outputs": [
    {
     "data": {
      "image/png": "[encoded data removed]",
      "text/latex": [
       "$\\displaystyle \\frac{\\left(- 2 a^{3} \\left(m_{1} + 2 m_{2} \\sin^{2}{\\left(\\theta{\\left(t \\right)} \\right)}\\right)^{2} \\left(- \\Omega^{2} a m_{1} \\cos{\\left(\\theta{\\left(t \\right)} \\right)} + g m_{1} + g m_{2}\\right) \\sin{\\left(\\theta{\\left(t \\right)} \\right)} - a^{2} \\left(m_{1} + 2 m_{2} \\sin^{2}{\\left(\\theta{\\left(t \\right)} \\right)}\\right)^{2} \\frac{d}{d t} \\operatorname{p_{\\theta}}{\\left(t \\right)} + \\frac{m_{2} \\operatorname{p_{\\theta}}^{2}{\\left(t \\right)} \\sin{\\left(2 \\theta{\\left(t \\right)} \\right)}}{2}\\right) \\operatorname{p_{\\theta}}{\\left(t \\right)}}{2 a^{4} \\left(m_{1} + 2 m_{2} \\sin^{2}{\\left(\\theta{\\left(t \\right)} \\right)}\\right)^{3}}$"
      ],
      "text/plain": [
       "⎛                             2                                               \n",
       "⎜     3 ⎛             2      ⎞  ⎛   2                             ⎞           \n",
       "⎜- 2⋅a ⋅⎝m₁ + 2⋅m₂⋅sin (θ(t))⎠ ⋅⎝- Ω ⋅a⋅m₁⋅cos(θ(t)) + g⋅m₁ + g⋅m₂⎠⋅sin(θ(t)) \n",
       "⎝                                                                             \n",
       "──────────────────────────────────────────────────────────────────────────────\n",
       "                                                                              \n",
       "                                                                     4 ⎛      \n",
       "                                                                  2⋅a ⋅⎝m₁ + 2\n",
       "\n",
       "                           2                          2               ⎞       \n",
       "   2 ⎛             2      ⎞  d               m₂⋅pₜₕₑₜₐ (t)⋅sin(2⋅θ(t))⎟       \n",
       "- a ⋅⎝m₁ + 2⋅m₂⋅sin (θ(t))⎠ ⋅──(pₜₕₑₜₐ(t)) + ─────────────────────────⎟⋅pₜₕₑₜₐ\n",
       "                             dt                          2            ⎠       \n",
       "──────────────────────────────────────────────────────────────────────────────\n",
       "               3                                                              \n",
       "       2      ⎞                                                               \n",
       "⋅m₂⋅sin (θ(t))⎠                                                               \n",
       "\n",
       "   \n",
       "   \n",
       "(t)\n",
       "   \n",
       "───\n",
       "   \n",
       "   \n",
       "   "
      ]
     },
     "execution_count": 154,
     "metadata": {},
     "output_type": "execute_result"
    }
   ],
   "source": [
    "# For dL/dt\n",
    "L1_b_dot_eq=sp.simplify(can_eqs1_b[2]);\n",
    "L1_b_dot_eq=sp.simplify(L1_b_dot_eq.subs(sp.diff(theta,t),theta_dot_eq));\n",
    "L1_b_dot_eq"
   ]
  },
  {
   "cell_type": "code",
   "execution_count": 155,
   "id": "3459b69a",
   "metadata": {},
   "outputs": [
    {
     "name": "stdout",
     "output_type": "stream",
     "text": [
      "\\frac{\\left(- 2 a^{3} \\left(m_{1} + 2 m_{2} \\sin^{2}{\\left(\\theta{\\left(t \\right)} \\right)}\\right)^{2} \\left(- \\Omega^{2} a m_{1} \\cos{\\left(\\theta{\\left(t \\right)} \\right)} + g m_{1} + g m_{2}\\right) \\sin{\\left(\\theta{\\left(t \\right)} \\right)} - a^{2} \\left(m_{1} + 2 m_{2} \\sin^{2}{\\left(\\theta{\\left(t \\right)} \\right)}\\right)^{2} \\frac{d}{d t} \\operatorname{p_{\\theta}}{\\left(t \\right)} + \\frac{m_{2} \\operatorname{p_{\\theta}}^{2}{\\left(t \\right)} \\sin{\\left(2 \\theta{\\left(t \\right)} \\right)}}{2}\\right) \\operatorname{p_{\\theta}}{\\left(t \\right)}}{2 a^{4} \\left(m_{1} + 2 m_{2} \\sin^{2}{\\left(\\theta{\\left(t \\right)} \\right)}\\right)^{3}}\n"
     ]
    }
   ],
   "source": [
    "print(sp.latex(L1_b_dot_eq))"
   ]
  },
  {
   "cell_type": "markdown",
   "id": "a8c8c97b",
   "metadata": {},
   "source": [
    "# c)"
   ]
  },
  {
   "cell_type": "code",
   "execution_count": 156,
   "id": "27ae630e",
   "metadata": {},
   "outputs": [],
   "source": [
    "# Generalized coordinates\n",
    "x=sp.Function(\"x\")(t);\n",
    "\n",
    "q1_c=[x,phi];"
   ]
  },
  {
   "cell_type": "code",
   "execution_count": 157,
   "id": "46c51538",
   "metadata": {},
   "outputs": [
    {
     "data": {
      "image/png": "[encoded data removed]",
      "text/latex": [
       "$\\displaystyle g l m_{2} \\cos{\\left(\\phi{\\left(t \\right)} \\right)} + \\frac{m_{2} \\left(l^{2} \\left(\\frac{d}{d t} \\phi{\\left(t \\right)}\\right)^{2} + 2 l \\cos{\\left(\\phi{\\left(t \\right)} \\right)} \\frac{d}{d t} \\phi{\\left(t \\right)} \\frac{d}{d t} x{\\left(t \\right)}\\right)}{2} + \\left(\\frac{m_{1}}{2} + \\frac{m_{2}}{2}\\right) \\left(\\frac{d}{d t} x{\\left(t \\right)}\\right)^{2}$"
      ],
      "text/plain": [
       "                      ⎛             2                                  ⎞      \n",
       "                      ⎜ 2 ⎛d       ⎞                  d        d       ⎟      \n",
       "                   m₂⋅⎜l ⋅⎜──(φ(t))⎟  + 2⋅l⋅cos(φ(t))⋅──(φ(t))⋅──(x(t))⎟      \n",
       "                      ⎝   ⎝dt      ⎠                  dt       dt      ⎠   ⎛m₁\n",
       "g⋅l⋅m₂⋅cos(φ(t)) + ───────────────────────────────────────────────────── + ⎜──\n",
       "                                             2                             ⎝2 \n",
       "\n",
       "                  \n",
       "                  \n",
       "                 2\n",
       "   m₂⎞ ⎛d       ⎞ \n",
       " + ──⎟⋅⎜──(x(t))⎟ \n",
       "   2 ⎠ ⎝dt      ⎠ "
      ]
     },
     "execution_count": 157,
     "metadata": {},
     "output_type": "execute_result"
    }
   ],
   "source": [
    "# Lagrangian for the third system\n",
    "L1_c=sp.Rational(1,2)*(m_1+m_2)*pow(sp.diff(x,t),2)+sp.Rational(1,2)*m_2*(pow(l,2)*pow(sp.diff(phi,t),2)+2*l*sp.diff(x,t)*sp.diff(phi,t)*sp.cos(phi))+m_2*g*l*sp.cos(phi);\n",
    "L1_c"
   ]
  },
  {
   "cell_type": "code",
   "execution_count": 158,
   "id": "94f08c8b",
   "metadata": {
    "scrolled": true
   },
   "outputs": [
    {
     "data": {
      "image/png": "[encoded data removed]",
      "text/latex": [
       "$\\displaystyle - g l m_{2} \\cos{\\left(\\phi{\\left(t \\right)} \\right)} + \\frac{l^{2} m_{2} \\left(\\frac{d}{d t} \\phi{\\left(t \\right)}\\right)^{2}}{2} + l m_{2} \\cos{\\left(\\phi{\\left(t \\right)} \\right)} \\frac{d}{d t} \\phi{\\left(t \\right)} \\frac{d}{d t} x{\\left(t \\right)} + \\frac{m_{1} \\left(\\frac{d}{d t} x{\\left(t \\right)}\\right)^{2}}{2} + \\frac{m_{2} \\left(\\frac{d}{d t} x{\\left(t \\right)}\\right)^{2}}{2}$"
      ],
      "text/plain": [
       "                                    2                                         \n",
       "                     2    ⎛d       ⎞                                          \n",
       "                    l ⋅m₂⋅⎜──(φ(t))⎟                                       m₁⋅\n",
       "                          ⎝dt      ⎠                   d        d             \n",
       "-g⋅l⋅m₂⋅cos(φ(t)) + ───────────────── + l⋅m₂⋅cos(φ(t))⋅──(φ(t))⋅──(x(t)) + ───\n",
       "                            2                          dt       dt            \n",
       "\n",
       "          2                2\n",
       "⎛d       ⎞       ⎛d       ⎞ \n",
       "⎜──(x(t))⎟    m₂⋅⎜──(x(t))⎟ \n",
       "⎝dt      ⎠       ⎝dt      ⎠ \n",
       "─────────── + ──────────────\n",
       "   2                2       "
      ]
     },
     "execution_count": 158,
     "metadata": {},
     "output_type": "execute_result"
    }
   ],
   "source": [
    "# Computation of the Hamiltonian\n",
    "H1_c=sp.simplify(AM.H(q1_c,t,L1_c)[0]);\n",
    "H1_c"
   ]
  },
  {
   "cell_type": "code",
   "execution_count": 159,
   "id": "84193053",
   "metadata": {},
   "outputs": [
    {
     "name": "stdout",
     "output_type": "stream",
     "text": [
      "- g l m_{2} \\cos{\\left(\\phi{\\left(t \\right)} \\right)} + \\frac{l^{2} m_{2} \\left(\\frac{d}{d t} \\phi{\\left(t \\right)}\\right)^{2}}{2} + l m_{2} \\cos{\\left(\\phi{\\left(t \\right)} \\right)} \\frac{d}{d t} \\phi{\\left(t \\right)} \\frac{d}{d t} x{\\left(t \\right)} + \\frac{m_{1} \\left(\\frac{d}{d t} x{\\left(t \\right)}\\right)^{2}}{2} + \\frac{m_{2} \\left(\\frac{d}{d t} x{\\left(t \\right)}\\right)^{2}}{2}\n"
     ]
    }
   ],
   "source": [
    "print(sp.latex(H1_c))"
   ]
  },
  {
   "cell_type": "code",
   "execution_count": 160,
   "id": "8a059246",
   "metadata": {},
   "outputs": [
    {
     "data": {
      "image/png": "[encoded data removed]",
      "text/latex": [
       "$\\displaystyle \\left[ l m_{2} \\cos{\\left(\\phi{\\left(t \\right)} \\right)} \\frac{d}{d t} \\phi{\\left(t \\right)} + 2 \\left(\\frac{m_{1}}{2} + \\frac{m_{2}}{2}\\right) \\frac{d}{d t} x{\\left(t \\right)}, \\  \\frac{m_{2} \\left(2 l^{2} \\frac{d}{d t} \\phi{\\left(t \\right)} + 2 l \\cos{\\left(\\phi{\\left(t \\right)} \\right)} \\frac{d}{d t} x{\\left(t \\right)}\\right)}{2}\\right]$"
      ],
      "text/plain": [
       "⎡                                                   ⎛   2 d                   \n",
       "⎢                                                m₂⋅⎜2⋅l ⋅──(φ(t)) + 2⋅l⋅cos(φ\n",
       "⎢               d            ⎛m₁   m₂⎞ d            ⎝     dt                  \n",
       "⎢l⋅m₂⋅cos(φ(t))⋅──(φ(t)) + 2⋅⎜── + ──⎟⋅──(x(t)), ─────────────────────────────\n",
       "⎣               dt           ⎝2    2 ⎠ dt                             2       \n",
       "\n",
       "     d       ⎞⎤\n",
       "(t))⋅──(x(t))⎟⎥\n",
       "     dt      ⎠⎥\n",
       "──────────────⎥\n",
       "              ⎦"
      ]
     },
     "execution_count": 160,
     "metadata": {},
     "output_type": "execute_result"
    }
   ],
   "source": [
    "# Generalized momenta array to solve the equations of motion for the generalized velocities\n",
    "P1_c=AM.H(q1_c,t,L1_c)[1];\n",
    "P1_c"
   ]
  },
  {
   "cell_type": "code",
   "execution_count": 161,
   "id": "54fbd15d",
   "metadata": {},
   "outputs": [
    {
     "name": "stdout",
     "output_type": "stream",
     "text": [
      "l m_{2} \\left(l \\frac{d}{d t} \\phi{\\left(t \\right)} + \\cos{\\left(\\phi{\\left(t \\right)} \\right)} \\frac{d}{d t} x{\\left(t \\right)}\\right)\n"
     ]
    }
   ],
   "source": [
    "print(sp.latex(sp.simplify(P1_c[1])))"
   ]
  },
  {
   "cell_type": "code",
   "execution_count": 162,
   "id": "71d209b7",
   "metadata": {},
   "outputs": [],
   "source": [
    "# Symbolic momenta definition\n",
    "p_x=sp.Function(\"p_x\")(t);\n",
    "\n",
    "# Array for the SYMBOLIC generalized momenta\n",
    "p1_c=[p_x,p_phi];"
   ]
  },
  {
   "cell_type": "code",
   "execution_count": 163,
   "id": "bcc2d27f",
   "metadata": {},
   "outputs": [
    {
     "data": {
      "image/png": "[encoded data removed]",
      "text/latex": [
       "$\\displaystyle \\left[ \\left\\{ \\frac{d}{d t} \\phi{\\left(t \\right)} : \\frac{l m_{2} \\operatorname{p_{x}}{\\left(t \\right)} \\cos{\\left(\\phi{\\left(t \\right)} \\right)}}{- l^{2} m_{1} m_{2} + l^{2} m_{2}^{2} \\cos^{2}{\\left(\\phi{\\left(t \\right)} \\right)} - l^{2} m_{2}^{2}} - \\frac{m_{1} \\operatorname{p_{\\phi}}{\\left(t \\right)}}{- l^{2} m_{1} m_{2} + l^{2} m_{2}^{2} \\cos^{2}{\\left(\\phi{\\left(t \\right)} \\right)} - l^{2} m_{2}^{2}} - \\frac{m_{2} \\operatorname{p_{\\phi}}{\\left(t \\right)}}{- l^{2} m_{1} m_{2} + l^{2} m_{2}^{2} \\cos^{2}{\\left(\\phi{\\left(t \\right)} \\right)} - l^{2} m_{2}^{2}}, \\  \\frac{d}{d t} x{\\left(t \\right)} : - \\frac{l \\operatorname{p_{x}}{\\left(t \\right)}}{- l m_{1} + l m_{2} \\cos^{2}{\\left(\\phi{\\left(t \\right)} \\right)} - l m_{2}} + \\frac{\\operatorname{p_{\\phi}}{\\left(t \\right)} \\cos{\\left(\\phi{\\left(t \\right)} \\right)}}{- l m_{1} + l m_{2} \\cos^{2}{\\left(\\phi{\\left(t \\right)} \\right)} - l m_{2}}\\right\\}\\right]$"
      ],
      "text/plain": [
       "⎡⎧d                   l⋅m₂⋅pₓ(t)⋅cos(φ(t))                            m₁⋅pᵩ(t)\n",
       "⎢⎪──(φ(t)): ─────────────────────────────────────── - ────────────────────────\n",
       "⎢⎨dt           2          2   2    2          2   2      2          2   2    2\n",
       "⎢⎪          - l ⋅m₁⋅m₂ + l ⋅m₂ ⋅cos (φ(t)) - l ⋅m₂    - l ⋅m₁⋅m₂ + l ⋅m₂ ⋅cos \n",
       "⎣⎩                                                                            \n",
       "\n",
       "                                  m₂⋅pᵩ(t)                 d                  \n",
       "─────────────── - ───────────────────────────────────────, ──(x(t)): - ───────\n",
       "          2   2      2          2   2    2          2   2  dt                 \n",
       "(φ(t)) - l ⋅m₂    - l ⋅m₁⋅m₂ + l ⋅m₂ ⋅cos (φ(t)) - l ⋅m₂               -l⋅m₁ +\n",
       "                                                                              \n",
       "\n",
       "    l⋅pₓ(t)                      pᵩ(t)⋅cos(φ(t))        ⎫⎤\n",
       "─────────────────────── + ──────────────────────────────⎪⎥\n",
       "         2                                2             ⎬⎥\n",
       " l⋅m₂⋅cos (φ(t)) - l⋅m₂   -l⋅m₁ + l⋅m₂⋅cos (φ(t)) - l⋅m₂⎪⎥\n",
       "                                                        ⎭⎦"
      ]
     },
     "execution_count": 163,
     "metadata": {},
     "output_type": "execute_result"
    }
   ],
   "source": [
    "# Solving the 2x2 system of equations for the generalized momenta\n",
    "q_dot_c_sol=sp.solve([P1_c[0]-p1_c[0], P1_c[1]-p1_c[1]], [sp.diff(x,t), sp.diff(phi,t)], dict=True);\n",
    "q_dot_c_sol"
   ]
  },
  {
   "cell_type": "code",
   "execution_count": 164,
   "id": "ac2cd960",
   "metadata": {},
   "outputs": [
    {
     "data": {
      "image/png": "[encoded data removed]",
      "text/latex": [
       "$\\displaystyle \\left\\{ \\frac{d}{d t} \\phi{\\left(t \\right)} : \\frac{l m_{2} \\operatorname{p_{x}}{\\left(t \\right)} \\cos{\\left(\\phi{\\left(t \\right)} \\right)}}{- l^{2} m_{1} m_{2} + l^{2} m_{2}^{2} \\cos^{2}{\\left(\\phi{\\left(t \\right)} \\right)} - l^{2} m_{2}^{2}} - \\frac{m_{1} \\operatorname{p_{\\phi}}{\\left(t \\right)}}{- l^{2} m_{1} m_{2} + l^{2} m_{2}^{2} \\cos^{2}{\\left(\\phi{\\left(t \\right)} \\right)} - l^{2} m_{2}^{2}} - \\frac{m_{2} \\operatorname{p_{\\phi}}{\\left(t \\right)}}{- l^{2} m_{1} m_{2} + l^{2} m_{2}^{2} \\cos^{2}{\\left(\\phi{\\left(t \\right)} \\right)} - l^{2} m_{2}^{2}}, \\  \\frac{d}{d t} x{\\left(t \\right)} : - \\frac{l \\operatorname{p_{x}}{\\left(t \\right)}}{- l m_{1} + l m_{2} \\cos^{2}{\\left(\\phi{\\left(t \\right)} \\right)} - l m_{2}} + \\frac{\\operatorname{p_{\\phi}}{\\left(t \\right)} \\cos{\\left(\\phi{\\left(t \\right)} \\right)}}{- l m_{1} + l m_{2} \\cos^{2}{\\left(\\phi{\\left(t \\right)} \\right)} - l m_{2}}\\right\\}$"
      ],
      "text/plain": [
       "⎧d                   l⋅m₂⋅pₓ(t)⋅cos(φ(t))                            m₁⋅pᵩ(t) \n",
       "⎪──(φ(t)): ─────────────────────────────────────── - ─────────────────────────\n",
       "⎨dt           2          2   2    2          2   2      2          2   2    2 \n",
       "⎪          - l ⋅m₁⋅m₂ + l ⋅m₂ ⋅cos (φ(t)) - l ⋅m₂    - l ⋅m₁⋅m₂ + l ⋅m₂ ⋅cos (\n",
       "⎩                                                                             \n",
       "\n",
       "                                 m₂⋅pᵩ(t)                 d                   \n",
       "────────────── - ───────────────────────────────────────, ──(x(t)): - ────────\n",
       "         2   2      2          2   2    2          2   2  dt                  \n",
       "φ(t)) - l ⋅m₂    - l ⋅m₁⋅m₂ + l ⋅m₂ ⋅cos (φ(t)) - l ⋅m₂               -l⋅m₁ + \n",
       "                                                                              \n",
       "\n",
       "   l⋅pₓ(t)                      pᵩ(t)⋅cos(φ(t))        ⎫\n",
       "────────────────────── + ──────────────────────────────⎪\n",
       "        2                                2             ⎬\n",
       "l⋅m₂⋅cos (φ(t)) - l⋅m₂   -l⋅m₁ + l⋅m₂⋅cos (φ(t)) - l⋅m₂⎪\n",
       "                                                       ⎭"
      ]
     },
     "execution_count": 164,
     "metadata": {},
     "output_type": "execute_result"
    }
   ],
   "source": [
    "q_dot_c_sol[0]"
   ]
  },
  {
   "cell_type": "code",
   "execution_count": 165,
   "id": "c3eed1a3",
   "metadata": {},
   "outputs": [],
   "source": [
    "# Getting the solutions from the dictonary that the \"solve\" method returns using get and the key (the generalized velocity)\n",
    "#For the phi coordinate:\n",
    "phi_dot_c_sol=sp.simplify(q_dot_c_sol[0].get(sp.diff(phi,t)));\n",
    "x_dot_c_sol=sp.simplify(q_dot_c_sol[0].get(sp.diff(x,t)));"
   ]
  },
  {
   "cell_type": "code",
   "execution_count": 166,
   "id": "64bf8658",
   "metadata": {},
   "outputs": [
    {
     "data": {
      "image/png": "[encoded data removed]",
      "text/latex": [
       "$\\displaystyle \\frac{- g l^{3} m_{1} m_{2}^{2} \\cos{\\left(\\phi{\\left(t \\right)} \\right)} - g l^{3} m_{2}^{3} \\sin^{2}{\\left(\\phi{\\left(t \\right)} \\right)} \\cos{\\left(\\phi{\\left(t \\right)} \\right)} + \\frac{l^{2} m_{2} \\operatorname{p_{x}}^{2}{\\left(t \\right)}}{2} - l m_{2} \\operatorname{p_{\\phi}}{\\left(t \\right)} \\operatorname{p_{x}}{\\left(t \\right)} \\cos{\\left(\\phi{\\left(t \\right)} \\right)} + \\frac{m_{1} \\operatorname{p_{\\phi}}^{2}{\\left(t \\right)}}{2} + \\frac{m_{2} \\operatorname{p_{\\phi}}^{2}{\\left(t \\right)}}{2}}{l^{2} m_{2} \\left(m_{1} + m_{2} \\sin^{2}{\\left(\\phi{\\left(t \\right)} \\right)}\\right)}$"
      ],
      "text/plain": [
       "                                                           2      2           \n",
       "     3      2                3   3    2                   l ⋅m₂⋅pₓ (t)        \n",
       "- g⋅l ⋅m₁⋅m₂ ⋅cos(φ(t)) - g⋅l ⋅m₂ ⋅sin (φ(t))⋅cos(φ(t)) + ──────────── - l⋅m₂⋅\n",
       "                                                               2              \n",
       "──────────────────────────────────────────────────────────────────────────────\n",
       "                                                  2    ⎛           2      ⎞   \n",
       "                                                 l ⋅m₂⋅⎝m₁ + m₂⋅sin (φ(t))⎠   \n",
       "\n",
       "                             2           2   \n",
       "                        m₁⋅pᵩ (t)   m₂⋅pᵩ (t)\n",
       "pᵩ(t)⋅pₓ(t)⋅cos(φ(t)) + ───────── + ─────────\n",
       "                            2           2    \n",
       "─────────────────────────────────────────────\n",
       "                                             \n",
       "                                             "
      ]
     },
     "execution_count": 166,
     "metadata": {},
     "output_type": "execute_result"
    }
   ],
   "source": [
    "# Subsituting these results in the Hamiltonian \n",
    "H1_c=sp.simplify(H1_c.subs([(sp.diff(x,t),x_dot_c_sol),(sp.diff(phi,t),phi_dot_c_sol)]));\n",
    "H1_c"
   ]
  },
  {
   "cell_type": "code",
   "execution_count": 167,
   "id": "9a2caa53",
   "metadata": {},
   "outputs": [
    {
     "name": "stdout",
     "output_type": "stream",
     "text": [
      "\\frac{- g l^{3} m_{1} m_{2}^{2} \\cos{\\left(\\phi{\\left(t \\right)} \\right)} - g l^{3} m_{2}^{3} \\sin^{2}{\\left(\\phi{\\left(t \\right)} \\right)} \\cos{\\left(\\phi{\\left(t \\right)} \\right)} + \\frac{l^{2} m_{2} \\operatorname{p_{x}}^{2}{\\left(t \\right)}}{2} - l m_{2} \\operatorname{p_{\\phi}}{\\left(t \\right)} \\operatorname{p_{x}}{\\left(t \\right)} \\cos{\\left(\\phi{\\left(t \\right)} \\right)} + \\frac{m_{1} \\operatorname{p_{\\phi}}^{2}{\\left(t \\right)}}{2} + \\frac{m_{2} \\operatorname{p_{\\phi}}^{2}{\\left(t \\right)}}{2}}{l^{2} m_{2} \\left(m_{1} + m_{2} \\sin^{2}{\\left(\\phi{\\left(t \\right)} \\right)}\\right)}\n"
     ]
    }
   ],
   "source": [
    "print(sp.latex(H1_c))"
   ]
  },
  {
   "cell_type": "code",
   "execution_count": 168,
   "id": "55759238",
   "metadata": {},
   "outputs": [
    {
     "data": {
      "image/png": "[encoded data removed]",
      "text/latex": [
       "$\\displaystyle \\left[ \\left[ \\frac{l^{2} m_{2} \\operatorname{p_{x}}{\\left(t \\right)} - l m_{2} \\operatorname{p_{\\phi}}{\\left(t \\right)} \\cos{\\left(\\phi{\\left(t \\right)} \\right)}}{l^{2} m_{2} \\left(m_{1} + m_{2} \\sin^{2}{\\left(\\phi{\\left(t \\right)} \\right)}\\right)}, \\  \\frac{- l m_{2} \\operatorname{p_{x}}{\\left(t \\right)} \\cos{\\left(\\phi{\\left(t \\right)} \\right)} + m_{1} \\operatorname{p_{\\phi}}{\\left(t \\right)} + m_{2} \\operatorname{p_{\\phi}}{\\left(t \\right)}}{l^{2} m_{2} \\left(m_{1} + m_{2} \\sin^{2}{\\left(\\phi{\\left(t \\right)} \\right)}\\right)}\\right], \\  \\left[ 0, \\  \\frac{2 \\left(- g l^{3} m_{1} m_{2}^{2} \\cos{\\left(\\phi{\\left(t \\right)} \\right)} - g l^{3} m_{2}^{3} \\sin^{2}{\\left(\\phi{\\left(t \\right)} \\right)} \\cos{\\left(\\phi{\\left(t \\right)} \\right)} + \\frac{l^{2} m_{2} \\operatorname{p_{x}}^{2}{\\left(t \\right)}}{2} - l m_{2} \\operatorname{p_{\\phi}}{\\left(t \\right)} \\operatorname{p_{x}}{\\left(t \\right)} \\cos{\\left(\\phi{\\left(t \\right)} \\right)} + \\frac{m_{1} \\operatorname{p_{\\phi}}^{2}{\\left(t \\right)}}{2} + \\frac{m_{2} \\operatorname{p_{\\phi}}^{2}{\\left(t \\right)}}{2}\\right) \\sin{\\left(\\phi{\\left(t \\right)} \\right)} \\cos{\\left(\\phi{\\left(t \\right)} \\right)}}{l^{2} \\left(m_{1} + m_{2} \\sin^{2}{\\left(\\phi{\\left(t \\right)} \\right)}\\right)^{2}} - \\frac{g l^{3} m_{1} m_{2}^{2} \\sin{\\left(\\phi{\\left(t \\right)} \\right)} + g l^{3} m_{2}^{3} \\sin^{3}{\\left(\\phi{\\left(t \\right)} \\right)} - 2 g l^{3} m_{2}^{3} \\sin{\\left(\\phi{\\left(t \\right)} \\right)} \\cos^{2}{\\left(\\phi{\\left(t \\right)} \\right)} + l m_{2} \\operatorname{p_{\\phi}}{\\left(t \\right)} \\operatorname{p_{x}}{\\left(t \\right)} \\sin{\\left(\\phi{\\left(t \\right)} \\right)}}{l^{2} m_{2} \\left(m_{1} + m_{2} \\sin^{2}{\\left(\\phi{\\left(t \\right)} \\right)}\\right)}\\right], \\  \\frac{2 \\left(- g l^{3} m_{1} m_{2}^{2} \\cos{\\left(\\phi{\\left(t \\right)} \\right)} - g l^{3} m_{2}^{3} \\sin^{2}{\\left(\\phi{\\left(t \\right)} \\right)} \\cos{\\left(\\phi{\\left(t \\right)} \\right)} + \\frac{l^{2} m_{2} \\operatorname{p_{x}}^{2}{\\left(t \\right)}}{2} - l m_{2} \\operatorname{p_{\\phi}}{\\left(t \\right)} \\operatorname{p_{x}}{\\left(t \\right)} \\cos{\\left(\\phi{\\left(t \\right)} \\right)} + \\frac{m_{1} \\operatorname{p_{\\phi}}^{2}{\\left(t \\right)}}{2} + \\frac{m_{2} \\operatorname{p_{\\phi}}^{2}{\\left(t \\right)}}{2}\\right) \\sin{\\left(\\phi{\\left(t \\right)} \\right)} \\cos{\\left(\\phi{\\left(t \\right)} \\right)} \\frac{d}{d t} \\phi{\\left(t \\right)}}{l^{2} \\left(m_{1} + m_{2} \\sin^{2}{\\left(\\phi{\\left(t \\right)} \\right)}\\right)^{2}} - \\frac{g l^{3} m_{1} m_{2}^{2} \\sin{\\left(\\phi{\\left(t \\right)} \\right)} \\frac{d}{d t} \\phi{\\left(t \\right)} + g l^{3} m_{2}^{3} \\sin^{3}{\\left(\\phi{\\left(t \\right)} \\right)} \\frac{d}{d t} \\phi{\\left(t \\right)} - 2 g l^{3} m_{2}^{3} \\sin{\\left(\\phi{\\left(t \\right)} \\right)} \\cos^{2}{\\left(\\phi{\\left(t \\right)} \\right)} \\frac{d}{d t} \\phi{\\left(t \\right)} + l^{2} m_{2} \\operatorname{p_{x}}{\\left(t \\right)} \\frac{d}{d t} \\operatorname{p_{x}}{\\left(t \\right)} + l m_{2} \\operatorname{p_{\\phi}}{\\left(t \\right)} \\operatorname{p_{x}}{\\left(t \\right)} \\sin{\\left(\\phi{\\left(t \\right)} \\right)} \\frac{d}{d t} \\phi{\\left(t \\right)} - l m_{2} \\operatorname{p_{\\phi}}{\\left(t \\right)} \\cos{\\left(\\phi{\\left(t \\right)} \\right)} \\frac{d}{d t} \\operatorname{p_{x}}{\\left(t \\right)} - l m_{2} \\operatorname{p_{x}}{\\left(t \\right)} \\cos{\\left(\\phi{\\left(t \\right)} \\right)} \\frac{d}{d t} \\operatorname{p_{\\phi}}{\\left(t \\right)} + m_{1} \\operatorname{p_{\\phi}}{\\left(t \\right)} \\frac{d}{d t} \\operatorname{p_{\\phi}}{\\left(t \\right)} + m_{2} \\operatorname{p_{\\phi}}{\\left(t \\right)} \\frac{d}{d t} \\operatorname{p_{\\phi}}{\\left(t \\right)}}{l^{2} m_{2} \\left(m_{1} + m_{2} \\sin^{2}{\\left(\\phi{\\left(t \\right)} \\right)}\\right)}\\right]$"
      ],
      "text/plain": [
       "⎡                                                                             \n",
       "⎢                                                                             \n",
       "⎢⎡ 2                                                                          \n",
       "⎢⎢l ⋅m₂⋅pₓ(t) - l⋅m₂⋅pᵩ(t)⋅cos(φ(t))  -l⋅m₂⋅pₓ(t)⋅cos(φ(t)) + m₁⋅pᵩ(t) + m₂⋅pᵩ\n",
       "⎢⎢──────────────────────────────────, ────────────────────────────────────────\n",
       "⎢⎢     2    ⎛           2      ⎞                2    ⎛           2      ⎞     \n",
       "⎢⎣    l ⋅m₂⋅⎝m₁ + m₂⋅sin (φ(t))⎠               l ⋅m₂⋅⎝m₁ + m₂⋅sin (φ(t))⎠     \n",
       "⎣                                                                             \n",
       "\n",
       "      ⎡     ⎛                                                           2     \n",
       "      ⎢     ⎜     3      2                3   3    2                   l ⋅m₂⋅p\n",
       "   ⎤  ⎢   2⋅⎜- g⋅l ⋅m₁⋅m₂ ⋅cos(φ(t)) - g⋅l ⋅m₂ ⋅sin (φ(t))⋅cos(φ(t)) + ───────\n",
       "(t)⎥  ⎢     ⎝                                                               2 \n",
       "───⎥, ⎢0, ────────────────────────────────────────────────────────────────────\n",
       "   ⎥  ⎢                                                                       \n",
       "   ⎦  ⎢                                                                  2 ⎛  \n",
       "      ⎣                                                                 l ⋅⎝m₁\n",
       "\n",
       " 2                                        2           2   ⎞                   \n",
       "ₓ (t)                                m₁⋅pᵩ (t)   m₂⋅pᵩ (t)⎟                   \n",
       "───── - l⋅m₂⋅pᵩ(t)⋅pₓ(t)⋅cos(φ(t)) + ───────── + ─────────⎟⋅sin(φ(t))⋅cos(φ(t)\n",
       "                                         2           2    ⎠                   \n",
       "──────────────────────────────────────────────────────────────────────────────\n",
       "                 2                                                            \n",
       "         2      ⎞                                                             \n",
       " + m₂⋅sin (φ(t))⎠                                                             \n",
       "\n",
       "                                                                              \n",
       "                                                                              \n",
       ")      3      2                3   3    3              3   3              2   \n",
       "    g⋅l ⋅m₁⋅m₂ ⋅sin(φ(t)) + g⋅l ⋅m₂ ⋅sin (φ(t)) - 2⋅g⋅l ⋅m₂ ⋅sin(φ(t))⋅cos (φ(\n",
       "─ - ──────────────────────────────────────────────────────────────────────────\n",
       "                                             2    ⎛           2      ⎞        \n",
       "                                            l ⋅m₂⋅⎝m₁ + m₂⋅sin (φ(t))⎠        \n",
       "                                                                              \n",
       "\n",
       "                                ⎤    ⎛                                        \n",
       "                                ⎥    ⎜     3      2                3   3    2 \n",
       "                                ⎥  2⋅⎜- g⋅l ⋅m₁⋅m₂ ⋅cos(φ(t)) - g⋅l ⋅m₂ ⋅sin (\n",
       "t)) + l⋅m₂⋅pᵩ(t)⋅pₓ(t)⋅sin(φ(t))⎥    ⎝                                        \n",
       "────────────────────────────────⎥, ───────────────────────────────────────────\n",
       "                                ⎥                                             \n",
       "                                ⎥                                             \n",
       "                                ⎦                                             \n",
       "\n",
       "                   2      2                                        2          \n",
       "                  l ⋅m₂⋅pₓ (t)                                m₁⋅pᵩ (t)   m₂⋅p\n",
       "φ(t))⋅cos(φ(t)) + ──────────── - l⋅m₂⋅pᵩ(t)⋅pₓ(t)⋅cos(φ(t)) + ───────── + ────\n",
       "                       2                                          2           \n",
       "──────────────────────────────────────────────────────────────────────────────\n",
       "                                              2                               \n",
       "                        2 ⎛           2      ⎞                                \n",
       "                       l ⋅⎝m₁ + m₂⋅sin (φ(t))⎠                                \n",
       "\n",
       " 2   ⎞                                                                        \n",
       "ᵩ (t)⎟                     d             3      2           d             3   \n",
       "─────⎟⋅sin(φ(t))⋅cos(φ(t))⋅──(φ(t))   g⋅l ⋅m₁⋅m₂ ⋅sin(φ(t))⋅──(φ(t)) + g⋅l ⋅m₂\n",
       "2    ⎠                     dt                               dt                \n",
       "─────────────────────────────────── - ────────────────────────────────────────\n",
       "                                                                              \n",
       "                                                                              \n",
       "                                                                              \n",
       "\n",
       "                                                                              \n",
       "3    3       d               3   3              2       d           2         \n",
       " ⋅sin (φ(t))⋅──(φ(t)) - 2⋅g⋅l ⋅m₂ ⋅sin(φ(t))⋅cos (φ(t))⋅──(φ(t)) + l ⋅m₂⋅pₓ(t)\n",
       "             dt                                         dt                    \n",
       "──────────────────────────────────────────────────────────────────────────────\n",
       "                                                                              \n",
       "                                                                              \n",
       "                                                                              \n",
       "\n",
       "                                                                              \n",
       " d                                      d                               d     \n",
       "⋅──(pₓ(t)) + l⋅m₂⋅pᵩ(t)⋅pₓ(t)⋅sin(φ(t))⋅──(φ(t)) - l⋅m₂⋅pᵩ(t)⋅cos(φ(t))⋅──(pₓ(\n",
       " dt                                     dt                              dt    \n",
       "──────────────────────────────────────────────────────────────────────────────\n",
       "       2    ⎛           2      ⎞                                              \n",
       "      l ⋅m₂⋅⎝m₁ + m₂⋅sin (φ(t))⎠                                              \n",
       "                                                                              \n",
       "\n",
       "                                                                              \n",
       "                           d                    d                    d        \n",
       "t)) - l⋅m₂⋅pₓ(t)⋅cos(φ(t))⋅──(pᵩ(t)) + m₁⋅pᵩ(t)⋅──(pᵩ(t)) + m₂⋅pᵩ(t)⋅──(pᵩ(t))\n",
       "                           dt                   dt                   dt       \n",
       "──────────────────────────────────────────────────────────────────────────────\n",
       "                                                                              \n",
       "                                                                              \n",
       "                                                                              \n",
       "\n",
       "⎤\n",
       "⎥\n",
       "⎥\n",
       "⎥\n",
       "⎥\n",
       "⎥\n",
       "⎥\n",
       "⎦"
      ]
     },
     "execution_count": 168,
     "metadata": {},
     "output_type": "execute_result"
    }
   ],
   "source": [
    "# Finding the canonical equations\n",
    "can_eqs_c=AM.can_eqs(H1_c,q1_c,p1_c);\n",
    "can_eqs_c"
   ]
  },
  {
   "cell_type": "code",
   "execution_count": 169,
   "id": "6168f897",
   "metadata": {},
   "outputs": [
    {
     "data": {
      "image/png": "[encoded data removed]",
      "text/latex": [
       "$\\displaystyle \\frac{\\left(m_{1} + m_{2} \\sin^{2}{\\left(\\phi{\\left(t \\right)} \\right)}\\right) \\left(- \\frac{g l m_{1} m_{2} \\left(- l m_{2} \\operatorname{p_{x}}{\\left(t \\right)} \\cos{\\left(\\phi{\\left(t \\right)} \\right)} + m_{1} \\operatorname{p_{\\phi}}{\\left(t \\right)} + m_{2} \\operatorname{p_{\\phi}}{\\left(t \\right)}\\right) \\sin{\\left(\\phi{\\left(t \\right)} \\right)}}{m_{1} + m_{2} \\sin^{2}{\\left(\\phi{\\left(t \\right)} \\right)}} - \\frac{3 g l m_{2}^{2} \\left(- l m_{2} \\operatorname{p_{x}}{\\left(t \\right)} \\cos{\\left(\\phi{\\left(t \\right)} \\right)} + m_{1} \\operatorname{p_{\\phi}}{\\left(t \\right)} + m_{2} \\operatorname{p_{\\phi}}{\\left(t \\right)}\\right) \\sin^{3}{\\left(\\phi{\\left(t \\right)} \\right)}}{m_{1} + m_{2} \\sin^{2}{\\left(\\phi{\\left(t \\right)} \\right)}} + \\frac{2 g l m_{2}^{2} \\left(- l m_{2} \\operatorname{p_{x}}{\\left(t \\right)} \\cos{\\left(\\phi{\\left(t \\right)} \\right)} + m_{1} \\operatorname{p_{\\phi}}{\\left(t \\right)} + m_{2} \\operatorname{p_{\\phi}}{\\left(t \\right)}\\right) \\sin{\\left(\\phi{\\left(t \\right)} \\right)}}{m_{1} + m_{2} \\sin^{2}{\\left(\\phi{\\left(t \\right)} \\right)}} - l^{2} m_{2} \\operatorname{p_{x}}{\\left(t \\right)} \\frac{d}{d t} \\operatorname{p_{x}}{\\left(t \\right)} + l m_{2} \\operatorname{p_{\\phi}}{\\left(t \\right)} \\cos{\\left(\\phi{\\left(t \\right)} \\right)} \\frac{d}{d t} \\operatorname{p_{x}}{\\left(t \\right)} + l m_{2} \\operatorname{p_{x}}{\\left(t \\right)} \\cos{\\left(\\phi{\\left(t \\right)} \\right)} \\frac{d}{d t} \\operatorname{p_{\\phi}}{\\left(t \\right)} - m_{1} \\operatorname{p_{\\phi}}{\\left(t \\right)} \\frac{d}{d t} \\operatorname{p_{\\phi}}{\\left(t \\right)} - m_{2} \\operatorname{p_{\\phi}}{\\left(t \\right)} \\frac{d}{d t} \\operatorname{p_{\\phi}}{\\left(t \\right)} - \\frac{\\left(- l m_{2} \\operatorname{p_{x}}{\\left(t \\right)} \\cos{\\left(\\phi{\\left(t \\right)} \\right)} + m_{1} \\operatorname{p_{\\phi}}{\\left(t \\right)} + m_{2} \\operatorname{p_{\\phi}}{\\left(t \\right)}\\right) \\operatorname{p_{\\phi}}{\\left(t \\right)} \\operatorname{p_{x}}{\\left(t \\right)} \\sin{\\left(\\phi{\\left(t \\right)} \\right)}}{l \\left(m_{1} + m_{2} \\sin^{2}{\\left(\\phi{\\left(t \\right)} \\right)}\\right)}\\right) - \\frac{\\left(- l m_{2} \\operatorname{p_{x}}{\\left(t \\right)} \\cos{\\left(\\phi{\\left(t \\right)} \\right)} + m_{1} \\operatorname{p_{\\phi}}{\\left(t \\right)} + m_{2} \\operatorname{p_{\\phi}}{\\left(t \\right)}\\right) \\left(2 g l^{3} m_{1} m_{2}^{2} \\cos{\\left(\\phi{\\left(t \\right)} \\right)} + 2 g l^{3} m_{2}^{3} \\sin^{2}{\\left(\\phi{\\left(t \\right)} \\right)} \\cos{\\left(\\phi{\\left(t \\right)} \\right)} - l^{2} m_{2} \\operatorname{p_{x}}^{2}{\\left(t \\right)} + 2 l m_{2} \\operatorname{p_{\\phi}}{\\left(t \\right)} \\operatorname{p_{x}}{\\left(t \\right)} \\cos{\\left(\\phi{\\left(t \\right)} \\right)} - m_{1} \\operatorname{p_{\\phi}}^{2}{\\left(t \\right)} - m_{2} \\operatorname{p_{\\phi}}^{2}{\\left(t \\right)}\\right) \\sin{\\left(\\phi{\\left(t \\right)} \\right)} \\cos{\\left(\\phi{\\left(t \\right)} \\right)}}{l^{2} \\left(m_{1} + m_{2} \\sin^{2}{\\left(\\phi{\\left(t \\right)} \\right)}\\right)}}{l^{2} m_{2} \\left(m_{1} + m_{2} \\sin^{2}{\\left(\\phi{\\left(t \\right)} \\right)}\\right)^{2}}$"
      ],
      "text/plain": [
       "                     ⎛                                                        \n",
       "⎛           2      ⎞ ⎜  g⋅l⋅m₁⋅m₂⋅(-l⋅m₂⋅pₓ(t)⋅cos(φ(t)) + m₁⋅pᵩ(t) + m₂⋅pᵩ(t)\n",
       "⎝m₁ + m₂⋅sin (φ(t))⎠⋅⎜- ──────────────────────────────────────────────────────\n",
       "                     ⎜                                     2                  \n",
       "                     ⎝                          m₁ + m₂⋅sin (φ(t))            \n",
       "──────────────────────────────────────────────────────────────────────────────\n",
       "                                                                              \n",
       "                                                                              \n",
       "                                                                              \n",
       "\n",
       "                      2                                                  3    \n",
       ")⋅sin(φ(t))   3⋅g⋅l⋅m₂ ⋅(-l⋅m₂⋅pₓ(t)⋅cos(φ(t)) + m₁⋅pᵩ(t) + m₂⋅pᵩ(t))⋅sin (φ(t\n",
       "─────────── - ────────────────────────────────────────────────────────────────\n",
       "                                                 2                            \n",
       "                                      m₁ + m₂⋅sin (φ(t))                      \n",
       "──────────────────────────────────────────────────────────────────────────────\n",
       "                                                                              \n",
       "                                                                              \n",
       "                                                                              \n",
       "\n",
       "             2                                                                \n",
       "))   2⋅g⋅l⋅m₂ ⋅(-l⋅m₂⋅pₓ(t)⋅cos(φ(t)) + m₁⋅pᵩ(t) + m₂⋅pᵩ(t))⋅sin(φ(t))    2   \n",
       "── + ───────────────────────────────────────────────────────────────── - l ⋅m₂\n",
       "                                        2                                     \n",
       "                             m₁ + m₂⋅sin (φ(t))                               \n",
       "──────────────────────────────────────────────────────────────────────────────\n",
       "                                                                              \n",
       "                                                                              \n",
       "                                                                              \n",
       "\n",
       "                                                                              \n",
       "       d                                d                                d    \n",
       "⋅pₓ(t)⋅──(pₓ(t)) + l⋅m₂⋅pᵩ(t)⋅cos(φ(t))⋅──(pₓ(t)) + l⋅m₂⋅pₓ(t)⋅cos(φ(t))⋅──(pᵩ\n",
       "       dt                               dt                               dt   \n",
       "                                                                              \n",
       "──────────────────────────────────────────────────────────────────────────────\n",
       "                                                                              \n",
       "                                                                   2    ⎛     \n",
       "                                                                  l ⋅m₂⋅⎝m₁ + \n",
       "\n",
       "                                                                              \n",
       "                d                    d           (-l⋅m₂⋅pₓ(t)⋅cos(φ(t)) + m₁⋅p\n",
       "(t)) - m₁⋅pᵩ(t)⋅──(pᵩ(t)) - m₂⋅pᵩ(t)⋅──(pᵩ(t)) - ─────────────────────────────\n",
       "                dt                   dt                                   ⎛   \n",
       "                                                                        l⋅⎝m₁ \n",
       "──────────────────────────────────────────────────────────────────────────────\n",
       "              2                                                               \n",
       "      2      ⎞                                                                \n",
       "m₂⋅sin (φ(t))⎠                                                                \n",
       "\n",
       "                                      ⎞                                       \n",
       "ᵩ(t) + m₂⋅pᵩ(t))⋅pᵩ(t)⋅pₓ(t)⋅sin(φ(t))⎟   (-l⋅m₂⋅pₓ(t)⋅cos(φ(t)) + m₁⋅pᵩ(t) + \n",
       "──────────────────────────────────────⎟ - ────────────────────────────────────\n",
       "        2      ⎞                      ⎟                                       \n",
       "+ m₂⋅sin (φ(t))⎠                      ⎠                                       \n",
       "──────────────────────────────────────────────────────────────────────────────\n",
       "                                                                              \n",
       "                                                                              \n",
       "                                                                              \n",
       "\n",
       "          ⎛     3      2                  3   3    2                    2     \n",
       "m₂⋅pᵩ(t))⋅⎝2⋅g⋅l ⋅m₁⋅m₂ ⋅cos(φ(t)) + 2⋅g⋅l ⋅m₂ ⋅sin (φ(t))⋅cos(φ(t)) - l ⋅m₂⋅p\n",
       "──────────────────────────────────────────────────────────────────────────────\n",
       "                                                   2 ⎛           2      ⎞     \n",
       "                                                  l ⋅⎝m₁ + m₂⋅sin (φ(t))⎠     \n",
       "──────────────────────────────────────────────────────────────────────────────\n",
       "                                                                              \n",
       "                                                                              \n",
       "                                                                              \n",
       "\n",
       " 2                                          2           2   ⎞                 \n",
       "ₓ (t) + 2⋅l⋅m₂⋅pᵩ(t)⋅pₓ(t)⋅cos(φ(t)) - m₁⋅pᵩ (t) - m₂⋅pᵩ (t)⎠⋅sin(φ(t))⋅cos(φ(\n",
       "──────────────────────────────────────────────────────────────────────────────\n",
       "                                                                              \n",
       "                                                                              \n",
       "──────────────────────────────────────────────────────────────────────────────\n",
       "                                                                              \n",
       "                                                                              \n",
       "                                                                              \n",
       "\n",
       "   \n",
       "t))\n",
       "───\n",
       "   \n",
       "   \n",
       "───\n",
       "   \n",
       "   \n",
       "   "
      ]
     },
     "execution_count": 169,
     "metadata": {},
     "output_type": "execute_result"
    }
   ],
   "source": [
    "# Generalized velocities \n",
    "x_dot_eq_c=sp.simplify(can_eqs_c[0][0]);\n",
    "phi_dot_eq_c=sp.simplify(can_eqs_c[0][1]);\n",
    "\n",
    "# Generalized momenta\n",
    "p_x_dot_eq_c=sp.simplify(can_eqs_c[1][0]);\n",
    "p_phi_dot_eq_c=sp.simplify(can_eqs_c[1][1]);\n",
    "\n",
    "# Lagrangian time derivative\n",
    "L1_c_dot_eq=sp.simplify(can_eqs_c[2]);\n",
    "L1_c_dot_eq=L1_c_dot_eq.subs(sp.diff(phi,t),phi_dot_c_sol)\n",
    "L1_c_dot_eq"
   ]
  },
  {
   "cell_type": "code",
   "execution_count": 170,
   "id": "718f7f49",
   "metadata": {},
   "outputs": [
    {
     "data": {
      "image/png": "[encoded data removed]",
      "text/latex": [
       "$\\displaystyle - \\frac{l \\left(m_{1} + m_{2} \\sin^{2}{\\left(\\phi{\\left(t \\right)} \\right)}\\right) \\left(g l^{2} m_{2} \\left(m_{1} - 3 m_{2} \\cos^{2}{\\left(\\phi{\\left(t \\right)} \\right)} + m_{2}\\right) \\left(- l m_{2} \\operatorname{p_{x}}{\\left(t \\right)} \\cos{\\left(\\phi{\\left(t \\right)} \\right)} + m_{1} \\operatorname{p_{\\phi}}{\\left(t \\right)} + m_{2} \\operatorname{p_{\\phi}}{\\left(t \\right)}\\right) \\sin{\\left(\\phi{\\left(t \\right)} \\right)} + l \\left(m_{1} + m_{2} \\sin^{2}{\\left(\\phi{\\left(t \\right)} \\right)}\\right) \\left(l^{2} m_{2} \\operatorname{p_{x}}{\\left(t \\right)} \\frac{d}{d t} \\operatorname{p_{x}}{\\left(t \\right)} - l m_{2} \\operatorname{p_{\\phi}}{\\left(t \\right)} \\cos{\\left(\\phi{\\left(t \\right)} \\right)} \\frac{d}{d t} \\operatorname{p_{x}}{\\left(t \\right)} - l m_{2} \\operatorname{p_{x}}{\\left(t \\right)} \\cos{\\left(\\phi{\\left(t \\right)} \\right)} \\frac{d}{d t} \\operatorname{p_{\\phi}}{\\left(t \\right)} + m_{1} \\operatorname{p_{\\phi}}{\\left(t \\right)} \\frac{d}{d t} \\operatorname{p_{\\phi}}{\\left(t \\right)} + m_{2} \\operatorname{p_{\\phi}}{\\left(t \\right)} \\frac{d}{d t} \\operatorname{p_{\\phi}}{\\left(t \\right)}\\right) + \\left(- l m_{2} \\operatorname{p_{x}}{\\left(t \\right)} \\cos{\\left(\\phi{\\left(t \\right)} \\right)} + m_{1} \\operatorname{p_{\\phi}}{\\left(t \\right)} + m_{2} \\operatorname{p_{\\phi}}{\\left(t \\right)}\\right) \\operatorname{p_{\\phi}}{\\left(t \\right)} \\operatorname{p_{x}}{\\left(t \\right)} \\sin{\\left(\\phi{\\left(t \\right)} \\right)}\\right) + \\left(- l m_{2} \\operatorname{p_{x}}{\\left(t \\right)} \\cos{\\left(\\phi{\\left(t \\right)} \\right)} + m_{1} \\operatorname{p_{\\phi}}{\\left(t \\right)} + m_{2} \\operatorname{p_{\\phi}}{\\left(t \\right)}\\right) \\left(2 g l^{3} m_{1} m_{2}^{2} \\cos{\\left(\\phi{\\left(t \\right)} \\right)} + 2 g l^{3} m_{2}^{3} \\sin^{2}{\\left(\\phi{\\left(t \\right)} \\right)} \\cos{\\left(\\phi{\\left(t \\right)} \\right)} - l^{2} m_{2} \\operatorname{p_{x}}^{2}{\\left(t \\right)} + 2 l m_{2} \\operatorname{p_{\\phi}}{\\left(t \\right)} \\operatorname{p_{x}}{\\left(t \\right)} \\cos{\\left(\\phi{\\left(t \\right)} \\right)} - m_{1} \\operatorname{p_{\\phi}}^{2}{\\left(t \\right)} - m_{2} \\operatorname{p_{\\phi}}^{2}{\\left(t \\right)}\\right) \\sin{\\left(\\phi{\\left(t \\right)} \\right)} \\cos{\\left(\\phi{\\left(t \\right)} \\right)}}{l^{4} m_{2} \\left(m_{1} + m_{2} \\sin^{2}{\\left(\\phi{\\left(t \\right)} \\right)}\\right)^{3}}$"
      ],
      "text/plain": [
       " ⎛  ⎛           2      ⎞ ⎛   2    ⎛             2           ⎞                 \n",
       "-⎜l⋅⎝m₁ + m₂⋅sin (φ(t))⎠⋅⎜g⋅l ⋅m₂⋅⎝m₁ - 3⋅m₂⋅cos (φ(t)) + m₂⎠⋅(-l⋅m₂⋅pₓ(t)⋅cos\n",
       " ⎝                       ⎝                                                    \n",
       "──────────────────────────────────────────────────────────────────────────────\n",
       "                                                                              \n",
       "                                                                              \n",
       "                                                                              \n",
       "\n",
       "                                            ⎛           2      ⎞ ⎛ 2          \n",
       "(φ(t)) + m₁⋅pᵩ(t) + m₂⋅pᵩ(t))⋅sin(φ(t)) + l⋅⎝m₁ + m₂⋅sin (φ(t))⎠⋅⎜l ⋅m₂⋅pₓ(t)⋅\n",
       "                                                                 ⎝            \n",
       "──────────────────────────────────────────────────────────────────────────────\n",
       "                                                                              \n",
       "                                                                              \n",
       "                                                                              \n",
       "\n",
       "d                                d                                d           \n",
       "──(pₓ(t)) - l⋅m₂⋅pᵩ(t)⋅cos(φ(t))⋅──(pₓ(t)) - l⋅m₂⋅pₓ(t)⋅cos(φ(t))⋅──(pᵩ(t)) + \n",
       "dt                               dt                               dt          \n",
       "──────────────────────────────────────────────────────────────────────────────\n",
       "                                                                              \n",
       "                                                                              \n",
       "                                                                              \n",
       "\n",
       "         d                    d        ⎞                                      \n",
       "m₁⋅pᵩ(t)⋅──(pᵩ(t)) + m₂⋅pᵩ(t)⋅──(pᵩ(t))⎟ + (-l⋅m₂⋅pₓ(t)⋅cos(φ(t)) + m₁⋅pᵩ(t) +\n",
       "         dt                   dt       ⎠                                      \n",
       "──────────────────────────────────────────────────────────────────────────────\n",
       "                                                   3                          \n",
       "                          4    ⎛           2      ⎞                           \n",
       "                         l ⋅m₂⋅⎝m₁ + m₂⋅sin (φ(t))⎠                           \n",
       "\n",
       "                                ⎞                                             \n",
       " m₂⋅pᵩ(t))⋅pᵩ(t)⋅pₓ(t)⋅sin(φ(t))⎟ + (-l⋅m₂⋅pₓ(t)⋅cos(φ(t)) + m₁⋅pᵩ(t) + m₂⋅pᵩ(\n",
       "                                ⎠                                             \n",
       "──────────────────────────────────────────────────────────────────────────────\n",
       "                                                                              \n",
       "                                                                              \n",
       "                                                                              \n",
       "\n",
       "    ⎛     3      2                  3   3    2                    2      2    \n",
       "t))⋅⎝2⋅g⋅l ⋅m₁⋅m₂ ⋅cos(φ(t)) + 2⋅g⋅l ⋅m₂ ⋅sin (φ(t))⋅cos(φ(t)) - l ⋅m₂⋅pₓ (t) \n",
       "                                                                              \n",
       "──────────────────────────────────────────────────────────────────────────────\n",
       "                                                                              \n",
       "                                                                              \n",
       "                                                                              \n",
       "\n",
       "                                      2           2   ⎞                    ⎞ \n",
       "+ 2⋅l⋅m₂⋅pᵩ(t)⋅pₓ(t)⋅cos(φ(t)) - m₁⋅pᵩ (t) - m₂⋅pᵩ (t)⎠⋅sin(φ(t))⋅cos(φ(t))⎟ \n",
       "                                                                           ⎠ \n",
       "─────────────────────────────────────────────────────────────────────────────\n",
       "                                                                             \n",
       "                                                                             \n",
       "                                                                             "
      ]
     },
     "execution_count": 170,
     "metadata": {},
     "output_type": "execute_result"
    }
   ],
   "source": [
    "L1_c_dot_eq.simplify()"
   ]
  },
  {
   "cell_type": "code",
   "execution_count": 171,
   "id": "f2d232b4",
   "metadata": {},
   "outputs": [
    {
     "name": "stdout",
     "output_type": "stream",
     "text": [
      "\\frac{\\left(m_{1} + m_{2} \\sin^{2}{\\left(\\phi{\\left(t \\right)} \\right)}\\right) \\left(- \\frac{g l m_{1} m_{2} \\left(- l m_{2} \\operatorname{p_{x}}{\\left(t \\right)} \\cos{\\left(\\phi{\\left(t \\right)} \\right)} + m_{1} \\operatorname{p_{\\phi}}{\\left(t \\right)} + m_{2} \\operatorname{p_{\\phi}}{\\left(t \\right)}\\right) \\sin{\\left(\\phi{\\left(t \\right)} \\right)}}{m_{1} + m_{2} \\sin^{2}{\\left(\\phi{\\left(t \\right)} \\right)}} - \\frac{3 g l m_{2}^{2} \\left(- l m_{2} \\operatorname{p_{x}}{\\left(t \\right)} \\cos{\\left(\\phi{\\left(t \\right)} \\right)} + m_{1} \\operatorname{p_{\\phi}}{\\left(t \\right)} + m_{2} \\operatorname{p_{\\phi}}{\\left(t \\right)}\\right) \\sin^{3}{\\left(\\phi{\\left(t \\right)} \\right)}}{m_{1} + m_{2} \\sin^{2}{\\left(\\phi{\\left(t \\right)} \\right)}} + \\frac{2 g l m_{2}^{2} \\left(- l m_{2} \\operatorname{p_{x}}{\\left(t \\right)} \\cos{\\left(\\phi{\\left(t \\right)} \\right)} + m_{1} \\operatorname{p_{\\phi}}{\\left(t \\right)} + m_{2} \\operatorname{p_{\\phi}}{\\left(t \\right)}\\right) \\sin{\\left(\\phi{\\left(t \\right)} \\right)}}{m_{1} + m_{2} \\sin^{2}{\\left(\\phi{\\left(t \\right)} \\right)}} - l^{2} m_{2} \\operatorname{p_{x}}{\\left(t \\right)} \\frac{d}{d t} \\operatorname{p_{x}}{\\left(t \\right)} + l m_{2} \\operatorname{p_{\\phi}}{\\left(t \\right)} \\cos{\\left(\\phi{\\left(t \\right)} \\right)} \\frac{d}{d t} \\operatorname{p_{x}}{\\left(t \\right)} + l m_{2} \\operatorname{p_{x}}{\\left(t \\right)} \\cos{\\left(\\phi{\\left(t \\right)} \\right)} \\frac{d}{d t} \\operatorname{p_{\\phi}}{\\left(t \\right)} - m_{1} \\operatorname{p_{\\phi}}{\\left(t \\right)} \\frac{d}{d t} \\operatorname{p_{\\phi}}{\\left(t \\right)} - m_{2} \\operatorname{p_{\\phi}}{\\left(t \\right)} \\frac{d}{d t} \\operatorname{p_{\\phi}}{\\left(t \\right)} - \\frac{\\left(- l m_{2} \\operatorname{p_{x}}{\\left(t \\right)} \\cos{\\left(\\phi{\\left(t \\right)} \\right)} + m_{1} \\operatorname{p_{\\phi}}{\\left(t \\right)} + m_{2} \\operatorname{p_{\\phi}}{\\left(t \\right)}\\right) \\operatorname{p_{\\phi}}{\\left(t \\right)} \\operatorname{p_{x}}{\\left(t \\right)} \\sin{\\left(\\phi{\\left(t \\right)} \\right)}}{l \\left(m_{1} + m_{2} \\sin^{2}{\\left(\\phi{\\left(t \\right)} \\right)}\\right)}\\right) - \\frac{\\left(- l m_{2} \\operatorname{p_{x}}{\\left(t \\right)} \\cos{\\left(\\phi{\\left(t \\right)} \\right)} + m_{1} \\operatorname{p_{\\phi}}{\\left(t \\right)} + m_{2} \\operatorname{p_{\\phi}}{\\left(t \\right)}\\right) \\left(2 g l^{3} m_{1} m_{2}^{2} \\cos{\\left(\\phi{\\left(t \\right)} \\right)} + 2 g l^{3} m_{2}^{3} \\sin^{2}{\\left(\\phi{\\left(t \\right)} \\right)} \\cos{\\left(\\phi{\\left(t \\right)} \\right)} - l^{2} m_{2} \\operatorname{p_{x}}^{2}{\\left(t \\right)} + 2 l m_{2} \\operatorname{p_{\\phi}}{\\left(t \\right)} \\operatorname{p_{x}}{\\left(t \\right)} \\cos{\\left(\\phi{\\left(t \\right)} \\right)} - m_{1} \\operatorname{p_{\\phi}}^{2}{\\left(t \\right)} - m_{2} \\operatorname{p_{\\phi}}^{2}{\\left(t \\right)}\\right) \\sin{\\left(\\phi{\\left(t \\right)} \\right)} \\cos{\\left(\\phi{\\left(t \\right)} \\right)}}{l^{2} \\left(m_{1} + m_{2} \\sin^{2}{\\left(\\phi{\\left(t \\right)} \\right)}\\right)}}{l^{2} m_{2} \\left(m_{1} + m_{2} \\sin^{2}{\\left(\\phi{\\left(t \\right)} \\right)}\\right)^{2}}\n"
     ]
    }
   ],
   "source": [
    "print(sp.latex(L1_c_dot_eq))"
   ]
  },
  {
   "cell_type": "markdown",
   "id": "f440fe22",
   "metadata": {},
   "source": [
    "# Problem 3"
   ]
  },
  {
   "cell_type": "code",
   "execution_count": 172,
   "id": "ee82b40c",
   "metadata": {},
   "outputs": [],
   "source": [
    "# Parameters of the problem\n",
    "e, B= sp.symbols(\"e, B\");\n",
    "\n",
    "# Generalized coordinates\n",
    "q3=AM.polar()[0];\n",
    "\n",
    "# Position vector\n",
    "x3=AM.polar()[1];\n",
    "\n",
    "# Vector potential in polar coordinates\n",
    "A=[-B/2*x3[1],B/2*x3[0]];\n",
    "\n",
    "# External force\n",
    "F3=[0,0];\n",
    "\n",
    "# For this problem, the \"external potential\" which is only called as such due to the nature of the code will be\n",
    "v=[];\n",
    "\n",
    "for i in x3:\n",
    "    v.append(sp.diff(i,t));\n",
    "    \n",
    "U_ext=e*sp.simplify(AM.inner_prod(v,A));\n",
    "\n",
    "# System array \n",
    "system3=[x3,None,F3,U_ext,0,0];"
   ]
  },
  {
   "cell_type": "code",
   "execution_count": 173,
   "id": "b584d8ac",
   "metadata": {},
   "outputs": [
    {
     "name": "stdout",
     "output_type": "stream",
     "text": [
      "\\left[ - \\frac{B r{\\left(t \\right)} \\sin{\\left(\\theta{\\left(t \\right)} \\right)}}{2}, \\  \\frac{B r{\\left(t \\right)} \\cos{\\left(\\theta{\\left(t \\right)} \\right)}}{2}\\right]\n"
     ]
    }
   ],
   "source": [
    "print(sp.latex(A))"
   ]
  },
  {
   "cell_type": "code",
   "execution_count": 174,
   "id": "7eb0ff23",
   "metadata": {},
   "outputs": [
    {
     "data": {
      "image/png": "[encoded data removed]",
      "text/latex": [
       "$\\displaystyle - \\frac{B e r^{2}{\\left(t \\right)} \\frac{d}{d t} \\theta{\\left(t \\right)}}{2} + \\frac{m \\left(r^{2}{\\left(t \\right)} \\left(\\frac{d}{d t} \\theta{\\left(t \\right)}\\right)^{2} + \\left(\\frac{d}{d t} r{\\left(t \\right)}\\right)^{2}\\right)}{2}$"
      ],
      "text/plain": [
       "                         ⎛                2             2⎞\n",
       "       2    d            ⎜ 2    ⎛d       ⎞    ⎛d       ⎞ ⎟\n",
       "  B⋅e⋅r (t)⋅──(θ(t))   m⋅⎜r (t)⋅⎜──(θ(t))⎟  + ⎜──(r(t))⎟ ⎟\n",
       "            dt           ⎝      ⎝dt      ⎠    ⎝dt      ⎠ ⎠\n",
       "- ────────────────── + ───────────────────────────────────\n",
       "          2                             2                 "
      ]
     },
     "execution_count": 174,
     "metadata": {},
     "output_type": "execute_result"
    }
   ],
   "source": [
    "# Lagrangian for the system\n",
    "L3=AM.L(system3);\n",
    "L3"
   ]
  },
  {
   "cell_type": "code",
   "execution_count": 175,
   "id": "52cad93e",
   "metadata": {},
   "outputs": [
    {
     "name": "stdout",
     "output_type": "stream",
     "text": [
      "- \\frac{B e r^{2}{\\left(t \\right)} \\frac{d}{d t} \\theta{\\left(t \\right)}}{2} + \\frac{m \\left(r^{2}{\\left(t \\right)} \\left(\\frac{d}{d t} \\theta{\\left(t \\right)}\\right)^{2} + \\left(\\frac{d}{d t} r{\\left(t \\right)}\\right)^{2}\\right)}{2}\n"
     ]
    }
   ],
   "source": [
    "print(sp.latex(L3))"
   ]
  },
  {
   "cell_type": "code",
   "execution_count": 176,
   "id": "e2fa22ab",
   "metadata": {},
   "outputs": [
    {
     "data": {
      "image/png": "[encoded data removed]",
      "text/latex": [
       "$\\displaystyle \\frac{m \\left(r^{2}{\\left(t \\right)} \\left(\\frac{d}{d t} \\theta{\\left(t \\right)}\\right)^{2} + \\left(\\frac{d}{d t} r{\\left(t \\right)}\\right)^{2}\\right)}{2}$"
      ],
      "text/plain": [
       "  ⎛                2             2⎞\n",
       "  ⎜ 2    ⎛d       ⎞    ⎛d       ⎞ ⎟\n",
       "m⋅⎜r (t)⋅⎜──(θ(t))⎟  + ⎜──(r(t))⎟ ⎟\n",
       "  ⎝      ⎝dt      ⎠    ⎝dt      ⎠ ⎠\n",
       "───────────────────────────────────\n",
       "                 2                 "
      ]
     },
     "execution_count": 176,
     "metadata": {},
     "output_type": "execute_result"
    }
   ],
   "source": [
    "# Computing the Hamiltonian\n",
    "H3=sp.simplify(AM.H(q3,t,L3)[0]);\n",
    "H3"
   ]
  },
  {
   "cell_type": "code",
   "execution_count": 177,
   "id": "591dd1dd",
   "metadata": {},
   "outputs": [
    {
     "name": "stdout",
     "output_type": "stream",
     "text": [
      "\\frac{m \\left(r^{2}{\\left(t \\right)} \\left(\\frac{d}{d t} \\theta{\\left(t \\right)}\\right)^{2} + \\left(\\frac{d}{d t} r{\\left(t \\right)}\\right)^{2}\\right)}{2}\n"
     ]
    }
   ],
   "source": [
    "print(sp.latex(H3))"
   ]
  },
  {
   "cell_type": "code",
   "execution_count": 178,
   "id": "c7de53d7",
   "metadata": {},
   "outputs": [
    {
     "data": {
      "image/png": "[encoded data removed]",
      "text/latex": [
       "$\\displaystyle \\left[ m \\frac{d}{d t} r{\\left(t \\right)}, \\  - \\frac{B e r^{2}{\\left(t \\right)}}{2} + m r^{2}{\\left(t \\right)} \\frac{d}{d t} \\theta{\\left(t \\right)}\\right]$"
      ],
      "text/plain": [
       "⎡                   2                      ⎤\n",
       "⎢  d           B⋅e⋅r (t)      2    d       ⎥\n",
       "⎢m⋅──(r(t)), - ───────── + m⋅r (t)⋅──(θ(t))⎥\n",
       "⎣  dt              2               dt      ⎦"
      ]
     },
     "execution_count": 178,
     "metadata": {},
     "output_type": "execute_result"
    }
   ],
   "source": [
    "# Generalized momenta array to solve the equations of motion for the generalized velocities\n",
    "P3=AM.H(q3,t,L3)[1];\n",
    "P3"
   ]
  },
  {
   "cell_type": "code",
   "execution_count": 179,
   "id": "eb797326",
   "metadata": {},
   "outputs": [
    {
     "name": "stdout",
     "output_type": "stream",
     "text": [
      "\\left(- \\frac{B e}{2} + m \\frac{d}{d t} \\theta{\\left(t \\right)}\\right) r^{2}{\\left(t \\right)}\n"
     ]
    }
   ],
   "source": [
    "print(sp.latex(sp.simplify(P3[1])))"
   ]
  },
  {
   "cell_type": "code",
   "execution_count": 180,
   "id": "59ad2e6e",
   "metadata": {},
   "outputs": [],
   "source": [
    "# SYMBOLIC momenta array\n",
    "p_r=sp.Function(\"p_r\")(t);\n",
    "p_theta_3=sp.Function(\"p_theta\")(t);\n",
    "\n",
    "p3=[p_r,p_theta_3];"
   ]
  },
  {
   "cell_type": "code",
   "execution_count": 181,
   "id": "62bd3b9f",
   "metadata": {},
   "outputs": [
    {
     "data": {
      "image/png": "[encoded data removed]",
      "text/latex": [
       "$\\displaystyle \\left[ \\left\\{ \\frac{d}{d t} r{\\left(t \\right)} : \\frac{\\operatorname{p_{r}}{\\left(t \\right)}}{m}, \\  \\frac{d}{d t} \\theta{\\left(t \\right)} : \\frac{B e}{2 m} + \\frac{\\operatorname{p_{\\theta}}{\\left(t \\right)}}{m r^{2}{\\left(t \\right)}}\\right\\}\\right]$"
      ],
      "text/plain": [
       "⎡⎧d         pᵣ(t)  d         B⋅e   pₜₕₑₜₐ(t)⎫⎤\n",
       "⎢⎪──(r(t)): ─────, ──(θ(t)): ─── + ─────────⎪⎥\n",
       "⎢⎨dt          m    dt        2⋅m       2    ⎬⎥\n",
       "⎢⎪                                  m⋅r (t) ⎪⎥\n",
       "⎣⎩                                          ⎭⎦"
      ]
     },
     "execution_count": 181,
     "metadata": {},
     "output_type": "execute_result"
    }
   ],
   "source": [
    "# Solving the 2x2 system of equations for the generalized momenta\n",
    "q_dot_3_sol=sp.solve([P3[0]-p3[0], P3[1]-p3[1]], [sp.diff(q3[0],t), sp.diff(q3[1],t)], dict=True);\n",
    "q_dot_3_sol"
   ]
  },
  {
   "cell_type": "code",
   "execution_count": 182,
   "id": "58fe1da2",
   "metadata": {},
   "outputs": [
    {
     "data": {
      "image/png": "[encoded data removed]",
      "text/latex": [
       "$\\displaystyle \\left\\{ \\frac{d}{d t} r{\\left(t \\right)} : \\frac{\\operatorname{p_{r}}{\\left(t \\right)}}{m}, \\  \\frac{d}{d t} \\theta{\\left(t \\right)} : \\frac{B e}{2 m} + \\frac{\\operatorname{p_{\\theta}}{\\left(t \\right)}}{m r^{2}{\\left(t \\right)}}\\right\\}$"
      ],
      "text/plain": [
       "⎧d         pᵣ(t)  d         B⋅e   pₜₕₑₜₐ(t)⎫\n",
       "⎪──(r(t)): ─────, ──(θ(t)): ─── + ─────────⎪\n",
       "⎨dt          m    dt        2⋅m       2    ⎬\n",
       "⎪                                  m⋅r (t) ⎪\n",
       "⎩                                          ⎭"
      ]
     },
     "execution_count": 182,
     "metadata": {},
     "output_type": "execute_result"
    }
   ],
   "source": [
    "q_dot_3_sol[0]"
   ]
  },
  {
   "cell_type": "code",
   "execution_count": 183,
   "id": "e5b784bd",
   "metadata": {},
   "outputs": [],
   "source": [
    "# Getting the solutions from the dictonary that the \"solve\" method returns using get and the key (the generalized velocity)\n",
    "#For the phi coordinate:\n",
    "r_dot_3_sol=sp.simplify(q_dot_3_sol[0].get(sp.diff(q3[0],t)));\n",
    "theta_dot_3_sol=sp.simplify(q_dot_3_sol[0].get(sp.diff(q3[1],t)));"
   ]
  },
  {
   "cell_type": "code",
   "execution_count": 184,
   "id": "8cbc3cf0",
   "metadata": {},
   "outputs": [
    {
     "data": {
      "image/png": "[encoded data removed]",
      "text/latex": [
       "$\\displaystyle \\frac{\\left(B e r^{2}{\\left(t \\right)} + 2 \\operatorname{p_{\\theta}}{\\left(t \\right)}\\right)^{2}}{8 m r^{2}{\\left(t \\right)}} + \\frac{\\operatorname{p_{r}}^{2}{\\left(t \\right)}}{2 m}$"
      ],
      "text/plain": [
       "                         2         \n",
       "⎛     2                 ⎞      2   \n",
       "⎝B⋅e⋅r (t) + 2⋅pₜₕₑₜₐ(t)⎠    pᵣ (t)\n",
       "────────────────────────── + ──────\n",
       "             2                2⋅m  \n",
       "        8⋅m⋅r (t)                  "
      ]
     },
     "execution_count": 184,
     "metadata": {},
     "output_type": "execute_result"
    }
   ],
   "source": [
    "# Subsituting these results in the Hamiltonian \n",
    "H3=sp.simplify(H3.subs([(sp.diff(q3[0],t),r_dot_3_sol),(sp.diff(q3[1],t),theta_dot_3_sol)]));\n",
    "H3"
   ]
  },
  {
   "cell_type": "code",
   "execution_count": 185,
   "id": "decd9319",
   "metadata": {},
   "outputs": [
    {
     "name": "stdout",
     "output_type": "stream",
     "text": [
      "\\frac{\\left(B e r^{2}{\\left(t \\right)} + 2 \\operatorname{p_{\\theta}}{\\left(t \\right)}\\right)^{2}}{8 m r^{2}{\\left(t \\right)}} + \\frac{\\operatorname{p_{r}}^{2}{\\left(t \\right)}}{2 m}\n"
     ]
    }
   ],
   "source": [
    "print(sp.latex(H3))"
   ]
  },
  {
   "cell_type": "code",
   "execution_count": 186,
   "id": "53dafbc3",
   "metadata": {},
   "outputs": [
    {
     "data": {
      "image/png": "[encoded data removed]",
      "text/latex": [
       "$\\displaystyle \\left[ \\left[ \\frac{\\operatorname{p_{r}}{\\left(t \\right)}}{m}, \\  \\frac{4 B e r^{2}{\\left(t \\right)} + 8 \\operatorname{p_{\\theta}}{\\left(t \\right)}}{8 m r^{2}{\\left(t \\right)}}\\right], \\  \\left[ - \\frac{B e \\left(B e r^{2}{\\left(t \\right)} + 2 \\operatorname{p_{\\theta}}{\\left(t \\right)}\\right)}{2 m r{\\left(t \\right)}} + \\frac{\\left(B e r^{2}{\\left(t \\right)} + 2 \\operatorname{p_{\\theta}}{\\left(t \\right)}\\right)^{2}}{4 m r^{3}{\\left(t \\right)}}, \\  0\\right], \\  \\frac{\\left(B e r^{2}{\\left(t \\right)} + 2 \\operatorname{p_{\\theta}}{\\left(t \\right)}\\right)^{2} \\frac{d}{d t} r{\\left(t \\right)}}{4 m r^{3}{\\left(t \\right)}} - \\frac{\\left(B e r^{2}{\\left(t \\right)} + 2 \\operatorname{p_{\\theta}}{\\left(t \\right)}\\right) \\left(4 B e r{\\left(t \\right)} \\frac{d}{d t} r{\\left(t \\right)} + 4 \\frac{d}{d t} \\operatorname{p_{\\theta}}{\\left(t \\right)}\\right)}{8 m r^{2}{\\left(t \\right)}} - \\frac{\\operatorname{p_{r}}{\\left(t \\right)} \\frac{d}{d t} \\operatorname{p_{r}}{\\left(t \\right)}}{m}\\right]$"
      ],
      "text/plain": [
       "⎡                                                                             \n",
       "⎢                                    ⎡                                        \n",
       "⎢⎡              2                 ⎤  ⎢      ⎛     2                 ⎞   ⎛     \n",
       "⎢⎢pᵣ(t)  4⋅B⋅e⋅r (t) + 8⋅pₜₕₑₜₐ(t)⎥  ⎢  B⋅e⋅⎝B⋅e⋅r (t) + 2⋅pₜₕₑₜₐ(t)⎠   ⎝B⋅e⋅r\n",
       "⎢⎢─────, ─────────────────────────⎥, ⎢- ───────────────────────────── + ──────\n",
       "⎢⎢  m                 2           ⎥  ⎢             2⋅m⋅r(t)                   \n",
       "⎣⎣               8⋅m⋅r (t)        ⎦  ⎣                                        \n",
       "\n",
       "                                                   2                          \n",
       "                   2   ⎤  ⎛     2                 ⎞  d          ⎛     2       \n",
       "2                 ⎞    ⎥  ⎝B⋅e⋅r (t) + 2⋅pₜₕₑₜₐ(t)⎠ ⋅──(r(t))   ⎝B⋅e⋅r (t) + 2\n",
       " (t) + 2⋅pₜₕₑₜₐ(t)⎠    ⎥                             dt                       \n",
       "────────────────────, 0⎥, ─────────────────────────────────── - ──────────────\n",
       "       3               ⎥                    3                                 \n",
       "  4⋅m⋅r (t)            ⎦               4⋅m⋅r (t)                              \n",
       "\n",
       "                                                                     ⎤\n",
       "          ⎞ ⎛           d            d            ⎞         d        ⎥\n",
       "⋅pₜₕₑₜₐ(t)⎠⋅⎜4⋅B⋅e⋅r(t)⋅──(r(t)) + 4⋅──(pₜₕₑₜₐ(t))⎟   pᵣ(t)⋅──(pᵣ(t))⎥\n",
       "            ⎝           dt           dt           ⎠         dt       ⎥\n",
       "─────────────────────────────────────────────────── - ───────────────⎥\n",
       "                   2                                         m       ⎥\n",
       "              8⋅m⋅r (t)                                              ⎦"
      ]
     },
     "execution_count": 186,
     "metadata": {},
     "output_type": "execute_result"
    }
   ],
   "source": [
    "# Computing the canonical equations\n",
    "can_eqs_3=AM.can_eqs(H3,q3,p3);\n",
    "can_eqs_3"
   ]
  },
  {
   "cell_type": "code",
   "execution_count": 187,
   "id": "e1d489ff",
   "metadata": {},
   "outputs": [],
   "source": [
    "# Generalized velocities \n",
    "r_dot_eq_3=sp.simplify(can_eqs_3[0][0]);\n",
    "theta_dot_eq_3=sp.simplify(can_eqs_3[0][1]);\n",
    "\n",
    "# Generalized momenta\n",
    "p_r_dot_eq_3=sp.simplify(can_eqs_3[1][0]);\n",
    "p_theta_dot_eq_3=sp.simplify(can_eqs_3[1][1]);\n",
    "\n",
    "# Lagrangian time derivative\n",
    "L3_dot_eq=sp.simplify(can_eqs_3[2].subs(sp.diff(q3[0],t),r_dot_3_sol));"
   ]
  },
  {
   "cell_type": "code",
   "execution_count": 188,
   "id": "642639fd",
   "metadata": {},
   "outputs": [
    {
     "name": "stdout",
     "output_type": "stream",
     "text": [
      "\\frac{- m \\operatorname{p_{r}}{\\left(t \\right)} r^{3}{\\left(t \\right)} \\frac{d}{d t} \\operatorname{p_{r}}{\\left(t \\right)} + \\frac{\\left(B e r^{2}{\\left(t \\right)} + 2 \\operatorname{p_{\\theta}}{\\left(t \\right)}\\right)^{2} \\operatorname{p_{r}}{\\left(t \\right)}}{4} - \\frac{\\left(B e r^{2}{\\left(t \\right)} + 2 \\operatorname{p_{\\theta}}{\\left(t \\right)}\\right) \\left(B e \\operatorname{p_{r}}{\\left(t \\right)} r{\\left(t \\right)} + m \\frac{d}{d t} \\operatorname{p_{\\theta}}{\\left(t \\right)}\\right) r{\\left(t \\right)}}{2}}{m^{2} r^{3}{\\left(t \\right)}}\n"
     ]
    }
   ],
   "source": [
    "print(sp.latex(L3_dot_eq))"
   ]
  },
  {
   "cell_type": "code",
   "execution_count": 216,
   "id": "3848e80b",
   "metadata": {},
   "outputs": [
    {
     "data": {
      "image/png": "[encoded data removed]",
      "text/latex": [
       "$\\displaystyle - \\frac{B^{2} e^{2} r_{O}^{4}}{4} + \\operatorname{p_{\\theta}}^{2}{\\left(t \\right)}$"
      ],
      "text/plain": [
       "   2  2    4             \n",
       "  B ⋅e ⋅r_O          2   \n",
       "- ────────── + pₜₕₑₜₐ (t)\n",
       "      4                  "
      ]
     },
     "execution_count": 216,
     "metadata": {},
     "output_type": "execute_result"
    }
   ],
   "source": [
    "# If r=r_0=cte, then the motion is constrained to occur along a circular curve whose radius is r_O\n",
    "r_O=sp.Symbol(\"r_O\", positive=True);\n",
    "\n",
    "# From the equation of the canonical momenta for r it must hold that the following equals zero\n",
    "Eq1=p_r_dot_eq_3*m*q3[0]**3;\n",
    "Eq1=Eq1.subs(q3[0],r_O);\n",
    "Eq1"
   ]
  },
  {
   "cell_type": "code",
   "execution_count": 218,
   "id": "9c092cc9",
   "metadata": {},
   "outputs": [
    {
     "data": {
      "image/png": "[encoded data removed]",
      "text/latex": [
       "$\\displaystyle \\left[ - \\sqrt{2} \\sqrt[4]{\\frac{\\operatorname{p_{\\theta}}^{2}{\\left(t \\right)}}{B^{2} e^{2}}}, \\  \\sqrt{2} \\sqrt[4]{\\frac{\\operatorname{p_{\\theta}}^{2}{\\left(t \\right)}}{B^{2} e^{2}}}, \\  - \\sqrt{2} i \\sqrt[4]{\\frac{\\operatorname{p_{\\theta}}^{2}{\\left(t \\right)}}{B^{2} e^{2}}}, \\  \\sqrt{2} i \\sqrt[4]{\\frac{\\operatorname{p_{\\theta}}^{2}{\\left(t \\right)}}{B^{2} e^{2}}}\\right]$"
      ],
      "text/plain": [
       "⎡          ____________           ____________              ____________      \n",
       "⎢         ╱       2              ╱       2                 ╱       2          \n",
       "⎢        ╱  pₜₕₑₜₐ (t)          ╱  pₜₕₑₜₐ (t)             ╱  pₜₕₑₜₐ (t)       \n",
       "⎢-√2⋅   ╱   ────────── , √2⋅   ╱   ────────── , -√2⋅ⅈ⋅   ╱   ────────── , √2⋅ⅈ\n",
       "⎢    4 ╱       2  2         4 ╱       2  2            4 ╱       2  2          \n",
       "⎣    ╲╱       B ⋅e          ╲╱       B ⋅e             ╲╱       B ⋅e           \n",
       "\n",
       "       ____________⎤\n",
       "      ╱       2    ⎥\n",
       "     ╱  pₜₕₑₜₐ (t) ⎥\n",
       "⋅   ╱   ────────── ⎥\n",
       " 4 ╱       2  2    ⎥\n",
       " ╲╱       B ⋅e     ⎦"
      ]
     },
     "execution_count": 218,
     "metadata": {},
     "output_type": "execute_result"
    }
   ],
   "source": [
    "# Solving for the radius in terms of the angular momentum \n",
    "Sol1=sp.solve(Eq1,r_O);\n",
    "Sol1"
   ]
  },
  {
   "cell_type": "code",
   "execution_count": 210,
   "id": "51b5c114",
   "metadata": {},
   "outputs": [
    {
     "data": {
      "image/png": "[encoded data removed]",
      "text/latex": [
       "$\\displaystyle \\sqrt{2} \\sqrt[4]{\\frac{\\operatorname{p_{\\theta}}^{2}{\\left(t \\right)}}{B^{2} e^{2}}}$"
      ],
      "text/plain": [
       "         ____________\n",
       "        ╱       2    \n",
       "       ╱  pₜₕₑₜₐ (t) \n",
       "√2⋅   ╱   ────────── \n",
       "   4 ╱       2  2    \n",
       "   ╲╱       B ⋅e     "
      ]
     },
     "execution_count": 210,
     "metadata": {},
     "output_type": "execute_result"
    }
   ],
   "source": [
    "# The only positive, real valued solution which correspond to a physical radius is\n",
    "r_Oeq=Sol1[1];\n",
    "r_Oeq"
   ]
  },
  {
   "cell_type": "code",
   "execution_count": 211,
   "id": "b6eaba6d",
   "metadata": {},
   "outputs": [
    {
     "data": {
      "image/png": "[encoded data removed]",
      "text/latex": [
       "$\\displaystyle m r_{O} v$"
      ],
      "text/plain": [
       "m⋅r_O⋅v"
      ]
     },
     "execution_count": 211,
     "metadata": {},
     "output_type": "execute_result"
    }
   ],
   "source": [
    "# Defining the tangential speed symbol\n",
    "v=sp.Symbol(\"v\");\n",
    "\n",
    "# Defining the angular momentum as\n",
    "Lmom=m*r_O*v\n",
    "Lmom"
   ]
  },
  {
   "cell_type": "code",
   "execution_count": 213,
   "id": "3442c027",
   "metadata": {},
   "outputs": [
    {
     "data": {
      "image/png": "[encoded data removed]",
      "text/latex": [
       "$\\displaystyle \\left[ 2 m \\sqrt{\\frac{v^{2}}{B^{2} e^{2}}}\\right]$"
      ],
      "text/plain": [
       "⎡          _______⎤\n",
       "⎢         ╱    2  ⎥\n",
       "⎢        ╱    v   ⎥\n",
       "⎢2⋅m⋅   ╱   ───── ⎥\n",
       "⎢      ╱     2  2 ⎥\n",
       "⎣    ╲╱     B ⋅e  ⎦"
      ]
     },
     "execution_count": 213,
     "metadata": {},
     "output_type": "execute_result"
    }
   ],
   "source": [
    "sp.solve(sp.simplify(r_Oeq.subs(p_theta,Lmom))-r_O,r_O)"
   ]
  },
  {
   "cell_type": "markdown",
   "id": "a73f5ce6",
   "metadata": {},
   "source": [
    "# Problem 4"
   ]
  },
  {
   "cell_type": "code",
   "execution_count": 191,
   "id": "fac0aadc",
   "metadata": {},
   "outputs": [],
   "source": [
    "# Cartesian coordinates\n",
    "q_4=AM.cartesian()[0];\n",
    "q_4\n",
    "\n",
    "# Linear momentum\n",
    "p_x, p_y, p_z =sp.symbols(\"p_x, p_y, p_z\");\n",
    "\n",
    "p_4=[p_x, p_y, p_z];\n",
    "\n",
    "# Angular momentum vector\n",
    "l_4=AM.cross(q_4,p_4);"
   ]
  },
  {
   "cell_type": "code",
   "execution_count": 192,
   "id": "a98117a5",
   "metadata": {},
   "outputs": [],
   "source": [
    "# Function to check whether the identity is true or not\n",
    "def check1 (f,g):\n",
    "    \n",
    "    global q_4, p_4;\n",
    "    c=True;\n",
    "    s1=0;\n",
    "    s2=0;\n",
    "    \n",
    "    for i in range (0,len(f),1):\n",
    "        for j in range (0,len(f),1):\n",
    "            for k in range (0,len(f),1):\n",
    "                s1=s1+AM.Levi_Civita(i,j,k)*g[k];\n",
    "            s2=s2+AM.poisson_bracket(f[i],g[j],q_4,p_4);\n",
    "            \n",
    "            if (s1==s2):\n",
    "                c=True;\n",
    "            else:\n",
    "                return False;\n",
    "            s1=0;\n",
    "            s2=0;\n",
    "    return c;"
   ]
  },
  {
   "cell_type": "markdown",
   "id": "fce98f49",
   "metadata": {},
   "source": [
    "# a) \n",
    "$f=L_i, g=q_j=x_j$"
   ]
  },
  {
   "cell_type": "code",
   "execution_count": 193,
   "id": "2dbb236c",
   "metadata": {},
   "outputs": [
    {
     "data": {
      "text/plain": [
       "True"
      ]
     },
     "execution_count": 193,
     "metadata": {},
     "output_type": "execute_result"
    }
   ],
   "source": [
    "check1(l_4,q_4)"
   ]
  },
  {
   "cell_type": "markdown",
   "id": "8f304550",
   "metadata": {},
   "source": [
    "# b)\n",
    "\n",
    "$f=L_i, g=p_j$"
   ]
  },
  {
   "cell_type": "code",
   "execution_count": 194,
   "id": "7441e883",
   "metadata": {},
   "outputs": [
    {
     "data": {
      "text/plain": [
       "True"
      ]
     },
     "execution_count": 194,
     "metadata": {},
     "output_type": "execute_result"
    }
   ],
   "source": [
    "check1(l_4, p_4)"
   ]
  },
  {
   "cell_type": "markdown",
   "id": "8b1d23c0",
   "metadata": {},
   "source": [
    "# c)\n",
    "$f=L_i, g=L_j$"
   ]
  },
  {
   "cell_type": "code",
   "execution_count": 195,
   "id": "bb48a68f",
   "metadata": {},
   "outputs": [
    {
     "data": {
      "text/plain": [
       "True"
      ]
     },
     "execution_count": 195,
     "metadata": {},
     "output_type": "execute_result"
    }
   ],
   "source": [
    "check1(l_4,l_4)"
   ]
  },
  {
   "cell_type": "code",
   "execution_count": 196,
   "id": "7ad36add",
   "metadata": {},
   "outputs": [],
   "source": [
    "# Another funtcion for the other three identities\n",
    "def check2 (f, g):\n",
    "    global q_4, p_4;\n",
    "    c=True;\n",
    "    \n",
    "    s=0;\n",
    "    \n",
    "    for i in range (0,len(f),1):\n",
    "        for j in range (0,len(f),1):\n",
    "            s=s+g[j]*g[j];\n",
    "            \n",
    "        if(sp.simplify(AM.poisson_bracket(f[i],s,q_4,p_4))==0):\n",
    "            c=True;\n",
    "        else:\n",
    "            return False;\n",
    "        s=0;\n",
    "    return c;"
   ]
  },
  {
   "cell_type": "markdown",
   "id": "d80e50de",
   "metadata": {},
   "source": [
    "# d)\n",
    "$f=L_i, g=q_jq_j=x_jx_j$"
   ]
  },
  {
   "cell_type": "code",
   "execution_count": 197,
   "id": "ba9f02a9",
   "metadata": {},
   "outputs": [
    {
     "data": {
      "text/plain": [
       "True"
      ]
     },
     "execution_count": 197,
     "metadata": {},
     "output_type": "execute_result"
    }
   ],
   "source": [
    "check2(l_4,q_4)"
   ]
  },
  {
   "cell_type": "markdown",
   "id": "d125f6a1",
   "metadata": {},
   "source": [
    "# e)\n",
    "$f=L_i, g=p_jp_j$"
   ]
  },
  {
   "cell_type": "code",
   "execution_count": 198,
   "id": "990f3b7b",
   "metadata": {},
   "outputs": [
    {
     "data": {
      "text/plain": [
       "True"
      ]
     },
     "execution_count": 198,
     "metadata": {},
     "output_type": "execute_result"
    }
   ],
   "source": [
    "check2(l_4,p_4)"
   ]
  },
  {
   "cell_type": "markdown",
   "id": "06ced08c",
   "metadata": {},
   "source": [
    "# f)\n",
    "$f=L_i, g=L_jL_j$"
   ]
  },
  {
   "cell_type": "code",
   "execution_count": 199,
   "id": "51de9f7d",
   "metadata": {},
   "outputs": [
    {
     "data": {
      "text/plain": [
       "True"
      ]
     },
     "execution_count": 199,
     "metadata": {},
     "output_type": "execute_result"
    }
   ],
   "source": [
    "check2(l_4,l_4)"
   ]
  },
  {
   "cell_type": "code",
   "execution_count": null,
   "id": "b8455658",
   "metadata": {},
   "outputs": [],
   "source": []
  }
 ],
 "metadata": {
  "kernelspec": {
   "display_name": "Python 3 (ipykernel)",
   "language": "python",
   "name": "python3"
  },
  "language_info": {
   "codemirror_mode": {
    "name": "ipython",
    "version": 3
   },
   "file_extension": ".py",
   "mimetype": "text/x-python",
   "name": "python",
   "nbconvert_exporter": "python",
   "pygments_lexer": "ipython3",
   "version": "3.9.7"
  }
 },
 "nbformat": 4,
 "nbformat_minor": 5
}
