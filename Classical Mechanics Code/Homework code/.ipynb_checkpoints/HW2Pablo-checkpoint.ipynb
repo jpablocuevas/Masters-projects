{
 "cells": [
  {
   "cell_type": "markdown",
   "id": "a44e0246",
   "metadata": {},
   "source": [
    "# Homework 2\n",
    "\n",
    "# Classical Mechanics\n",
    "\n",
    "# José Pablo Cuevas Cázares\n"
   ]
  },
  {
   "cell_type": "code",
   "execution_count": 1,
   "id": "362fc5ad",
   "metadata": {},
   "outputs": [],
   "source": [
    "import Lagrangian_Mechanics as LM\n",
    "import sympy as sp\n",
    "from IPython.display import display,Math,Latex"
   ]
  },
  {
   "cell_type": "code",
   "execution_count": 2,
   "id": "78759c2c",
   "metadata": {},
   "outputs": [],
   "source": [
    "# General parameters\n",
    "t=LM.time();\n",
    "m=LM.mass(0);"
   ]
  },
  {
   "cell_type": "markdown",
   "id": "1260e7c2",
   "metadata": {},
   "source": [
    "# Problem 2"
   ]
  },
  {
   "cell_type": "code",
   "execution_count": 3,
   "id": "beaed873",
   "metadata": {},
   "outputs": [],
   "source": [
    "# Generalized coordinates\n",
    "q2=LM.cartesian()[0];"
   ]
  },
  {
   "cell_type": "code",
   "execution_count": 4,
   "id": "8ec61ed3",
   "metadata": {},
   "outputs": [],
   "source": [
    "# Problem 2 parameter\n",
    "k=sp.Symbol(\"k\",positive=True);"
   ]
  },
  {
   "cell_type": "code",
   "execution_count": 82,
   "id": "140abe56",
   "metadata": {},
   "outputs": [
    {
     "data": {
      "image/png": "[encoded data removed]",
      "text/latex": [
       "$\\displaystyle - \\frac{k \\left(x^{2}{\\left(t \\right)} + y^{2}{\\left(t \\right)}\\right)}{2} + \\frac{m_{0} \\left(\\left(\\frac{d}{d t} x{\\left(t \\right)}\\right)^{2} + \\left(\\frac{d}{d t} y{\\left(t \\right)}\\right)^{2} + \\left(\\frac{d}{d t} z{\\left(t \\right)}\\right)^{2}\\right)}{2}$"
      ],
      "text/plain": [
       "                         ⎛          2             2             2⎞\n",
       "                         ⎜⎛d       ⎞    ⎛d       ⎞    ⎛d       ⎞ ⎟\n",
       "    ⎛ 2       2   ⎞   m₀⋅⎜⎜──(x(t))⎟  + ⎜──(y(t))⎟  + ⎜──(z(t))⎟ ⎟\n",
       "  k⋅⎝x (t) + y (t)⎠      ⎝⎝dt      ⎠    ⎝dt      ⎠    ⎝dt      ⎠ ⎠\n",
       "- ───────────────── + ────────────────────────────────────────────\n",
       "          2                                2                      "
      ]
     },
     "execution_count": 82,
     "metadata": {},
     "output_type": "execute_result"
    }
   ],
   "source": [
    "# Lagrangian \n",
    "L2=m/2*(sp.diff(q2[0],t)**2+sp.diff(q2[1],t)**2+sp.diff(q2[2],t)**2)-k/2*(q2[0]**2+q2[1]**2);\n",
    "L2"
   ]
  },
  {
   "cell_type": "markdown",
   "id": "a56f0c71",
   "metadata": {},
   "source": [
    "# a)"
   ]
  },
  {
   "cell_type": "code",
   "execution_count": 6,
   "id": "819d57c4",
   "metadata": {},
   "outputs": [],
   "source": [
    "# Equations of motion\n",
    "EOM2=LM.EOM(L2,q2,[],[]);\n",
    "EOM2x=sp.Eq(EOM2[0],0);\n",
    "EOM2y=sp.Eq(EOM2[1],0);\n",
    "EOM2z=sp.Eq(EOM2[2],0);"
   ]
  },
  {
   "cell_type": "code",
   "execution_count": 7,
   "id": "e0cc8015",
   "metadata": {},
   "outputs": [
    {
     "data": {
      "image/png": "[encoded data removed]",
      "text/latex": [
       "$\\displaystyle k x{\\left(t \\right)} + m_{0} \\frac{d^{2}}{d t^{2}} x{\\left(t \\right)} = 0$"
      ],
      "text/plain": [
       "              2          \n",
       "             d           \n",
       "k⋅x(t) + m₀⋅───(x(t)) = 0\n",
       "              2          \n",
       "            dt           "
      ]
     },
     "execution_count": 7,
     "metadata": {},
     "output_type": "execute_result"
    }
   ],
   "source": [
    "EOM2x"
   ]
  },
  {
   "cell_type": "code",
   "execution_count": 8,
   "id": "ab9c0bad",
   "metadata": {},
   "outputs": [
    {
     "data": {
      "image/png": "[encoded data removed]",
      "text/latex": [
       "$\\displaystyle k y{\\left(t \\right)} + m_{0} \\frac{d^{2}}{d t^{2}} y{\\left(t \\right)} = 0$"
      ],
      "text/plain": [
       "              2          \n",
       "             d           \n",
       "k⋅y(t) + m₀⋅───(y(t)) = 0\n",
       "              2          \n",
       "            dt           "
      ]
     },
     "execution_count": 8,
     "metadata": {},
     "output_type": "execute_result"
    }
   ],
   "source": [
    "EOM2y"
   ]
  },
  {
   "cell_type": "code",
   "execution_count": 9,
   "id": "279b2940",
   "metadata": {},
   "outputs": [
    {
     "data": {
      "image/png": "[encoded data removed]",
      "text/latex": [
       "$\\displaystyle m_{0} \\frac{d^{2}}{d t^{2}} z{\\left(t \\right)} = 0$"
      ],
      "text/plain": [
       "     2          \n",
       "    d           \n",
       "m₀⋅───(z(t)) = 0\n",
       "     2          \n",
       "   dt           "
      ]
     },
     "execution_count": 9,
     "metadata": {},
     "output_type": "execute_result"
    }
   ],
   "source": [
    "EOM2z"
   ]
  },
  {
   "cell_type": "markdown",
   "id": "05db0a7e",
   "metadata": {},
   "source": [
    "# b)"
   ]
  },
  {
   "cell_type": "code",
   "execution_count": 10,
   "id": "edb34154",
   "metadata": {},
   "outputs": [
    {
     "data": {
      "image/png": "[encoded data removed]",
      "text/latex": [
       "$\\displaystyle \\frac{k \\left(x^{2}{\\left(t \\right)} + y^{2}{\\left(t \\right)}\\right)}{2} + \\frac{m_{0} \\left(\\left(\\frac{d}{d t} x{\\left(t \\right)}\\right)^{2} + \\left(\\frac{d}{d t} y{\\left(t \\right)}\\right)^{2} + \\left(\\frac{d}{d t} z{\\left(t \\right)}\\right)^{2}\\right)}{2}$"
      ],
      "text/plain": [
       "                       ⎛          2             2             2⎞\n",
       "                       ⎜⎛d       ⎞    ⎛d       ⎞    ⎛d       ⎞ ⎟\n",
       "  ⎛ 2       2   ⎞   m₀⋅⎜⎜──(x(t))⎟  + ⎜──(y(t))⎟  + ⎜──(z(t))⎟ ⎟\n",
       "k⋅⎝x (t) + y (t)⎠      ⎝⎝dt      ⎠    ⎝dt      ⎠    ⎝dt      ⎠ ⎠\n",
       "───────────────── + ────────────────────────────────────────────\n",
       "        2                                2                      "
      ]
     },
     "execution_count": 10,
     "metadata": {},
     "output_type": "execute_result"
    }
   ],
   "source": [
    "# Energy function of the system\n",
    "E2=LM.Energy(L2,q2);\n",
    "E2"
   ]
  },
  {
   "cell_type": "code",
   "execution_count": 11,
   "id": "f25c7c39",
   "metadata": {},
   "outputs": [
    {
     "data": {
      "image/png": "[encoded data removed]",
      "text/latex": [
       "$\\displaystyle k \\left(x{\\left(t \\right)} \\frac{d}{d t} x{\\left(t \\right)} + y{\\left(t \\right)} \\frac{d}{d t} y{\\left(t \\right)}\\right) + m_{0} \\left(\\frac{d}{d t} x{\\left(t \\right)} \\frac{d^{2}}{d t^{2}} x{\\left(t \\right)} + \\frac{d}{d t} y{\\left(t \\right)} \\frac{d^{2}}{d t^{2}} y{\\left(t \\right)} + \\frac{d}{d t} z{\\left(t \\right)} \\frac{d^{2}}{d t^{2}} z{\\left(t \\right)}\\right)$"
      ],
      "text/plain": [
       "                                       ⎛           2                    2     \n",
       "  ⎛     d               d       ⎞      ⎜d         d          d         d      \n",
       "k⋅⎜x(t)⋅──(x(t)) + y(t)⋅──(y(t))⎟ + m₀⋅⎜──(x(t))⋅───(x(t)) + ──(y(t))⋅───(y(t)\n",
       "  ⎝     dt              dt      ⎠      ⎜dt         2         dt         2     \n",
       "                                       ⎝         dt                   dt      \n",
       "\n",
       "               2      ⎞\n",
       "    d         d       ⎟\n",
       ") + ──(z(t))⋅───(z(t))⎟\n",
       "    dt         2      ⎟\n",
       "             dt       ⎠"
      ]
     },
     "execution_count": 11,
     "metadata": {},
     "output_type": "execute_result"
    }
   ],
   "source": [
    "# Total temporal derivative of the energy function\n",
    "dE2dt=sp.simplify(sp.diff(E2,t));\n",
    "dE2dt"
   ]
  },
  {
   "cell_type": "code",
   "execution_count": 12,
   "id": "aab55afe",
   "metadata": {},
   "outputs": [
    {
     "data": {
      "image/png": "[encoded data removed]",
      "text/latex": [
       "$\\displaystyle 0$"
      ],
      "text/plain": [
       "0"
      ]
     },
     "execution_count": 12,
     "metadata": {},
     "output_type": "execute_result"
    }
   ],
   "source": [
    "# Taking into account the EOM yields\n",
    "sp.simplify(dE2dt.subs([(sp.diff(sp.diff(q2[2],t)),0),(sp.diff(sp.diff(q2[0],t)),-k/m*q2[0]),(sp.diff(sp.diff(q2[1],t)),-k/m*q2[1])]))"
   ]
  },
  {
   "cell_type": "code",
   "execution_count": 13,
   "id": "158255fc",
   "metadata": {},
   "outputs": [],
   "source": [
    "# So the energy for the system is conserved"
   ]
  },
  {
   "cell_type": "markdown",
   "id": "95706080",
   "metadata": {},
   "source": [
    "# c)"
   ]
  },
  {
   "cell_type": "code",
   "execution_count": 14,
   "id": "37840f17",
   "metadata": {},
   "outputs": [],
   "source": [
    "# Momentum array\n",
    "P2=LM.gen_p(L2,q2);\n",
    "\n",
    "p2x=P2[0];\n",
    "p2y=P2[1];\n",
    "p2z=P2[2];"
   ]
  },
  {
   "cell_type": "code",
   "execution_count": 15,
   "id": "a75aadb2",
   "metadata": {},
   "outputs": [
    {
     "data": {
      "image/png": "[encoded data removed]",
      "text/latex": [
       "$\\displaystyle m_{0} \\frac{d^{2}}{d t^{2}} x{\\left(t \\right)}$"
      ],
      "text/plain": [
       "     2      \n",
       "    d       \n",
       "m₀⋅───(x(t))\n",
       "     2      \n",
       "   dt       "
      ]
     },
     "execution_count": 15,
     "metadata": {},
     "output_type": "execute_result"
    }
   ],
   "source": [
    "# Momentum is conserved if dp_i/dt=0\n",
    "sp.diff(p2x,t)"
   ]
  },
  {
   "cell_type": "code",
   "execution_count": 16,
   "id": "7df4b66f",
   "metadata": {},
   "outputs": [
    {
     "data": {
      "image/png": "[encoded data removed]",
      "text/latex": [
       "$\\displaystyle m_{0} \\frac{d^{2}}{d t^{2}} y{\\left(t \\right)}$"
      ],
      "text/plain": [
       "     2      \n",
       "    d       \n",
       "m₀⋅───(y(t))\n",
       "     2      \n",
       "   dt       "
      ]
     },
     "execution_count": 16,
     "metadata": {},
     "output_type": "execute_result"
    }
   ],
   "source": [
    "sp.diff(p2y,t)"
   ]
  },
  {
   "cell_type": "code",
   "execution_count": 17,
   "id": "febc191e",
   "metadata": {},
   "outputs": [
    {
     "data": {
      "image/png": "[encoded data removed]",
      "text/latex": [
       "$\\displaystyle m_{0} \\frac{d^{2}}{d t^{2}} z{\\left(t \\right)}$"
      ],
      "text/plain": [
       "     2      \n",
       "    d       \n",
       "m₀⋅───(z(t))\n",
       "     2      \n",
       "   dt       "
      ]
     },
     "execution_count": 17,
     "metadata": {},
     "output_type": "execute_result"
    }
   ],
   "source": [
    "sp.diff(p2z,t)"
   ]
  },
  {
   "cell_type": "code",
   "execution_count": 18,
   "id": "b5d525a0",
   "metadata": {},
   "outputs": [],
   "source": [
    "# Using the EOM, clearly p_z is the only conserved component of momentum"
   ]
  },
  {
   "cell_type": "markdown",
   "id": "997c69ff",
   "metadata": {},
   "source": [
    "# d) \n",
    "The angular momentum of a system is defined as \n",
    "\n",
    "$\\vec{M}=\\sum_{a}\\vec{x}_a\\times\\vec{p}_a$"
   ]
  },
  {
   "cell_type": "code",
   "execution_count": 19,
   "id": "a5c790eb",
   "metadata": {},
   "outputs": [
    {
     "data": {
      "image/png": "[encoded data removed]",
      "text/latex": [
       "$\\displaystyle \\left[ m_{0} y{\\left(t \\right)} \\frac{d}{d t} z{\\left(t \\right)} - m_{0} z{\\left(t \\right)} \\frac{d}{d t} y{\\left(t \\right)}, \\  - m_{0} x{\\left(t \\right)} \\frac{d}{d t} z{\\left(t \\right)} + m_{0} z{\\left(t \\right)} \\frac{d}{d t} x{\\left(t \\right)}, \\  m_{0} x{\\left(t \\right)} \\frac{d}{d t} y{\\left(t \\right)} - m_{0} y{\\left(t \\right)} \\frac{d}{d t} x{\\left(t \\right)}\\right]$"
      ],
      "text/plain": [
       "⎡        d                  d                   d                  d          \n",
       "⎢m₀⋅y(t)⋅──(z(t)) - m₀⋅z(t)⋅──(y(t)), - m₀⋅x(t)⋅──(z(t)) + m₀⋅z(t)⋅──(x(t)), m\n",
       "⎣        dt                 dt                  dt                 dt         \n",
       "\n",
       "       d                  d       ⎤\n",
       "₀⋅x(t)⋅──(y(t)) - m₀⋅y(t)⋅──(x(t))⎥\n",
       "       dt                 dt      ⎦"
      ]
     },
     "execution_count": 19,
     "metadata": {},
     "output_type": "execute_result"
    }
   ],
   "source": [
    "# Angular momentum using q=x as the cartesian position vector \n",
    "M2=LM.cross(q2,P2);\n",
    "M2"
   ]
  },
  {
   "cell_type": "code",
   "execution_count": 20,
   "id": "53f28c95",
   "metadata": {},
   "outputs": [],
   "source": [
    "# Checking which components of the angular momentum are conserved\n",
    "dM2xdt=sp.diff(M2[0],t);\n",
    "dM2ydt=sp.diff(M2[1],t);\n",
    "dM2zdt=sp.diff(M2[2],t);"
   ]
  },
  {
   "cell_type": "code",
   "execution_count": 21,
   "id": "c40cb2ec",
   "metadata": {},
   "outputs": [
    {
     "data": {
      "image/png": "[encoded data removed]",
      "text/latex": [
       "$\\displaystyle m_{0} y{\\left(t \\right)} \\frac{d^{2}}{d t^{2}} z{\\left(t \\right)} - m_{0} z{\\left(t \\right)} \\frac{d^{2}}{d t^{2}} y{\\left(t \\right)}$"
      ],
      "text/plain": [
       "          2                   2      \n",
       "         d                   d       \n",
       "m₀⋅y(t)⋅───(z(t)) - m₀⋅z(t)⋅───(y(t))\n",
       "          2                   2      \n",
       "        dt                  dt       "
      ]
     },
     "execution_count": 21,
     "metadata": {},
     "output_type": "execute_result"
    }
   ],
   "source": [
    "dM2xdt"
   ]
  },
  {
   "cell_type": "code",
   "execution_count": 22,
   "id": "5f0e8304",
   "metadata": {},
   "outputs": [
    {
     "data": {
      "image/png": "[encoded data removed]",
      "text/latex": [
       "$\\displaystyle - m_{0} x{\\left(t \\right)} \\frac{d^{2}}{d t^{2}} z{\\left(t \\right)} + m_{0} z{\\left(t \\right)} \\frac{d^{2}}{d t^{2}} x{\\left(t \\right)}$"
      ],
      "text/plain": [
       "            2                   2      \n",
       "           d                   d       \n",
       "- m₀⋅x(t)⋅───(z(t)) + m₀⋅z(t)⋅───(x(t))\n",
       "            2                   2      \n",
       "          dt                  dt       "
      ]
     },
     "execution_count": 22,
     "metadata": {},
     "output_type": "execute_result"
    }
   ],
   "source": [
    "dM2ydt"
   ]
  },
  {
   "cell_type": "code",
   "execution_count": 23,
   "id": "ed7fd784",
   "metadata": {},
   "outputs": [
    {
     "data": {
      "image/png": "[encoded data removed]",
      "text/latex": [
       "$\\displaystyle m_{0} x{\\left(t \\right)} \\frac{d^{2}}{d t^{2}} y{\\left(t \\right)} - m_{0} y{\\left(t \\right)} \\frac{d^{2}}{d t^{2}} x{\\left(t \\right)}$"
      ],
      "text/plain": [
       "          2                   2      \n",
       "         d                   d       \n",
       "m₀⋅x(t)⋅───(y(t)) - m₀⋅y(t)⋅───(x(t))\n",
       "          2                   2      \n",
       "        dt                  dt       "
      ]
     },
     "execution_count": 23,
     "metadata": {},
     "output_type": "execute_result"
    }
   ],
   "source": [
    "dM2zdt"
   ]
  },
  {
   "cell_type": "code",
   "execution_count": 24,
   "id": "4dc29406",
   "metadata": {},
   "outputs": [
    {
     "data": {
      "image/png": "[encoded data removed]",
      "text/latex": [
       "$\\displaystyle k y{\\left(t \\right)} z{\\left(t \\right)}$"
      ],
      "text/plain": [
       "k⋅y(t)⋅z(t)"
      ]
     },
     "execution_count": 24,
     "metadata": {},
     "output_type": "execute_result"
    }
   ],
   "source": [
    "# Using the EOM yields \n",
    "\n",
    "# For M_x\n",
    "dM2xdt.subs([(sp.diff(sp.diff(q2[2],t)),0),(sp.diff(sp.diff(q2[1],t)),-k/m*q2[1])])"
   ]
  },
  {
   "cell_type": "code",
   "execution_count": 25,
   "id": "0ebcb1a4",
   "metadata": {},
   "outputs": [
    {
     "data": {
      "image/png": "[encoded data removed]",
      "text/latex": [
       "$\\displaystyle - k x{\\left(t \\right)} z{\\left(t \\right)}$"
      ],
      "text/plain": [
       "-k⋅x(t)⋅z(t)"
      ]
     },
     "execution_count": 25,
     "metadata": {},
     "output_type": "execute_result"
    }
   ],
   "source": [
    "# For M_y\n",
    "dM2ydt.subs([(sp.diff(sp.diff(q2[2],t)),0),(sp.diff(sp.diff(q2[0],t)),-k/m*q2[0])])"
   ]
  },
  {
   "cell_type": "code",
   "execution_count": 26,
   "id": "7c2dfcb4",
   "metadata": {},
   "outputs": [
    {
     "data": {
      "image/png": "[encoded data removed]",
      "text/latex": [
       "$\\displaystyle 0$"
      ],
      "text/plain": [
       "0"
      ]
     },
     "execution_count": 26,
     "metadata": {},
     "output_type": "execute_result"
    }
   ],
   "source": [
    "# For M_z\n",
    "dM2zdt.subs([(sp.diff(sp.diff(q2[0],t)),-k/m*q2[0]),(sp.diff(sp.diff(q2[1],t)),-k/m*q2[1])])"
   ]
  },
  {
   "cell_type": "code",
   "execution_count": 27,
   "id": "df1b8a38",
   "metadata": {},
   "outputs": [],
   "source": [
    "# Therefore, only M_z is conserved"
   ]
  },
  {
   "cell_type": "markdown",
   "id": "e2ea2c53",
   "metadata": {},
   "source": [
    "# Problem 3"
   ]
  },
  {
   "cell_type": "markdown",
   "id": "d1ba5289",
   "metadata": {},
   "source": [
    "# a)"
   ]
  },
  {
   "cell_type": "code",
   "execution_count": 28,
   "id": "158da01f",
   "metadata": {},
   "outputs": [],
   "source": [
    "# Parameters \n",
    "m1=LM.mass(1);\n",
    "m2=LM.mass(2);\n",
    "omega,a=sp.symbols(\"Omega,a\");\n",
    "g=LM.grav();"
   ]
  },
  {
   "cell_type": "code",
   "execution_count": 29,
   "id": "1899ecb1",
   "metadata": {},
   "outputs": [],
   "source": [
    "# Generalized coordinates \n",
    "q3=LM.spherical()[0];\n",
    "r=q3[0];\n",
    "theta=q3[1];\n",
    "phi=q3[2];"
   ]
  },
  {
   "cell_type": "code",
   "execution_count": 30,
   "id": "b6f6ec65",
   "metadata": {},
   "outputs": [],
   "source": [
    "# There are three masses on the problem. Puting the origin at the point A yields \n",
    "\n",
    "# Position vectors \n",
    "x3_1=[r*sp.sin(theta)*sp.cos(phi),r*sp.sin(theta)*sp.sin(phi),-r*sp.cos(theta)]; \n",
    "x3_2=[-r*sp.sin(theta)*sp.cos(phi),-r*sp.sin(theta)*sp.sin(phi),-r*sp.cos(theta)];\n",
    "x3_3=[0,0,-2*r*sp.cos(theta)];\n",
    "\n",
    "# External force field (one array for the two particles with mass m1 and one for the particle with mass m2)\n",
    "F3_1=[0,0,-m1*g];\n",
    "F3_2=[0,0,-m2*g];\n",
    "\n",
    "# The moment of inertia por a point particle is I=M*r^2. Two variables, I1 and I2 will be created, the first one for the \n",
    "# two m1 point masses and the second one for the m2 point mass. r is the particle's distance from the axis of rotation\n",
    "\n",
    "#I1=m1*(r*sp.sin(theta))**2; # NOTE: one must not consider the moment of inertia of the particles because it over-specifices the system\n",
    "I2=0;\n",
    "\n",
    "# System array for the first particle\n",
    "system1_1=[x3_1,1,F3_1,0,0,0];\n",
    "\n",
    "# System array for the second particle\n",
    "system1_2=[x3_2,1,F3_1,0,0,0];\n",
    "\n",
    "# System array for the third particle\n",
    "system1_3=[x3_3,2,F3_2,0,I2,0];"
   ]
  },
  {
   "cell_type": "code",
   "execution_count": 31,
   "id": "aa999366",
   "metadata": {},
   "outputs": [
    {
     "data": {
      "image/png": "[encoded data removed]",
      "text/latex": [
       "$\\displaystyle g m_{1} r{\\left(t \\right)} \\cos{\\left(\\theta{\\left(t \\right)} \\right)} + \\frac{m_{1} \\left(r^{2}{\\left(t \\right)} \\sin^{2}{\\left(\\theta{\\left(t \\right)} \\right)} \\left(\\frac{d}{d t} \\phi{\\left(t \\right)}\\right)^{2} + r^{2}{\\left(t \\right)} \\left(\\frac{d}{d t} \\theta{\\left(t \\right)}\\right)^{2} + \\left(\\frac{d}{d t} r{\\left(t \\right)}\\right)^{2}\\right)}{2}$"
      ],
      "text/plain": [
       "                         ⎛                           2                   2    \n",
       "                         ⎜ 2       2       ⎛d       ⎞     2    ⎛d       ⎞    ⎛\n",
       "                      m₁⋅⎜r (t)⋅sin (θ(t))⋅⎜──(φ(t))⎟  + r (t)⋅⎜──(θ(t))⎟  + ⎜\n",
       "                         ⎝                 ⎝dt      ⎠          ⎝dt      ⎠    ⎝\n",
       "g⋅m₁⋅r(t)⋅cos(θ(t)) + ────────────────────────────────────────────────────────\n",
       "                                                       2                      \n",
       "\n",
       "         2⎞\n",
       "d       ⎞ ⎟\n",
       "──(r(t))⎟ ⎟\n",
       "dt      ⎠ ⎠\n",
       "───────────\n",
       "           "
      ]
     },
     "execution_count": 31,
     "metadata": {},
     "output_type": "execute_result"
    }
   ],
   "source": [
    "# Lagrangian for the first particle\n",
    "L3_1=LM.L(system1_1);\n",
    "L3_1"
   ]
  },
  {
   "cell_type": "code",
   "execution_count": 32,
   "id": "beb17944",
   "metadata": {},
   "outputs": [
    {
     "data": {
      "image/png": "[encoded data removed]",
      "text/latex": [
       "$\\displaystyle g m_{1} r{\\left(t \\right)} \\cos{\\left(\\theta{\\left(t \\right)} \\right)} + \\frac{m_{1} \\left(r^{2}{\\left(t \\right)} \\sin^{2}{\\left(\\theta{\\left(t \\right)} \\right)} \\left(\\frac{d}{d t} \\phi{\\left(t \\right)}\\right)^{2} + r^{2}{\\left(t \\right)} \\left(\\frac{d}{d t} \\theta{\\left(t \\right)}\\right)^{2} + \\left(\\frac{d}{d t} r{\\left(t \\right)}\\right)^{2}\\right)}{2}$"
      ],
      "text/plain": [
       "                         ⎛                           2                   2    \n",
       "                         ⎜ 2       2       ⎛d       ⎞     2    ⎛d       ⎞    ⎛\n",
       "                      m₁⋅⎜r (t)⋅sin (θ(t))⋅⎜──(φ(t))⎟  + r (t)⋅⎜──(θ(t))⎟  + ⎜\n",
       "                         ⎝                 ⎝dt      ⎠          ⎝dt      ⎠    ⎝\n",
       "g⋅m₁⋅r(t)⋅cos(θ(t)) + ────────────────────────────────────────────────────────\n",
       "                                                       2                      \n",
       "\n",
       "         2⎞\n",
       "d       ⎞ ⎟\n",
       "──(r(t))⎟ ⎟\n",
       "dt      ⎠ ⎠\n",
       "───────────\n",
       "           "
      ]
     },
     "execution_count": 32,
     "metadata": {},
     "output_type": "execute_result"
    }
   ],
   "source": [
    "# Lagrangian for the second particle\n",
    "L3_2=LM.L(system1_2);\n",
    "L3_2"
   ]
  },
  {
   "cell_type": "code",
   "execution_count": 33,
   "id": "cc75384d",
   "metadata": {},
   "outputs": [
    {
     "data": {
      "image/png": "[encoded data removed]",
      "text/latex": [
       "$\\displaystyle 2 g m_{2} r{\\left(t \\right)} \\cos{\\left(\\theta{\\left(t \\right)} \\right)} + 2 m_{2} \\left(r{\\left(t \\right)} \\sin{\\left(\\theta{\\left(t \\right)} \\right)} \\frac{d}{d t} \\theta{\\left(t \\right)} - \\cos{\\left(\\theta{\\left(t \\right)} \\right)} \\frac{d}{d t} r{\\left(t \\right)}\\right)^{2}$"
      ],
      "text/plain": [
       "                                                                           2\n",
       "                             ⎛               d                    d       ⎞ \n",
       "2⋅g⋅m₂⋅r(t)⋅cos(θ(t)) + 2⋅m₂⋅⎜r(t)⋅sin(θ(t))⋅──(θ(t)) - cos(θ(t))⋅──(r(t))⎟ \n",
       "                             ⎝               dt                   dt      ⎠ "
      ]
     },
     "execution_count": 33,
     "metadata": {},
     "output_type": "execute_result"
    }
   ],
   "source": [
    "# Lagrangian for the third particle\n",
    "L3_3=LM.L(system1_3);\n",
    "L3_3"
   ]
  },
  {
   "cell_type": "code",
   "execution_count": 34,
   "id": "fe6ff239",
   "metadata": {},
   "outputs": [
    {
     "data": {
      "image/png": "[encoded data removed]",
      "text/latex": [
       "$\\displaystyle 2 g m_{1} r{\\left(t \\right)} \\cos{\\left(\\theta{\\left(t \\right)} \\right)} + 2 g m_{2} r{\\left(t \\right)} \\cos{\\left(\\theta{\\left(t \\right)} \\right)} + m_{1} \\left(r^{2}{\\left(t \\right)} \\sin^{2}{\\left(\\theta{\\left(t \\right)} \\right)} \\left(\\frac{d}{d t} \\phi{\\left(t \\right)}\\right)^{2} + r^{2}{\\left(t \\right)} \\left(\\frac{d}{d t} \\theta{\\left(t \\right)}\\right)^{2} + \\left(\\frac{d}{d t} r{\\left(t \\right)}\\right)^{2}\\right) + 2 m_{2} \\left(r{\\left(t \\right)} \\sin{\\left(\\theta{\\left(t \\right)} \\right)} \\frac{d}{d t} \\theta{\\left(t \\right)} - \\cos{\\left(\\theta{\\left(t \\right)} \\right)} \\frac{d}{d t} r{\\left(t \\right)}\\right)^{2}$"
      ],
      "text/plain": [
       "                                                   ⎛                          \n",
       "                                                   ⎜ 2       2       ⎛d       \n",
       "2⋅g⋅m₁⋅r(t)⋅cos(θ(t)) + 2⋅g⋅m₂⋅r(t)⋅cos(θ(t)) + m₁⋅⎜r (t)⋅sin (θ(t))⋅⎜──(φ(t))\n",
       "                                                   ⎝                 ⎝dt      \n",
       "\n",
       " 2                   2             2⎞                                         \n",
       "⎞     2    ⎛d       ⎞    ⎛d       ⎞ ⎟        ⎛               d                \n",
       "⎟  + r (t)⋅⎜──(θ(t))⎟  + ⎜──(r(t))⎟ ⎟ + 2⋅m₂⋅⎜r(t)⋅sin(θ(t))⋅──(θ(t)) - cos(θ(\n",
       "⎠          ⎝dt      ⎠    ⎝dt      ⎠ ⎠        ⎝               dt               \n",
       "\n",
       "             2\n",
       "    d       ⎞ \n",
       "t))⋅──(r(t))⎟ \n",
       "    dt      ⎠ "
      ]
     },
     "execution_count": 34,
     "metadata": {},
     "output_type": "execute_result"
    }
   ],
   "source": [
    "# The complete Lagrangian of the system is \n",
    "L3=L3_1+L3_2+L3_3;\n",
    "L3"
   ]
  },
  {
   "cell_type": "code",
   "execution_count": null,
   "id": "18db48ae",
   "metadata": {},
   "outputs": [],
   "source": []
  },
  {
   "cell_type": "code",
   "execution_count": 35,
   "id": "be5972c2",
   "metadata": {},
   "outputs": [
    {
     "data": {
      "image/png": "[encoded data removed]",
      "text/latex": [
       "$\\displaystyle 2 a^{2} m_{2} \\sin^{2}{\\left(\\theta{\\left(t \\right)} \\right)} \\left(\\frac{d}{d t} \\theta{\\left(t \\right)}\\right)^{2} + 2 a g m_{1} \\cos{\\left(\\theta{\\left(t \\right)} \\right)} + 2 a g m_{2} \\cos{\\left(\\theta{\\left(t \\right)} \\right)} + m_{1} \\left(\\Omega^{2} a^{2} \\sin^{2}{\\left(\\theta{\\left(t \\right)} \\right)} + a^{2} \\left(\\frac{d}{d t} \\theta{\\left(t \\right)}\\right)^{2}\\right)$"
      ],
      "text/plain": [
       "                             2                                                \n",
       "   2       2       ⎛d       ⎞                                                 \n",
       "2⋅a ⋅m₂⋅sin (θ(t))⋅⎜──(θ(t))⎟  + 2⋅a⋅g⋅m₁⋅cos(θ(t)) + 2⋅a⋅g⋅m₂⋅cos(θ(t)) + m₁⋅\n",
       "                   ⎝dt      ⎠                                                 \n",
       "\n",
       "⎛                                2⎞\n",
       "⎜ 2  2    2          2 ⎛d       ⎞ ⎟\n",
       "⎜Ω ⋅a ⋅sin (θ(t)) + a ⋅⎜──(θ(t))⎟ ⎟\n",
       "⎝                      ⎝dt      ⎠ ⎠"
      ]
     },
     "execution_count": 35,
     "metadata": {},
     "output_type": "execute_result"
    }
   ],
   "source": [
    "# Substituting the constant angular velocity, omega, and the constant radius a yields\n",
    "L3=L3.subs([(sp.diff(phi,t),omega),(r,a)]);\n",
    "L3=L3.simplify();\n",
    "L3"
   ]
  },
  {
   "cell_type": "markdown",
   "id": "c106cb6c",
   "metadata": {},
   "source": [
    "# b)"
   ]
  },
  {
   "cell_type": "code",
   "execution_count": 36,
   "id": "cbde4979",
   "metadata": {},
   "outputs": [
    {
     "data": {
      "image/png": "[encoded data removed]",
      "text/latex": [
       "$\\displaystyle \\left[ 0, \\  - 2 \\Omega^{2} a^{2} m_{1} \\sin{\\left(\\theta{\\left(t \\right)} \\right)} \\cos{\\left(\\theta{\\left(t \\right)} \\right)} + 2 a^{2} m_{1} \\frac{d^{2}}{d t^{2}} \\theta{\\left(t \\right)} + 4 a^{2} m_{2} \\sin^{2}{\\left(\\theta{\\left(t \\right)} \\right)} \\frac{d^{2}}{d t^{2}} \\theta{\\left(t \\right)} + 4 a^{2} m_{2} \\sin{\\left(\\theta{\\left(t \\right)} \\right)} \\cos{\\left(\\theta{\\left(t \\right)} \\right)} \\left(\\frac{d}{d t} \\theta{\\left(t \\right)}\\right)^{2} + 2 a g m_{1} \\sin{\\left(\\theta{\\left(t \\right)} \\right)} + 2 a g m_{2} \\sin{\\left(\\theta{\\left(t \\right)} \\right)}, \\  0\\right]$"
      ],
      "text/plain": [
       "⎡                                                2                            \n",
       "⎢        2  2                             2     d             2       2       \n",
       "⎢0, - 2⋅Ω ⋅a ⋅m₁⋅sin(θ(t))⋅cos(θ(t)) + 2⋅a ⋅m₁⋅───(θ(t)) + 4⋅a ⋅m₂⋅sin (θ(t))⋅\n",
       "⎢                                                2                            \n",
       "⎣                                              dt                             \n",
       "\n",
       "  2                                               2                           \n",
       " d             2                        ⎛d       ⎞                            \n",
       "───(θ(t)) + 4⋅a ⋅m₂⋅sin(θ(t))⋅cos(θ(t))⋅⎜──(θ(t))⎟  + 2⋅a⋅g⋅m₁⋅sin(θ(t)) + 2⋅a\n",
       "  2                                     ⎝dt      ⎠                            \n",
       "dt                                                                            \n",
       "\n",
       "                  ⎤\n",
       "                  ⎥\n",
       "⋅g⋅m₂⋅sin(θ(t)), 0⎥\n",
       "                  ⎥\n",
       "                  ⎦"
      ]
     },
     "execution_count": 36,
     "metadata": {},
     "output_type": "execute_result"
    }
   ],
   "source": [
    "# Equations of motion\n",
    "EOM3=LM.EOM(L3,q3,[],[]);\n",
    "EOM3"
   ]
  },
  {
   "cell_type": "code",
   "execution_count": 37,
   "id": "308babf9",
   "metadata": {},
   "outputs": [
    {
     "data": {
      "image/png": "[encoded data removed]",
      "text/latex": [
       "$\\displaystyle 2 a \\left(- \\frac{\\Omega^{2} a m_{1} \\sin{\\left(2 \\theta{\\left(t \\right)} \\right)}}{2} + a m_{2} \\sin{\\left(2 \\theta{\\left(t \\right)} \\right)} \\left(\\frac{d}{d t} \\theta{\\left(t \\right)}\\right)^{2} + g m_{1} \\sin{\\left(\\theta{\\left(t \\right)} \\right)} + g m_{2} \\sin{\\left(\\theta{\\left(t \\right)} \\right)} + \\left(a m_{1} + 2 a m_{2} \\sin^{2}{\\left(\\theta{\\left(t \\right)} \\right)}\\right) \\frac{d^{2}}{d t^{2}} \\theta{\\left(t \\right)}\\right)$"
      ],
      "text/plain": [
       "    ⎛   2                                               2                     \n",
       "    ⎜  Ω ⋅a⋅m₁⋅sin(2⋅θ(t))                    ⎛d       ⎞                      \n",
       "2⋅a⋅⎜- ─────────────────── + a⋅m₂⋅sin(2⋅θ(t))⋅⎜──(θ(t))⎟  + g⋅m₁⋅sin(θ(t)) + g\n",
       "    ⎜           2                             ⎝dt      ⎠                      \n",
       "    ⎝                                                                         \n",
       "\n",
       "                                             2      ⎞\n",
       "                ⎛                 2      ⎞  d       ⎟\n",
       "⋅m₂⋅sin(θ(t)) + ⎝a⋅m₁ + 2⋅a⋅m₂⋅sin (θ(t))⎠⋅───(θ(t))⎟\n",
       "                                             2      ⎟\n",
       "                                           dt       ⎠"
      ]
     },
     "execution_count": 37,
     "metadata": {},
     "output_type": "execute_result"
    }
   ],
   "source": [
    "EOM3theta=sp.simplify(EOM3[1]);\n",
    "EOM3theta=sp.collect(EOM3theta,sp.diff(sp.diff(theta,t),t));\n",
    "EOM3theta"
   ]
  },
  {
   "cell_type": "markdown",
   "id": "372d512a",
   "metadata": {},
   "source": [
    "# c)"
   ]
  },
  {
   "cell_type": "code",
   "execution_count": 38,
   "id": "867f7cfd",
   "metadata": {},
   "outputs": [
    {
     "data": {
      "image/png": "[encoded data removed]",
      "text/latex": [
       "$\\displaystyle a \\left(- \\Omega^{2} a m_{1} \\sin^{2}{\\left(\\theta{\\left(t \\right)} \\right)} - 2 g \\left(m_{1} + m_{2}\\right) \\cos{\\left(\\theta{\\left(t \\right)} \\right)} + \\left(a m_{1} + 2 a m_{2} \\sin^{2}{\\left(\\theta{\\left(t \\right)} \\right)}\\right) \\left(\\frac{d}{d t} \\theta{\\left(t \\right)}\\right)^{2}\\right)$"
      ],
      "text/plain": [
       "  ⎛                                                                           \n",
       "  ⎜   2         2                                   ⎛                 2      ⎞\n",
       "a⋅⎜- Ω ⋅a⋅m₁⋅sin (θ(t)) - 2⋅g⋅(m₁ + m₂)⋅cos(θ(t)) + ⎝a⋅m₁ + 2⋅a⋅m₂⋅sin (θ(t))⎠\n",
       "  ⎝                                                                           \n",
       "\n",
       "           2⎞\n",
       " ⎛d       ⎞ ⎟\n",
       "⋅⎜──(θ(t))⎟ ⎟\n",
       " ⎝dt      ⎠ ⎠"
      ]
     },
     "execution_count": 38,
     "metadata": {},
     "output_type": "execute_result"
    }
   ],
   "source": [
    "# Energy computation\n",
    "E3=LM.Energy(L3,q3);\n",
    "E3=E3.simplify();\n",
    "E3=sp.collect(E3,-2*g*sp.cos(theta));\n",
    "E3=sp.collect(E3,sp.diff(theta,t)**2);\n",
    "E3"
   ]
  },
  {
   "cell_type": "code",
   "execution_count": 39,
   "id": "4e38accb",
   "metadata": {},
   "outputs": [
    {
     "data": {
      "image/png": "[encoded data removed]",
      "text/latex": [
       "$\\displaystyle a \\left(- 2 \\Omega^{2} a m_{1} \\sin{\\left(\\theta{\\left(t \\right)} \\right)} \\cos{\\left(\\theta{\\left(t \\right)} \\right)} \\frac{d}{d t} \\theta{\\left(t \\right)} + 4 a m_{2} \\sin{\\left(\\theta{\\left(t \\right)} \\right)} \\cos{\\left(\\theta{\\left(t \\right)} \\right)} \\left(\\frac{d}{d t} \\theta{\\left(t \\right)}\\right)^{3} + 2 g \\left(m_{1} + m_{2}\\right) \\sin{\\left(\\theta{\\left(t \\right)} \\right)} \\frac{d}{d t} \\theta{\\left(t \\right)} + 2 \\left(a m_{1} + 2 a m_{2} \\sin^{2}{\\left(\\theta{\\left(t \\right)} \\right)}\\right) \\frac{d}{d t} \\theta{\\left(t \\right)} \\frac{d^{2}}{d t^{2}} \\theta{\\left(t \\right)}\\right)$"
      ],
      "text/plain": [
       "  ⎛                                                                           \n",
       "  ⎜     2                          d                                     ⎛d   \n",
       "a⋅⎜- 2⋅Ω ⋅a⋅m₁⋅sin(θ(t))⋅cos(θ(t))⋅──(θ(t)) + 4⋅a⋅m₂⋅sin(θ(t))⋅cos(θ(t))⋅⎜──(θ\n",
       "  ⎜                                dt                                    ⎝dt  \n",
       "  ⎝                                                                           \n",
       "\n",
       "     3                                                                        \n",
       "    ⎞                            d            ⎛                 2      ⎞ d    \n",
       "(t))⎟  + 2⋅g⋅(m₁ + m₂)⋅sin(θ(t))⋅──(θ(t)) + 2⋅⎝a⋅m₁ + 2⋅a⋅m₂⋅sin (θ(t))⎠⋅──(θ(\n",
       "    ⎠                            dt                                      dt   \n",
       "                                                                              \n",
       "\n",
       "      2      ⎞\n",
       "     d       ⎟\n",
       "t))⋅───(θ(t))⎟\n",
       "      2      ⎟\n",
       "    dt       ⎠"
      ]
     },
     "execution_count": 39,
     "metadata": {},
     "output_type": "execute_result"
    }
   ],
   "source": [
    "# Energy derivative\n",
    "dE3dt=sp.diff(E3,t);\n",
    "dE3dt"
   ]
  },
  {
   "cell_type": "code",
   "execution_count": 40,
   "id": "3bbd3be3",
   "metadata": {},
   "outputs": [
    {
     "data": {
      "image/png": "[encoded data removed]",
      "text/latex": [
       "$\\displaystyle \\frac{\\left(\\Omega^{2} a m_{1} \\cos{\\left(\\theta{\\left(t \\right)} \\right)} - 2 a m_{2} \\cos{\\left(\\theta{\\left(t \\right)} \\right)} \\left(\\frac{d}{d t} \\theta{\\left(t \\right)}\\right)^{2} - g m_{1} - g m_{2}\\right) \\sin{\\left(\\theta{\\left(t \\right)} \\right)}}{a \\left(m_{1} + 2 m_{2} \\sin^{2}{\\left(\\theta{\\left(t \\right)} \\right)}\\right)}$"
      ],
      "text/plain": [
       "⎛                                               2              ⎞          \n",
       "⎜ 2                                   ⎛d       ⎞               ⎟          \n",
       "⎜Ω ⋅a⋅m₁⋅cos(θ(t)) - 2⋅a⋅m₂⋅cos(θ(t))⋅⎜──(θ(t))⎟  - g⋅m₁ - g⋅m₂⎟⋅sin(θ(t))\n",
       "⎝                                     ⎝dt      ⎠               ⎠          \n",
       "──────────────────────────────────────────────────────────────────────────\n",
       "                           ⎛             2      ⎞                         \n",
       "                         a⋅⎝m₁ + 2⋅m₂⋅sin (θ(t))⎠                         "
      ]
     },
     "execution_count": 40,
     "metadata": {},
     "output_type": "execute_result"
    }
   ],
   "source": [
    "# Solving for d2thetadt2 from EOM3theta\n",
    "d2thetadt2=sp.solve(EOM3theta,sp.diff(sp.diff(theta,t),t))[0];\n",
    "d2thetadt2"
   ]
  },
  {
   "cell_type": "code",
   "execution_count": 41,
   "id": "1a62ca35",
   "metadata": {},
   "outputs": [
    {
     "data": {
      "image/png": "[encoded data removed]",
      "text/latex": [
       "$\\displaystyle 0$"
      ],
      "text/plain": [
       "0"
      ]
     },
     "execution_count": 41,
     "metadata": {},
     "output_type": "execute_result"
    }
   ],
   "source": [
    "# Substituting dthetadt^2 on the energy expression\n",
    "sp.simplify(dE3dt.subs(sp.diff(sp.diff(theta,t),t),d2thetadt2))"
   ]
  },
  {
   "cell_type": "code",
   "execution_count": 42,
   "id": "666cef98",
   "metadata": {},
   "outputs": [],
   "source": [
    "# So the energy is conserved in this system"
   ]
  },
  {
   "cell_type": "markdown",
   "id": "289a8895",
   "metadata": {},
   "source": [
    "# d)"
   ]
  },
  {
   "cell_type": "code",
   "execution_count": 43,
   "id": "dc05f0df",
   "metadata": {},
   "outputs": [],
   "source": [
    "# Kinetic energy\n",
    "\n",
    "# First particle\n",
    "T3_1=LM.T(x3_1,0,0,1);\n",
    "\n",
    "# Second particle\n",
    "T3_2=LM.T(x3_2,0,0,1);\n",
    "\n",
    "# Third particle\n",
    "T3_3=LM.T(x3_3,0,0,2);"
   ]
  },
  {
   "cell_type": "code",
   "execution_count": 44,
   "id": "69b46da0",
   "metadata": {},
   "outputs": [
    {
     "data": {
      "image/png": "[encoded data removed]",
      "text/latex": [
       "$\\displaystyle \\frac{m_{1} \\left(r^{2}{\\left(t \\right)} \\sin^{2}{\\left(\\theta{\\left(t \\right)} \\right)} \\left(\\frac{d}{d t} \\phi{\\left(t \\right)}\\right)^{2} + r^{2}{\\left(t \\right)} \\left(\\frac{d}{d t} \\theta{\\left(t \\right)}\\right)^{2} + \\left(\\frac{d}{d t} r{\\left(t \\right)}\\right)^{2}\\right)}{2}$"
      ],
      "text/plain": [
       "   ⎛                           2                   2             2⎞\n",
       "   ⎜ 2       2       ⎛d       ⎞     2    ⎛d       ⎞    ⎛d       ⎞ ⎟\n",
       "m₁⋅⎜r (t)⋅sin (θ(t))⋅⎜──(φ(t))⎟  + r (t)⋅⎜──(θ(t))⎟  + ⎜──(r(t))⎟ ⎟\n",
       "   ⎝                 ⎝dt      ⎠          ⎝dt      ⎠    ⎝dt      ⎠ ⎠\n",
       "───────────────────────────────────────────────────────────────────\n",
       "                                 2                                 "
      ]
     },
     "execution_count": 44,
     "metadata": {},
     "output_type": "execute_result"
    }
   ],
   "source": [
    "T3_1"
   ]
  },
  {
   "cell_type": "code",
   "execution_count": 45,
   "id": "f2246145",
   "metadata": {},
   "outputs": [
    {
     "data": {
      "image/png": "[encoded data removed]",
      "text/latex": [
       "$\\displaystyle 2 a^{2} m_{2} \\sin^{2}{\\left(\\theta{\\left(t \\right)} \\right)} \\left(\\frac{d}{d t} \\theta{\\left(t \\right)}\\right)^{2} + m_{1} \\left(\\Omega^{2} a^{2} \\sin^{2}{\\left(\\theta{\\left(t \\right)} \\right)} + a^{2} \\left(\\frac{d}{d t} \\theta{\\left(t \\right)}\\right)^{2}\\right)$"
      ],
      "text/plain": [
       "                             2      ⎛                                2⎞\n",
       "   2       2       ⎛d       ⎞       ⎜ 2  2    2          2 ⎛d       ⎞ ⎟\n",
       "2⋅a ⋅m₂⋅sin (θ(t))⋅⎜──(θ(t))⎟  + m₁⋅⎜Ω ⋅a ⋅sin (θ(t)) + a ⋅⎜──(θ(t))⎟ ⎟\n",
       "                   ⎝dt      ⎠       ⎝                      ⎝dt      ⎠ ⎠"
      ]
     },
     "execution_count": 45,
     "metadata": {},
     "output_type": "execute_result"
    }
   ],
   "source": [
    "# Total kinetic energy with the problem's constraints (dphidt=omega, r=a)\n",
    "T3=sp.simplify(T3_1+T3_2+T3_3);\n",
    "T3=sp.simplify(T3.subs([(r,a),(sp.diff(phi,t),omega)]));\n",
    "T3=sp.collect(T3,sp.sin(theta)**2);\n",
    "T3"
   ]
  },
  {
   "cell_type": "code",
   "execution_count": 46,
   "id": "88b4658b",
   "metadata": {},
   "outputs": [],
   "source": [
    "# Potential energy \n",
    "\n",
    "# First particle\n",
    "U3_1=LM.U(x3_1,F3_1,0);\n",
    "\n",
    "# Second particle\n",
    "U3_2=LM.U(x3_2,F3_1,0);\n",
    "\n",
    "# Third particle\n",
    "U3_3=LM.U(x3_3,F3_2,0);"
   ]
  },
  {
   "cell_type": "code",
   "execution_count": 47,
   "id": "dd40571e",
   "metadata": {},
   "outputs": [
    {
     "data": {
      "image/png": "[encoded data removed]",
      "text/latex": [
       "$\\displaystyle - 2 a g \\left(m_{1} + m_{2}\\right) \\cos{\\left(\\theta{\\left(t \\right)} \\right)}$"
      ],
      "text/plain": [
       "-2⋅a⋅g⋅(m₁ + m₂)⋅cos(θ(t))"
      ]
     },
     "execution_count": 47,
     "metadata": {},
     "output_type": "execute_result"
    }
   ],
   "source": [
    "# Total potential energy \n",
    "U3=U3_1+U3_2+U3_3;\n",
    "U3=U3.subs([(r,a)]);\n",
    "U3=sp.collect(U3,-2*a*g*sp.cos(theta));\n",
    "U3"
   ]
  },
  {
   "cell_type": "code",
   "execution_count": 48,
   "id": "fa676340",
   "metadata": {},
   "outputs": [
    {
     "data": {
      "text/plain": [
       "False"
      ]
     },
     "execution_count": 48,
     "metadata": {},
     "output_type": "execute_result"
    }
   ],
   "source": [
    "# Checkin if the system's energy equals the sum of its potential and kinetic energies\n",
    "E3==T3+U3"
   ]
  },
  {
   "cell_type": "code",
   "execution_count": 49,
   "id": "570b56fd",
   "metadata": {},
   "outputs": [
    {
     "name": "stdout",
     "output_type": "stream",
     "text": [
      "f is not homogeneous of degree 2\n"
     ]
    },
    {
     "data": {
      "image/png": "[encoded data removed]",
      "text/latex": [
       "$\\displaystyle \\left(2 a^{2} m_{1} \\frac{d}{d t} \\theta{\\left(t \\right)} + 4 a^{2} m_{2} \\sin^{2}{\\left(\\theta{\\left(t \\right)} \\right)} \\frac{d}{d t} \\theta{\\left(t \\right)}\\right) \\frac{d}{d t} \\theta{\\left(t \\right)}$"
      ],
      "text/plain": [
       "⎛   2    d             2       2       d       ⎞ d       \n",
       "⎜2⋅a ⋅m₁⋅──(θ(t)) + 4⋅a ⋅m₂⋅sin (θ(t))⋅──(θ(t))⎟⋅──(θ(t))\n",
       "⎝        dt                            dt      ⎠ dt      "
      ]
     },
     "execution_count": 49,
     "metadata": {},
     "output_type": "execute_result"
    }
   ],
   "source": [
    "# Checkin if the kinetic is a homogeneous function of degree 2\n",
    "LM.Hom_func_thrm (T3,q3,2)"
   ]
  },
  {
   "cell_type": "markdown",
   "id": "3edb9984",
   "metadata": {},
   "source": [
    "# e)"
   ]
  },
  {
   "cell_type": "code",
   "execution_count": 50,
   "id": "f7eac0d1",
   "metadata": {},
   "outputs": [
    {
     "data": {
      "image/png": "[encoded data removed]",
      "text/latex": [
       "$\\displaystyle \\left[ 0, \\  2 a^{2} m_{1} \\frac{d}{d t} \\theta{\\left(t \\right)} + 4 a^{2} m_{2} \\sin^{2}{\\left(\\theta{\\left(t \\right)} \\right)} \\frac{d}{d t} \\theta{\\left(t \\right)}, \\  0\\right]$"
      ],
      "text/plain": [
       "⎡      2    d             2       2       d          ⎤\n",
       "⎢0, 2⋅a ⋅m₁⋅──(θ(t)) + 4⋅a ⋅m₂⋅sin (θ(t))⋅──(θ(t)), 0⎥\n",
       "⎣           dt                            dt         ⎦"
      ]
     },
     "execution_count": 50,
     "metadata": {},
     "output_type": "execute_result"
    }
   ],
   "source": [
    "# Generalized momenta array\n",
    "P3=LM.gen_p(L3,q3);\n",
    "P3"
   ]
  },
  {
   "cell_type": "code",
   "execution_count": 51,
   "id": "d13706d9",
   "metadata": {},
   "outputs": [
    {
     "data": {
      "image/png": "[encoded data removed]",
      "text/latex": [
       "$\\displaystyle \\left(2 a^{2} m_{1} + 4 a^{2} m_{2} \\sin^{2}{\\left(\\theta{\\left(t \\right)} \\right)}\\right) \\frac{d}{d t} \\theta{\\left(t \\right)}$"
      ],
      "text/plain": [
       "⎛   2         2       2      ⎞ d       \n",
       "⎝2⋅a ⋅m₁ + 4⋅a ⋅m₂⋅sin (θ(t))⎠⋅──(θ(t))\n",
       "                               dt      "
      ]
     },
     "execution_count": 51,
     "metadata": {},
     "output_type": "execute_result"
    }
   ],
   "source": [
    "# Angular momentum \n",
    "ptheta=P3[1];\n",
    "ptheta=sp.collect(ptheta,sp.diff(theta,t));\n",
    "ptheta"
   ]
  },
  {
   "cell_type": "code",
   "execution_count": 52,
   "id": "8f8eb1c4",
   "metadata": {},
   "outputs": [
    {
     "data": {
      "image/png": "[encoded data removed]",
      "text/latex": [
       "$\\displaystyle 2 a^{2} \\left(m_{1} \\frac{d^{2}}{d t^{2}} \\theta{\\left(t \\right)} + 2 m_{2} \\sin^{2}{\\left(\\theta{\\left(t \\right)} \\right)} \\frac{d^{2}}{d t^{2}} \\theta{\\left(t \\right)} + 2 m_{2} \\sin{\\left(2 \\theta{\\left(t \\right)} \\right)} \\left(\\frac{d}{d t} \\theta{\\left(t \\right)}\\right)^{2}\\right)$"
      ],
      "text/plain": [
       "     ⎛     2                           2                                    2⎞\n",
       "   2 ⎜    d                  2        d                           ⎛d       ⎞ ⎟\n",
       "2⋅a ⋅⎜m₁⋅───(θ(t)) + 2⋅m₂⋅sin (θ(t))⋅───(θ(t)) + 2⋅m₂⋅sin(2⋅θ(t))⋅⎜──(θ(t))⎟ ⎟\n",
       "     ⎜     2                           2                          ⎝dt      ⎠ ⎟\n",
       "     ⎝   dt                          dt                                      ⎠"
      ]
     },
     "execution_count": 52,
     "metadata": {},
     "output_type": "execute_result"
    }
   ],
   "source": [
    "# Generalized force, using the EOM for theta to find d2thetadt2\n",
    "Qtheta=LM.gen_Q(P3)[1];\n",
    "#Qtheta=sp.simplify(Qtheta.subs(sp.diff(sp.diff(theta,t),t),d2thetadt2));\n",
    "Qtheta"
   ]
  },
  {
   "cell_type": "markdown",
   "id": "a4a92d5f",
   "metadata": {},
   "source": [
    "# f) Some attemps at simplifying the ODE (no apparent results)"
   ]
  },
  {
   "cell_type": "code",
   "execution_count": 53,
   "id": "e0eb29fc",
   "metadata": {},
   "outputs": [
    {
     "data": {
      "image/png": "[encoded data removed]",
      "text/latex": [
       "$\\displaystyle 2 a^{2} \\left(2 m_{2} \\sin{\\left(2 \\theta{\\left(t \\right)} \\right)} \\left(\\frac{d}{d t} \\theta{\\left(t \\right)}\\right)^{2} + \\left(m_{1} + 2 m_{2} \\sin^{2}{\\left(\\theta{\\left(t \\right)} \\right)}\\right) \\frac{d^{2}}{d t^{2}} \\theta{\\left(t \\right)}\\right)$"
      ],
      "text/plain": [
       "     ⎛                           2                            2      ⎞\n",
       "   2 ⎜                 ⎛d       ⎞    ⎛             2      ⎞  d       ⎟\n",
       "2⋅a ⋅⎜2⋅m₂⋅sin(2⋅θ(t))⋅⎜──(θ(t))⎟  + ⎝m₁ + 2⋅m₂⋅sin (θ(t))⎠⋅───(θ(t))⎟\n",
       "     ⎜                 ⎝dt      ⎠                             2      ⎟\n",
       "     ⎝                                                      dt       ⎠"
      ]
     },
     "execution_count": 53,
     "metadata": {},
     "output_type": "execute_result"
    }
   ],
   "source": [
    "# Differentiating ptheta with respect to t \n",
    "dpthetadt=sp.simplify(sp.diff(ptheta,t));\n",
    "dpthetadt=sp.collect(dpthetadt,sp.diff(sp.diff(theta,t),t));\n",
    "dpthetadt"
   ]
  },
  {
   "cell_type": "code",
   "execution_count": 54,
   "id": "59706d00",
   "metadata": {},
   "outputs": [
    {
     "data": {
      "image/png": "[encoded data removed]",
      "text/latex": [
       "$\\displaystyle 2 a^{2} \\left(2 m_{2} \\sin{\\left(2 \\theta{\\left(t \\right)} \\right)} \\left(\\frac{d}{d t} \\theta{\\left(t \\right)}\\right)^{2} + \\frac{\\left(\\Omega^{2} a m_{1} \\cos{\\left(\\theta{\\left(t \\right)} \\right)} - 2 a m_{2} \\cos{\\left(\\theta{\\left(t \\right)} \\right)} \\left(\\frac{d}{d t} \\theta{\\left(t \\right)}\\right)^{2} - g m_{1} - g m_{2}\\right) \\sin{\\left(\\theta{\\left(t \\right)} \\right)}}{a}\\right)$"
      ],
      "text/plain": [
       "     ⎛                               ⎛                                        \n",
       "     ⎜                               ⎜ 2                                   ⎛d \n",
       "     ⎜                           2   ⎜Ω ⋅a⋅m₁⋅cos(θ(t)) - 2⋅a⋅m₂⋅cos(θ(t))⋅⎜──\n",
       "   2 ⎜                 ⎛d       ⎞    ⎝                                     ⎝dt\n",
       "2⋅a ⋅⎜2⋅m₂⋅sin(2⋅θ(t))⋅⎜──(θ(t))⎟  + ─────────────────────────────────────────\n",
       "     ⎝                 ⎝dt      ⎠                                        a    \n",
       "\n",
       "       2              ⎞          ⎞\n",
       "      ⎞               ⎟          ⎟\n",
       "(θ(t))⎟  - g⋅m₁ - g⋅m₂⎟⋅sin(θ(t))⎟\n",
       "      ⎠               ⎠          ⎟\n",
       "─────────────────────────────────⎟\n",
       "                                 ⎠"
      ]
     },
     "execution_count": 54,
     "metadata": {},
     "output_type": "execute_result"
    }
   ],
   "source": [
    "# If momentum is conserved, dpthetadt=0\n",
    "\n",
    "# Substituting ddot(theta) in the momentum expression\n",
    "dpthetadt=dpthetadt.subs(sp.diff(sp.diff(theta,t),t),d2thetadt2);\n",
    "dpthetadt"
   ]
  },
  {
   "cell_type": "code",
   "execution_count": 55,
   "id": "5a360d5a",
   "metadata": {},
   "outputs": [
    {
     "data": {
      "image/png": "[encoded data removed]",
      "text/latex": [
       "$\\displaystyle \\frac{- \\Omega^{2} a m_{1} \\cos{\\left(\\theta{\\left(t \\right)} \\right)} + g m_{1} + g m_{2}}{2 a m_{2} \\cos{\\left(\\theta{\\left(t \\right)} \\right)}}$"
      ],
      "text/plain": [
       "   2                             \n",
       "- Ω ⋅a⋅m₁⋅cos(θ(t)) + g⋅m₁ + g⋅m₂\n",
       "─────────────────────────────────\n",
       "         2⋅a⋅m₂⋅cos(θ(t))        "
      ]
     },
     "execution_count": 55,
     "metadata": {},
     "output_type": "execute_result"
    }
   ],
   "source": [
    "sol1=sp.solve (dpthetadt,sp.diff(theta,t)**2)[0];\n",
    "sol1"
   ]
  },
  {
   "cell_type": "code",
   "execution_count": 56,
   "id": "623d0ce8",
   "metadata": {},
   "outputs": [
    {
     "data": {
      "image/png": "[encoded data removed]",
      "text/latex": [
       "$\\displaystyle 2 a^{2} \\left(m_{1} \\frac{d^{2}}{d t^{2}} \\theta{\\left(t \\right)} + 2 m_{2} \\sin^{2}{\\left(\\theta{\\left(t \\right)} \\right)} \\frac{d^{2}}{d t^{2}} \\theta{\\left(t \\right)} + 2 m_{2} \\sin{\\left(2 \\theta{\\left(t \\right)} \\right)} \\left(\\frac{d}{d t} \\theta{\\left(t \\right)}\\right)^{2}\\right)$"
      ],
      "text/plain": [
       "     ⎛     2                           2                                    2⎞\n",
       "   2 ⎜    d                  2        d                           ⎛d       ⎞ ⎟\n",
       "2⋅a ⋅⎜m₁⋅───(θ(t)) + 2⋅m₂⋅sin (θ(t))⋅───(θ(t)) + 2⋅m₂⋅sin(2⋅θ(t))⋅⎜──(θ(t))⎟ ⎟\n",
       "     ⎜     2                           2                          ⎝dt      ⎠ ⎟\n",
       "     ⎝   dt                          dt                                      ⎠"
      ]
     },
     "execution_count": 56,
     "metadata": {},
     "output_type": "execute_result"
    }
   ],
   "source": [
    "Qtheta"
   ]
  },
  {
   "cell_type": "code",
   "execution_count": 57,
   "id": "f394cd6f",
   "metadata": {},
   "outputs": [
    {
     "data": {
      "image/png": "[encoded data removed]",
      "text/latex": [
       "$\\displaystyle \\frac{\\Omega^{2} m_{1}}{2 m_{2}} - \\frac{m_{1} \\frac{d^{2}}{d t^{2}} \\theta{\\left(t \\right)}}{m_{2} \\sin{\\left(2 \\theta{\\left(t \\right)} \\right)}} - \\tan{\\left(\\theta{\\left(t \\right)} \\right)} \\frac{d^{2}}{d t^{2}} \\theta{\\left(t \\right)} - \\frac{g m_{1}}{2 a m_{2} \\cos{\\left(\\theta{\\left(t \\right)} \\right)}} - \\frac{g}{2 a \\cos{\\left(\\theta{\\left(t \\right)} \\right)}}$"
      ],
      "text/plain": [
       "              2                                                               \n",
       "             d                                                                \n",
       "         m₁⋅───(θ(t))                                                         \n",
       " 2            2                      2                                        \n",
       "Ω ⋅m₁       dt                      d                g⋅m₁               g     \n",
       "───── - ────────────── - tan(θ(t))⋅───(θ(t)) - ──────────────── - ────────────\n",
       " 2⋅m₂   m₂⋅sin(2⋅θ(t))               2         2⋅a⋅m₂⋅cos(θ(t))   2⋅a⋅cos(θ(t)\n",
       "                                   dt                                         \n",
       "\n",
       " \n",
       " \n",
       " \n",
       " \n",
       " \n",
       "─\n",
       ")\n",
       " "
      ]
     },
     "execution_count": 57,
     "metadata": {},
     "output_type": "execute_result"
    }
   ],
   "source": [
    "Sol1=sp.solve(EOM3theta,sp.diff(theta,t)**2)[0];\n",
    "Sol1"
   ]
  },
  {
   "cell_type": "code",
   "execution_count": 58,
   "id": "1de6f955",
   "metadata": {},
   "outputs": [
    {
     "data": {
      "image/png": "[encoded data removed]",
      "text/latex": [
       "$\\displaystyle 2 a \\left(- \\frac{2 \\Omega^{2} a m_{1} \\sin^{3}{\\left(\\theta{\\left(t \\right)} \\right)}}{\\cos{\\left(\\theta{\\left(t \\right)} \\right)}} + 2 \\Omega^{2} a m_{1} \\tan{\\left(\\theta{\\left(t \\right)} \\right)} - a m_{1} \\frac{d^{2}}{d t^{2}} \\theta{\\left(t \\right)} - 2 a m_{2} \\sin^{2}{\\left(\\theta{\\left(t \\right)} \\right)} \\frac{d^{2}}{d t^{2}} \\theta{\\left(t \\right)} - 2 g m_{1} \\sin{\\left(\\theta{\\left(t \\right)} \\right)} - 2 g m_{2} \\sin{\\left(\\theta{\\left(t \\right)} \\right)}\\right)$"
      ],
      "text/plain": [
       "    ⎛     2         3                                      2                  \n",
       "    ⎜  2⋅Ω ⋅a⋅m₁⋅sin (θ(t))      2                        d                   \n",
       "2⋅a⋅⎜- ──────────────────── + 2⋅Ω ⋅a⋅m₁⋅tan(θ(t)) - a⋅m₁⋅───(θ(t)) - 2⋅a⋅m₂⋅si\n",
       "    ⎜       cos(θ(t))                                      2                  \n",
       "    ⎝                                                    dt                   \n",
       "\n",
       "           2                                            ⎞\n",
       " 2        d                                             ⎟\n",
       "n (θ(t))⋅───(θ(t)) - 2⋅g⋅m₁⋅sin(θ(t)) - 2⋅g⋅m₂⋅sin(θ(t))⎟\n",
       "           2                                            ⎟\n",
       "         dt                                             ⎠"
      ]
     },
     "execution_count": 58,
     "metadata": {},
     "output_type": "execute_result"
    }
   ],
   "source": [
    "Sol2=sp.simplify(Qtheta.subs(sp.diff(theta,t)**2,Sol1));\n",
    "Sol2"
   ]
  },
  {
   "cell_type": "code",
   "execution_count": 59,
   "id": "b57f4803",
   "metadata": {},
   "outputs": [
    {
     "data": {
      "image/png": "[encoded data removed]",
      "text/latex": [
       "$\\displaystyle \\frac{2 \\left(\\Omega^{2} a m_{1} \\cos{\\left(\\theta{\\left(t \\right)} \\right)} - g m_{1} - g m_{2}\\right) \\sin{\\left(\\theta{\\left(t \\right)} \\right)}}{a \\left(m_{1} + 2 m_{2} \\sin^{2}{\\left(\\theta{\\left(t \\right)} \\right)}\\right)}$"
      ],
      "text/plain": [
       "  ⎛ 2                             ⎞          \n",
       "2⋅⎝Ω ⋅a⋅m₁⋅cos(θ(t)) - g⋅m₁ - g⋅m₂⎠⋅sin(θ(t))\n",
       "─────────────────────────────────────────────\n",
       "             ⎛             2      ⎞          \n",
       "           a⋅⎝m₁ + 2⋅m₂⋅sin (θ(t))⎠          "
      ]
     },
     "execution_count": 59,
     "metadata": {},
     "output_type": "execute_result"
    }
   ],
   "source": [
    "sp.solve(Sol2,sp.diff(sp.diff(theta,t),t))[0]"
   ]
  },
  {
   "cell_type": "code",
   "execution_count": 60,
   "id": "949c55d9",
   "metadata": {},
   "outputs": [
    {
     "data": {
      "image/png": "[encoded data removed]",
      "text/latex": [
       "$\\displaystyle 2 \\Omega^{2} a^{2} m_{1} \\sin{\\left(\\theta{\\left(t \\right)} \\right)} \\cos{\\left(\\theta{\\left(t \\right)} \\right)} + 4 a^{2} m_{2} \\sin{\\left(\\theta{\\left(t \\right)} \\right)} \\cos{\\left(\\theta{\\left(t \\right)} \\right)} \\left(\\frac{d}{d t} \\theta{\\left(t \\right)}\\right)^{2} - 2 a g m_{1} \\sin{\\left(\\theta{\\left(t \\right)} \\right)} - 2 a g m_{2} \\sin{\\left(\\theta{\\left(t \\right)} \\right)}$"
      ],
      "text/plain": [
       "                                                                       2      \n",
       "   2  2                             2                        ⎛d       ⎞       \n",
       "2⋅Ω ⋅a ⋅m₁⋅sin(θ(t))⋅cos(θ(t)) + 4⋅a ⋅m₂⋅sin(θ(t))⋅cos(θ(t))⋅⎜──(θ(t))⎟  - 2⋅a\n",
       "                                                             ⎝dt      ⎠       \n",
       "\n",
       "                                    \n",
       "                                    \n",
       "⋅g⋅m₁⋅sin(θ(t)) - 2⋅a⋅g⋅m₂⋅sin(θ(t))\n",
       "                                    "
      ]
     },
     "execution_count": 60,
     "metadata": {},
     "output_type": "execute_result"
    }
   ],
   "source": [
    "sp.diff(L3,theta)"
   ]
  },
  {
   "cell_type": "markdown",
   "id": "4a7fc012",
   "metadata": {},
   "source": [
    "# Problem 4"
   ]
  },
  {
   "cell_type": "code",
   "execution_count": 61,
   "id": "6a385b58",
   "metadata": {},
   "outputs": [],
   "source": [
    "# Parameters\n",
    "m1=LM.mass(1);\n",
    "m2=LM.mass(2);\n",
    "l=sp.Symbol(\"l\");\n",
    "\n",
    "# Generalized coordinates \n",
    "q4=LM.cylindrical(\"phi\")[0];\n",
    "r=q4[0];\n",
    "phi=q4[1];\n",
    "z=q4[2];\n",
    "\n",
    "# Position vectors\n",
    "x4_1=[r*sp.cos(phi),r*sp.sin(phi),0];\n",
    "x4_2=[0,0,-z];\n",
    "\n",
    "# External field vector\n",
    "F4_1=[0,0,-m1*g];\n",
    "F4_2=[0,0,-m2*g];\n",
    "\n",
    "\n",
    "# Moment of inertia (for this problem, it overspecifies the system, so it is not used in the computation of the Lagrangian)\n",
    "I1=m1*r**2;\n",
    "\n",
    "# System array for the first particle\n",
    "system4_1=[x4_1,1,F4_1,0,0,0];\n",
    "\n",
    "# System array for the second particle\n",
    "system4_2=[x4_2,2,F4_2,0,0,0];"
   ]
  },
  {
   "cell_type": "markdown",
   "id": "106d6b2a",
   "metadata": {},
   "source": [
    "# a)"
   ]
  },
  {
   "cell_type": "code",
   "execution_count": 62,
   "id": "8c7c1e23",
   "metadata": {},
   "outputs": [
    {
     "data": {
      "image/png": "[encoded data removed]",
      "text/latex": [
       "$\\displaystyle \\frac{m_{1} \\left(r^{2}{\\left(t \\right)} \\left(\\frac{d}{d t} \\phi{\\left(t \\right)}\\right)^{2} + \\left(\\frac{d}{d t} r{\\left(t \\right)}\\right)^{2}\\right)}{2}$"
      ],
      "text/plain": [
       "   ⎛                2             2⎞\n",
       "   ⎜ 2    ⎛d       ⎞    ⎛d       ⎞ ⎟\n",
       "m₁⋅⎜r (t)⋅⎜──(φ(t))⎟  + ⎜──(r(t))⎟ ⎟\n",
       "   ⎝      ⎝dt      ⎠    ⎝dt      ⎠ ⎠\n",
       "────────────────────────────────────\n",
       "                 2                  "
      ]
     },
     "execution_count": 62,
     "metadata": {},
     "output_type": "execute_result"
    }
   ],
   "source": [
    "# Lagrangian for the first particle \n",
    "L4_1=LM.L(system4_1);\n",
    "L4_1"
   ]
  },
  {
   "cell_type": "code",
   "execution_count": 63,
   "id": "9e6932af",
   "metadata": {},
   "outputs": [
    {
     "data": {
      "image/png": "[encoded data removed]",
      "text/latex": [
       "$\\displaystyle g m_{2} z{\\left(t \\right)} + \\frac{m_{2} \\left(\\frac{d}{d t} z{\\left(t \\right)}\\right)^{2}}{2}$"
      ],
      "text/plain": [
       "                         2\n",
       "               ⎛d       ⎞ \n",
       "            m₂⋅⎜──(z(t))⎟ \n",
       "               ⎝dt      ⎠ \n",
       "g⋅m₂⋅z(t) + ──────────────\n",
       "                  2       "
      ]
     },
     "execution_count": 63,
     "metadata": {},
     "output_type": "execute_result"
    }
   ],
   "source": [
    "# Lagrangian for the second particle \n",
    "L4_2=LM.L(system4_2);\n",
    "L4_2"
   ]
  },
  {
   "cell_type": "code",
   "execution_count": 64,
   "id": "11c52a24",
   "metadata": {},
   "outputs": [
    {
     "data": {
      "image/png": "[encoded data removed]",
      "text/latex": [
       "$\\displaystyle g m_{2} z{\\left(t \\right)} + \\frac{m_{1} \\left(r^{2}{\\left(t \\right)} \\left(\\frac{d}{d t} \\phi{\\left(t \\right)}\\right)^{2} + \\left(\\frac{d}{d t} r{\\left(t \\right)}\\right)^{2}\\right)}{2} + \\frac{m_{2} \\left(\\frac{d}{d t} z{\\left(t \\right)}\\right)^{2}}{2}$"
      ],
      "text/plain": [
       "               ⎛                2             2⎞                2\n",
       "               ⎜ 2    ⎛d       ⎞    ⎛d       ⎞ ⎟      ⎛d       ⎞ \n",
       "            m₁⋅⎜r (t)⋅⎜──(φ(t))⎟  + ⎜──(r(t))⎟ ⎟   m₂⋅⎜──(z(t))⎟ \n",
       "               ⎝      ⎝dt      ⎠    ⎝dt      ⎠ ⎠      ⎝dt      ⎠ \n",
       "g⋅m₂⋅z(t) + ──────────────────────────────────── + ──────────────\n",
       "                             2                           2       "
      ]
     },
     "execution_count": 64,
     "metadata": {},
     "output_type": "execute_result"
    }
   ],
   "source": [
    "# Lagrangian for the whole system\n",
    "L4=L4_1+L4_2;\n",
    "L4"
   ]
  },
  {
   "cell_type": "code",
   "execution_count": 65,
   "id": "d4718fe5",
   "metadata": {},
   "outputs": [
    {
     "data": {
      "image/png": "[encoded data removed]",
      "text/latex": [
       "$\\displaystyle g m_{2} \\left(l - r{\\left(t \\right)}\\right) + \\frac{m_{1} \\left(r^{2}{\\left(t \\right)} \\left(\\frac{d}{d t} \\phi{\\left(t \\right)}\\right)^{2} + \\left(\\frac{d}{d t} r{\\left(t \\right)}\\right)^{2}\\right)}{2} + \\frac{m_{2} \\left(\\frac{d}{d t} r{\\left(t \\right)}\\right)^{2}}{2}$"
      ],
      "text/plain": [
       "                     ⎛                2             2⎞                2\n",
       "                     ⎜ 2    ⎛d       ⎞    ⎛d       ⎞ ⎟      ⎛d       ⎞ \n",
       "                  m₁⋅⎜r (t)⋅⎜──(φ(t))⎟  + ⎜──(r(t))⎟ ⎟   m₂⋅⎜──(r(t))⎟ \n",
       "                     ⎝      ⎝dt      ⎠    ⎝dt      ⎠ ⎠      ⎝dt      ⎠ \n",
       "g⋅m₂⋅(l - r(t)) + ──────────────────────────────────── + ──────────────\n",
       "                                   2                           2       "
      ]
     },
     "execution_count": 65,
     "metadata": {},
     "output_type": "execute_result"
    }
   ],
   "source": [
    "# However, there exists the constraint f=f(z,r)=z+r=l, yielding\n",
    "L4=sp.simplify(L4.subs([(z,l-r)]));\n",
    "L4"
   ]
  },
  {
   "cell_type": "code",
   "execution_count": 66,
   "id": "c2959821",
   "metadata": {},
   "outputs": [
    {
     "data": {
      "image/png": "[encoded data removed]",
      "text/latex": [
       "$\\displaystyle \\left[ g m_{2} - m_{1} r{\\left(t \\right)} \\left(\\frac{d}{d t} \\phi{\\left(t \\right)}\\right)^{2} + m_{1} \\frac{d^{2}}{d t^{2}} r{\\left(t \\right)} + m_{2} \\frac{d^{2}}{d t^{2}} r{\\left(t \\right)}, \\  m_{1} r^{2}{\\left(t \\right)} \\frac{d^{2}}{d t^{2}} \\phi{\\left(t \\right)} + 2 m_{1} r{\\left(t \\right)} \\frac{d}{d t} \\phi{\\left(t \\right)} \\frac{d}{d t} r{\\left(t \\right)}, \\  0\\right]$"
      ],
      "text/plain": [
       "⎡                         2        2              2                   2       \n",
       "⎢               ⎛d       ⎞        d              d             2     d        \n",
       "⎢g⋅m₂ - m₁⋅r(t)⋅⎜──(φ(t))⎟  + m₁⋅───(r(t)) + m₂⋅───(r(t)), m₁⋅r (t)⋅───(φ(t)) \n",
       "⎢               ⎝dt      ⎠         2              2                   2       \n",
       "⎣                                dt             dt                  dt        \n",
       "\n",
       "                                ⎤\n",
       "            d        d          ⎥\n",
       "+ 2⋅m₁⋅r(t)⋅──(φ(t))⋅──(r(t)), 0⎥\n",
       "            dt       dt         ⎥\n",
       "                                ⎦"
      ]
     },
     "execution_count": 66,
     "metadata": {},
     "output_type": "execute_result"
    }
   ],
   "source": [
    "# Equations of motion\n",
    "EOM4=LM.EOM(L4,q4,[],[]);\n",
    "EOM4"
   ]
  },
  {
   "cell_type": "code",
   "execution_count": 67,
   "id": "862db8da",
   "metadata": {},
   "outputs": [
    {
     "data": {
      "image/png": "[encoded data removed]",
      "text/latex": [
       "$\\displaystyle g m_{2} - m_{1} r{\\left(t \\right)} \\left(\\frac{d}{d t} \\phi{\\left(t \\right)}\\right)^{2} + \\left(m_{1} + m_{2}\\right) \\frac{d^{2}}{d t^{2}} r{\\left(t \\right)}$"
      ],
      "text/plain": [
       "                         2               2      \n",
       "               ⎛d       ⎞               d       \n",
       "g⋅m₂ - m₁⋅r(t)⋅⎜──(φ(t))⎟  + (m₁ + m₂)⋅───(r(t))\n",
       "               ⎝dt      ⎠                2      \n",
       "                                       dt       "
      ]
     },
     "execution_count": 67,
     "metadata": {},
     "output_type": "execute_result"
    }
   ],
   "source": [
    "# EOM for r\n",
    "EOM4r=EOM4[0]\n",
    "EOM4r=sp.collect(EOM4r,sp.diff(sp.diff(r,t),t));\n",
    "EOM4r"
   ]
  },
  {
   "cell_type": "code",
   "execution_count": 68,
   "id": "6ac854ec",
   "metadata": {},
   "outputs": [
    {
     "data": {
      "image/png": "[encoded data removed]",
      "text/latex": [
       "$\\displaystyle m_{1} r^{2}{\\left(t \\right)} \\frac{d^{2}}{d t^{2}} \\phi{\\left(t \\right)} + 2 m_{1} r{\\left(t \\right)} \\frac{d}{d t} \\phi{\\left(t \\right)} \\frac{d}{d t} r{\\left(t \\right)}$"
      ],
      "text/plain": [
       "           2                                    \n",
       "    2     d                    d        d       \n",
       "m₁⋅r (t)⋅───(φ(t)) + 2⋅m₁⋅r(t)⋅──(φ(t))⋅──(r(t))\n",
       "           2                   dt       dt      \n",
       "         dt                                     "
      ]
     },
     "execution_count": 68,
     "metadata": {},
     "output_type": "execute_result"
    }
   ],
   "source": [
    "# EOM for phi\n",
    "EOM4phi=EOM4[1]\n",
    "EOM4phi"
   ]
  },
  {
   "cell_type": "markdown",
   "id": "7f51dde0",
   "metadata": {},
   "source": [
    "# b)"
   ]
  },
  {
   "cell_type": "code",
   "execution_count": 69,
   "id": "0488dd26",
   "metadata": {},
   "outputs": [
    {
     "data": {
      "image/png": "[encoded data removed]",
      "text/latex": [
       "$\\displaystyle - g l m_{2} + g m_{2} r{\\left(t \\right)} + \\frac{m_{1} r^{2}{\\left(t \\right)} \\left(\\frac{d}{d t} \\phi{\\left(t \\right)}\\right)^{2}}{2} + \\frac{m_{1} \\left(\\frac{d}{d t} r{\\left(t \\right)}\\right)^{2}}{2} + \\frac{m_{2} \\left(\\frac{d}{d t} r{\\left(t \\right)}\\right)^{2}}{2}$"
      ],
      "text/plain": [
       "                                         2                2                2\n",
       "                          2    ⎛d       ⎞       ⎛d       ⎞       ⎛d       ⎞ \n",
       "                      m₁⋅r (t)⋅⎜──(φ(t))⎟    m₁⋅⎜──(r(t))⎟    m₂⋅⎜──(r(t))⎟ \n",
       "                               ⎝dt      ⎠       ⎝dt      ⎠       ⎝dt      ⎠ \n",
       "-g⋅l⋅m₂ + g⋅m₂⋅r(t) + ──────────────────── + ────────────── + ──────────────\n",
       "                               2                   2                2       "
      ]
     },
     "execution_count": 69,
     "metadata": {},
     "output_type": "execute_result"
    }
   ],
   "source": [
    "# Energy function computation\n",
    "E4=sp.simplify(LM.Energy(L4,q4));\n",
    "E4"
   ]
  },
  {
   "cell_type": "code",
   "execution_count": 70,
   "id": "bc71adbb",
   "metadata": {},
   "outputs": [
    {
     "data": {
      "image/png": "[encoded data removed]",
      "text/latex": [
       "$\\displaystyle - g m_{2} \\left(l - r{\\left(t \\right)}\\right) + \\frac{m_{1} \\left(r^{2}{\\left(t \\right)} \\left(\\frac{d}{d t} \\phi{\\left(t \\right)}\\right)^{2} + \\left(\\frac{d}{d t} r{\\left(t \\right)}\\right)^{2}\\right)}{2} + \\frac{m_{2} \\left(\\frac{d}{d t} r{\\left(t \\right)}\\right)^{2}}{2}$"
      ],
      "text/plain": [
       "                      ⎛                2             2⎞                2\n",
       "                      ⎜ 2    ⎛d       ⎞    ⎛d       ⎞ ⎟      ⎛d       ⎞ \n",
       "                   m₁⋅⎜r (t)⋅⎜──(φ(t))⎟  + ⎜──(r(t))⎟ ⎟   m₂⋅⎜──(r(t))⎟ \n",
       "                      ⎝      ⎝dt      ⎠    ⎝dt      ⎠ ⎠      ⎝dt      ⎠ \n",
       "-g⋅m₂⋅(l - r(t)) + ──────────────────────────────────── + ──────────────\n",
       "                                    2                           2       "
      ]
     },
     "execution_count": 70,
     "metadata": {},
     "output_type": "execute_result"
    }
   ],
   "source": [
    "# Energy computation\n",
    "Ener4=LM.T(x4_1,0,0,1)+LM.T(x4_2,0,0,2)+LM.U(x4_1,F4_1,0)+LM.U(x4_2,F4_2,0);\n",
    "Ener4=sp.simplify(Ener4.subs(z,l-r));\n",
    "Ener4"
   ]
  },
  {
   "cell_type": "code",
   "execution_count": 71,
   "id": "0bc49413",
   "metadata": {},
   "outputs": [],
   "source": [
    "# For this case, the energy function is equal to the total energy"
   ]
  },
  {
   "cell_type": "code",
   "execution_count": 72,
   "id": "8579c621",
   "metadata": {},
   "outputs": [
    {
     "data": {
      "image/png": "[encoded data removed]",
      "text/latex": [
       "$\\displaystyle 0$"
      ],
      "text/plain": [
       "0"
      ]
     },
     "execution_count": 72,
     "metadata": {},
     "output_type": "execute_result"
    }
   ],
   "source": [
    "# Solving for the second time derivatives of the generalized coordinates\n",
    "d2rdt2=sp.solve(EOM4r,sp.diff(sp.diff(r,t),t))[0];\n",
    "d2phidt2=sp.solve(EOM4phi,sp.diff(sp.diff(phi,t),t))[0];\n",
    "\n",
    "# Conservation of energy\n",
    "dE4dt=sp.diff(E4,t);\n",
    "sp.simplify(dE4dt.subs([(sp.diff(sp.diff(r,t),t),d2rdt2),(sp.diff(sp.diff(phi,t),t),d2phidt2)]))"
   ]
  },
  {
   "cell_type": "code",
   "execution_count": 73,
   "id": "ca33cfc1",
   "metadata": {},
   "outputs": [],
   "source": [
    "#Energy is conserved"
   ]
  },
  {
   "cell_type": "code",
   "execution_count": 74,
   "id": "54d29746",
   "metadata": {},
   "outputs": [
    {
     "data": {
      "image/png": "[encoded data removed]",
      "text/latex": [
       "$\\displaystyle \\left[ m_{1} \\frac{d}{d t} r{\\left(t \\right)} + m_{2} \\frac{d}{d t} r{\\left(t \\right)}, \\  m_{1} r^{2}{\\left(t \\right)} \\frac{d}{d t} \\phi{\\left(t \\right)}, \\  0\\right]$"
      ],
      "text/plain": [
       "⎡   d             d             2    d          ⎤\n",
       "⎢m₁⋅──(r(t)) + m₂⋅──(r(t)), m₁⋅r (t)⋅──(φ(t)), 0⎥\n",
       "⎣   dt            dt                 dt         ⎦"
      ]
     },
     "execution_count": 74,
     "metadata": {},
     "output_type": "execute_result"
    }
   ],
   "source": [
    "# Generalized momenta array\n",
    "P=LM.gen_p(L4,q4);\n",
    "P"
   ]
  },
  {
   "cell_type": "code",
   "execution_count": 75,
   "id": "83d01474",
   "metadata": {},
   "outputs": [
    {
     "data": {
      "image/png": "[encoded data removed]",
      "text/latex": [
       "$\\displaystyle m_{1} r^{2}{\\left(t \\right)} \\frac{d}{d t} \\phi{\\left(t \\right)}$"
      ],
      "text/plain": [
       "    2    d       \n",
       "m₁⋅r (t)⋅──(φ(t))\n",
       "         dt      "
      ]
     },
     "execution_count": 75,
     "metadata": {},
     "output_type": "execute_result"
    }
   ],
   "source": [
    "# Angular momentum\n",
    "pphi=P[1];\n",
    "pphi"
   ]
  },
  {
   "cell_type": "code",
   "execution_count": 76,
   "id": "cbabc9d4",
   "metadata": {},
   "outputs": [
    {
     "data": {
      "image/png": "[encoded data removed]",
      "text/latex": [
       "$\\displaystyle 0$"
      ],
      "text/plain": [
       "0"
      ]
     },
     "execution_count": 76,
     "metadata": {},
     "output_type": "execute_result"
    }
   ],
   "source": [
    "# Conservation of angular momentum\n",
    "dpphidt=sp.diff(pphi,t);\n",
    "dpphidt.subs([(sp.diff(sp.diff(phi,t),t),d2phidt2)])"
   ]
  },
  {
   "cell_type": "code",
   "execution_count": 77,
   "id": "fc36f1d6",
   "metadata": {},
   "outputs": [],
   "source": [
    "# So angular momentum is conserved"
   ]
  },
  {
   "cell_type": "markdown",
   "id": "8307fdea",
   "metadata": {},
   "source": [
    "# c)"
   ]
  },
  {
   "cell_type": "code",
   "execution_count": 78,
   "id": "bed64afb",
   "metadata": {},
   "outputs": [],
   "source": [
    "# The particle with mass m1 will undergo uniform circular motion when the radius remains constant, i.e dr/dt=0\n",
    "\n",
    "# Let r0 be the constant radius of the circular orbit\n",
    "r_0=sp.Symbol(\"r_0\");\n",
    "\n",
    "# Equation of motion for the circular orbit\n",
    "circ=sp.simplify(EOM4r.subs(r,r_0));"
   ]
  },
  {
   "cell_type": "code",
   "execution_count": 79,
   "id": "cc43c7bb",
   "metadata": {},
   "outputs": [
    {
     "data": {
      "image/png": "[encoded data removed]",
      "text/latex": [
       "$\\displaystyle g m_{2} - m_{1} r_{0} \\left(\\frac{d}{d t} \\phi{\\left(t \\right)}\\right)^{2}$"
      ],
      "text/plain": [
       "                       2\n",
       "             ⎛d       ⎞ \n",
       "g⋅m₂ - m₁⋅r₀⋅⎜──(φ(t))⎟ \n",
       "             ⎝dt      ⎠ "
      ]
     },
     "execution_count": 79,
     "metadata": {},
     "output_type": "execute_result"
    }
   ],
   "source": [
    "circ"
   ]
  },
  {
   "cell_type": "code",
   "execution_count": 80,
   "id": "d537b49a",
   "metadata": {},
   "outputs": [
    {
     "data": {
      "image/png": "[encoded data removed]",
      "text/latex": [
       "$\\displaystyle - g l m_{2} + g m_{2} r_{0} + \\frac{m_{1} r_{0}^{2} \\left(\\frac{d}{d t} \\phi{\\left(t \\right)}\\right)^{2}}{2}$"
      ],
      "text/plain": [
       "                                     2\n",
       "                         2 ⎛d       ⎞ \n",
       "                    m₁⋅r₀ ⋅⎜──(φ(t))⎟ \n",
       "                           ⎝dt      ⎠ \n",
       "-g⋅l⋅m₂ + g⋅m₂⋅r₀ + ──────────────────\n",
       "                            2         "
      ]
     },
     "execution_count": 80,
     "metadata": {},
     "output_type": "execute_result"
    }
   ],
   "source": [
    "# Finding the orbit's energy\n",
    "E_circ=sp.simplify(E4.subs(r,r_0));\n",
    "E_circ"
   ]
  },
  {
   "cell_type": "markdown",
   "id": "cd18beb1",
   "metadata": {},
   "source": [
    "# d)"
   ]
  },
  {
   "cell_type": "code",
   "execution_count": 81,
   "id": "f7233385",
   "metadata": {},
   "outputs": [],
   "source": [
    "# This is shown explicitly in the pdf document"
   ]
  },
  {
   "cell_type": "code",
   "execution_count": null,
   "id": "9a1210da",
   "metadata": {},
   "outputs": [],
   "source": []
  },
  {
   "cell_type": "code",
   "execution_count": null,
   "id": "78ed3be1",
   "metadata": {},
   "outputs": [],
   "source": []
  },
  {
   "cell_type": "code",
   "execution_count": null,
   "id": "eccec5fd",
   "metadata": {},
   "outputs": [],
   "source": []
  },
  {
   "cell_type": "code",
   "execution_count": null,
   "id": "8731cfc1",
   "metadata": {},
   "outputs": [],
   "source": []
  }
 ],
 "metadata": {
  "kernelspec": {
   "display_name": "Python 3 (ipykernel)",
   "language": "python",
   "name": "python3"
  },
  "language_info": {
   "codemirror_mode": {
    "name": "ipython",
    "version": 3
   },
   "file_extension": ".py",
   "mimetype": "text/x-python",
   "name": "python",
   "nbconvert_exporter": "python",
   "pygments_lexer": "ipython3",
   "version": "3.9.7"
  }
 },
 "nbformat": 4,
 "nbformat_minor": 5
}
