{
 "cells": [
  {
   "cell_type": "markdown",
   "id": "febe6719",
   "metadata": {},
   "source": [
    "# Homework 6\n",
    "\n",
    "# Classical Mechanics\n",
    "\n",
    "# José Pablo Cuevas Cázares"
   ]
  },
  {
   "cell_type": "code",
   "execution_count": 1,
   "id": "14a90ed6",
   "metadata": {},
   "outputs": [],
   "source": [
    "import sympy as sp"
   ]
  },
  {
   "cell_type": "code",
   "execution_count": 2,
   "id": "37d14b53",
   "metadata": {},
   "outputs": [],
   "source": [
    "t=sp.Symbol(\"t\", positive = True);"
   ]
  },
  {
   "cell_type": "markdown",
   "id": "e5b589b4",
   "metadata": {},
   "source": [
    "# Problem 2"
   ]
  },
  {
   "cell_type": "code",
   "execution_count": 26,
   "id": "96697842",
   "metadata": {},
   "outputs": [],
   "source": [
    "# Physical parameters for the system\n",
    "\n",
    "mu, m = sp.symbols (\"\\mu, m\"); # Masses\n",
    "kappa, k = sp.symbols (\"\\kappa, k\"); # Spring constants\n",
    "a, pi = sp.symbols(\"a, \\pi\");\n",
    "\n",
    "\n",
    "# Generalized coordinates\n",
    "\n",
    "# Angular coordinates\n",
    "\n",
    "theta1 = sp.Function (\"theta_1\")(t);\n",
    "theta2 = sp.Function (\"theta_2\")(t);\n",
    "theta3 = sp.Function (\"theta_3\")(t);\n",
    "\n",
    "# Transformed coordinates\n",
    "\n",
    "eta1 = sp.Function (\"eta_1\")(t);\n",
    "eta2 = sp.Function (\"eta_2\")(t);\n",
    "eta3 = sp.Function (\"eta_3\")(t);"
   ]
  },
  {
   "cell_type": "markdown",
   "id": "553d39f4",
   "metadata": {},
   "source": [
    "# Potential energy "
   ]
  },
  {
   "cell_type": "code",
   "execution_count": 34,
   "id": "faff25d8",
   "metadata": {},
   "outputs": [
    {
     "data": {
      "text/latex": [
       "$\\displaystyle \\frac{\\kappa a^{2} \\left(\\eta_{2}{\\left(t \\right)} - \\eta_{3}{\\left(t \\right)}\\right)^{2}}{2} + \\frac{a^{2} k \\left(- \\eta_{1}{\\left(t \\right)} + \\eta_{2}{\\left(t \\right)}\\right)^{2}}{2} + \\frac{a^{2} k \\left(- \\eta_{1}{\\left(t \\right)} + \\eta_{3}{\\left(t \\right)}\\right)^{2}}{2}$"
      ],
      "text/plain": [
       "\\kappa*a**2*(eta_2(t) - eta_3(t))**2/2 + a**2*k*(-eta_1(t) + eta_2(t))**2/2 + a**2*k*(-eta_1(t) + eta_3(t))**2/2"
      ]
     },
     "execution_count": 34,
     "metadata": {},
     "output_type": "execute_result"
    }
   ],
   "source": [
    "U = k*pow(a,2)/2*pow((eta2-eta1),2)+k*pow(a,2)/2*pow((eta3-eta1),2)+kappa*pow(a,2)/2*pow((eta2-eta3),2);\n",
    "U"
   ]
  },
  {
   "cell_type": "markdown",
   "id": "17d824cc",
   "metadata": {},
   "source": [
    "# Kinetic energy "
   ]
  },
  {
   "cell_type": "code",
   "execution_count": 36,
   "id": "b7db8739",
   "metadata": {},
   "outputs": [
    {
     "data": {
      "text/latex": [
       "$\\displaystyle \\frac{\\mu \\left(\\frac{d}{d t} \\eta_{1}{\\left(t \\right)}\\right)^{2}}{2} + \\frac{m \\left(\\frac{d}{d t} \\eta_{2}{\\left(t \\right)}\\right)^{2}}{2} + \\frac{m \\left(\\frac{d}{d t} \\eta_{3}{\\left(t \\right)}\\right)^{2}}{2}$"
      ],
      "text/plain": [
       "\\mu*Derivative(eta_1(t), t)**2/2 + m*Derivative(eta_2(t), t)**2/2 + m*Derivative(eta_3(t), t)**2/2"
      ]
     },
     "execution_count": 36,
     "metadata": {},
     "output_type": "execute_result"
    }
   ],
   "source": [
    "T = mu*pow(sp.diff(eta1,t),2)/2+m*pow(sp.diff(eta2,t),2)/2+m*pow(sp.diff(eta3,t),2)/2\n",
    "T"
   ]
  },
  {
   "cell_type": "code",
   "execution_count": 138,
   "id": "f4442f4c",
   "metadata": {},
   "outputs": [
    {
     "name": "stdout",
     "output_type": "stream",
     "text": [
      "\\frac{\\mu \\left(\\frac{d}{d t} \\eta_{1}{\\left(t \\right)}\\right)^{2}}{2} + \\frac{m \\left(\\frac{d}{d t} \\eta_{2}{\\left(t \\right)}\\right)^{2}}{2} + \\frac{m \\left(\\frac{d}{d t} \\eta_{3}{\\left(t \\right)}\\right)^{2}}{2}\n"
     ]
    }
   ],
   "source": [
    "print(sp.latex(T))"
   ]
  },
  {
   "cell_type": "markdown",
   "id": "92d6a062",
   "metadata": {},
   "source": [
    "# Lagrangian"
   ]
  },
  {
   "cell_type": "code",
   "execution_count": 139,
   "id": "fd746074",
   "metadata": {},
   "outputs": [
    {
     "data": {
      "text/latex": [
       "$\\displaystyle - \\frac{\\kappa a^{2} \\left(\\eta_{2}{\\left(t \\right)} - \\eta_{3}{\\left(t \\right)}\\right)^{2}}{2} + \\frac{\\mu \\left(\\frac{d}{d t} \\eta_{1}{\\left(t \\right)}\\right)^{2}}{2} - \\frac{a^{2} k \\left(\\eta_{1}{\\left(t \\right)} - \\eta_{2}{\\left(t \\right)}\\right)^{2}}{2} - \\frac{a^{2} k \\left(\\eta_{1}{\\left(t \\right)} - \\eta_{3}{\\left(t \\right)}\\right)^{2}}{2} + \\frac{m \\left(\\frac{d}{d t} \\eta_{2}{\\left(t \\right)}\\right)^{2}}{2} + \\frac{m \\left(\\frac{d}{d t} \\eta_{3}{\\left(t \\right)}\\right)^{2}}{2}$"
      ],
      "text/plain": [
       "-\\kappa*a**2*(eta_2(t) - eta_3(t))**2/2 + \\mu*Derivative(eta_1(t), t)**2/2 - a**2*k*(eta_1(t) - eta_2(t))**2/2 - a**2*k*(eta_1(t) - eta_3(t))**2/2 + m*Derivative(eta_2(t), t)**2/2 + m*Derivative(eta_3(t), t)**2/2"
      ]
     },
     "execution_count": 139,
     "metadata": {},
     "output_type": "execute_result"
    }
   ],
   "source": [
    "L = sp.simplify(T-U);\n",
    "L"
   ]
  },
  {
   "cell_type": "code",
   "execution_count": 141,
   "id": "e5f2df1c",
   "metadata": {},
   "outputs": [
    {
     "name": "stdout",
     "output_type": "stream",
     "text": [
      "- \\frac{\\kappa a^{2} \\left(\\eta_{2}{\\left(t \\right)} - \\eta_{3}{\\left(t \\right)}\\right)^{2}}{2} + \\frac{\\mu \\left(\\frac{d}{d t} \\eta_{1}{\\left(t \\right)}\\right)^{2}}{2} - \\frac{a^{2} k \\left(\\eta_{1}{\\left(t \\right)} - \\eta_{2}{\\left(t \\right)}\\right)^{2}}{2} - \\frac{a^{2} k \\left(\\eta_{1}{\\left(t \\right)} - \\eta_{3}{\\left(t \\right)}\\right)^{2}}{2} + \\frac{m \\left(\\frac{d}{d t} \\eta_{2}{\\left(t \\right)}\\right)^{2}}{2} + \\frac{m \\left(\\frac{d}{d t} \\eta_{3}{\\left(t \\right)}\\right)^{2}}{2}\n"
     ]
    }
   ],
   "source": [
    "print(sp.latex(L))"
   ]
  },
  {
   "cell_type": "markdown",
   "id": "89165772",
   "metadata": {},
   "source": [
    "# Matrix notation"
   ]
  },
  {
   "cell_type": "code",
   "execution_count": 46,
   "id": "f60e47ff",
   "metadata": {},
   "outputs": [
    {
     "data": {
      "text/latex": [
       "$\\displaystyle \\left[\\begin{matrix}\\eta_{1}{\\left(t \\right)}\\\\\\eta_{2}{\\left(t \\right)}\\\\\\eta_{3}{\\left(t \\right)}\\end{matrix}\\right]$"
      ],
      "text/plain": [
       "Matrix([\n",
       "[eta_1(t)],\n",
       "[eta_2(t)],\n",
       "[eta_3(t)]])"
      ]
     },
     "execution_count": 46,
     "metadata": {},
     "output_type": "execute_result"
    }
   ],
   "source": [
    "# Generalized velocities vector\n",
    "\n",
    "eta_vec = sp.Matrix([[eta1],[eta2],[eta3]]);\n",
    "eta_vec"
   ]
  },
  {
   "cell_type": "code",
   "execution_count": 47,
   "id": "80491ff2",
   "metadata": {},
   "outputs": [
    {
     "data": {
      "text/latex": [
       "$\\displaystyle \\left[\\begin{matrix}\\frac{d}{d t} \\eta_{1}{\\left(t \\right)}\\\\\\frac{d}{d t} \\eta_{2}{\\left(t \\right)}\\\\\\frac{d}{d t} \\eta_{3}{\\left(t \\right)}\\end{matrix}\\right]$"
      ],
      "text/plain": [
       "Matrix([\n",
       "[Derivative(eta_1(t), t)],\n",
       "[Derivative(eta_2(t), t)],\n",
       "[Derivative(eta_3(t), t)]])"
      ]
     },
     "execution_count": 47,
     "metadata": {},
     "output_type": "execute_result"
    }
   ],
   "source": [
    "# Generalized velocities vector\n",
    "\n",
    "dot_eta_vec = sp.Matrix([[sp.diff(eta1,t)],[sp.diff(eta2,t)],[sp.diff(eta3,t)]]);\n",
    "dot_eta_vec"
   ]
  },
  {
   "cell_type": "code",
   "execution_count": 127,
   "id": "e6bccc18",
   "metadata": {},
   "outputs": [
    {
     "data": {
      "text/latex": [
       "$\\displaystyle \\left[\\begin{matrix}2 a^{2} k & - a^{2} k & - a^{2} k\\\\- a^{2} k & a^{2} \\left(\\kappa + k\\right) & - \\kappa a^{2}\\\\- a^{2} k & - \\kappa a^{2} & a^{2} \\left(\\kappa + k\\right)\\end{matrix}\\right]$"
      ],
      "text/plain": [
       "Matrix([\n",
       "[2*a**2*k,           -a**2*k,           -a**2*k],\n",
       "[ -a**2*k, a**2*(\\kappa + k),      -\\kappa*a**2],\n",
       "[ -a**2*k,      -\\kappa*a**2, a**2*(\\kappa + k)]])"
      ]
     },
     "execution_count": 127,
     "metadata": {},
     "output_type": "execute_result"
    }
   ],
   "source": [
    "# Matrix for the  generalized coordinates\n",
    "\n",
    "K = sp.Matrix([[2*k*a**2,-k*a**2,-k*a**2],[-k*a**2,a**2*(kappa+k),-kappa*a**2],[-k*a**2,-kappa*a**2,a**2*(kappa+k)]]);\n",
    "K"
   ]
  },
  {
   "cell_type": "code",
   "execution_count": 130,
   "id": "8cbf45fd",
   "metadata": {},
   "outputs": [
    {
     "data": {
      "text/latex": [
       "$\\displaystyle \\frac{\\kappa a^{2} \\eta_{2}^{2}{\\left(t \\right)}}{2} - \\kappa a^{2} \\eta_{2}{\\left(t \\right)} \\eta_{3}{\\left(t \\right)} + \\frac{\\kappa a^{2} \\eta_{3}^{2}{\\left(t \\right)}}{2} + a^{2} k \\eta_{1}^{2}{\\left(t \\right)} - a^{2} k \\eta_{1}{\\left(t \\right)} \\eta_{2}{\\left(t \\right)} - a^{2} k \\eta_{1}{\\left(t \\right)} \\eta_{3}{\\left(t \\right)} + \\frac{a^{2} k \\eta_{2}^{2}{\\left(t \\right)}}{2} + \\frac{a^{2} k \\eta_{3}^{2}{\\left(t \\right)}}{2}$"
      ],
      "text/plain": [
       "\\kappa*a**2*eta_2(t)**2/2 - \\kappa*a**2*eta_2(t)*eta_3(t) + \\kappa*a**2*eta_3(t)**2/2 + a**2*k*eta_1(t)**2 - a**2*k*eta_1(t)*eta_2(t) - a**2*k*eta_1(t)*eta_3(t) + a**2*k*eta_2(t)**2/2 + a**2*k*eta_3(t)**2/2"
      ]
     },
     "execution_count": 130,
     "metadata": {},
     "output_type": "execute_result"
    }
   ],
   "source": [
    "sp.Rational(1/2)*((eta_vec.T*K*eta_vec)[0]).expand()"
   ]
  },
  {
   "cell_type": "code",
   "execution_count": 131,
   "id": "4397de60",
   "metadata": {},
   "outputs": [
    {
     "data": {
      "text/latex": [
       "$\\displaystyle \\frac{\\kappa a^{2} \\eta_{2}^{2}{\\left(t \\right)}}{2} - \\kappa a^{2} \\eta_{2}{\\left(t \\right)} \\eta_{3}{\\left(t \\right)} + \\frac{\\kappa a^{2} \\eta_{3}^{2}{\\left(t \\right)}}{2} + a^{2} k \\eta_{1}^{2}{\\left(t \\right)} - a^{2} k \\eta_{1}{\\left(t \\right)} \\eta_{2}{\\left(t \\right)} - a^{2} k \\eta_{1}{\\left(t \\right)} \\eta_{3}{\\left(t \\right)} + \\frac{a^{2} k \\eta_{2}^{2}{\\left(t \\right)}}{2} + \\frac{a^{2} k \\eta_{3}^{2}{\\left(t \\right)}}{2}$"
      ],
      "text/plain": [
       "\\kappa*a**2*eta_2(t)**2/2 - \\kappa*a**2*eta_2(t)*eta_3(t) + \\kappa*a**2*eta_3(t)**2/2 + a**2*k*eta_1(t)**2 - a**2*k*eta_1(t)*eta_2(t) - a**2*k*eta_1(t)*eta_3(t) + a**2*k*eta_2(t)**2/2 + a**2*k*eta_3(t)**2/2"
      ]
     },
     "execution_count": 131,
     "metadata": {},
     "output_type": "execute_result"
    }
   ],
   "source": [
    "U.expand()"
   ]
  },
  {
   "cell_type": "markdown",
   "id": "9b02eb78",
   "metadata": {},
   "source": [
    "Therefore, K is a suitable matrix choice"
   ]
  },
  {
   "cell_type": "code",
   "execution_count": 132,
   "id": "4d1ad7c0",
   "metadata": {},
   "outputs": [
    {
     "data": {
      "text/latex": [
       "$\\displaystyle \\left[\\begin{matrix}\\mu & 0 & 0\\\\0 & m & 0\\\\0 & 0 & m\\end{matrix}\\right]$"
      ],
      "text/plain": [
       "Matrix([\n",
       "[\\mu, 0, 0],\n",
       "[  0, m, 0],\n",
       "[  0, 0, m]])"
      ]
     },
     "execution_count": 132,
     "metadata": {},
     "output_type": "execute_result"
    }
   ],
   "source": [
    "# Matrix for the generalized velocities\n",
    "\n",
    "M = sp.Matrix([[mu,0,0],[0,m,0],[0,0,m]]);\n",
    "M"
   ]
  },
  {
   "cell_type": "code",
   "execution_count": 133,
   "id": "782cbc3d",
   "metadata": {},
   "outputs": [
    {
     "data": {
      "text/latex": [
       "$\\displaystyle \\frac{\\mu \\left(\\frac{d}{d t} \\eta_{1}{\\left(t \\right)}\\right)^{2}}{2} + \\frac{m \\left(\\frac{d}{d t} \\eta_{2}{\\left(t \\right)}\\right)^{2}}{2} + \\frac{m \\left(\\frac{d}{d t} \\eta_{3}{\\left(t \\right)}\\right)^{2}}{2}$"
      ],
      "text/plain": [
       "\\mu*Derivative(eta_1(t), t)**2/2 + m*Derivative(eta_2(t), t)**2/2 + m*Derivative(eta_3(t), t)**2/2"
      ]
     },
     "execution_count": 133,
     "metadata": {},
     "output_type": "execute_result"
    }
   ],
   "source": [
    "(sp.Rational(1/2)*dot_eta_vec.T*M*dot_eta_vec)[0]"
   ]
  },
  {
   "cell_type": "code",
   "execution_count": 134,
   "id": "e5cf26c9",
   "metadata": {},
   "outputs": [
    {
     "data": {
      "text/latex": [
       "$\\displaystyle \\frac{\\mu \\left(\\frac{d}{d t} \\eta_{1}{\\left(t \\right)}\\right)^{2}}{2} + \\frac{m \\left(\\frac{d}{d t} \\eta_{2}{\\left(t \\right)}\\right)^{2}}{2} + \\frac{m \\left(\\frac{d}{d t} \\eta_{3}{\\left(t \\right)}\\right)^{2}}{2}$"
      ],
      "text/plain": [
       "\\mu*Derivative(eta_1(t), t)**2/2 + m*Derivative(eta_2(t), t)**2/2 + m*Derivative(eta_3(t), t)**2/2"
      ]
     },
     "execution_count": 134,
     "metadata": {},
     "output_type": "execute_result"
    }
   ],
   "source": [
    "T"
   ]
  },
  {
   "cell_type": "markdown",
   "id": "5bb2cfd7",
   "metadata": {},
   "source": [
    "# Eingenvalues and eigenvectors"
   ]
  },
  {
   "cell_type": "code",
   "execution_count": 135,
   "id": "ab9ba5bb",
   "metadata": {},
   "outputs": [
    {
     "data": {
      "text/latex": [
       "$\\displaystyle \\left[\\begin{matrix}2 a^{2} k & - a^{2} k & - a^{2} k\\\\- a^{2} k & a^{2} \\left(\\kappa + k\\right) & - \\kappa a^{2}\\\\- a^{2} k & - \\kappa a^{2} & a^{2} \\left(\\kappa + k\\right)\\end{matrix}\\right]$"
      ],
      "text/plain": [
       "Matrix([\n",
       "[2*a**2*k,           -a**2*k,           -a**2*k],\n",
       "[ -a**2*k, a**2*(\\kappa + k),      -\\kappa*a**2],\n",
       "[ -a**2*k,      -\\kappa*a**2, a**2*(\\kappa + k)]])"
      ]
     },
     "execution_count": 135,
     "metadata": {},
     "output_type": "execute_result"
    }
   ],
   "source": [
    "# Eigenvalue \n",
    "\n",
    "omega = sp.Symbol (\"omega\");\n",
    "K"
   ]
  },
  {
   "cell_type": "code",
   "execution_count": 136,
   "id": "85631965",
   "metadata": {},
   "outputs": [
    {
     "data": {
      "text/latex": [
       "$\\displaystyle \\left[\\begin{matrix}1 & -2 & 0\\\\1 & 1 & -1\\\\1 & 1 & 1\\end{matrix}\\right]$"
      ],
      "text/plain": [
       "Matrix([\n",
       "[1, -2,  0],\n",
       "[1,  1, -1],\n",
       "[1,  1,  1]])"
      ]
     },
     "metadata": {},
     "output_type": "display_data"
    }
   ],
   "source": [
    "# Constructing the polynomial for the eigenvalues\n",
    "eigen_vectors = display(K.diagonalize()[0]);\n",
    "eigen_vectors"
   ]
  },
  {
   "cell_type": "code",
   "execution_count": 152,
   "id": "2d81ac01",
   "metadata": {},
   "outputs": [
    {
     "data": {
      "text/latex": [
       "$\\displaystyle \\left[\\begin{matrix}0 & 0 & 0\\\\0 & 3 a^{2} k & 0\\\\0 & 0 & 2 \\kappa a^{2} + a^{2} k\\end{matrix}\\right]$"
      ],
      "text/plain": [
       "Matrix([\n",
       "[0,        0,                      0],\n",
       "[0, 3*a**2*k,                      0],\n",
       "[0,        0, 2*\\kappa*a**2 + a**2*k]])"
      ]
     },
     "execution_count": 152,
     "metadata": {},
     "output_type": "execute_result"
    }
   ],
   "source": [
    "eigen_values = K.diagonalize()[1];\n",
    "eigen_values"
   ]
  },
  {
   "cell_type": "code",
   "execution_count": 153,
   "id": "376cce69",
   "metadata": {},
   "outputs": [
    {
     "name": "stdout",
     "output_type": "stream",
     "text": [
      "\\left[\\begin{matrix}0 & 0 & 0\\\\0 & 3 a^{2} k & 0\\\\0 & 0 & 2 \\kappa a^{2} + a^{2} k\\end{matrix}\\right]\n"
     ]
    }
   ],
   "source": [
    "print(sp.latex(eigen_values))"
   ]
  },
  {
   "cell_type": "code",
   "execution_count": null,
   "id": "c434deed",
   "metadata": {},
   "outputs": [],
   "source": []
  },
  {
   "cell_type": "code",
   "execution_count": null,
   "id": "366ae698",
   "metadata": {},
   "outputs": [],
   "source": []
  },
  {
   "cell_type": "code",
   "execution_count": 143,
   "id": "3a0fdf20",
   "metadata": {},
   "outputs": [
    {
     "name": "stdout",
     "output_type": "stream",
     "text": [
      "\\left[\\begin{matrix}2 a^{2} k & - a^{2} k & - a^{2} k\\\\- a^{2} k & a^{2} \\left(\\kappa + k\\right) & - \\kappa a^{2}\\\\- a^{2} k & - \\kappa a^{2} & a^{2} \\left(\\kappa + k\\right)\\end{matrix}\\right]\n"
     ]
    }
   ],
   "source": [
    "print(sp.latex(K))"
   ]
  },
  {
   "cell_type": "code",
   "execution_count": null,
   "id": "11785c4d",
   "metadata": {},
   "outputs": [],
   "source": []
  },
  {
   "cell_type": "code",
   "execution_count": null,
   "id": "6e8cdfe9",
   "metadata": {},
   "outputs": [],
   "source": []
  },
  {
   "cell_type": "code",
   "execution_count": null,
   "id": "2c77eb76",
   "metadata": {},
   "outputs": [],
   "source": []
  },
  {
   "cell_type": "code",
   "execution_count": null,
   "id": "a2f90453",
   "metadata": {},
   "outputs": [],
   "source": []
  }
 ],
 "metadata": {
  "kernelspec": {
   "display_name": "Python 3 (ipykernel)",
   "language": "python",
   "name": "python3"
  },
  "language_info": {
   "codemirror_mode": {
    "name": "ipython",
    "version": 3
   },
   "file_extension": ".py",
   "mimetype": "text/x-python",
   "name": "python",
   "nbconvert_exporter": "python",
   "pygments_lexer": "ipython3",
   "version": "3.9.7"
  }
 },
 "nbformat": 4,
 "nbformat_minor": 5
}
